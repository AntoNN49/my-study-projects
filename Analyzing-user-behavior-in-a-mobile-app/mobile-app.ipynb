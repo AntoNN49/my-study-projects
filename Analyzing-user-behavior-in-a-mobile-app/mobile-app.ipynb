{
 "cells": [
  {
   "cell_type": "markdown",
   "metadata": {},
   "source": [
    "# Анализ пользовательского поведения в мобильном приложении\n",
    "\n",
    "Cтартап, который продаёт продукты питания. Нужно разобраться, как ведут себя пользователи мобильного приложения."
   ]
  },
  {
   "cell_type": "markdown",
   "metadata": {},
   "source": [
    "## Изучение общей информации"
   ]
  },
  {
   "cell_type": "code",
   "execution_count": 1,
   "metadata": {},
   "outputs": [],
   "source": [
    "import pandas as pd\n",
    "import math as mth\n",
    "import seaborn as sns\n",
    "from numpy import median\n",
    "import datetime as dt\n",
    "from scipy import stats as st\n",
    "from matplotlib import pyplot as plt\n",
    "from plotly import graph_objects as go\n",
    "import plotly.io as pio"
   ]
  },
  {
   "cell_type": "code",
   "execution_count": 2,
   "metadata": {},
   "outputs": [],
   "source": [
    "pd.options.display.max_columns = None\n",
    "pio.renderers.default='png'\n",
    "pio.renderers.scale = 0.8\n",
    "pio.renderers.width = 500\n",
    "pio.renderers.height = 350"
   ]
  },
  {
   "cell_type": "code",
   "execution_count": 3,
   "metadata": {},
   "outputs": [
    {
     "data": {
      "text/html": [
       "<div>\n",
       "<style scoped>\n",
       "    .dataframe tbody tr th:only-of-type {\n",
       "        vertical-align: middle;\n",
       "    }\n",
       "\n",
       "    .dataframe tbody tr th {\n",
       "        vertical-align: top;\n",
       "    }\n",
       "\n",
       "    .dataframe thead th {\n",
       "        text-align: right;\n",
       "    }\n",
       "</style>\n",
       "<table border=\"1\" class=\"dataframe\">\n",
       "  <thead>\n",
       "    <tr style=\"text-align: right;\">\n",
       "      <th></th>\n",
       "      <th>EventName</th>\n",
       "      <th>DeviceIDHash</th>\n",
       "      <th>EventTimestamp</th>\n",
       "      <th>ExpId</th>\n",
       "    </tr>\n",
       "  </thead>\n",
       "  <tbody>\n",
       "    <tr>\n",
       "      <th>0</th>\n",
       "      <td>MainScreenAppear</td>\n",
       "      <td>4575588528974610257</td>\n",
       "      <td>1564029816</td>\n",
       "      <td>246</td>\n",
       "    </tr>\n",
       "    <tr>\n",
       "      <th>1</th>\n",
       "      <td>MainScreenAppear</td>\n",
       "      <td>7416695313311560658</td>\n",
       "      <td>1564053102</td>\n",
       "      <td>246</td>\n",
       "    </tr>\n",
       "    <tr>\n",
       "      <th>2</th>\n",
       "      <td>PaymentScreenSuccessful</td>\n",
       "      <td>3518123091307005509</td>\n",
       "      <td>1564054127</td>\n",
       "      <td>248</td>\n",
       "    </tr>\n",
       "    <tr>\n",
       "      <th>3</th>\n",
       "      <td>CartScreenAppear</td>\n",
       "      <td>3518123091307005509</td>\n",
       "      <td>1564054127</td>\n",
       "      <td>248</td>\n",
       "    </tr>\n",
       "    <tr>\n",
       "      <th>4</th>\n",
       "      <td>PaymentScreenSuccessful</td>\n",
       "      <td>6217807653094995999</td>\n",
       "      <td>1564055322</td>\n",
       "      <td>248</td>\n",
       "    </tr>\n",
       "    <tr>\n",
       "      <th>...</th>\n",
       "      <td>...</td>\n",
       "      <td>...</td>\n",
       "      <td>...</td>\n",
       "      <td>...</td>\n",
       "    </tr>\n",
       "    <tr>\n",
       "      <th>244121</th>\n",
       "      <td>MainScreenAppear</td>\n",
       "      <td>4599628364049201812</td>\n",
       "      <td>1565212345</td>\n",
       "      <td>247</td>\n",
       "    </tr>\n",
       "    <tr>\n",
       "      <th>244122</th>\n",
       "      <td>MainScreenAppear</td>\n",
       "      <td>5849806612437486590</td>\n",
       "      <td>1565212439</td>\n",
       "      <td>246</td>\n",
       "    </tr>\n",
       "    <tr>\n",
       "      <th>244123</th>\n",
       "      <td>MainScreenAppear</td>\n",
       "      <td>5746969938801999050</td>\n",
       "      <td>1565212483</td>\n",
       "      <td>246</td>\n",
       "    </tr>\n",
       "    <tr>\n",
       "      <th>244124</th>\n",
       "      <td>MainScreenAppear</td>\n",
       "      <td>5746969938801999050</td>\n",
       "      <td>1565212498</td>\n",
       "      <td>246</td>\n",
       "    </tr>\n",
       "    <tr>\n",
       "      <th>244125</th>\n",
       "      <td>OffersScreenAppear</td>\n",
       "      <td>5746969938801999050</td>\n",
       "      <td>1565212517</td>\n",
       "      <td>246</td>\n",
       "    </tr>\n",
       "  </tbody>\n",
       "</table>\n",
       "<p>244126 rows × 4 columns</p>\n",
       "</div>"
      ],
      "text/plain": [
       "                      EventName         DeviceIDHash  EventTimestamp  ExpId\n",
       "0              MainScreenAppear  4575588528974610257      1564029816    246\n",
       "1              MainScreenAppear  7416695313311560658      1564053102    246\n",
       "2       PaymentScreenSuccessful  3518123091307005509      1564054127    248\n",
       "3              CartScreenAppear  3518123091307005509      1564054127    248\n",
       "4       PaymentScreenSuccessful  6217807653094995999      1564055322    248\n",
       "...                         ...                  ...             ...    ...\n",
       "244121         MainScreenAppear  4599628364049201812      1565212345    247\n",
       "244122         MainScreenAppear  5849806612437486590      1565212439    246\n",
       "244123         MainScreenAppear  5746969938801999050      1565212483    246\n",
       "244124         MainScreenAppear  5746969938801999050      1565212498    246\n",
       "244125       OffersScreenAppear  5746969938801999050      1565212517    246\n",
       "\n",
       "[244126 rows x 4 columns]"
      ]
     },
     "metadata": {},
     "output_type": "display_data"
    },
    {
     "name": "stdout",
     "output_type": "stream",
     "text": [
      "<class 'pandas.core.frame.DataFrame'>\n",
      "RangeIndex: 244126 entries, 0 to 244125\n",
      "Data columns (total 4 columns):\n",
      " #   Column          Non-Null Count   Dtype \n",
      "---  ------          --------------   ----- \n",
      " 0   EventName       244126 non-null  object\n",
      " 1   DeviceIDHash    244126 non-null  int64 \n",
      " 2   EventTimestamp  244126 non-null  int64 \n",
      " 3   ExpId           244126 non-null  int64 \n",
      "dtypes: int64(3), object(1)\n",
      "memory usage: 7.5+ MB\n"
     ]
    }
   ],
   "source": [
    "df = pd.read_csv('logs_exp.csv', sep='\\t')\n",
    "\n",
    "display(df)\n",
    "df.info()"
   ]
  },
  {
   "cell_type": "markdown",
   "metadata": {},
   "source": [
    "У столбца EventTimestamp необходимо сменить тип на дату."
   ]
  },
  {
   "cell_type": "markdown",
   "metadata": {},
   "source": [
    "## Подготовка данных"
   ]
  },
  {
   "cell_type": "code",
   "execution_count": 4,
   "metadata": {},
   "outputs": [],
   "source": [
    "df['EventTimestamp'] = pd.to_datetime(df['EventTimestamp'], unit='s', errors='coerce')\n",
    "df['date'] = df['EventTimestamp'].dt.strftime('%Y-%m-%d')\n",
    "\n",
    "df.duplicated().sum()\n",
    "df = df.drop_duplicates().reset_index(drop=True)"
   ]
  },
  {
   "cell_type": "markdown",
   "metadata": {},
   "source": [
    "Заменили тип данных у EventTimestamp. Избавились от дубликатов."
   ]
  },
  {
   "cell_type": "code",
   "execution_count": 5,
   "metadata": {},
   "outputs": [
    {
     "name": "stdout",
     "output_type": "stream",
     "text": [
      "<class 'pandas.core.frame.DataFrame'>\n",
      "RangeIndex: 243713 entries, 0 to 243712\n",
      "Data columns (total 5 columns):\n",
      " #   Column  Non-Null Count   Dtype         \n",
      "---  ------  --------------   -----         \n",
      " 0   event   243713 non-null  object        \n",
      " 1   uid     243713 non-null  int64         \n",
      " 2   ets     243713 non-null  datetime64[ns]\n",
      " 3   gr      243713 non-null  int64         \n",
      " 4   date    243713 non-null  object        \n",
      "dtypes: datetime64[ns](1), int64(2), object(2)\n",
      "memory usage: 9.3+ MB\n"
     ]
    },
    {
     "data": {
      "text/html": [
       "<div>\n",
       "<style scoped>\n",
       "    .dataframe tbody tr th:only-of-type {\n",
       "        vertical-align: middle;\n",
       "    }\n",
       "\n",
       "    .dataframe tbody tr th {\n",
       "        vertical-align: top;\n",
       "    }\n",
       "\n",
       "    .dataframe thead th {\n",
       "        text-align: right;\n",
       "    }\n",
       "</style>\n",
       "<table border=\"1\" class=\"dataframe\">\n",
       "  <thead>\n",
       "    <tr style=\"text-align: right;\">\n",
       "      <th></th>\n",
       "      <th>event</th>\n",
       "      <th>uid</th>\n",
       "      <th>ets</th>\n",
       "      <th>gr</th>\n",
       "      <th>date</th>\n",
       "    </tr>\n",
       "  </thead>\n",
       "  <tbody>\n",
       "    <tr>\n",
       "      <th>0</th>\n",
       "      <td>MainScreenAppear</td>\n",
       "      <td>4575588528974610257</td>\n",
       "      <td>2019-07-25 04:43:36</td>\n",
       "      <td>246</td>\n",
       "      <td>2019-07-25</td>\n",
       "    </tr>\n",
       "    <tr>\n",
       "      <th>1</th>\n",
       "      <td>MainScreenAppear</td>\n",
       "      <td>7416695313311560658</td>\n",
       "      <td>2019-07-25 11:11:42</td>\n",
       "      <td>246</td>\n",
       "      <td>2019-07-25</td>\n",
       "    </tr>\n",
       "    <tr>\n",
       "      <th>2</th>\n",
       "      <td>PaymentScreenSuccessful</td>\n",
       "      <td>3518123091307005509</td>\n",
       "      <td>2019-07-25 11:28:47</td>\n",
       "      <td>248</td>\n",
       "      <td>2019-07-25</td>\n",
       "    </tr>\n",
       "    <tr>\n",
       "      <th>3</th>\n",
       "      <td>CartScreenAppear</td>\n",
       "      <td>3518123091307005509</td>\n",
       "      <td>2019-07-25 11:28:47</td>\n",
       "      <td>248</td>\n",
       "      <td>2019-07-25</td>\n",
       "    </tr>\n",
       "    <tr>\n",
       "      <th>4</th>\n",
       "      <td>PaymentScreenSuccessful</td>\n",
       "      <td>6217807653094995999</td>\n",
       "      <td>2019-07-25 11:48:42</td>\n",
       "      <td>248</td>\n",
       "      <td>2019-07-25</td>\n",
       "    </tr>\n",
       "    <tr>\n",
       "      <th>5</th>\n",
       "      <td>CartScreenAppear</td>\n",
       "      <td>6217807653094995999</td>\n",
       "      <td>2019-07-25 11:48:43</td>\n",
       "      <td>248</td>\n",
       "      <td>2019-07-25</td>\n",
       "    </tr>\n",
       "    <tr>\n",
       "      <th>6</th>\n",
       "      <td>OffersScreenAppear</td>\n",
       "      <td>8351860793733343758</td>\n",
       "      <td>2019-07-25 14:50:42</td>\n",
       "      <td>246</td>\n",
       "      <td>2019-07-25</td>\n",
       "    </tr>\n",
       "    <tr>\n",
       "      <th>7</th>\n",
       "      <td>MainScreenAppear</td>\n",
       "      <td>5682100281902512875</td>\n",
       "      <td>2019-07-25 20:14:37</td>\n",
       "      <td>246</td>\n",
       "      <td>2019-07-25</td>\n",
       "    </tr>\n",
       "    <tr>\n",
       "      <th>8</th>\n",
       "      <td>MainScreenAppear</td>\n",
       "      <td>1850981295691852772</td>\n",
       "      <td>2019-07-25 20:31:42</td>\n",
       "      <td>247</td>\n",
       "      <td>2019-07-25</td>\n",
       "    </tr>\n",
       "    <tr>\n",
       "      <th>9</th>\n",
       "      <td>MainScreenAppear</td>\n",
       "      <td>5407636962369102641</td>\n",
       "      <td>2019-07-26 03:35:12</td>\n",
       "      <td>246</td>\n",
       "      <td>2019-07-26</td>\n",
       "    </tr>\n",
       "  </tbody>\n",
       "</table>\n",
       "</div>"
      ],
      "text/plain": [
       "                     event                  uid                 ets   gr  \\\n",
       "0         MainScreenAppear  4575588528974610257 2019-07-25 04:43:36  246   \n",
       "1         MainScreenAppear  7416695313311560658 2019-07-25 11:11:42  246   \n",
       "2  PaymentScreenSuccessful  3518123091307005509 2019-07-25 11:28:47  248   \n",
       "3         CartScreenAppear  3518123091307005509 2019-07-25 11:28:47  248   \n",
       "4  PaymentScreenSuccessful  6217807653094995999 2019-07-25 11:48:42  248   \n",
       "5         CartScreenAppear  6217807653094995999 2019-07-25 11:48:43  248   \n",
       "6       OffersScreenAppear  8351860793733343758 2019-07-25 14:50:42  246   \n",
       "7         MainScreenAppear  5682100281902512875 2019-07-25 20:14:37  246   \n",
       "8         MainScreenAppear  1850981295691852772 2019-07-25 20:31:42  247   \n",
       "9         MainScreenAppear  5407636962369102641 2019-07-26 03:35:12  246   \n",
       "\n",
       "         date  \n",
       "0  2019-07-25  \n",
       "1  2019-07-25  \n",
       "2  2019-07-25  \n",
       "3  2019-07-25  \n",
       "4  2019-07-25  \n",
       "5  2019-07-25  \n",
       "6  2019-07-25  \n",
       "7  2019-07-25  \n",
       "8  2019-07-25  \n",
       "9  2019-07-26  "
      ]
     },
     "metadata": {},
     "output_type": "display_data"
    }
   ],
   "source": [
    "df.columns = ['event', 'uid', 'ets', 'gr', 'date']\n",
    "\n",
    "df.info()\n",
    "display(df.head(10))"
   ]
  },
  {
   "cell_type": "markdown",
   "metadata": {},
   "source": [
    "Привели столбец 'ets' к формату год-месяц-день-время. Создали отдельный столбец даты."
   ]
  },
  {
   "cell_type": "markdown",
   "metadata": {},
   "source": [
    "## Изучение и проверка данных"
   ]
  },
  {
   "cell_type": "code",
   "execution_count": 6,
   "metadata": {
    "scrolled": true
   },
   "outputs": [
    {
     "data": {
      "text/plain": [
       "MainScreenAppear           119101\n",
       "OffersScreenAppear          46808\n",
       "CartScreenAppear            42668\n",
       "PaymentScreenSuccessful     34118\n",
       "Tutorial                     1018\n",
       "Name: event, dtype: int64"
      ]
     },
     "metadata": {},
     "output_type": "display_data"
    },
    {
     "name": "stdout",
     "output_type": "stream",
     "text": [
      "Всего событий:\n",
      "243713\n",
      "Количество видов событий:\n",
      "5\n"
     ]
    }
   ],
   "source": [
    "display(df['event'].value_counts())\n",
    "print('Всего событий:')\n",
    "print(df['event'].value_counts().sum())\n",
    "print('Количество видов событий:')\n",
    "print(df['event'].nunique())"
   ]
  },
  {
   "cell_type": "code",
   "execution_count": 7,
   "metadata": {
    "scrolled": false
   },
   "outputs": [
    {
     "data": {
      "text/plain": [
       "6304868067479728361    2307\n",
       "197027893265565660     1998\n",
       "4623191541214045580    1768\n",
       "6932517045703054087    1439\n",
       "1754140665440434215    1221\n",
       "                       ... \n",
       "395376432319166724        1\n",
       "404128138074395619        1\n",
       "6936517579657223951       1\n",
       "5138854326043201424       1\n",
       "3954096321632083010       1\n",
       "Name: uid, Length: 7551, dtype: int64"
      ]
     },
     "metadata": {},
     "output_type": "display_data"
    },
    {
     "name": "stdout",
     "output_type": "stream",
     "text": [
      "Всего пользователей:\n",
      "243713\n",
      "Количество уникальных пользователей в логе:\n",
      "7551\n"
     ]
    }
   ],
   "source": [
    "display(df['uid'].value_counts())\n",
    "print('Всего пользователей:')\n",
    "print(df['uid'].value_counts().sum())\n",
    "print('Количество уникальных пользователей в логе:')\n",
    "print(df['uid'].nunique())"
   ]
  },
  {
   "cell_type": "code",
   "execution_count": 8,
   "metadata": {},
   "outputs": [
    {
     "name": "stdout",
     "output_type": "stream",
     "text": [
      "В среднем на пользователя приходится событий:\n",
      "20\n"
     ]
    }
   ],
   "source": [
    "srsp = int(df.groupby('uid')['event'].agg('count').median())\n",
    "print('В среднем на пользователя приходится событий:')\n",
    "print(srsp)"
   ]
  },
  {
   "cell_type": "markdown",
   "metadata": {},
   "source": [
    "<b>Данными за какой период вы располагаете?</b>"
   ]
  },
  {
   "cell_type": "code",
   "execution_count": 9,
   "metadata": {
    "scrolled": false
   },
   "outputs": [
    {
     "name": "stdout",
     "output_type": "stream",
     "text": [
      "Минимальная дата:\n",
      "2019-07-25\n",
      "Максимальная дата:\n",
      "2019-08-07\n"
     ]
    },
    {
     "data": {
      "image/png": "[encoded data removed]",
      "text/plain": [
       "<Figure size 1440x1440 with 1 Axes>"
      ]
     },
     "metadata": {
      "needs_background": "light"
     },
     "output_type": "display_data"
    }
   ],
   "source": [
    "print('Минимальная дата:')\n",
    "print(df['date'].min())\n",
    "print('Максимальная дата:')\n",
    "print(df['date'].max())\n",
    "\n",
    "plt.figure(figsize=(20, 20))\n",
    "ax = sns.countplot(y=df['date'], hue='event', data=df, dodge=True)\n",
    "ax.set_title('Количество различных событий на период времени')\n",
    "plt.show()"
   ]
  },
  {
   "cell_type": "code",
   "execution_count": 10,
   "metadata": {
    "scrolled": false
   },
   "outputs": [
    {
     "name": "stdout",
     "output_type": "stream",
     "text": [
      "Всего событий:\n",
      "240887\n",
      "Количество видов событий:\n",
      "5\n",
      "Всего пользователей:\n",
      "240887\n",
      "Количество уникальных пользователей в логе:\n",
      "7534\n",
      "В среднем на пользователя приходится событий:\n",
      "19\n"
     ]
    }
   ],
   "source": [
    "dfu = df['2019-07-31 21:00' <= df['date']]\n",
    "\n",
    "print('Всего событий:')\n",
    "print(dfu['event'].value_counts().sum())\n",
    "print('Количество видов событий:')\n",
    "print(dfu['event'].nunique())\n",
    "\n",
    "print('Всего пользователей:')\n",
    "print(dfu['uid'].value_counts().sum())\n",
    "print('Количество уникальных пользователей в логе:')\n",
    "print(dfu['uid'].nunique())\n",
    "\n",
    "srsp = int(dfu.groupby('uid')['event'].agg('count').median())\n",
    "print('В среднем на пользователя приходится событий:')\n",
    "print(srsp)"
   ]
  },
  {
   "cell_type": "markdown",
   "metadata": {},
   "source": [
    "Для дальнейшего исследования берём данные младше, чем 31 июля 2019 года 21:00."
   ]
  },
  {
   "cell_type": "markdown",
   "metadata": {},
   "source": [
    "<b>Много ли событий и пользователей вы потеряли, отбросив старые данные?</b>"
   ]
  },
  {
   "cell_type": "code",
   "execution_count": 11,
   "metadata": {},
   "outputs": [
    {
     "name": "stdout",
     "output_type": "stream",
     "text": [
      "Разница в событиях:\n",
      "2826\n",
      "\n",
      "Разница в уникальных пользователях:\n",
      "17\n"
     ]
    }
   ],
   "source": [
    "print('Разница в событиях:')\n",
    "print(df['event'].value_counts().sum() - dfu['event'].value_counts().sum())\n",
    "print('')\n",
    "print('Разница в уникальных пользователях:')\n",
    "print(df['uid'].nunique() - dfu['uid'].nunique())"
   ]
  },
  {
   "cell_type": "code",
   "execution_count": 12,
   "metadata": {},
   "outputs": [
    {
     "data": {
      "text/plain": [
       "0    2484\n",
       "1    2513\n",
       "2    2537\n",
       "Name: nunique_uid, dtype: int64"
      ]
     },
     "metadata": {},
     "output_type": "display_data"
    }
   ],
   "source": [
    "ggg = dfu.pivot_table(index=['gr'], values='uid', aggfunc=['count', 'nunique']).reset_index()\n",
    "ggg.columns = ['y', 'count_uid', 'nunique_uid']\n",
    "display(ggg['nunique_uid'])"
   ]
  },
  {
   "cell_type": "markdown",
   "metadata": {},
   "source": [
    "Есть пользователи из всех 3 экспериментальных группп."
   ]
  },
  {
   "cell_type": "markdown",
   "metadata": {},
   "source": [
    "## Изучение воронки событий"
   ]
  },
  {
   "cell_type": "code",
   "execution_count": 13,
   "metadata": {
    "scrolled": false
   },
   "outputs": [
    {
     "data": {
      "text/plain": [
       "MainScreenAppear           117328\n",
       "OffersScreenAppear          46333\n",
       "CartScreenAppear            42303\n",
       "PaymentScreenSuccessful     33918\n",
       "Tutorial                     1005\n",
       "Name: event, dtype: int64"
      ]
     },
     "execution_count": 13,
     "metadata": {},
     "output_type": "execute_result"
    }
   ],
   "source": [
    "dfu['event'].value_counts()"
   ]
  },
  {
   "cell_type": "code",
   "execution_count": 14,
   "metadata": {},
   "outputs": [
    {
     "data": {
      "text/html": [
       "<div>\n",
       "<style scoped>\n",
       "    .dataframe tbody tr th:only-of-type {\n",
       "        vertical-align: middle;\n",
       "    }\n",
       "\n",
       "    .dataframe tbody tr th {\n",
       "        vertical-align: top;\n",
       "    }\n",
       "\n",
       "    .dataframe thead th {\n",
       "        text-align: right;\n",
       "    }\n",
       "</style>\n",
       "<table border=\"1\" class=\"dataframe\">\n",
       "  <thead>\n",
       "    <tr style=\"text-align: right;\">\n",
       "      <th></th>\n",
       "      <th>count_uid</th>\n",
       "      <th>nunique_uid</th>\n",
       "      <th>%</th>\n",
       "    </tr>\n",
       "  </thead>\n",
       "  <tbody>\n",
       "    <tr>\n",
       "      <th>1</th>\n",
       "      <td>MainScreenAppear</td>\n",
       "      <td>7419</td>\n",
       "      <td>98.473586</td>\n",
       "    </tr>\n",
       "    <tr>\n",
       "      <th>2</th>\n",
       "      <td>OffersScreenAppear</td>\n",
       "      <td>4593</td>\n",
       "      <td>60.963632</td>\n",
       "    </tr>\n",
       "    <tr>\n",
       "      <th>0</th>\n",
       "      <td>CartScreenAppear</td>\n",
       "      <td>3734</td>\n",
       "      <td>49.561986</td>\n",
       "    </tr>\n",
       "    <tr>\n",
       "      <th>3</th>\n",
       "      <td>PaymentScreenSuccessful</td>\n",
       "      <td>3539</td>\n",
       "      <td>46.973719</td>\n",
       "    </tr>\n",
       "    <tr>\n",
       "      <th>4</th>\n",
       "      <td>Tutorial</td>\n",
       "      <td>840</td>\n",
       "      <td>11.149456</td>\n",
       "    </tr>\n",
       "  </tbody>\n",
       "</table>\n",
       "</div>"
      ],
      "text/plain": [
       "                 count_uid  nunique_uid          %\n",
       "1         MainScreenAppear         7419  98.473586\n",
       "2       OffersScreenAppear         4593  60.963632\n",
       "0         CartScreenAppear         3734  49.561986\n",
       "3  PaymentScreenSuccessful         3539  46.973719\n",
       "4                 Tutorial          840  11.149456"
      ]
     },
     "metadata": {},
     "output_type": "display_data"
    }
   ],
   "source": [
    "evp = dfu.pivot_table(index=['event'], values='uid', aggfunc=['count', 'nunique']).reset_index()\n",
    "evp.columns = ['count_uid', 'countuid', 'nunique_uid']\n",
    "evp['%'] = evp['nunique_uid'] / dfu['uid'].nunique() * 100\n",
    "evp = evp.sort_values(by='nunique_uid', ascending=False)\n",
    "display(evp[['count_uid', 'nunique_uid', '%']])"
   ]
  },
  {
   "cell_type": "markdown",
   "metadata": {},
   "source": [
    "Столбец 'nunique_uid' - сколько пользователей совершали каждое из этих событий.\n",
    "\n",
    "Столбец '%' - доля пользователей, которые хоть раз совершали событие.\n",
    "\n",
    "Почти все пользователи видят главный экран, а вот с руководством ознакомились лишь 11 % от всех пользователей.\n",
    "\n",
    "На первом шаге воронки мы не имеем конверсии 1. Это может быть связано с тех.проблемами, или у пользователя есть прямая ссылка на другой шаг. Также = не обязателен проход через все шаги."
   ]
  },
  {
   "cell_type": "markdown",
   "metadata": {},
   "source": [
    "<b>Предположите, в каком порядке происходят события. Все ли они выстраиваются в последовательную цепочку? Их не нужно учитывать при расчёте воронки.</b>\n",
    "\n",
    "MainScreenAppear - Появляется главный экран\n",
    "\n",
    "→\n",
    "\n",
    "OffersScreenAppear - Появляется экран предложений\n",
    "\n",
    "→\n",
    "\n",
    "CartScreenAppear - Появляется экран оплаты\n",
    "\n",
    "→\n",
    "\n",
    "PaymentScreenSuccessful - Экран оплаты успешно завершен\n",
    "\n",
    ".............................................................................................................................\n",
    "\n",
    "Tutorial - Руководство"
   ]
  },
  {
   "cell_type": "markdown",
   "metadata": {},
   "source": [
    "<b>По воронке событий посчитайте, какая доля пользователей проходит на следующий шаг воронки (от числа пользователей на предыдущем). То есть для последовательности событий A → B → C посчитайте отношение числа пользователей с событием B к количеству пользователей с событием A, а также отношение числа пользователей с событием C к количеству пользователей с событием B.</b>"
   ]
  },
  {
   "cell_type": "code",
   "execution_count": 15,
   "metadata": {},
   "outputs": [
    {
     "name": "stdout",
     "output_type": "stream",
     "text": [
      "Посетителей: 7419\n",
      "Отношение посмотревших экран предложений к количеству посетителей: 56.62488205957676 %\n",
      "Отношение дошедших до экрана оплаты к посмотревшим экран предложений: 42.06141394905975 %\n",
      "Отношение посмотревших экран предложений к дошедшим до экрана оплаты: 25.693265421618563 %\n"
     ]
    },
    {
     "data": {
      "image/png": "[encoded data removed]",
      "text/plain": [
       "<Figure size 432x288 with 1 Axes>"
      ]
     },
     "metadata": {
      "needs_background": "light"
     },
     "output_type": "display_data"
    },
    {
     "data": {
      "image/png": "[encoded data removed]"
     },
     "metadata": {},
     "output_type": "display_data"
    }
   ],
   "source": [
    "users = dfu.pivot_table(\n",
    "    index='uid', columns='event', values='ets', aggfunc='min'\n",
    ")\n",
    "\n",
    "step_1 = ~users['MainScreenAppear'].isna()\n",
    "step_2 = step_1 & (users['OffersScreenAppear'] > users['MainScreenAppear'])\n",
    "step_3 = step_2 & (users['CartScreenAppear'] > users['OffersScreenAppear'])\n",
    "step_4 = step_3 & (users['PaymentScreenSuccessful'] > users['CartScreenAppear'])\n",
    "\n",
    "n_uid = users[step_1].shape[0]\n",
    "wep = users[step_2].shape[0]\n",
    "pay = users[step_3].shape[0]\n",
    "n_payment = users[step_4].shape[0]\n",
    "\n",
    "print('Посетителей:', n_uid)\n",
    "print('Отношение посмотревших экран предложений к количеству посетителей:', (wep / n_uid) * 100, '%')\n",
    "print('Отношение дошедших до экрана оплаты к посмотревшим экран предложений:', (pay / wep) * 100, '%')\n",
    "print('Отношение посмотревших экран предложений к дошедшим до экрана оплаты:', (n_payment / pay) * 100, '%')\n",
    "\n",
    "ev = dfu.groupby('event')['uid'].agg(['count', 'nunique']).reset_index()\n",
    "ev.columns =['event_name', 'n_events', 'n_users']\n",
    "\n",
    "event_pivot=dfu.pivot_table(index=['event','gr'], values='uid', aggfunc=['count', 'nunique']).reset_index()\n",
    "event_pivot.columns = ['event_name', 'group', 'n_events', 'n_users']\n",
    "\n",
    "zak = ev.sort_values('n_events', ascending=False).reset_index(drop=True)['event_name']\n",
    "ax = sns.barplot(y='event_name', x='n_events', data=ev)\n",
    "ax.set_title('Количество событий')\n",
    "plt.show()\n",
    "\n",
    "users = dfu[dfu['event'] != 'Tutorial'].pivot_table(\n",
    "        index=['uid', 'gr'], \n",
    "        columns='event', \n",
    "        values='ets',\n",
    "        aggfunc='min').reset_index()\n",
    "\n",
    "groups = [246, 247, 248]\n",
    "\n",
    "funnel ={}\n",
    "for group in groups:\n",
    "    funnel[group] =[]\n",
    "    step_1 = (users['gr']==group) & (~users['MainScreenAppear'].isna())\n",
    "    step_2 = step_1 & (users['OffersScreenAppear'] > users['MainScreenAppear'])\n",
    "    step_3 = step_2 & (users['CartScreenAppear'] > users['OffersScreenAppear'])\n",
    "    step_4 = step_3 & (users['PaymentScreenSuccessful'] > users['CartScreenAppear'])\n",
    "    funnel[group].append(users[step_1].shape[0])\n",
    "    funnel[group].append(users[step_2].shape[0])\n",
    "    funnel[group].append(users[step_3].shape[0])\n",
    "    funnel[group].append(users[step_4].shape[0])\n",
    "   \n",
    "\n",
    "fig = go.Figure()\n",
    "for i, group in enumerate(groups):\n",
    "    fig.add_trace(go.Funnel(\n",
    "        name = str(group),\n",
    "        y = (event_pivot[(event_pivot['group'] == group) & (event_pivot['event_name'] != 'Tutorial')]\n",
    "             .sort_values('n_users', ascending=False)['event_name']),\n",
    "        x = funnel[group],\n",
    "        textposition = \"inside\",\n",
    "        textinfo = \"percent previous\",\n",
    "        constraintext='outside',\n",
    "        textangle = 90,\n",
    "        connector = {\"fillcolor\": '#bde0eb'},\n",
    "        insidetextfont = {'color': 'white'}))\n",
    "\n",
    "fig.show()"
   ]
  },
  {
   "cell_type": "code",
   "execution_count": 16,
   "metadata": {
    "scrolled": false
   },
   "outputs": [
    {
     "name": "stdout",
     "output_type": "stream",
     "text": [
      "Посетителей: 7419\n",
      "Посмотрели экран предложений: 4201\n",
      "Разница между главным экраном и экраном предложений: -3218\n",
      "Дошли до экрана оплаты: 1767\n",
      "Разница между экраном предложений и экраном оплаты: -2434\n",
      "Оплатили: 454\n",
      "Разница между экраном оплаты и оплатившими: -1313\n"
     ]
    }
   ],
   "source": [
    "print('Посетителей:', n_uid)\n",
    "print('Посмотрели экран предложений:', wep)\n",
    "print('Разница между главным экраном и экраном предложений:', wep - n_uid)\n",
    "print('Дошли до экрана оплаты:', pay)\n",
    "print('Разница между экраном предложений и экраном оплаты:', pay - wep)\n",
    "print('Оплатили:', n_payment)\n",
    "print('Разница между экраном оплаты и оплатившими:', n_payment - pay)"
   ]
  },
  {
   "cell_type": "markdown",
   "metadata": {},
   "source": [
    "На шаге между главным экраном и экраном предложений, теряется больше всего пользователей."
   ]
  },
  {
   "cell_type": "code",
   "execution_count": 17,
   "metadata": {},
   "outputs": [
    {
     "name": "stdout",
     "output_type": "stream",
     "text": [
      "Доля пользователей дошедшая от первого события до оплаты: 6.119423102844049 %\n"
     ]
    }
   ],
   "source": [
    "print('Доля пользователей дошедшая от первого события до оплаты:', (n_payment / n_uid) * 100, '%')"
   ]
  },
  {
   "cell_type": "code",
   "execution_count": 18,
   "metadata": {},
   "outputs": [
    {
     "data": {
      "image/png": "[encoded data removed]"
     },
     "metadata": {},
     "output_type": "display_data"
    }
   ],
   "source": [
    "order = (ev[ev['event_name'] != 'Tutorial']\n",
    "         .sort_values('n_events', ascending=False)['event_name']\n",
    "         .reset_index(drop=True))\n",
    "\n",
    "simple_funnel = {}\n",
    "for group in groups:\n",
    "    simple_funnel[group] =[]\n",
    "    for event in order:\n",
    "        simple_funnel[group].append(dfu[(dfu['gr'] == group) & (dfu['event'] == event)]['uid'].nunique())\n",
    "fig = go.Figure()\n",
    "for i, group in enumerate(groups):\n",
    "    fig.add_trace(go.Funnel(\n",
    "        name = str(group),\n",
    "        y = (event_pivot[(event_pivot['group'] == group) & (event_pivot['event_name'] != 'Tutorial')]\n",
    "             .sort_values('n_users', ascending=False)['event_name']),\n",
    "        x = (event_pivot[(event_pivot['group'] == group) & (event_pivot['event_name'] != 'Tutorial')]\n",
    "             .sort_values('n_users', ascending=False)['n_users']),\n",
    "        textposition = \"inside\",\n",
    "        textinfo = \"value+percent previous\",\n",
    "        connector = {\"fillcolor\": '#bde0eb'},\n",
    "        insidetextfont = {'color': 'white', 'size': 14}))\n",
    "\n",
    "fig.show()"
   ]
  },
  {
   "cell_type": "markdown",
   "metadata": {},
   "source": [
    "## Изучение результатов эксперимента"
   ]
  },
  {
   "cell_type": "code",
   "execution_count": 19,
   "metadata": {},
   "outputs": [
    {
     "data": {
      "text/html": [
       "<div>\n",
       "<style scoped>\n",
       "    .dataframe tbody tr th:only-of-type {\n",
       "        vertical-align: middle;\n",
       "    }\n",
       "\n",
       "    .dataframe tbody tr th {\n",
       "        vertical-align: top;\n",
       "    }\n",
       "\n",
       "    .dataframe thead th {\n",
       "        text-align: right;\n",
       "    }\n",
       "</style>\n",
       "<table border=\"1\" class=\"dataframe\">\n",
       "  <thead>\n",
       "    <tr style=\"text-align: right;\">\n",
       "      <th></th>\n",
       "      <th>nunique_uid</th>\n",
       "    </tr>\n",
       "  </thead>\n",
       "  <tbody>\n",
       "    <tr>\n",
       "      <th>0</th>\n",
       "      <td>2484</td>\n",
       "    </tr>\n",
       "    <tr>\n",
       "      <th>1</th>\n",
       "      <td>2513</td>\n",
       "    </tr>\n",
       "    <tr>\n",
       "      <th>2</th>\n",
       "      <td>2537</td>\n",
       "    </tr>\n",
       "  </tbody>\n",
       "</table>\n",
       "</div>"
      ],
      "text/plain": [
       "   nunique_uid\n",
       "0         2484\n",
       "1         2513\n",
       "2         2537"
      ]
     },
     "metadata": {},
     "output_type": "display_data"
    }
   ],
   "source": [
    "ggg2 = dfu.pivot_table(index=['gr'], values='uid', aggfunc=['nunique']).reset_index()\n",
    "ggg2.columns = ['gr', 'nunique_uid']\n",
    "display(ggg2[['nunique_uid']])"
   ]
  },
  {
   "cell_type": "markdown",
   "metadata": {},
   "source": [
    "<b>Есть 2 контрольные группы для А/А-эксперимента, чтобы проверить корректность всех механизмов и расчётов. Проверьте, находят ли статистические критерии разницу между выборками 246 и 247.</b>\n",
    "\n",
    "<b>Выберите самое популярное событие. Посчитайте число пользователей, совершивших это событие в каждой из контрольных групп.</b>\n",
    "\n",
    "<b>Посчитайте долю пользователей, совершивших это событие. Проверьте, будет ли отличие между группами статистически достоверным. Проделайте то же самое для всех других событий (удобно обернуть проверку в отдельную функцию). Можно ли сказать, что разбиение на группы работает корректно?</b>"
   ]
  },
  {
   "cell_type": "code",
   "execution_count": 20,
   "metadata": {},
   "outputs": [],
   "source": [
    "events = df.groupby('event')['uid'].agg(['count', 'nunique']).reset_index()\n",
    "events.columns = ['event', 'n_events', 'n_users']\n",
    "\n",
    "n_users = {'all': df['uid'].nunique(), \n",
    "           246: df[df['gr']==246]['uid'].nunique(),\n",
    "           247: df[df['gr']==247]['uid'].nunique(),\n",
    "           248: df[df['gr']==248]['uid'].nunique(),\n",
    "           '246+247': df[(df['gr']==246) | (df['gr']==247)]['uid'].nunique()}\n",
    "\n",
    "order = (events[events['event'] != 'Tutorial']\n",
    "         .sort_values('n_events', ascending=False)['event']\n",
    "         .reset_index(drop=True))\n",
    "\n",
    "simple_funnel = {}\n",
    "for group in groups:\n",
    "    simple_funnel[group] = []\n",
    "    for event in order:\n",
    "        simple_funnel[group].append(df[(df['gr'] == group) & (df['event'] == event)]['uid'].nunique())\n",
    "\n",
    "simple_funnel = pd.DataFrame(simple_funnel)"
   ]
  },
  {
   "cell_type": "markdown",
   "metadata": {},
   "source": [
    "Проверяем гипотезу для каждого события, кроме 'Tutorial' по всем вариантам сравнения контрольных групп:\n",
    "\n",
    "<b>H0: Не получилось отвергнуть нулевую гипотезу, нет оснований считать доли разными</b>\n",
    "\n",
    "<b>H1: Отвергаем нулевую гипотезу: между долями есть значимая разница</b>"
   ]
  },
  {
   "cell_type": "code",
   "execution_count": 21,
   "metadata": {},
   "outputs": [],
   "source": [
    "simple_funnel['246+247'] = simple_funnel[246] + simple_funnel[247]\n",
    "simple_funnel['event'] = order\n",
    "\n",
    "colors =[\"#008000\",\"#d1180a\",\"#4682B4\",\"#000000\",\"#800080\"]\n",
    "sns.set_palette(sns.color_palette(colors))\n",
    "\n",
    "def z_value_diff(first_group, second_group, alpha, color):\n",
    "    for i in simple_funnel.index:\n",
    "        alpha = alpha\n",
    "        bonferroni_alpha = alpha / 4\n",
    "        p1 = simple_funnel[first_group][i] / n_users[first_group]\n",
    "        # пропорция успехов во второй группе:\n",
    "        p2 = simple_funnel[second_group][i] / n_users[second_group]\n",
    "        # пропорция успехов в комбинированном датасете:\n",
    "        p_combined = ((simple_funnel[first_group][i] + simple_funnel[second_group][i]) / \n",
    "                      (n_users[first_group] + n_users[second_group]))\n",
    "        # разница пропорций в датасетах\n",
    "        difference = p1 - p2\n",
    "        # считаем статистику в ст.отклонениях стандартного нормального распределения\n",
    "        z_value = difference / mth.sqrt(p_combined * (1 - p_combined) * \n",
    "                                        (1/n_users[first_group] + 1/n_users[second_group]))\n",
    "        # задаем стандартное нормальное распределение (среднее 0, ст.отклонение 1)\n",
    "        distr = st.norm(0, 1) \n",
    "        p_value = (1 - distr.cdf(abs(z_value))) * 2\n",
    "        print('{} p-значение: {}'.format(simple_funnel['event'][i], p_value))\n",
    "        if (p_value < bonferroni_alpha):\n",
    "            print(\"Отвергаем нулевую гипотезу: между долями есть значимая разница\")\n",
    "        else:\n",
    "            print(\"Не получилось отвергнуть нулевую гипотезу, нет оснований считать доли разными\")\n",
    "        print('')\n",
    "        \n",
    "        fig = go.Figure()\n",
    "    for i, group in enumerate([first_group, second_group]):\n",
    "        fig.add_trace(go.Funnel(\n",
    "            name = str(group),\n",
    "            y = order,\n",
    "            x = simple_funnel[group],\n",
    "            textposition = \"inside\",\n",
    "            textinfo = \"value+percent initial\",\n",
    "            marker = {\"color\": colors[i+color]},\n",
    "            connector = {\"fillcolor\": '#2F4F4F'},\n",
    "            insidetextfont = {'color': 'white', 'size': 13}))\n",
    "\n",
    "    fig.show()"
   ]
  },
  {
   "cell_type": "markdown",
   "metadata": {},
   "source": [
    "<b>Аналогично поступите с группой с изменённым шрифтом. Сравните результаты с каждой из контрольных групп в отдельности по каждому событию. Сравните результаты с объединённой контрольной группой. Какие выводы из эксперимента можно сделать?</b>"
   ]
  },
  {
   "cell_type": "code",
   "execution_count": 22,
   "metadata": {},
   "outputs": [
    {
     "name": "stdout",
     "output_type": "stream",
     "text": [
      "MainScreenAppear p-значение: 0.5856639791209877\n",
      "Не получилось отвергнуть нулевую гипотезу, нет оснований считать доли разными\n",
      "\n",
      "OffersScreenAppear p-значение: 0.3233225048227193\n",
      "Не получилось отвергнуть нулевую гипотезу, нет оснований считать доли разными\n",
      "\n",
      "CartScreenAppear p-значение: 0.19817540651836918\n",
      "Не получилось отвергнуть нулевую гипотезу, нет оснований считать доли разными\n",
      "\n",
      "PaymentScreenSuccessful p-значение: 0.10902546202332886\n",
      "Не получилось отвергнуть нулевую гипотезу, нет оснований считать доли разными\n",
      "\n"
     ]
    },
    {
     "data": {
      "image/png": "[encoded data removed]"
     },
     "metadata": {},
     "output_type": "display_data"
    }
   ],
   "source": [
    "z_value_diff(246,247,0.05,0)"
   ]
  },
  {
   "cell_type": "code",
   "execution_count": 23,
   "metadata": {},
   "outputs": [
    {
     "name": "stdout",
     "output_type": "stream",
     "text": [
      "MainScreenAppear p-значение: 0.39774960182882513\n",
      "Не получилось отвергнуть нулевую гипотезу, нет оснований считать доли разными\n",
      "\n",
      "OffersScreenAppear p-значение: 0.2531656758489338\n",
      "Не получилось отвергнуть нулевую гипотезу, нет оснований считать доли разными\n",
      "\n",
      "CartScreenAppear p-значение: 0.10534150642722295\n",
      "Не получилось отвергнуть нулевую гипотезу, нет оснований считать доли разными\n",
      "\n",
      "PaymentScreenSuccessful p-значение: 0.23403912852637143\n",
      "Не получилось отвергнуть нулевую гипотезу, нет оснований считать доли разными\n",
      "\n"
     ]
    },
    {
     "data": {
      "image/png": "[encoded data removed]"
     },
     "metadata": {},
     "output_type": "display_data"
    }
   ],
   "source": [
    "z_value_diff(246,248,0.05,1)"
   ]
  },
  {
   "cell_type": "code",
   "execution_count": 24,
   "metadata": {},
   "outputs": [
    {
     "name": "stdout",
     "output_type": "stream",
     "text": [
      "MainScreenAppear p-значение: 0.7632160970326178\n",
      "Не получилось отвергнуть нулевую гипотезу, нет оснований считать доли разными\n",
      "\n",
      "OffersScreenAppear p-значение: 0.878057445632423\n",
      "Не получилось отвергнуть нулевую гипотезу, нет оснований считать доли разными\n",
      "\n",
      "CartScreenAppear p-значение: 0.7406094633808076\n",
      "Не получилось отвергнуть нулевую гипотезу, нет оснований считать доли разными\n",
      "\n",
      "PaymentScreenSuccessful p-значение: 0.6763830984465451\n",
      "Не получилось отвергнуть нулевую гипотезу, нет оснований считать доли разными\n",
      "\n"
     ]
    },
    {
     "data": {
      "image/png": "[encoded data removed]"
     },
     "metadata": {},
     "output_type": "display_data"
    }
   ],
   "source": [
    "z_value_diff(247,248,0.05,2)"
   ]
  },
  {
   "cell_type": "code",
   "execution_count": 25,
   "metadata": {
    "scrolled": false
   },
   "outputs": [
    {
     "name": "stdout",
     "output_type": "stream",
     "text": [
      "MainScreenAppear p-значение: 0.5067126962216841\n",
      "Не получилось отвергнуть нулевую гипотезу, нет оснований считать доли разными\n",
      "\n",
      "OffersScreenAppear p-значение: 0.4555404043137232\n",
      "Не получилось отвергнуть нулевую гипотезу, нет оснований считать доли разными\n",
      "\n",
      "CartScreenAppear p-значение: 0.2609811882648243\n",
      "Не получилось отвергнуть нулевую гипотезу, нет оснований считать доли разными\n",
      "\n",
      "PaymentScreenSuccessful p-значение: 0.6578429353593096\n",
      "Не получилось отвергнуть нулевую гипотезу, нет оснований считать доли разными\n",
      "\n"
     ]
    },
    {
     "data": {
      "image/png": "[encoded data removed]"
     },
     "metadata": {},
     "output_type": "display_data"
    }
   ],
   "source": [
    "z_value_diff('246+247',248,0.05,3)"
   ]
  },
  {
   "cell_type": "markdown",
   "metadata": {},
   "source": [
    "По итогам проверок - все группы являются равными по количеству."
   ]
  },
  {
   "cell_type": "markdown",
   "metadata": {},
   "source": [
    "<b>Какой уровень значимости вы выбрали при проверке статистических гипотез выше? Посчитайте, сколько проверок статистических гипотез вы сделали. При уровне значимости 0.1 каждый десятый раз можно получать ложный результат. Какой уровень значимости стоит применить? Если вы хотите изменить его, проделайте предыдущие пункты и проверьте свои выводы.</b>"
   ]
  },
  {
   "cell_type": "markdown",
   "metadata": {},
   "source": [
    "Был выбран уровень значимости = 0.05. Сделано 16 проверок. Сделаем проверку статистических гипотез по уровню значимости = 0.1."
   ]
  },
  {
   "cell_type": "code",
   "execution_count": 26,
   "metadata": {},
   "outputs": [
    {
     "name": "stdout",
     "output_type": "stream",
     "text": [
      "MainScreenAppear p-значение: 0.5856639791209877\n",
      "Не получилось отвергнуть нулевую гипотезу, нет оснований считать доли разными\n",
      "\n",
      "OffersScreenAppear p-значение: 0.3233225048227193\n",
      "Не получилось отвергнуть нулевую гипотезу, нет оснований считать доли разными\n",
      "\n",
      "CartScreenAppear p-значение: 0.19817540651836918\n",
      "Не получилось отвергнуть нулевую гипотезу, нет оснований считать доли разными\n",
      "\n",
      "PaymentScreenSuccessful p-значение: 0.10902546202332886\n",
      "Не получилось отвергнуть нулевую гипотезу, нет оснований считать доли разными\n",
      "\n"
     ]
    },
    {
     "data": {
      "image/png": "[encoded data removed]"
     },
     "metadata": {},
     "output_type": "display_data"
    }
   ],
   "source": [
    "z_value_diff(246,247,0.1,0)"
   ]
  },
  {
   "cell_type": "code",
   "execution_count": 27,
   "metadata": {},
   "outputs": [
    {
     "name": "stdout",
     "output_type": "stream",
     "text": [
      "MainScreenAppear p-значение: 0.39774960182882513\n",
      "Не получилось отвергнуть нулевую гипотезу, нет оснований считать доли разными\n",
      "\n",
      "OffersScreenAppear p-значение: 0.2531656758489338\n",
      "Не получилось отвергнуть нулевую гипотезу, нет оснований считать доли разными\n",
      "\n",
      "CartScreenAppear p-значение: 0.10534150642722295\n",
      "Не получилось отвергнуть нулевую гипотезу, нет оснований считать доли разными\n",
      "\n",
      "PaymentScreenSuccessful p-значение: 0.23403912852637143\n",
      "Не получилось отвергнуть нулевую гипотезу, нет оснований считать доли разными\n",
      "\n"
     ]
    },
    {
     "data": {
      "image/png": "[encoded data removed]"
     },
     "metadata": {},
     "output_type": "display_data"
    }
   ],
   "source": [
    "z_value_diff(246,248,0.1,1)"
   ]
  },
  {
   "cell_type": "code",
   "execution_count": 28,
   "metadata": {},
   "outputs": [
    {
     "name": "stdout",
     "output_type": "stream",
     "text": [
      "MainScreenAppear p-значение: 0.7632160970326178\n",
      "Не получилось отвергнуть нулевую гипотезу, нет оснований считать доли разными\n",
      "\n",
      "OffersScreenAppear p-значение: 0.878057445632423\n",
      "Не получилось отвергнуть нулевую гипотезу, нет оснований считать доли разными\n",
      "\n",
      "CartScreenAppear p-значение: 0.7406094633808076\n",
      "Не получилось отвергнуть нулевую гипотезу, нет оснований считать доли разными\n",
      "\n",
      "PaymentScreenSuccessful p-значение: 0.6763830984465451\n",
      "Не получилось отвергнуть нулевую гипотезу, нет оснований считать доли разными\n",
      "\n"
     ]
    },
    {
     "data": {
      "image/png": "[encoded data removed]"
     },
     "metadata": {},
     "output_type": "display_data"
    }
   ],
   "source": [
    "z_value_diff(247,248,0.1,2)"
   ]
  },
  {
   "cell_type": "code",
   "execution_count": 29,
   "metadata": {
    "scrolled": false
   },
   "outputs": [
    {
     "name": "stdout",
     "output_type": "stream",
     "text": [
      "MainScreenAppear p-значение: 0.5067126962216841\n",
      "Не получилось отвергнуть нулевую гипотезу, нет оснований считать доли разными\n",
      "\n",
      "OffersScreenAppear p-значение: 0.4555404043137232\n",
      "Не получилось отвергнуть нулевую гипотезу, нет оснований считать доли разными\n",
      "\n",
      "CartScreenAppear p-значение: 0.2609811882648243\n",
      "Не получилось отвергнуть нулевую гипотезу, нет оснований считать доли разными\n",
      "\n",
      "PaymentScreenSuccessful p-значение: 0.6578429353593096\n",
      "Не получилось отвергнуть нулевую гипотезу, нет оснований считать доли разными\n",
      "\n"
     ]
    },
    {
     "data": {
      "image/png": "[encoded data removed]"
     },
     "metadata": {},
     "output_type": "display_data"
    }
   ],
   "source": [
    "z_value_diff('246+247',248,0.1,3)"
   ]
  },
  {
   "cell_type": "markdown",
   "metadata": {},
   "source": [
    "Сделано такое же количество проверок, различий между уровнями значимости 0.05 и 0.1 не найдено."
   ]
  },
  {
   "cell_type": "markdown",
   "metadata": {},
   "source": [
    "# Общий вывод"
   ]
  },
  {
   "cell_type": "markdown",
   "metadata": {},
   "source": [
    "Пользователей разбили на 3 группы: 2 контрольные со старыми шрифтами и одну экспериментальную \"248\" — с новыми.\n",
    "\n",
    "В ходе работы было проверено влияние нового шрифта на пользователей, итог - новый шрифт значимо не повлиял на поведение пользователей. Можно оставлять старый или внедрить новый.\n",
    "\n",
    "Также интересные факты:\n",
    "\n",
    "\n",
    "- В среднем на пользователя приходится 19-20 событий.\n",
    "- Доля пользователей дошедшая от первого события до оплаты: 6,1 % по последовательным действиям, а без них - 47 %.\n",
    "- 98 % пользователей посмотрели главный экран, а вот с руководством ознакомились лишь 11 % от всех пользователей.\n",
    "- На шаге между главным экраном и экраном предложений, теряется больше всего пользователей."
   ]
  }
 ],
 "metadata": {
  "ExecuteTimeLog": [
   {
    "duration": 1143,
    "start_time": "2021-10-18T19:01:17.781Z"
   },
   {
    "duration": 397,
    "start_time": "2021-10-18T19:01:24.616Z"
   },
   {
    "duration": 449,
    "start_time": "2021-10-18T19:01:34.771Z"
   },
   {
    "duration": 182,
    "start_time": "2021-10-24T14:10:45.767Z"
   },
   {
    "duration": 2326,
    "start_time": "2021-10-24T14:10:45.951Z"
   },
   {
    "duration": 51,
    "start_time": "2021-10-24T14:10:48.279Z"
   },
   {
    "duration": 90,
    "start_time": "2021-10-24T14:10:48.332Z"
   },
   {
    "duration": 22,
    "start_time": "2021-10-24T14:10:48.425Z"
   },
   {
    "duration": 1388,
    "start_time": "2021-10-24T14:10:48.449Z"
   },
   {
    "duration": -26,
    "start_time": "2021-10-24T14:10:49.867Z"
   },
   {
    "duration": -25,
    "start_time": "2021-10-24T14:10:49.868Z"
   },
   {
    "duration": -24,
    "start_time": "2021-10-24T14:10:49.870Z"
   },
   {
    "duration": -26,
    "start_time": "2021-10-24T14:10:49.874Z"
   },
   {
    "duration": -29,
    "start_time": "2021-10-24T14:10:49.879Z"
   },
   {
    "duration": -28,
    "start_time": "2021-10-24T14:10:49.880Z"
   },
   {
    "duration": -27,
    "start_time": "2021-10-24T14:10:49.881Z"
   },
   {
    "duration": -27,
    "start_time": "2021-10-24T14:10:49.884Z"
   },
   {
    "duration": -30,
    "start_time": "2021-10-24T14:10:49.889Z"
   },
   {
    "duration": -32,
    "start_time": "2021-10-24T14:10:49.893Z"
   },
   {
    "duration": -78,
    "start_time": "2021-10-24T14:10:49.941Z"
   },
   {
    "duration": -80,
    "start_time": "2021-10-24T14:10:49.945Z"
   },
   {
    "duration": -78,
    "start_time": "2021-10-24T14:10:49.946Z"
   },
   {
    "duration": -77,
    "start_time": "2021-10-24T14:10:49.947Z"
   },
   {
    "duration": -78,
    "start_time": "2021-10-24T14:10:49.950Z"
   },
   {
    "duration": -77,
    "start_time": "2021-10-24T14:10:49.952Z"
   },
   {
    "duration": -77,
    "start_time": "2021-10-24T14:10:49.954Z"
   },
   {
    "duration": -77,
    "start_time": "2021-10-24T14:10:49.955Z"
   },
   {
    "duration": -78,
    "start_time": "2021-10-24T14:10:49.958Z"
   },
   {
    "duration": -40,
    "start_time": "2021-10-24T14:10:49.962Z"
   },
   {
    "duration": -39,
    "start_time": "2021-10-24T14:10:49.964Z"
   },
   {
    "duration": 292,
    "start_time": "2021-10-24T14:11:25.053Z"
   },
   {
    "duration": 24,
    "start_time": "2021-10-24T14:11:48.798Z"
   },
   {
    "duration": 23,
    "start_time": "2021-10-24T14:11:51.678Z"
   },
   {
    "duration": 1820,
    "start_time": "2021-10-24T14:11:52.585Z"
   },
   {
    "duration": 1520,
    "start_time": "2021-10-24T14:11:54.407Z"
   },
   {
    "duration": 112,
    "start_time": "2021-10-24T14:12:03.348Z"
   },
   {
    "duration": 59,
    "start_time": "2021-10-24T14:12:05.187Z"
   },
   {
    "duration": 1160,
    "start_time": "2021-10-24T14:12:06.391Z"
   },
   {
    "duration": 1142,
    "start_time": "2021-10-24T14:12:18.773Z"
   },
   {
    "duration": 7314,
    "start_time": "2021-10-24T14:12:33.981Z"
   },
   {
    "duration": 6596,
    "start_time": "2021-10-24T14:12:46.934Z"
   },
   {
    "duration": 189,
    "start_time": "2021-10-24T14:12:56.092Z"
   },
   {
    "duration": 2274,
    "start_time": "2021-10-24T14:12:56.284Z"
   },
   {
    "duration": 41,
    "start_time": "2021-10-24T14:12:58.561Z"
   },
   {
    "duration": 71,
    "start_time": "2021-10-24T14:12:58.623Z"
   },
   {
    "duration": 40,
    "start_time": "2021-10-24T14:12:58.697Z"
   },
   {
    "duration": 24,
    "start_time": "2021-10-24T14:12:58.739Z"
   },
   {
    "duration": 1668,
    "start_time": "2021-10-24T14:12:58.765Z"
   },
   {
    "duration": 124,
    "start_time": "2021-10-24T14:13:00.435Z"
   },
   {
    "duration": 65,
    "start_time": "2021-10-24T14:13:00.562Z"
   },
   {
    "duration": 7010,
    "start_time": "2021-10-24T14:13:00.631Z"
   },
   {
    "duration": -28,
    "start_time": "2021-10-24T14:13:07.671Z"
   },
   {
    "duration": -27,
    "start_time": "2021-10-24T14:13:07.672Z"
   },
   {
    "duration": -26,
    "start_time": "2021-10-24T14:13:07.673Z"
   },
   {
    "duration": -25,
    "start_time": "2021-10-24T14:13:07.674Z"
   },
   {
    "duration": -29,
    "start_time": "2021-10-24T14:13:07.679Z"
   },
   {
    "duration": -28,
    "start_time": "2021-10-24T14:13:07.680Z"
   },
   {
    "duration": -28,
    "start_time": "2021-10-24T14:13:07.681Z"
   },
   {
    "duration": -27,
    "start_time": "2021-10-24T14:13:07.682Z"
   },
   {
    "duration": -28,
    "start_time": "2021-10-24T14:13:07.684Z"
   },
   {
    "duration": -27,
    "start_time": "2021-10-24T14:13:07.685Z"
   },
   {
    "duration": -28,
    "start_time": "2021-10-24T14:13:07.687Z"
   },
   {
    "duration": -27,
    "start_time": "2021-10-24T14:13:07.688Z"
   },
   {
    "duration": -29,
    "start_time": "2021-10-24T14:13:07.691Z"
   },
   {
    "duration": -32,
    "start_time": "2021-10-24T14:13:07.696Z"
   },
   {
    "duration": -33,
    "start_time": "2021-10-24T14:13:07.698Z"
   },
   {
    "duration": -32,
    "start_time": "2021-10-24T14:13:07.699Z"
   },
   {
    "duration": -32,
    "start_time": "2021-10-24T14:13:07.700Z"
   },
   {
    "duration": -25,
    "start_time": "2021-10-24T14:13:22.937Z"
   },
   {
    "duration": 75,
    "start_time": "2021-10-24T14:13:23.879Z"
   },
   {
    "duration": 76,
    "start_time": "2021-10-24T14:13:30.629Z"
   },
   {
    "duration": 77,
    "start_time": "2021-10-24T14:13:36.145Z"
   },
   {
    "duration": 30,
    "start_time": "2021-10-24T14:13:37.953Z"
   },
   {
    "duration": 1337,
    "start_time": "2021-10-24T14:13:39.351Z"
   },
   {
    "duration": 284,
    "start_time": "2021-10-24T14:13:59.117Z"
   },
   {
    "duration": 551,
    "start_time": "2021-10-24T14:14:34.597Z"
   },
   {
    "duration": 105,
    "start_time": "2021-10-24T14:14:42.670Z"
   },
   {
    "duration": 280,
    "start_time": "2021-10-24T14:14:44.558Z"
   },
   {
    "duration": 676,
    "start_time": "2021-10-24T14:15:11.461Z"
   },
   {
    "duration": 270,
    "start_time": "2021-10-24T14:15:15.965Z"
   },
   {
    "duration": 276,
    "start_time": "2021-10-24T14:15:20.687Z"
   },
   {
    "duration": 81,
    "start_time": "2021-10-24T14:15:27.743Z"
   },
   {
    "duration": 6,
    "start_time": "2021-10-24T14:15:36.041Z"
   },
   {
    "duration": 5,
    "start_time": "2021-10-24T14:15:37.147Z"
   },
   {
    "duration": 1134,
    "start_time": "2021-10-24T14:15:37.763Z"
   },
   {
    "duration": -21,
    "start_time": "2021-10-24T14:15:38.920Z"
   },
   {
    "duration": -20,
    "start_time": "2021-10-24T14:15:38.921Z"
   },
   {
    "duration": 316,
    "start_time": "2021-10-24T14:15:39.285Z"
   },
   {
    "duration": 303,
    "start_time": "2021-10-24T14:15:39.638Z"
   },
   {
    "duration": -13,
    "start_time": "2021-10-24T14:15:39.957Z"
   },
   {
    "duration": 423,
    "start_time": "2021-10-24T14:15:40.023Z"
   },
   {
    "duration": -11,
    "start_time": "2021-10-24T14:15:40.460Z"
   },
   {
    "duration": 186,
    "start_time": "2021-10-24T14:15:55.074Z"
   },
   {
    "duration": 2312,
    "start_time": "2021-10-24T14:15:55.262Z"
   },
   {
    "duration": 54,
    "start_time": "2021-10-24T14:15:57.577Z"
   },
   {
    "duration": 91,
    "start_time": "2021-10-24T14:15:57.633Z"
   },
   {
    "duration": 24,
    "start_time": "2021-10-24T14:15:57.727Z"
   },
   {
    "duration": 25,
    "start_time": "2021-10-24T14:15:57.753Z"
   },
   {
    "duration": 1596,
    "start_time": "2021-10-24T14:15:57.780Z"
   },
   {
    "duration": 122,
    "start_time": "2021-10-24T14:15:59.380Z"
   },
   {
    "duration": 61,
    "start_time": "2021-10-24T14:15:59.505Z"
   },
   {
    "duration": 89,
    "start_time": "2021-10-24T14:15:59.568Z"
   },
   {
    "duration": 29,
    "start_time": "2021-10-24T14:15:59.660Z"
   },
   {
    "duration": 307,
    "start_time": "2021-10-24T14:15:59.692Z"
   },
   {
    "duration": 91,
    "start_time": "2021-10-24T14:16:00.001Z"
   },
   {
    "duration": 8,
    "start_time": "2021-10-24T14:16:00.095Z"
   },
   {
    "duration": 20,
    "start_time": "2021-10-24T14:16:00.105Z"
   },
   {
    "duration": 1717,
    "start_time": "2021-10-24T14:16:00.128Z"
   },
   {
    "duration": -16,
    "start_time": "2021-10-24T14:16:01.865Z"
   },
   {
    "duration": -16,
    "start_time": "2021-10-24T14:16:01.866Z"
   },
   {
    "duration": -15,
    "start_time": "2021-10-24T14:16:01.867Z"
   },
   {
    "duration": -21,
    "start_time": "2021-10-24T14:16:01.874Z"
   },
   {
    "duration": -21,
    "start_time": "2021-10-24T14:16:01.876Z"
   },
   {
    "duration": -21,
    "start_time": "2021-10-24T14:16:01.877Z"
   },
   {
    "duration": -20,
    "start_time": "2021-10-24T14:16:01.878Z"
   },
   {
    "duration": -19,
    "start_time": "2021-10-24T14:16:01.879Z"
   },
   {
    "duration": -19,
    "start_time": "2021-10-24T14:16:01.880Z"
   },
   {
    "duration": -20,
    "start_time": "2021-10-24T14:16:01.882Z"
   },
   {
    "duration": -23,
    "start_time": "2021-10-24T14:16:01.886Z"
   },
   {
    "duration": 61,
    "start_time": "2021-10-24T14:16:45.485Z"
   },
   {
    "duration": 57,
    "start_time": "2021-10-24T14:16:52.165Z"
   },
   {
    "duration": 85,
    "start_time": "2021-10-24T14:16:57.757Z"
   },
   {
    "duration": 187,
    "start_time": "2021-10-24T14:17:07.149Z"
   },
   {
    "duration": 2244,
    "start_time": "2021-10-24T14:17:07.338Z"
   },
   {
    "duration": 51,
    "start_time": "2021-10-24T14:17:09.585Z"
   },
   {
    "duration": 96,
    "start_time": "2021-10-24T14:17:09.639Z"
   },
   {
    "duration": 23,
    "start_time": "2021-10-24T14:17:09.737Z"
   },
   {
    "duration": 24,
    "start_time": "2021-10-24T14:17:09.762Z"
   },
   {
    "duration": 1622,
    "start_time": "2021-10-24T14:17:09.788Z"
   },
   {
    "duration": 119,
    "start_time": "2021-10-24T14:17:11.412Z"
   },
   {
    "duration": 58,
    "start_time": "2021-10-24T14:17:11.535Z"
   },
   {
    "duration": 94,
    "start_time": "2021-10-24T14:17:11.596Z"
   },
   {
    "duration": 43,
    "start_time": "2021-10-24T14:17:11.693Z"
   },
   {
    "duration": 319,
    "start_time": "2021-10-24T14:17:11.739Z"
   },
   {
    "duration": 96,
    "start_time": "2021-10-24T14:17:12.062Z"
   },
   {
    "duration": 8,
    "start_time": "2021-10-24T14:17:12.160Z"
   },
   {
    "duration": 16,
    "start_time": "2021-10-24T14:17:12.170Z"
   },
   {
    "duration": 79,
    "start_time": "2021-10-24T14:17:12.188Z"
   },
   {
    "duration": 433,
    "start_time": "2021-10-24T14:17:12.270Z"
   },
   {
    "duration": 25,
    "start_time": "2021-10-24T14:17:12.706Z"
   },
   {
    "duration": 19,
    "start_time": "2021-10-24T14:17:12.734Z"
   },
   {
    "duration": 1414,
    "start_time": "2021-10-24T14:17:12.756Z"
   },
   {
    "duration": 974,
    "start_time": "2021-10-24T14:17:14.174Z"
   },
   {
    "duration": 813,
    "start_time": "2021-10-24T14:17:15.151Z"
   },
   {
    "duration": 880,
    "start_time": "2021-10-24T14:17:15.967Z"
   },
   {
    "duration": 888,
    "start_time": "2021-10-24T14:17:16.849Z"
   },
   {
    "duration": 825,
    "start_time": "2021-10-24T14:17:17.739Z"
   },
   {
    "duration": 830,
    "start_time": "2021-10-24T14:17:18.566Z"
   },
   {
    "duration": 842,
    "start_time": "2021-10-24T14:17:19.400Z"
   },
   {
    "duration": 182,
    "start_time": "2021-10-24T14:18:56.186Z"
   },
   {
    "duration": 2405,
    "start_time": "2021-10-24T14:18:56.371Z"
   },
   {
    "duration": 55,
    "start_time": "2021-10-24T14:18:58.779Z"
   },
   {
    "duration": 100,
    "start_time": "2021-10-24T14:18:58.837Z"
   },
   {
    "duration": 22,
    "start_time": "2021-10-24T14:18:58.940Z"
   },
   {
    "duration": 22,
    "start_time": "2021-10-24T14:18:58.965Z"
   },
   {
    "duration": 1690,
    "start_time": "2021-10-24T14:18:59.022Z"
   },
   {
    "duration": 123,
    "start_time": "2021-10-24T14:19:00.722Z"
   },
   {
    "duration": 78,
    "start_time": "2021-10-24T14:19:00.851Z"
   },
   {
    "duration": 90,
    "start_time": "2021-10-24T14:19:00.934Z"
   },
   {
    "duration": 34,
    "start_time": "2021-10-24T14:19:01.027Z"
   },
   {
    "duration": 324,
    "start_time": "2021-10-24T14:19:01.064Z"
   },
   {
    "duration": 98,
    "start_time": "2021-10-24T14:19:01.391Z"
   },
   {
    "duration": 10,
    "start_time": "2021-10-24T14:19:01.492Z"
   },
   {
    "duration": 23,
    "start_time": "2021-10-24T14:19:01.504Z"
   },
   {
    "duration": 89,
    "start_time": "2021-10-24T14:19:01.532Z"
   },
   {
    "duration": 431,
    "start_time": "2021-10-24T14:19:01.625Z"
   },
   {
    "duration": 15,
    "start_time": "2021-10-24T14:19:02.059Z"
   },
   {
    "duration": 22,
    "start_time": "2021-10-24T14:19:02.078Z"
   },
   {
    "duration": 1038,
    "start_time": "2021-10-24T14:19:02.124Z"
   },
   {
    "duration": 863,
    "start_time": "2021-10-24T14:19:03.165Z"
   },
   {
    "duration": 852,
    "start_time": "2021-10-24T14:19:04.030Z"
   },
   {
    "duration": 673,
    "start_time": "2021-10-24T14:19:04.884Z"
   },
   {
    "duration": 834,
    "start_time": "2021-10-24T14:19:05.559Z"
   },
   {
    "duration": 834,
    "start_time": "2021-10-24T14:19:06.395Z"
   },
   {
    "duration": 928,
    "start_time": "2021-10-24T14:19:07.232Z"
   },
   {
    "duration": 834,
    "start_time": "2021-10-24T14:19:08.165Z"
   },
   {
    "duration": 115508,
    "start_time": "2021-10-25T04:40:11.036Z"
   },
   {
    "duration": 2643,
    "start_time": "2021-10-25T04:42:06.546Z"
   },
   {
    "duration": 41,
    "start_time": "2021-10-25T04:42:09.192Z"
   },
   {
    "duration": 98,
    "start_time": "2021-10-25T04:42:09.236Z"
   },
   {
    "duration": 22,
    "start_time": "2021-10-25T04:42:09.336Z"
   },
   {
    "duration": 25,
    "start_time": "2021-10-25T04:42:09.382Z"
   },
   {
    "duration": 1684,
    "start_time": "2021-10-25T04:42:09.409Z"
   },
   {
    "duration": 131,
    "start_time": "2021-10-25T04:42:11.097Z"
   },
   {
    "duration": 86,
    "start_time": "2021-10-25T04:42:11.231Z"
   },
   {
    "duration": 106,
    "start_time": "2021-10-25T04:42:11.320Z"
   },
   {
    "duration": 30,
    "start_time": "2021-10-25T04:42:11.428Z"
   },
   {
    "duration": 344,
    "start_time": "2021-10-25T04:42:11.460Z"
   },
   {
    "duration": 89,
    "start_time": "2021-10-25T04:42:11.806Z"
   },
   {
    "duration": 11,
    "start_time": "2021-10-25T04:42:11.897Z"
   },
   {
    "duration": 5,
    "start_time": "2021-10-25T04:42:11.911Z"
   },
   {
    "duration": 84,
    "start_time": "2021-10-25T04:42:11.919Z"
   },
   {
    "duration": 444,
    "start_time": "2021-10-25T04:42:12.005Z"
   },
   {
    "duration": 46,
    "start_time": "2021-10-25T04:42:12.451Z"
   },
   {
    "duration": 14,
    "start_time": "2021-10-25T04:42:12.501Z"
   },
   {
    "duration": 1612,
    "start_time": "2021-10-25T04:42:12.517Z"
   },
   {
    "duration": 1010,
    "start_time": "2021-10-25T04:42:14.132Z"
   },
   {
    "duration": 890,
    "start_time": "2021-10-25T04:42:15.144Z"
   },
   {
    "duration": 1000,
    "start_time": "2021-10-25T04:42:16.040Z"
   },
   {
    "duration": 884,
    "start_time": "2021-10-25T04:42:17.043Z"
   },
   {
    "duration": 858,
    "start_time": "2021-10-25T04:42:17.929Z"
   },
   {
    "duration": 874,
    "start_time": "2021-10-25T04:42:18.790Z"
   },
   {
    "duration": 702,
    "start_time": "2021-10-25T04:42:19.667Z"
   },
   {
    "duration": 10,
    "start_time": "2021-10-25T05:04:46.153Z"
   },
   {
    "duration": 2129,
    "start_time": "2021-10-25T17:57:47.914Z"
   },
   {
    "duration": 1929,
    "start_time": "2021-10-25T17:57:50.045Z"
   },
   {
    "duration": 33,
    "start_time": "2021-10-25T17:57:51.976Z"
   },
   {
    "duration": 74,
    "start_time": "2021-10-25T17:57:52.011Z"
   },
   {
    "duration": 17,
    "start_time": "2021-10-25T17:57:52.087Z"
   },
   {
    "duration": 20,
    "start_time": "2021-10-25T17:57:52.106Z"
   },
   {
    "duration": 1011,
    "start_time": "2021-10-25T17:57:52.128Z"
   },
   {
    "duration": 91,
    "start_time": "2021-10-25T17:57:53.141Z"
   },
   {
    "duration": 56,
    "start_time": "2021-10-25T17:57:53.234Z"
   },
   {
    "duration": 59,
    "start_time": "2021-10-25T17:57:53.292Z"
   },
   {
    "duration": 36,
    "start_time": "2021-10-25T17:57:53.353Z"
   },
   {
    "duration": 669,
    "start_time": "2021-10-25T17:57:53.391Z"
   },
   {
    "duration": 599,
    "start_time": "2021-10-25T17:57:53.463Z"
   },
   {
    "duration": 598,
    "start_time": "2021-10-25T17:57:53.465Z"
   },
   {
    "duration": 597,
    "start_time": "2021-10-25T17:57:53.467Z"
   },
   {
    "duration": 597,
    "start_time": "2021-10-25T17:57:53.468Z"
   },
   {
    "duration": 596,
    "start_time": "2021-10-25T17:57:53.470Z"
   },
   {
    "duration": 593,
    "start_time": "2021-10-25T17:57:53.475Z"
   },
   {
    "duration": 592,
    "start_time": "2021-10-25T17:57:53.477Z"
   },
   {
    "duration": 591,
    "start_time": "2021-10-25T17:57:53.479Z"
   },
   {
    "duration": 591,
    "start_time": "2021-10-25T17:57:53.480Z"
   },
   {
    "duration": 590,
    "start_time": "2021-10-25T17:57:53.482Z"
   },
   {
    "duration": 590,
    "start_time": "2021-10-25T17:57:53.484Z"
   },
   {
    "duration": 589,
    "start_time": "2021-10-25T17:57:53.486Z"
   },
   {
    "duration": 589,
    "start_time": "2021-10-25T17:57:53.487Z"
   },
   {
    "duration": 585,
    "start_time": "2021-10-25T17:57:53.492Z"
   },
   {
    "duration": 585,
    "start_time": "2021-10-25T17:57:53.493Z"
   },
   {
    "duration": 601,
    "start_time": "2021-10-25T17:58:15.244Z"
   },
   {
    "duration": 623,
    "start_time": "2021-10-25T17:58:30.892Z"
   },
   {
    "duration": 573,
    "start_time": "2021-10-25T17:58:34.380Z"
   },
   {
    "duration": 219,
    "start_time": "2021-10-25T17:59:07.300Z"
   },
   {
    "duration": 58,
    "start_time": "2021-10-25T17:59:26.404Z"
   },
   {
    "duration": 521,
    "start_time": "2021-10-25T18:00:30.100Z"
   },
   {
    "duration": 662,
    "start_time": "2021-10-25T18:00:45.572Z"
   },
   {
    "duration": 9937,
    "start_time": "2021-10-25T18:00:59.773Z"
   },
   {
    "duration": 150,
    "start_time": "2021-10-25T18:01:19.726Z"
   },
   {
    "duration": 1887,
    "start_time": "2021-10-25T18:01:19.879Z"
   },
   {
    "duration": 44,
    "start_time": "2021-10-25T18:01:21.768Z"
   },
   {
    "duration": 78,
    "start_time": "2021-10-25T18:01:21.814Z"
   },
   {
    "duration": 16,
    "start_time": "2021-10-25T18:01:21.894Z"
   },
   {
    "duration": 18,
    "start_time": "2021-10-25T18:01:21.911Z"
   },
   {
    "duration": 1038,
    "start_time": "2021-10-25T18:01:21.931Z"
   },
   {
    "duration": 88,
    "start_time": "2021-10-25T18:01:22.971Z"
   },
   {
    "duration": 65,
    "start_time": "2021-10-25T18:01:23.062Z"
   },
   {
    "duration": 71,
    "start_time": "2021-10-25T18:01:23.129Z"
   },
   {
    "duration": 23,
    "start_time": "2021-10-25T18:01:23.202Z"
   },
   {
    "duration": 226,
    "start_time": "2021-10-25T18:01:23.227Z"
   },
   {
    "duration": 10377,
    "start_time": "2021-10-25T18:01:23.455Z"
   },
   {
    "duration": 619,
    "start_time": "2021-10-25T18:01:33.215Z"
   },
   {
    "duration": 618,
    "start_time": "2021-10-25T18:01:33.217Z"
   },
   {
    "duration": 618,
    "start_time": "2021-10-25T18:01:33.218Z"
   },
   {
    "duration": 618,
    "start_time": "2021-10-25T18:01:33.219Z"
   },
   {
    "duration": 618,
    "start_time": "2021-10-25T18:01:33.220Z"
   },
   {
    "duration": 617,
    "start_time": "2021-10-25T18:01:33.222Z"
   },
   {
    "duration": 617,
    "start_time": "2021-10-25T18:01:33.223Z"
   },
   {
    "duration": 617,
    "start_time": "2021-10-25T18:01:33.224Z"
   },
   {
    "duration": 617,
    "start_time": "2021-10-25T18:01:33.225Z"
   },
   {
    "duration": 616,
    "start_time": "2021-10-25T18:01:33.227Z"
   },
   {
    "duration": 616,
    "start_time": "2021-10-25T18:01:33.228Z"
   },
   {
    "duration": 615,
    "start_time": "2021-10-25T18:01:33.230Z"
   },
   {
    "duration": 614,
    "start_time": "2021-10-25T18:01:33.232Z"
   },
   {
    "duration": 613,
    "start_time": "2021-10-25T18:01:33.234Z"
   },
   {
    "duration": 606,
    "start_time": "2021-10-25T18:04:46.324Z"
   },
   {
    "duration": 271,
    "start_time": "2021-10-25T18:05:09.436Z"
   },
   {
    "duration": 362,
    "start_time": "2021-10-25T18:05:27.796Z"
   },
   {
    "duration": 261,
    "start_time": "2021-10-25T18:05:47.916Z"
   },
   {
    "duration": 258,
    "start_time": "2021-10-25T18:06:07.428Z"
   },
   {
    "duration": 260,
    "start_time": "2021-10-25T18:07:47.733Z"
   },
   {
    "duration": 311,
    "start_time": "2021-10-25T18:07:56.981Z"
   },
   {
    "duration": 274,
    "start_time": "2021-10-25T18:08:01.009Z"
   },
   {
    "duration": 143,
    "start_time": "2021-10-25T18:08:57.933Z"
   },
   {
    "duration": 1869,
    "start_time": "2021-10-25T18:08:58.078Z"
   },
   {
    "duration": 36,
    "start_time": "2021-10-25T18:08:59.949Z"
   },
   {
    "duration": 55,
    "start_time": "2021-10-25T18:08:59.987Z"
   },
   {
    "duration": 38,
    "start_time": "2021-10-25T18:09:00.043Z"
   },
   {
    "duration": 19,
    "start_time": "2021-10-25T18:09:00.082Z"
   },
   {
    "duration": 1105,
    "start_time": "2021-10-25T18:09:00.103Z"
   },
   {
    "duration": 95,
    "start_time": "2021-10-25T18:09:01.210Z"
   },
   {
    "duration": 46,
    "start_time": "2021-10-25T18:09:01.308Z"
   },
   {
    "duration": 71,
    "start_time": "2021-10-25T18:09:01.357Z"
   },
   {
    "duration": 25,
    "start_time": "2021-10-25T18:09:01.430Z"
   },
   {
    "duration": 224,
    "start_time": "2021-10-25T18:09:01.457Z"
   },
   {
    "duration": 272,
    "start_time": "2021-10-25T18:09:01.683Z"
   },
   {
    "duration": 5,
    "start_time": "2021-10-25T18:09:01.957Z"
   },
   {
    "duration": 25,
    "start_time": "2021-10-25T18:09:01.963Z"
   },
   {
    "duration": 63,
    "start_time": "2021-10-25T18:09:01.990Z"
   },
   {
    "duration": 276,
    "start_time": "2021-10-25T18:09:02.055Z"
   },
   {
    "duration": 10,
    "start_time": "2021-10-25T18:09:02.333Z"
   },
   {
    "duration": 29,
    "start_time": "2021-10-25T18:09:02.345Z"
   },
   {
    "duration": 1013,
    "start_time": "2021-10-25T18:09:02.376Z"
   },
   {
    "duration": 695,
    "start_time": "2021-10-25T18:09:03.390Z"
   },
   {
    "duration": 594,
    "start_time": "2021-10-25T18:09:04.087Z"
   },
   {
    "duration": 601,
    "start_time": "2021-10-25T18:09:04.683Z"
   },
   {
    "duration": 582,
    "start_time": "2021-10-25T18:09:05.286Z"
   },
   {
    "duration": 580,
    "start_time": "2021-10-25T18:09:05.870Z"
   },
   {
    "duration": 582,
    "start_time": "2021-10-25T18:09:06.452Z"
   },
   {
    "duration": 606,
    "start_time": "2021-10-25T18:09:07.037Z"
   },
   {
    "duration": 5269,
    "start_time": "2021-10-25T18:11:10.652Z"
   },
   {
    "duration": 4621,
    "start_time": "2021-10-25T18:11:18.004Z"
   },
   {
    "duration": 4545,
    "start_time": "2021-10-25T18:11:40.413Z"
   },
   {
    "duration": 142,
    "start_time": "2021-10-25T18:11:53.711Z"
   },
   {
    "duration": 1785,
    "start_time": "2021-10-25T18:11:53.855Z"
   },
   {
    "duration": 41,
    "start_time": "2021-10-25T18:11:55.642Z"
   },
   {
    "duration": 55,
    "start_time": "2021-10-25T18:11:55.685Z"
   },
   {
    "duration": 36,
    "start_time": "2021-10-25T18:11:55.742Z"
   },
   {
    "duration": 19,
    "start_time": "2021-10-25T18:11:55.780Z"
   },
   {
    "duration": 1008,
    "start_time": "2021-10-25T18:11:55.800Z"
   },
   {
    "duration": 87,
    "start_time": "2021-10-25T18:11:56.810Z"
   },
   {
    "duration": 52,
    "start_time": "2021-10-25T18:11:56.900Z"
   },
   {
    "duration": 77,
    "start_time": "2021-10-25T18:11:56.954Z"
   },
   {
    "duration": 23,
    "start_time": "2021-10-25T18:11:57.033Z"
   },
   {
    "duration": 223,
    "start_time": "2021-10-25T18:11:57.058Z"
   },
   {
    "duration": 276,
    "start_time": "2021-10-25T18:11:57.283Z"
   },
   {
    "duration": 17,
    "start_time": "2021-10-25T18:11:57.561Z"
   },
   {
    "duration": 5,
    "start_time": "2021-10-25T18:11:57.581Z"
   },
   {
    "duration": 4644,
    "start_time": "2021-10-25T18:11:57.588Z"
   },
   {
    "duration": 606,
    "start_time": "2021-10-25T18:12:01.628Z"
   },
   {
    "duration": 605,
    "start_time": "2021-10-25T18:12:01.630Z"
   },
   {
    "duration": 605,
    "start_time": "2021-10-25T18:12:01.631Z"
   },
   {
    "duration": 606,
    "start_time": "2021-10-25T18:12:01.632Z"
   },
   {
    "duration": 606,
    "start_time": "2021-10-25T18:12:01.633Z"
   },
   {
    "duration": 605,
    "start_time": "2021-10-25T18:12:01.635Z"
   },
   {
    "duration": 605,
    "start_time": "2021-10-25T18:12:01.636Z"
   },
   {
    "duration": 604,
    "start_time": "2021-10-25T18:12:01.638Z"
   },
   {
    "duration": 604,
    "start_time": "2021-10-25T18:12:01.639Z"
   },
   {
    "duration": 603,
    "start_time": "2021-10-25T18:12:01.641Z"
   },
   {
    "duration": 603,
    "start_time": "2021-10-25T18:12:01.642Z"
   },
   {
    "duration": 603,
    "start_time": "2021-10-25T18:12:01.643Z"
   },
   {
    "duration": 9684,
    "start_time": "2021-10-25T18:14:05.284Z"
   },
   {
    "duration": 357,
    "start_time": "2021-10-25T18:15:30.604Z"
   },
   {
    "duration": 1812,
    "start_time": "2021-10-25T18:15:45.404Z"
   },
   {
    "duration": 554,
    "start_time": "2021-10-25T18:16:09.532Z"
   },
   {
    "duration": 723,
    "start_time": "2021-10-25T18:16:15.500Z"
   },
   {
    "duration": 590,
    "start_time": "2021-10-25T18:17:58.477Z"
   },
   {
    "duration": 572,
    "start_time": "2021-10-25T18:18:18.797Z"
   },
   {
    "duration": 11290,
    "start_time": "2021-10-25T18:18:46.125Z"
   },
   {
    "duration": 558,
    "start_time": "2021-10-25T18:19:08.272Z"
   },
   {
    "duration": 12908,
    "start_time": "2021-10-25T18:20:31.892Z"
   },
   {
    "duration": 143,
    "start_time": "2021-10-25T18:20:46.116Z"
   },
   {
    "duration": 1611,
    "start_time": "2021-10-25T18:20:46.261Z"
   },
   {
    "duration": 33,
    "start_time": "2021-10-25T18:20:47.874Z"
   },
   {
    "duration": 71,
    "start_time": "2021-10-25T18:20:47.909Z"
   },
   {
    "duration": 15,
    "start_time": "2021-10-25T18:20:47.982Z"
   },
   {
    "duration": 21,
    "start_time": "2021-10-25T18:20:47.999Z"
   },
   {
    "duration": 1150,
    "start_time": "2021-10-25T18:20:48.022Z"
   },
   {
    "duration": 84,
    "start_time": "2021-10-25T18:20:49.173Z"
   },
   {
    "duration": 50,
    "start_time": "2021-10-25T18:20:49.259Z"
   },
   {
    "duration": 83,
    "start_time": "2021-10-25T18:20:49.311Z"
   },
   {
    "duration": 24,
    "start_time": "2021-10-25T18:20:49.395Z"
   },
   {
    "duration": 256,
    "start_time": "2021-10-25T18:20:49.421Z"
   },
   {
    "duration": 307,
    "start_time": "2021-10-25T18:20:49.679Z"
   },
   {
    "duration": 6,
    "start_time": "2021-10-25T18:20:49.988Z"
   },
   {
    "duration": 10,
    "start_time": "2021-10-25T18:20:49.996Z"
   },
   {
    "duration": 10646,
    "start_time": "2021-10-25T18:20:50.008Z"
   },
   {
    "duration": 598,
    "start_time": "2021-10-25T18:21:00.058Z"
   },
   {
    "duration": 597,
    "start_time": "2021-10-25T18:21:00.060Z"
   },
   {
    "duration": 596,
    "start_time": "2021-10-25T18:21:00.062Z"
   },
   {
    "duration": 596,
    "start_time": "2021-10-25T18:21:00.063Z"
   },
   {
    "duration": 595,
    "start_time": "2021-10-25T18:21:00.065Z"
   },
   {
    "duration": 595,
    "start_time": "2021-10-25T18:21:00.066Z"
   },
   {
    "duration": 595,
    "start_time": "2021-10-25T18:21:00.067Z"
   },
   {
    "duration": 594,
    "start_time": "2021-10-25T18:21:00.069Z"
   },
   {
    "duration": 594,
    "start_time": "2021-10-25T18:21:00.070Z"
   },
   {
    "duration": 594,
    "start_time": "2021-10-25T18:21:00.071Z"
   },
   {
    "duration": 591,
    "start_time": "2021-10-25T18:21:00.075Z"
   },
   {
    "duration": 591,
    "start_time": "2021-10-25T18:21:00.076Z"
   },
   {
    "duration": 10027,
    "start_time": "2021-10-25T18:21:25.293Z"
   },
   {
    "duration": 1108,
    "start_time": "2021-10-25T18:22:04.469Z"
   },
   {
    "duration": 1762,
    "start_time": "2021-10-25T18:22:45.637Z"
   },
   {
    "duration": 9419,
    "start_time": "2021-10-25T18:23:08.316Z"
   },
   {
    "duration": 9656,
    "start_time": "2021-10-25T18:23:41.084Z"
   },
   {
    "duration": 9445,
    "start_time": "2021-10-25T18:24:08.413Z"
   },
   {
    "duration": 725,
    "start_time": "2021-10-25T18:24:33.588Z"
   },
   {
    "duration": 563,
    "start_time": "2021-10-25T18:24:41.917Z"
   },
   {
    "duration": 153,
    "start_time": "2021-10-25T18:24:57.826Z"
   },
   {
    "duration": 1595,
    "start_time": "2021-10-25T18:24:57.981Z"
   },
   {
    "duration": 33,
    "start_time": "2021-10-25T18:24:59.578Z"
   },
   {
    "duration": 77,
    "start_time": "2021-10-25T18:24:59.613Z"
   },
   {
    "duration": 18,
    "start_time": "2021-10-25T18:24:59.692Z"
   },
   {
    "duration": 19,
    "start_time": "2021-10-25T18:24:59.711Z"
   },
   {
    "duration": 1149,
    "start_time": "2021-10-25T18:24:59.732Z"
   },
   {
    "duration": 92,
    "start_time": "2021-10-25T18:25:00.884Z"
   },
   {
    "duration": 46,
    "start_time": "2021-10-25T18:25:00.979Z"
   },
   {
    "duration": 72,
    "start_time": "2021-10-25T18:25:01.027Z"
   },
   {
    "duration": 23,
    "start_time": "2021-10-25T18:25:01.101Z"
   },
   {
    "duration": 220,
    "start_time": "2021-10-25T18:25:01.125Z"
   },
   {
    "duration": 278,
    "start_time": "2021-10-25T18:25:01.347Z"
   },
   {
    "duration": 5,
    "start_time": "2021-10-25T18:25:01.627Z"
   },
   {
    "duration": 16,
    "start_time": "2021-10-25T18:25:01.634Z"
   },
   {
    "duration": 595,
    "start_time": "2021-10-25T18:25:01.653Z"
   },
   {
    "duration": 62,
    "start_time": "2021-10-25T18:25:02.249Z"
   },
   {
    "duration": 304,
    "start_time": "2021-10-25T18:25:02.312Z"
   },
   {
    "duration": 10,
    "start_time": "2021-10-25T18:25:02.618Z"
   },
   {
    "duration": 13,
    "start_time": "2021-10-25T18:25:02.629Z"
   },
   {
    "duration": 594,
    "start_time": "2021-10-25T18:25:02.644Z"
   },
   {
    "duration": 598,
    "start_time": "2021-10-25T18:25:03.240Z"
   },
   {
    "duration": 626,
    "start_time": "2021-10-25T18:25:03.842Z"
   },
   {
    "duration": 609,
    "start_time": "2021-10-25T18:25:04.469Z"
   },
   {
    "duration": 619,
    "start_time": "2021-10-25T18:25:05.080Z"
   },
   {
    "duration": 601,
    "start_time": "2021-10-25T18:25:05.701Z"
   },
   {
    "duration": 469,
    "start_time": "2021-10-25T18:25:06.304Z"
   },
   {
    "duration": 682,
    "start_time": "2021-10-25T18:25:06.776Z"
   },
   {
    "duration": 751,
    "start_time": "2021-10-25T18:29:40.077Z"
   },
   {
    "duration": 9535,
    "start_time": "2021-10-25T18:30:38.301Z"
   },
   {
    "duration": 667,
    "start_time": "2021-10-25T18:31:10.044Z"
   },
   {
    "duration": 9097,
    "start_time": "2021-10-25T18:31:25.140Z"
   },
   {
    "duration": 504,
    "start_time": "2021-10-25T18:31:53.901Z"
   },
   {
    "duration": 732,
    "start_time": "2021-10-25T18:34:00.813Z"
   },
   {
    "duration": 145,
    "start_time": "2021-10-25T18:34:25.194Z"
   },
   {
    "duration": 1637,
    "start_time": "2021-10-25T18:34:25.341Z"
   },
   {
    "duration": 34,
    "start_time": "2021-10-25T18:34:26.981Z"
   },
   {
    "duration": 78,
    "start_time": "2021-10-25T18:34:27.017Z"
   },
   {
    "duration": 18,
    "start_time": "2021-10-25T18:34:27.098Z"
   },
   {
    "duration": 20,
    "start_time": "2021-10-25T18:34:27.118Z"
   },
   {
    "duration": 1038,
    "start_time": "2021-10-25T18:34:27.140Z"
   },
   {
    "duration": 80,
    "start_time": "2021-10-25T18:34:28.181Z"
   },
   {
    "duration": 48,
    "start_time": "2021-10-25T18:34:28.276Z"
   },
   {
    "duration": 73,
    "start_time": "2021-10-25T18:34:28.326Z"
   },
   {
    "duration": 25,
    "start_time": "2021-10-25T18:34:28.400Z"
   },
   {
    "duration": 360,
    "start_time": "2021-10-25T18:34:28.426Z"
   },
   {
    "duration": 512,
    "start_time": "2021-10-25T18:34:28.787Z"
   },
   {
    "duration": 5,
    "start_time": "2021-10-25T18:34:29.301Z"
   },
   {
    "duration": 6,
    "start_time": "2021-10-25T18:34:29.308Z"
   },
   {
    "duration": 581,
    "start_time": "2021-10-25T18:34:29.316Z"
   },
   {
    "duration": 48,
    "start_time": "2021-10-25T18:34:29.898Z"
   },
   {
    "duration": 318,
    "start_time": "2021-10-25T18:34:29.948Z"
   },
   {
    "duration": 15,
    "start_time": "2021-10-25T18:34:30.268Z"
   },
   {
    "duration": 32,
    "start_time": "2021-10-25T18:34:30.285Z"
   },
   {
    "duration": 606,
    "start_time": "2021-10-25T18:34:30.319Z"
   },
   {
    "duration": 604,
    "start_time": "2021-10-25T18:34:30.927Z"
   },
   {
    "duration": 618,
    "start_time": "2021-10-25T18:34:31.535Z"
   },
   {
    "duration": 616,
    "start_time": "2021-10-25T18:34:32.155Z"
   },
   {
    "duration": 443,
    "start_time": "2021-10-25T18:34:32.773Z"
   },
   {
    "duration": 626,
    "start_time": "2021-10-25T18:34:33.217Z"
   },
   {
    "duration": 610,
    "start_time": "2021-10-25T18:34:33.845Z"
   },
   {
    "duration": 595,
    "start_time": "2021-10-25T18:34:34.457Z"
   },
   {
    "duration": 608,
    "start_time": "2021-10-25T18:37:55.076Z"
   },
   {
    "duration": 678,
    "start_time": "2021-10-25T18:38:38.292Z"
   },
   {
    "duration": 1242,
    "start_time": "2021-10-25T18:38:55.213Z"
   },
   {
    "duration": 671,
    "start_time": "2021-10-25T18:39:49.533Z"
   },
   {
    "duration": 9368,
    "start_time": "2021-10-25T18:40:18.948Z"
   },
   {
    "duration": 9680,
    "start_time": "2021-10-25T18:40:50.403Z"
   },
   {
    "duration": 366,
    "start_time": "2021-10-25T18:41:35.949Z"
   },
   {
    "duration": 120,
    "start_time": "2021-10-25T18:41:49.324Z"
   },
   {
    "duration": 672,
    "start_time": "2021-10-25T18:41:57.492Z"
   },
   {
    "duration": 20,
    "start_time": "2021-10-25T18:43:47.764Z"
   },
   {
    "duration": 329,
    "start_time": "2021-10-25T18:44:30.972Z"
   },
   {
    "duration": 286,
    "start_time": "2021-10-25T18:49:35.324Z"
   },
   {
    "duration": 1725,
    "start_time": "2021-10-25T18:51:41.193Z"
   },
   {
    "duration": 1705,
    "start_time": "2021-10-25T18:51:42.921Z"
   },
   {
    "duration": 32,
    "start_time": "2021-10-25T18:51:44.628Z"
   },
   {
    "duration": 56,
    "start_time": "2021-10-25T18:51:44.677Z"
   },
   {
    "duration": 18,
    "start_time": "2021-10-25T18:51:44.735Z"
   },
   {
    "duration": 19,
    "start_time": "2021-10-25T18:51:44.776Z"
   },
   {
    "duration": 1014,
    "start_time": "2021-10-25T18:51:44.797Z"
   },
   {
    "duration": 92,
    "start_time": "2021-10-25T18:51:45.814Z"
   },
   {
    "duration": 47,
    "start_time": "2021-10-25T18:51:45.909Z"
   },
   {
    "duration": 74,
    "start_time": "2021-10-25T18:51:45.958Z"
   },
   {
    "duration": 24,
    "start_time": "2021-10-25T18:51:46.033Z"
   },
   {
    "duration": 236,
    "start_time": "2021-10-25T18:51:46.058Z"
   },
   {
    "duration": 789,
    "start_time": "2021-10-25T18:51:46.296Z"
   },
   {
    "duration": 614,
    "start_time": "2021-10-25T18:51:46.474Z"
   },
   {
    "duration": 614,
    "start_time": "2021-10-25T18:51:46.475Z"
   },
   {
    "duration": 614,
    "start_time": "2021-10-25T18:51:46.477Z"
   },
   {
    "duration": 611,
    "start_time": "2021-10-25T18:51:46.481Z"
   },
   {
    "duration": 610,
    "start_time": "2021-10-25T18:51:46.483Z"
   },
   {
    "duration": 610,
    "start_time": "2021-10-25T18:51:46.485Z"
   },
   {
    "duration": 610,
    "start_time": "2021-10-25T18:51:46.486Z"
   },
   {
    "duration": 610,
    "start_time": "2021-10-25T18:51:46.488Z"
   },
   {
    "duration": 608,
    "start_time": "2021-10-25T18:51:46.491Z"
   },
   {
    "duration": 609,
    "start_time": "2021-10-25T18:51:46.492Z"
   },
   {
    "duration": 609,
    "start_time": "2021-10-25T18:51:46.493Z"
   },
   {
    "duration": 609,
    "start_time": "2021-10-25T18:51:46.495Z"
   },
   {
    "duration": 608,
    "start_time": "2021-10-25T18:51:46.497Z"
   },
   {
    "duration": 608,
    "start_time": "2021-10-25T18:51:46.498Z"
   },
   {
    "duration": 623,
    "start_time": "2021-10-25T18:52:20.063Z"
   },
   {
    "duration": 607,
    "start_time": "2021-10-25T18:52:38.454Z"
   },
   {
    "duration": 653,
    "start_time": "2021-10-25T18:52:45.063Z"
   },
   {
    "duration": 1825,
    "start_time": "2021-10-25T18:52:52.301Z"
   },
   {
    "duration": 1698,
    "start_time": "2021-10-25T18:52:54.128Z"
   },
   {
    "duration": 31,
    "start_time": "2021-10-25T18:52:55.828Z"
   },
   {
    "duration": 64,
    "start_time": "2021-10-25T18:52:55.861Z"
   },
   {
    "duration": 16,
    "start_time": "2021-10-25T18:52:55.927Z"
   },
   {
    "duration": 43,
    "start_time": "2021-10-25T18:52:55.944Z"
   },
   {
    "duration": 1023,
    "start_time": "2021-10-25T18:52:55.989Z"
   },
   {
    "duration": 95,
    "start_time": "2021-10-25T18:52:57.015Z"
   },
   {
    "duration": 47,
    "start_time": "2021-10-25T18:52:57.112Z"
   },
   {
    "duration": 71,
    "start_time": "2021-10-25T18:52:57.161Z"
   },
   {
    "duration": 24,
    "start_time": "2021-10-25T18:52:57.234Z"
   },
   {
    "duration": 295,
    "start_time": "2021-10-25T18:52:57.260Z"
   },
   {
    "duration": 736,
    "start_time": "2021-10-25T18:52:57.557Z"
   },
   {
    "duration": 614,
    "start_time": "2021-10-25T18:52:57.681Z"
   },
   {
    "duration": 613,
    "start_time": "2021-10-25T18:52:57.683Z"
   },
   {
    "duration": 613,
    "start_time": "2021-10-25T18:52:57.684Z"
   },
   {
    "duration": 611,
    "start_time": "2021-10-25T18:52:57.686Z"
   },
   {
    "duration": 611,
    "start_time": "2021-10-25T18:52:57.687Z"
   },
   {
    "duration": 611,
    "start_time": "2021-10-25T18:52:57.689Z"
   },
   {
    "duration": 608,
    "start_time": "2021-10-25T18:52:57.693Z"
   },
   {
    "duration": 607,
    "start_time": "2021-10-25T18:52:57.695Z"
   },
   {
    "duration": 606,
    "start_time": "2021-10-25T18:52:57.696Z"
   },
   {
    "duration": 606,
    "start_time": "2021-10-25T18:52:57.697Z"
   },
   {
    "duration": 605,
    "start_time": "2021-10-25T18:52:57.699Z"
   },
   {
    "duration": 605,
    "start_time": "2021-10-25T18:52:57.700Z"
   },
   {
    "duration": 605,
    "start_time": "2021-10-25T18:52:57.701Z"
   },
   {
    "duration": 605,
    "start_time": "2021-10-25T18:52:57.702Z"
   },
   {
    "duration": 153,
    "start_time": "2021-10-25T18:53:16.211Z"
   },
   {
    "duration": 1681,
    "start_time": "2021-10-25T18:53:16.366Z"
   },
   {
    "duration": 40,
    "start_time": "2021-10-25T18:53:18.049Z"
   },
   {
    "duration": 57,
    "start_time": "2021-10-25T18:53:18.091Z"
   },
   {
    "duration": 36,
    "start_time": "2021-10-25T18:53:18.149Z"
   },
   {
    "duration": 18,
    "start_time": "2021-10-25T18:53:18.187Z"
   },
   {
    "duration": 1012,
    "start_time": "2021-10-25T18:53:18.207Z"
   },
   {
    "duration": 87,
    "start_time": "2021-10-25T18:53:19.222Z"
   },
   {
    "duration": 47,
    "start_time": "2021-10-25T18:53:19.311Z"
   },
   {
    "duration": 71,
    "start_time": "2021-10-25T18:53:19.360Z"
   },
   {
    "duration": 25,
    "start_time": "2021-10-25T18:53:19.433Z"
   },
   {
    "duration": 213,
    "start_time": "2021-10-25T18:53:19.478Z"
   },
   {
    "duration": 625,
    "start_time": "2021-10-25T18:53:19.693Z"
   },
   {
    "duration": 624,
    "start_time": "2021-10-25T18:53:19.696Z"
   },
   {
    "duration": 624,
    "start_time": "2021-10-25T18:53:19.697Z"
   },
   {
    "duration": 623,
    "start_time": "2021-10-25T18:53:19.699Z"
   },
   {
    "duration": 624,
    "start_time": "2021-10-25T18:53:19.700Z"
   },
   {
    "duration": 621,
    "start_time": "2021-10-25T18:53:19.704Z"
   },
   {
    "duration": 621,
    "start_time": "2021-10-25T18:53:19.705Z"
   },
   {
    "duration": 620,
    "start_time": "2021-10-25T18:53:19.707Z"
   },
   {
    "duration": 616,
    "start_time": "2021-10-25T18:53:19.712Z"
   },
   {
    "duration": 615,
    "start_time": "2021-10-25T18:53:19.714Z"
   },
   {
    "duration": 615,
    "start_time": "2021-10-25T18:53:19.715Z"
   },
   {
    "duration": 615,
    "start_time": "2021-10-25T18:53:19.717Z"
   },
   {
    "duration": 615,
    "start_time": "2021-10-25T18:53:19.718Z"
   },
   {
    "duration": 615,
    "start_time": "2021-10-25T18:53:19.719Z"
   },
   {
    "duration": 615,
    "start_time": "2021-10-25T18:53:19.720Z"
   },
   {
    "duration": 1841,
    "start_time": "2021-10-25T18:53:42.989Z"
   },
   {
    "duration": 1767,
    "start_time": "2021-10-25T18:53:44.832Z"
   },
   {
    "duration": 45,
    "start_time": "2021-10-25T18:53:46.601Z"
   },
   {
    "duration": 91,
    "start_time": "2021-10-25T18:53:46.648Z"
   },
   {
    "duration": 36,
    "start_time": "2021-10-25T18:53:46.741Z"
   },
   {
    "duration": 21,
    "start_time": "2021-10-25T18:53:46.779Z"
   },
   {
    "duration": 1120,
    "start_time": "2021-10-25T18:53:46.803Z"
   },
   {
    "duration": 91,
    "start_time": "2021-10-25T18:53:47.926Z"
   },
   {
    "duration": 47,
    "start_time": "2021-10-25T18:53:48.019Z"
   },
   {
    "duration": 59,
    "start_time": "2021-10-25T18:53:48.077Z"
   },
   {
    "duration": 40,
    "start_time": "2021-10-25T18:53:48.138Z"
   },
   {
    "duration": 295,
    "start_time": "2021-10-25T18:53:48.180Z"
   },
   {
    "duration": 842,
    "start_time": "2021-10-25T18:53:48.477Z"
   },
   {
    "duration": 617,
    "start_time": "2021-10-25T18:53:48.704Z"
   },
   {
    "duration": 616,
    "start_time": "2021-10-25T18:53:48.706Z"
   },
   {
    "duration": 615,
    "start_time": "2021-10-25T18:53:48.708Z"
   },
   {
    "duration": 616,
    "start_time": "2021-10-25T18:53:48.709Z"
   },
   {
    "duration": 615,
    "start_time": "2021-10-25T18:53:48.710Z"
   },
   {
    "duration": 614,
    "start_time": "2021-10-25T18:53:48.712Z"
   },
   {
    "duration": 615,
    "start_time": "2021-10-25T18:53:48.713Z"
   },
   {
    "duration": 614,
    "start_time": "2021-10-25T18:53:48.714Z"
   },
   {
    "duration": 613,
    "start_time": "2021-10-25T18:53:48.716Z"
   },
   {
    "duration": 610,
    "start_time": "2021-10-25T18:53:48.721Z"
   },
   {
    "duration": 609,
    "start_time": "2021-10-25T18:53:48.722Z"
   },
   {
    "duration": 608,
    "start_time": "2021-10-25T18:53:48.724Z"
   },
   {
    "duration": 608,
    "start_time": "2021-10-25T18:53:48.725Z"
   },
   {
    "duration": 607,
    "start_time": "2021-10-25T18:53:48.727Z"
   },
   {
    "duration": 1764,
    "start_time": "2021-10-25T18:55:22.826Z"
   },
   {
    "duration": 1790,
    "start_time": "2021-10-25T18:55:24.592Z"
   },
   {
    "duration": 32,
    "start_time": "2021-10-25T18:55:26.384Z"
   },
   {
    "duration": 80,
    "start_time": "2021-10-25T18:55:26.419Z"
   },
   {
    "duration": 19,
    "start_time": "2021-10-25T18:55:26.501Z"
   },
   {
    "duration": 21,
    "start_time": "2021-10-25T18:55:26.522Z"
   },
   {
    "duration": 1054,
    "start_time": "2021-10-25T18:55:26.545Z"
   },
   {
    "duration": 95,
    "start_time": "2021-10-25T18:55:27.602Z"
   },
   {
    "duration": 49,
    "start_time": "2021-10-25T18:55:27.700Z"
   },
   {
    "duration": 80,
    "start_time": "2021-10-25T18:55:27.752Z"
   },
   {
    "duration": 25,
    "start_time": "2021-10-25T18:55:27.834Z"
   },
   {
    "duration": 325,
    "start_time": "2021-10-25T18:55:27.876Z"
   },
   {
    "duration": 1012,
    "start_time": "2021-10-25T18:55:28.203Z"
   },
   {
    "duration": 627,
    "start_time": "2021-10-25T18:55:28.590Z"
   },
   {
    "duration": 627,
    "start_time": "2021-10-25T18:55:28.591Z"
   },
   {
    "duration": 623,
    "start_time": "2021-10-25T18:55:28.596Z"
   },
   {
    "duration": 623,
    "start_time": "2021-10-25T18:55:28.597Z"
   },
   {
    "duration": 623,
    "start_time": "2021-10-25T18:55:28.598Z"
   },
   {
    "duration": 622,
    "start_time": "2021-10-25T18:55:28.600Z"
   },
   {
    "duration": 622,
    "start_time": "2021-10-25T18:55:28.601Z"
   },
   {
    "duration": 623,
    "start_time": "2021-10-25T18:55:28.602Z"
   },
   {
    "duration": 622,
    "start_time": "2021-10-25T18:55:28.604Z"
   },
   {
    "duration": 621,
    "start_time": "2021-10-25T18:55:28.606Z"
   },
   {
    "duration": 617,
    "start_time": "2021-10-25T18:55:28.611Z"
   },
   {
    "duration": 617,
    "start_time": "2021-10-25T18:55:28.612Z"
   },
   {
    "duration": 616,
    "start_time": "2021-10-25T18:55:28.614Z"
   },
   {
    "duration": 616,
    "start_time": "2021-10-25T18:55:28.615Z"
   },
   {
    "duration": 157,
    "start_time": "2021-10-25T18:55:48.963Z"
   },
   {
    "duration": 1718,
    "start_time": "2021-10-25T18:55:49.122Z"
   },
   {
    "duration": 36,
    "start_time": "2021-10-25T18:55:50.842Z"
   },
   {
    "duration": 58,
    "start_time": "2021-10-25T18:55:50.880Z"
   },
   {
    "duration": 41,
    "start_time": "2021-10-25T18:55:50.940Z"
   },
   {
    "duration": 19,
    "start_time": "2021-10-25T18:55:50.982Z"
   },
   {
    "duration": 1052,
    "start_time": "2021-10-25T18:55:51.003Z"
   },
   {
    "duration": 89,
    "start_time": "2021-10-25T18:55:52.058Z"
   },
   {
    "duration": 52,
    "start_time": "2021-10-25T18:55:52.150Z"
   },
   {
    "duration": 57,
    "start_time": "2021-10-25T18:55:52.204Z"
   },
   {
    "duration": 26,
    "start_time": "2021-10-25T18:55:52.277Z"
   },
   {
    "duration": 371,
    "start_time": "2021-10-25T18:55:52.305Z"
   },
   {
    "duration": 753,
    "start_time": "2021-10-25T18:55:52.678Z"
   },
   {
    "duration": 628,
    "start_time": "2021-10-25T18:55:52.805Z"
   },
   {
    "duration": 628,
    "start_time": "2021-10-25T18:55:52.806Z"
   },
   {
    "duration": 628,
    "start_time": "2021-10-25T18:55:52.808Z"
   },
   {
    "duration": 628,
    "start_time": "2021-10-25T18:55:52.809Z"
   },
   {
    "duration": 624,
    "start_time": "2021-10-25T18:55:52.814Z"
   },
   {
    "duration": 624,
    "start_time": "2021-10-25T18:55:52.816Z"
   },
   {
    "duration": 624,
    "start_time": "2021-10-25T18:55:52.817Z"
   },
   {
    "duration": 624,
    "start_time": "2021-10-25T18:55:52.818Z"
   },
   {
    "duration": 624,
    "start_time": "2021-10-25T18:55:52.819Z"
   },
   {
    "duration": 624,
    "start_time": "2021-10-25T18:55:52.821Z"
   },
   {
    "duration": 623,
    "start_time": "2021-10-25T18:55:52.823Z"
   },
   {
    "duration": 623,
    "start_time": "2021-10-25T18:55:52.824Z"
   },
   {
    "duration": 623,
    "start_time": "2021-10-25T18:55:52.825Z"
   },
   {
    "duration": 623,
    "start_time": "2021-10-25T18:55:52.827Z"
   },
   {
    "duration": 705,
    "start_time": "2021-10-25T18:56:13.023Z"
   },
   {
    "duration": 1765,
    "start_time": "2021-10-25T18:57:12.683Z"
   },
   {
    "duration": 1826,
    "start_time": "2021-10-25T18:57:14.450Z"
   },
   {
    "duration": 52,
    "start_time": "2021-10-25T18:57:16.279Z"
   },
   {
    "duration": 94,
    "start_time": "2021-10-25T18:57:16.334Z"
   },
   {
    "duration": 16,
    "start_time": "2021-10-25T18:57:16.430Z"
   },
   {
    "duration": 46,
    "start_time": "2021-10-25T18:57:16.448Z"
   },
   {
    "duration": 1021,
    "start_time": "2021-10-25T18:57:16.496Z"
   },
   {
    "duration": 95,
    "start_time": "2021-10-25T18:57:17.521Z"
   },
   {
    "duration": 61,
    "start_time": "2021-10-25T18:57:17.618Z"
   },
   {
    "duration": 57,
    "start_time": "2021-10-25T18:57:17.681Z"
   },
   {
    "duration": 39,
    "start_time": "2021-10-25T18:57:17.739Z"
   },
   {
    "duration": 224,
    "start_time": "2021-10-25T18:57:17.780Z"
   },
   {
    "duration": 1420,
    "start_time": "2021-10-25T18:57:18.006Z"
   },
   {
    "duration": 602,
    "start_time": "2021-10-25T18:57:18.826Z"
   },
   {
    "duration": 602,
    "start_time": "2021-10-25T18:57:18.827Z"
   },
   {
    "duration": 602,
    "start_time": "2021-10-25T18:57:18.828Z"
   },
   {
    "duration": 602,
    "start_time": "2021-10-25T18:57:18.830Z"
   },
   {
    "duration": 602,
    "start_time": "2021-10-25T18:57:18.831Z"
   },
   {
    "duration": 602,
    "start_time": "2021-10-25T18:57:18.832Z"
   },
   {
    "duration": 602,
    "start_time": "2021-10-25T18:57:18.833Z"
   },
   {
    "duration": 601,
    "start_time": "2021-10-25T18:57:18.835Z"
   },
   {
    "duration": 601,
    "start_time": "2021-10-25T18:57:18.836Z"
   },
   {
    "duration": 601,
    "start_time": "2021-10-25T18:57:18.837Z"
   },
   {
    "duration": 600,
    "start_time": "2021-10-25T18:57:18.839Z"
   },
   {
    "duration": 601,
    "start_time": "2021-10-25T18:57:18.840Z"
   },
   {
    "duration": 601,
    "start_time": "2021-10-25T18:57:18.841Z"
   },
   {
    "duration": 600,
    "start_time": "2021-10-25T18:57:18.843Z"
   },
   {
    "duration": 1756,
    "start_time": "2021-10-25T18:58:26.589Z"
   },
   {
    "duration": 1808,
    "start_time": "2021-10-25T18:58:28.347Z"
   },
   {
    "duration": 39,
    "start_time": "2021-10-25T18:58:30.157Z"
   },
   {
    "duration": 78,
    "start_time": "2021-10-25T18:58:30.198Z"
   },
   {
    "duration": 17,
    "start_time": "2021-10-25T18:58:30.278Z"
   },
   {
    "duration": 21,
    "start_time": "2021-10-25T18:58:30.298Z"
   },
   {
    "duration": 1014,
    "start_time": "2021-10-25T18:58:30.321Z"
   },
   {
    "duration": 93,
    "start_time": "2021-10-25T18:58:31.338Z"
   },
   {
    "duration": 56,
    "start_time": "2021-10-25T18:58:31.434Z"
   },
   {
    "duration": 60,
    "start_time": "2021-10-25T18:58:31.492Z"
   },
   {
    "duration": 40,
    "start_time": "2021-10-25T18:58:31.554Z"
   },
   {
    "duration": 218,
    "start_time": "2021-10-25T18:58:31.595Z"
   },
   {
    "duration": 1822,
    "start_time": "2021-10-25T18:58:31.815Z"
   },
   {
    "duration": 624,
    "start_time": "2021-10-25T18:58:33.016Z"
   },
   {
    "duration": 623,
    "start_time": "2021-10-25T18:58:33.018Z"
   },
   {
    "duration": 623,
    "start_time": "2021-10-25T18:58:33.019Z"
   },
   {
    "duration": 621,
    "start_time": "2021-10-25T18:58:33.022Z"
   },
   {
    "duration": 620,
    "start_time": "2021-10-25T18:58:33.024Z"
   },
   {
    "duration": 620,
    "start_time": "2021-10-25T18:58:33.025Z"
   },
   {
    "duration": 620,
    "start_time": "2021-10-25T18:58:33.026Z"
   },
   {
    "duration": 619,
    "start_time": "2021-10-25T18:58:33.028Z"
   },
   {
    "duration": 619,
    "start_time": "2021-10-25T18:58:33.029Z"
   },
   {
    "duration": 614,
    "start_time": "2021-10-25T18:58:33.035Z"
   },
   {
    "duration": 612,
    "start_time": "2021-10-25T18:58:33.038Z"
   },
   {
    "duration": 611,
    "start_time": "2021-10-25T18:58:33.039Z"
   },
   {
    "duration": 610,
    "start_time": "2021-10-25T18:58:33.041Z"
   },
   {
    "duration": 610,
    "start_time": "2021-10-25T18:58:33.042Z"
   },
   {
    "duration": 387,
    "start_time": "2021-10-25T18:58:57.813Z"
   },
   {
    "duration": 1817,
    "start_time": "2021-10-25T18:59:07.038Z"
   },
   {
    "duration": 1700,
    "start_time": "2021-10-25T18:59:08.858Z"
   },
   {
    "duration": 36,
    "start_time": "2021-10-25T18:59:10.560Z"
   },
   {
    "duration": 99,
    "start_time": "2021-10-25T18:59:10.598Z"
   },
   {
    "duration": 24,
    "start_time": "2021-10-25T18:59:10.699Z"
   },
   {
    "duration": 51,
    "start_time": "2021-10-25T18:59:10.726Z"
   },
   {
    "duration": 1553,
    "start_time": "2021-10-25T18:59:10.779Z"
   },
   {
    "duration": 93,
    "start_time": "2021-10-25T18:59:12.336Z"
   },
   {
    "duration": 56,
    "start_time": "2021-10-25T18:59:12.431Z"
   },
   {
    "duration": 62,
    "start_time": "2021-10-25T18:59:12.489Z"
   },
   {
    "duration": 41,
    "start_time": "2021-10-25T18:59:12.553Z"
   },
   {
    "duration": 224,
    "start_time": "2021-10-25T18:59:12.596Z"
   },
   {
    "duration": 1799,
    "start_time": "2021-10-25T18:59:12.822Z"
   },
   {
    "duration": 626,
    "start_time": "2021-10-25T18:59:13.997Z"
   },
   {
    "duration": 626,
    "start_time": "2021-10-25T18:59:13.998Z"
   },
   {
    "duration": 623,
    "start_time": "2021-10-25T18:59:14.002Z"
   },
   {
    "duration": 622,
    "start_time": "2021-10-25T18:59:14.004Z"
   },
   {
    "duration": 621,
    "start_time": "2021-10-25T18:59:14.006Z"
   },
   {
    "duration": 620,
    "start_time": "2021-10-25T18:59:14.008Z"
   },
   {
    "duration": 620,
    "start_time": "2021-10-25T18:59:14.009Z"
   },
   {
    "duration": 620,
    "start_time": "2021-10-25T18:59:14.010Z"
   },
   {
    "duration": 621,
    "start_time": "2021-10-25T18:59:14.011Z"
   },
   {
    "duration": 618,
    "start_time": "2021-10-25T18:59:14.015Z"
   },
   {
    "duration": 617,
    "start_time": "2021-10-25T18:59:14.017Z"
   },
   {
    "duration": 618,
    "start_time": "2021-10-25T18:59:14.018Z"
   },
   {
    "duration": 617,
    "start_time": "2021-10-25T18:59:14.020Z"
   },
   {
    "duration": 616,
    "start_time": "2021-10-25T18:59:14.022Z"
   },
   {
    "duration": 825,
    "start_time": "2021-10-25T18:59:34.893Z"
   },
   {
    "duration": 1766,
    "start_time": "2021-10-25T18:59:43.471Z"
   },
   {
    "duration": 1802,
    "start_time": "2021-10-25T18:59:45.239Z"
   },
   {
    "duration": 38,
    "start_time": "2021-10-25T18:59:47.043Z"
   },
   {
    "duration": 61,
    "start_time": "2021-10-25T18:59:47.083Z"
   },
   {
    "duration": 48,
    "start_time": "2021-10-25T18:59:47.146Z"
   },
   {
    "duration": 20,
    "start_time": "2021-10-25T18:59:47.196Z"
   },
   {
    "duration": 1611,
    "start_time": "2021-10-25T18:59:47.219Z"
   },
   {
    "duration": 125,
    "start_time": "2021-10-25T18:59:48.833Z"
   },
   {
    "duration": 96,
    "start_time": "2021-10-25T18:59:48.961Z"
   },
   {
    "duration": 95,
    "start_time": "2021-10-25T18:59:49.059Z"
   },
   {
    "duration": 47,
    "start_time": "2021-10-25T18:59:49.157Z"
   },
   {
    "duration": 373,
    "start_time": "2021-10-25T18:59:49.207Z"
   },
   {
    "duration": 1994,
    "start_time": "2021-10-25T18:59:49.583Z"
   },
   {
    "duration": 16,
    "start_time": "2021-10-25T18:59:51.580Z"
   },
   {
    "duration": 4,
    "start_time": "2021-10-25T18:59:51.598Z"
   },
   {
    "duration": 513,
    "start_time": "2021-10-25T18:59:51.605Z"
   },
   {
    "duration": 59,
    "start_time": "2021-10-25T18:59:52.120Z"
   },
   {
    "duration": 306,
    "start_time": "2021-10-25T18:59:52.186Z"
   },
   {
    "duration": 14,
    "start_time": "2021-10-25T18:59:52.494Z"
   },
   {
    "duration": 756,
    "start_time": "2021-10-25T18:59:52.509Z"
   },
   {
    "duration": 657,
    "start_time": "2021-10-25T18:59:53.266Z"
   },
   {
    "duration": 944,
    "start_time": "2021-10-25T18:59:53.926Z"
   },
   {
    "duration": 748,
    "start_time": "2021-10-25T18:59:54.874Z"
   },
   {
    "duration": 952,
    "start_time": "2021-10-25T18:59:55.625Z"
   },
   {
    "duration": 788,
    "start_time": "2021-10-25T18:59:56.580Z"
   },
   {
    "duration": 671,
    "start_time": "2021-10-25T18:59:57.369Z"
   },
   {
    "duration": 599,
    "start_time": "2021-10-25T18:59:58.042Z"
   },
   {
    "duration": 1685,
    "start_time": "2021-10-25T19:02:02.253Z"
   },
   {
    "duration": 1948,
    "start_time": "2021-10-25T19:02:03.940Z"
   },
   {
    "duration": 34,
    "start_time": "2021-10-25T19:02:05.891Z"
   },
   {
    "duration": 73,
    "start_time": "2021-10-25T19:02:05.927Z"
   },
   {
    "duration": 17,
    "start_time": "2021-10-25T19:02:06.002Z"
   },
   {
    "duration": 19,
    "start_time": "2021-10-25T19:02:06.021Z"
   },
   {
    "duration": 1756,
    "start_time": "2021-10-25T19:02:06.042Z"
   },
   {
    "duration": 105,
    "start_time": "2021-10-25T19:02:07.801Z"
   },
   {
    "duration": 49,
    "start_time": "2021-10-25T19:02:07.909Z"
   },
   {
    "duration": 77,
    "start_time": "2021-10-25T19:02:07.961Z"
   },
   {
    "duration": 51,
    "start_time": "2021-10-25T19:02:08.040Z"
   },
   {
    "duration": 236,
    "start_time": "2021-10-25T19:02:08.094Z"
   },
   {
    "duration": 1404,
    "start_time": "2021-10-25T19:02:08.332Z"
   },
   {
    "duration": 5,
    "start_time": "2021-10-25T19:02:09.738Z"
   },
   {
    "duration": 5,
    "start_time": "2021-10-25T19:02:09.745Z"
   },
   {
    "duration": 462,
    "start_time": "2021-10-25T19:02:09.776Z"
   },
   {
    "duration": 64,
    "start_time": "2021-10-25T19:02:10.240Z"
   },
   {
    "duration": 308,
    "start_time": "2021-10-25T19:02:10.305Z"
   },
   {
    "duration": 11,
    "start_time": "2021-10-25T19:02:10.615Z"
   },
   {
    "duration": 698,
    "start_time": "2021-10-25T19:02:10.627Z"
   },
   {
    "duration": 888,
    "start_time": "2021-10-25T19:02:11.327Z"
   },
   {
    "duration": 800,
    "start_time": "2021-10-25T19:02:12.217Z"
   },
   {
    "duration": 662,
    "start_time": "2021-10-25T19:02:13.019Z"
   },
   {
    "duration": 747,
    "start_time": "2021-10-25T19:02:13.683Z"
   },
   {
    "duration": 860,
    "start_time": "2021-10-25T19:02:14.432Z"
   },
   {
    "duration": 625,
    "start_time": "2021-10-25T19:02:15.295Z"
   },
   {
    "duration": 612,
    "start_time": "2021-10-25T19:02:15.923Z"
   }
  ],
  "kernelspec": {
   "display_name": "Python 3",
   "language": "python",
   "name": "python3"
  },
  "language_info": {
   "codemirror_mode": {
    "name": "ipython",
    "version": 3
   },
   "file_extension": ".py",
   "mimetype": "text/x-python",
   "name": "python",
   "nbconvert_exporter": "python",
   "pygments_lexer": "ipython3",
   "version": "3.8.8"
  },
  "toc": {
   "base_numbering": 1,
   "nav_menu": {},
   "number_sections": true,
   "sideBar": true,
   "skip_h1_title": true,
   "title_cell": "Table of Contents",
   "title_sidebar": "Contents",
   "toc_cell": false,
   "toc_position": {},
   "toc_section_display": true,
   "toc_window_display": false
  }
 },
 "nbformat": 4,
 "nbformat_minor": 2
}
