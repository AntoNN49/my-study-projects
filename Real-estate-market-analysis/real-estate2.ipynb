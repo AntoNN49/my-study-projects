{
 "cells": [
  {
   "cell_type": "markdown",
   "metadata": {},
   "source": [
    "# Исследование объявлений о продаже квартир\n",
    "\n",
    "В распоряжении данные сервиса Яндекс.Недвижимость — архив объявлений о продаже квартир в Санкт-Петербурге и соседних населённых пунктах за несколько лет. Нужно научиться определять рыночную стоимость объектов недвижимости. Задача — установить параметры. Это позволит построить автоматизированную систему: она отследит аномалии и мошенническую деятельность. \n",
    "\n",
    "По каждой квартире на продажу доступны два вида данных. Первые вписаны пользователем, вторые получены автоматически на основе картографических данных. Например, расстояние до центра, аэропорта, ближайшего парка и водоёма. "
   ]
  },
  {
   "cell_type": "markdown",
   "metadata": {},
   "source": [
    "## Изучение данных из файла"
   ]
  },
  {
   "cell_type": "code",
   "execution_count": 1,
   "metadata": {
    "scrolled": false
   },
   "outputs": [],
   "source": [
    "import pandas as pd\n",
    "import matplotlib.pyplot as plt\n",
    "\n",
    "pd.options.display.max_columns = None"
   ]
  },
  {
   "cell_type": "code",
   "execution_count": 2,
   "metadata": {
    "scrolled": false
   },
   "outputs": [
    {
     "name": "stdout",
     "output_type": "stream",
     "text": [
      "<class 'pandas.core.frame.DataFrame'>\n",
      "RangeIndex: 23699 entries, 0 to 23698\n",
      "Data columns (total 22 columns):\n",
      " #   Column                Non-Null Count  Dtype  \n",
      "---  ------                --------------  -----  \n",
      " 0   total_images          23699 non-null  int64  \n",
      " 1   last_price            23699 non-null  float64\n",
      " 2   total_area            23699 non-null  float64\n",
      " 3   first_day_exposition  23699 non-null  object \n",
      " 4   rooms                 23699 non-null  int64  \n",
      " 5   ceiling_height        14504 non-null  float64\n",
      " 6   floors_total          23613 non-null  float64\n",
      " 7   living_area           21796 non-null  float64\n",
      " 8   floor                 23699 non-null  int64  \n",
      " 9   is_apartment          2775 non-null   object \n",
      " 10  studio                23699 non-null  bool   \n",
      " 11  open_plan             23699 non-null  bool   \n",
      " 12  kitchen_area          21421 non-null  float64\n",
      " 13  balcony               12180 non-null  float64\n",
      " 14  locality_name         23650 non-null  object \n",
      " 15  airports_nearest      18157 non-null  float64\n",
      " 16  cityCenters_nearest   18180 non-null  float64\n",
      " 17  parks_around3000      18181 non-null  float64\n",
      " 18  parks_nearest         8079 non-null   float64\n",
      " 19  ponds_around3000      18181 non-null  float64\n",
      " 20  ponds_nearest         9110 non-null   float64\n",
      " 21  days_exposition       20518 non-null  float64\n",
      "dtypes: bool(2), float64(14), int64(3), object(3)\n",
      "memory usage: 3.7+ MB\n",
      "None\n"
     ]
    },
    {
     "data": {
      "text/html": [
       "<div>\n",
       "<style scoped>\n",
       "    .dataframe tbody tr th:only-of-type {\n",
       "        vertical-align: middle;\n",
       "    }\n",
       "\n",
       "    .dataframe tbody tr th {\n",
       "        vertical-align: top;\n",
       "    }\n",
       "\n",
       "    .dataframe thead th {\n",
       "        text-align: right;\n",
       "    }\n",
       "</style>\n",
       "<table border=\"1\" class=\"dataframe\">\n",
       "  <thead>\n",
       "    <tr style=\"text-align: right;\">\n",
       "      <th></th>\n",
       "      <th>total_images</th>\n",
       "      <th>last_price</th>\n",
       "      <th>total_area</th>\n",
       "      <th>first_day_exposition</th>\n",
       "      <th>rooms</th>\n",
       "      <th>ceiling_height</th>\n",
       "      <th>floors_total</th>\n",
       "      <th>living_area</th>\n",
       "      <th>floor</th>\n",
       "      <th>is_apartment</th>\n",
       "      <th>studio</th>\n",
       "      <th>open_plan</th>\n",
       "      <th>kitchen_area</th>\n",
       "      <th>balcony</th>\n",
       "      <th>locality_name</th>\n",
       "      <th>airports_nearest</th>\n",
       "      <th>cityCenters_nearest</th>\n",
       "      <th>parks_around3000</th>\n",
       "      <th>parks_nearest</th>\n",
       "      <th>ponds_around3000</th>\n",
       "      <th>ponds_nearest</th>\n",
       "      <th>days_exposition</th>\n",
       "    </tr>\n",
       "  </thead>\n",
       "  <tbody>\n",
       "    <tr>\n",
       "      <th>0</th>\n",
       "      <td>20</td>\n",
       "      <td>13000000.0</td>\n",
       "      <td>108.0</td>\n",
       "      <td>2019-03-07T00:00:00</td>\n",
       "      <td>3</td>\n",
       "      <td>2.70</td>\n",
       "      <td>16.0</td>\n",
       "      <td>51.0</td>\n",
       "      <td>8</td>\n",
       "      <td>NaN</td>\n",
       "      <td>False</td>\n",
       "      <td>False</td>\n",
       "      <td>25.0</td>\n",
       "      <td>NaN</td>\n",
       "      <td>Санкт-Петербург</td>\n",
       "      <td>18863.0</td>\n",
       "      <td>16028.0</td>\n",
       "      <td>1.0</td>\n",
       "      <td>482.0</td>\n",
       "      <td>2.0</td>\n",
       "      <td>755.0</td>\n",
       "      <td>NaN</td>\n",
       "    </tr>\n",
       "    <tr>\n",
       "      <th>1</th>\n",
       "      <td>7</td>\n",
       "      <td>3350000.0</td>\n",
       "      <td>40.4</td>\n",
       "      <td>2018-12-04T00:00:00</td>\n",
       "      <td>1</td>\n",
       "      <td>NaN</td>\n",
       "      <td>11.0</td>\n",
       "      <td>18.6</td>\n",
       "      <td>1</td>\n",
       "      <td>NaN</td>\n",
       "      <td>False</td>\n",
       "      <td>False</td>\n",
       "      <td>11.0</td>\n",
       "      <td>2.0</td>\n",
       "      <td>посёлок Шушары</td>\n",
       "      <td>12817.0</td>\n",
       "      <td>18603.0</td>\n",
       "      <td>0.0</td>\n",
       "      <td>NaN</td>\n",
       "      <td>0.0</td>\n",
       "      <td>NaN</td>\n",
       "      <td>81.0</td>\n",
       "    </tr>\n",
       "    <tr>\n",
       "      <th>2</th>\n",
       "      <td>10</td>\n",
       "      <td>5196000.0</td>\n",
       "      <td>56.0</td>\n",
       "      <td>2015-08-20T00:00:00</td>\n",
       "      <td>2</td>\n",
       "      <td>NaN</td>\n",
       "      <td>5.0</td>\n",
       "      <td>34.3</td>\n",
       "      <td>4</td>\n",
       "      <td>NaN</td>\n",
       "      <td>False</td>\n",
       "      <td>False</td>\n",
       "      <td>8.3</td>\n",
       "      <td>0.0</td>\n",
       "      <td>Санкт-Петербург</td>\n",
       "      <td>21741.0</td>\n",
       "      <td>13933.0</td>\n",
       "      <td>1.0</td>\n",
       "      <td>90.0</td>\n",
       "      <td>2.0</td>\n",
       "      <td>574.0</td>\n",
       "      <td>558.0</td>\n",
       "    </tr>\n",
       "    <tr>\n",
       "      <th>3</th>\n",
       "      <td>0</td>\n",
       "      <td>64900000.0</td>\n",
       "      <td>159.0</td>\n",
       "      <td>2015-07-24T00:00:00</td>\n",
       "      <td>3</td>\n",
       "      <td>NaN</td>\n",
       "      <td>14.0</td>\n",
       "      <td>NaN</td>\n",
       "      <td>9</td>\n",
       "      <td>NaN</td>\n",
       "      <td>False</td>\n",
       "      <td>False</td>\n",
       "      <td>NaN</td>\n",
       "      <td>0.0</td>\n",
       "      <td>Санкт-Петербург</td>\n",
       "      <td>28098.0</td>\n",
       "      <td>6800.0</td>\n",
       "      <td>2.0</td>\n",
       "      <td>84.0</td>\n",
       "      <td>3.0</td>\n",
       "      <td>234.0</td>\n",
       "      <td>424.0</td>\n",
       "    </tr>\n",
       "    <tr>\n",
       "      <th>4</th>\n",
       "      <td>2</td>\n",
       "      <td>10000000.0</td>\n",
       "      <td>100.0</td>\n",
       "      <td>2018-06-19T00:00:00</td>\n",
       "      <td>2</td>\n",
       "      <td>3.03</td>\n",
       "      <td>14.0</td>\n",
       "      <td>32.0</td>\n",
       "      <td>13</td>\n",
       "      <td>NaN</td>\n",
       "      <td>False</td>\n",
       "      <td>False</td>\n",
       "      <td>41.0</td>\n",
       "      <td>NaN</td>\n",
       "      <td>Санкт-Петербург</td>\n",
       "      <td>31856.0</td>\n",
       "      <td>8098.0</td>\n",
       "      <td>2.0</td>\n",
       "      <td>112.0</td>\n",
       "      <td>1.0</td>\n",
       "      <td>48.0</td>\n",
       "      <td>121.0</td>\n",
       "    </tr>\n",
       "  </tbody>\n",
       "</table>\n",
       "</div>"
      ],
      "text/plain": [
       "   total_images  last_price  total_area first_day_exposition  rooms  \\\n",
       "0            20  13000000.0       108.0  2019-03-07T00:00:00      3   \n",
       "1             7   3350000.0        40.4  2018-12-04T00:00:00      1   \n",
       "2            10   5196000.0        56.0  2015-08-20T00:00:00      2   \n",
       "3             0  64900000.0       159.0  2015-07-24T00:00:00      3   \n",
       "4             2  10000000.0       100.0  2018-06-19T00:00:00      2   \n",
       "\n",
       "   ceiling_height  floors_total  living_area  floor is_apartment  studio  \\\n",
       "0            2.70          16.0         51.0      8          NaN   False   \n",
       "1             NaN          11.0         18.6      1          NaN   False   \n",
       "2             NaN           5.0         34.3      4          NaN   False   \n",
       "3             NaN          14.0          NaN      9          NaN   False   \n",
       "4            3.03          14.0         32.0     13          NaN   False   \n",
       "\n",
       "   open_plan  kitchen_area  balcony    locality_name  airports_nearest  \\\n",
       "0      False          25.0      NaN  Санкт-Петербург           18863.0   \n",
       "1      False          11.0      2.0   посёлок Шушары           12817.0   \n",
       "2      False           8.3      0.0  Санкт-Петербург           21741.0   \n",
       "3      False           NaN      0.0  Санкт-Петербург           28098.0   \n",
       "4      False          41.0      NaN  Санкт-Петербург           31856.0   \n",
       "\n",
       "   cityCenters_nearest  parks_around3000  parks_nearest  ponds_around3000  \\\n",
       "0              16028.0               1.0          482.0               2.0   \n",
       "1              18603.0               0.0            NaN               0.0   \n",
       "2              13933.0               1.0           90.0               2.0   \n",
       "3               6800.0               2.0           84.0               3.0   \n",
       "4               8098.0               2.0          112.0               1.0   \n",
       "\n",
       "   ponds_nearest  days_exposition  \n",
       "0          755.0              NaN  \n",
       "1            NaN             81.0  \n",
       "2          574.0            558.0  \n",
       "3          234.0            424.0  \n",
       "4           48.0            121.0  "
      ]
     },
     "metadata": {},
     "output_type": "display_data"
    }
   ],
   "source": [
    "df = pd.read_csv('real_estate_data.csv', sep='\\t')\n",
    "print(df.info())\n",
    "display(df.head(5))"
   ]
  },
  {
   "cell_type": "markdown",
   "metadata": {},
   "source": [
    "<b>Вывод</b>"
   ]
  },
  {
   "cell_type": "markdown",
   "metadata": {},
   "source": [
    "Данные загружены, сделал доступным вывод для просмотра всех столбцов. Обнаружено множество проблем (сразу пишу и их решение).\n",
    "\n",
    "Типы данных:\n",
    "\n",
    "- is_apartment в булев\n",
    "- balcony в int\n",
    "- first_day_exposition - разделить на год, месяц, день\n",
    "\n",
    "\n",
    "Пропущенные значения:\n",
    "\n",
    "- balcony - заполнить 0\n",
    "- days_exposition - заполнить 0\n",
    "\n",
    "\n",
    "Нестандарт:\n",
    "\n",
    "- ceiling_height - не может быть 100, оставим диапазон (1.5, 20)\n",
    "- locality_name - заменить ё на е для унификации названий\n"
   ]
  },
  {
   "cell_type": "markdown",
   "metadata": {},
   "source": [
    "## Предобработка данных"
   ]
  },
  {
   "cell_type": "code",
   "execution_count": 3,
   "metadata": {},
   "outputs": [],
   "source": [
    "# Работа с пропусками значений и типами данных\n",
    "df['ceiling_height'] = df['ceiling_height'].fillna(df['ceiling_height'].median())\n",
    "df['balcony'] = df['balcony'].fillna(0).astype('int')\n",
    "df['days_exposition'] = df['days_exposition'].fillna(0)\n",
    "# Работа с типами данных\n",
    "df['is_apartment'] = df['is_apartment'].astype('bool')\n",
    "df['days_exposition'] = df['days_exposition'].astype('int')\n",
    "#Прочее\n",
    "df['first_day_exposition'] = pd.to_datetime(df['first_day_exposition'], format='%Y-%m-%d')\n",
    "df['locality_name'] = df['locality_name'].str.replace('ё', 'е', regex=True)"
   ]
  },
  {
   "cell_type": "markdown",
   "metadata": {},
   "source": [
    "## Расчёты и добавление результатов в таблицу"
   ]
  },
  {
   "cell_type": "code",
   "execution_count": 4,
   "metadata": {},
   "outputs": [],
   "source": [
    "df['weekday'] = df['first_day_exposition'].dt.weekday\n",
    "df['month'] = pd.DatetimeIndex(df['first_day_exposition']).month \n",
    "df['year'] = pd.DatetimeIndex(df['first_day_exposition']).year\n",
    "\n",
    "df['price_kv_m'] = df['last_price'] / df['total_area'] # цена квадратного метра\n",
    "\n",
    "def et(df):\n",
    "    floor = df['floor']\n",
    "    flt = df['floors_total']\n",
    "    if floor == 1:\n",
    "        return 'Первый'\n",
    "    if floor == flt:\n",
    "        return 'Последний'\n",
    "    return 'Другой'\n",
    "\n",
    "df['floor2'] = df.apply(et, axis=1)  \n",
    "\n",
    "df['otnpl_gil_all'] = df['living_area'] / df['total_area'] # соотношение жилой к общей площади\n",
    "df['otnpl_kuh_all'] = df['kitchen_area'] / df['total_area'] # отношение площади кухни к общей."
   ]
  },
  {
   "cell_type": "markdown",
   "metadata": {},
   "source": [
    "## Исследовательский анализ данных"
   ]
  },
  {
   "cell_type": "markdown",
   "metadata": {},
   "source": [
    "### Изучите следующие параметры: площадь, цена, число комнат, высота потолков. Постройте гистограммы для каждого параметра."
   ]
  },
  {
   "cell_type": "code",
   "execution_count": 5,
   "metadata": {
    "scrolled": false
   },
   "outputs": [
    {
     "data": {
      "image/png": "[encoded data removed]",
      "text/plain": [
       "<Figure size 360x360 with 1 Axes>"
      ]
     },
     "metadata": {
      "needs_background": "light"
     },
     "output_type": "display_data"
    }
   ],
   "source": [
    "import matplotlib.pyplot as plt\n",
    "\n",
    "df['total_area'].plot(kind='hist', figsize=(5, 5), bins = 150)\n",
    "plt.xlim(0, 400)\n",
    "plt.xlabel('Площадь квартиры в м²')\n",
    "plt.ylabel('Частота')\n",
    "plt.show()"
   ]
  },
  {
   "cell_type": "markdown",
   "metadata": {},
   "source": [
    "Посмотрим на гистограммы, сформированные по каждому параметру.\n",
    "\n",
    "Площадь - минимум 12 квадратных метров, максимум 900. Эти данные выглядят реальными, кроме квартир больше 300 квадратных метров. По гистограмме видно, что тут нормальное распределение. Больше всего продают квартир площадью до 50 квадратных метров, очень много вариантов квартир от 50 до 100 квадратов."
   ]
  },
  {
   "cell_type": "code",
   "execution_count": 6,
   "metadata": {},
   "outputs": [
    {
     "data": {
      "text/plain": [
       "Text(0, 0.5, 'Частота')"
      ]
     },
     "execution_count": 6,
     "metadata": {},
     "output_type": "execute_result"
    },
    {
     "data": {
      "image/png": "[encoded data removed]",
      "text/plain": [
       "<Figure size 864x720 with 1 Axes>"
      ]
     },
     "metadata": {
      "needs_background": "light"
     },
     "output_type": "display_data"
    }
   ],
   "source": [
    "df['last_price'].plot(kind = 'hist', bins=155, range=(0, 30e6), legend = False, figsize=(12,10))\n",
    "plt.title('Гистограмма стоимости квартир')\n",
    "plt.xlabel('Цена')\n",
    "plt.ylabel('Частота')"
   ]
  },
  {
   "cell_type": "markdown",
   "metadata": {},
   "source": [
    "Цена продажи - 6.5 млн руб среднее значение, нормальное распределение. Есть слишком низкие значения (12000) и очень высокие, надо с этим работать."
   ]
  },
  {
   "cell_type": "code",
   "execution_count": 7,
   "metadata": {},
   "outputs": [
    {
     "data": {
      "image/png": "[encoded data removed]",
      "text/plain": [
       "<Figure size 576x576 with 1 Axes>"
      ]
     },
     "metadata": {
      "needs_background": "light"
     },
     "output_type": "display_data"
    }
   ],
   "source": [
    "df['rooms'].plot(kind='hist', figsize=(8, 8), bins = 40)\n",
    "plt.xlim(0, 10)\n",
    "plt.ylim(0, 10000)\n",
    "plt.xlabel('Количество комнат')\n",
    "plt.ylabel('Частота')\n",
    "plt.show()"
   ]
  },
  {
   "cell_type": "markdown",
   "metadata": {},
   "source": [
    "Количество комнат - макс. 19 штук, мин. 0 штук, лидеры это квартиры с одной комнатой. При этом на рынке чуть меньше вариантов с двумя комнатами, далее идёт 3 комнаты и так далее, от большего к меньшему."
   ]
  },
  {
   "cell_type": "code",
   "execution_count": 8,
   "metadata": {},
   "outputs": [
    {
     "data": {
      "image/png": "[encoded data removed]",
      "text/plain": [
       "<Figure size 432x288 with 1 Axes>"
      ]
     },
     "metadata": {
      "needs_background": "light"
     },
     "output_type": "display_data"
    }
   ],
   "source": [
    "df['ceiling_height'].plot(kind = 'hist', grid = True, range = (2,4))\n",
    "plt.xlabel('Высота потолков (м)')\n",
    "plt.ylabel('Частота')\n",
    "plt.show()"
   ]
  },
  {
   "cell_type": "markdown",
   "metadata": {},
   "source": [
    "Высота потолков в целом в норме, есть значение равное 100, от такого нужно избавиться."
   ]
  },
  {
   "cell_type": "markdown",
   "metadata": {},
   "source": [
    "### Изучите время продажи квартиры. Постройте гистограмму. Посчитайте среднее и медиану. Опишите, сколько обычно занимает продажа. Когда можно считать, что продажи прошли очень быстро, а когда необычно долго?"
   ]
  },
  {
   "cell_type": "code",
   "execution_count": 9,
   "metadata": {},
   "outputs": [
    {
     "data": {
      "image/png": "[encoded data removed]",
      "text/plain": [
       "<Figure size 432x288 with 1 Axes>"
      ]
     },
     "metadata": {
      "needs_background": "light"
     },
     "output_type": "display_data"
    }
   ],
   "source": [
    "plt.boxplot(df[df['days_exposition']!=0]['days_exposition'])\n",
    "plt.ylim(1,1000)\n",
    "plt.show()"
   ]
  },
  {
   "cell_type": "markdown",
   "metadata": {},
   "source": [
    "Межквартильный размах это 45...232. Диаграмма boxplot показывает, что диаграмма размаха от мин. значения до 500 дней. Нормально продаются квартиры до 500 дней, необычно долго продаются квартиры, которые на рынке более 500 дней."
   ]
  },
  {
   "cell_type": "code",
   "execution_count": 10,
   "metadata": {},
   "outputs": [
    {
     "data": {
      "image/png": "[encoded data removed]",
      "text/plain": [
       "<Figure size 432x288 with 1 Axes>"
      ]
     },
     "metadata": {
      "needs_background": "light"
     },
     "output_type": "display_data"
    },
    {
     "data": {
      "image/png": "[encoded data removed]",
      "text/plain": [
       "<Figure size 432x288 with 1 Axes>"
      ]
     },
     "metadata": {
      "needs_background": "light"
     },
     "output_type": "display_data"
    },
    {
     "name": "stdout",
     "output_type": "stream",
     "text": [
      "count    20518.000000\n",
      "mean       180.888634\n",
      "std        219.727988\n",
      "min          1.000000\n",
      "25%         45.000000\n",
      "50%         95.000000\n",
      "75%        232.000000\n",
      "max       1580.000000\n",
      "Name: days_exposition, dtype: float64\n"
     ]
    }
   ],
   "source": [
    "df.plot(y = 'days_exposition', kind = 'hist', bins = 50, grid = True, range = (1,1500))\n",
    "plt.xlabel('Количество дней размещения')\n",
    "plt.ylabel('Частота')\n",
    "plt.show()\n",
    "df.plot(y = 'days_exposition', kind = 'hist', bins = 50, grid = True, range = (1,200))\n",
    "plt.xlabel('Количество дней размещения')\n",
    "plt.ylabel('Частота')\n",
    "plt.show()\n",
    "\n",
    "print(df[df['days_exposition']!=0]['days_exposition'].describe())"
   ]
  },
  {
   "cell_type": "markdown",
   "metadata": {},
   "source": [
    "Основная часть полученных значений лежит в области 0...200, для этого рассмотрим подробнее данный интервал. В нём обнаружены скачки в районе 7, 45, 60, 90 дней. В эти дни чаще всего квартиры продавались (или объявления просто убирались).\n",
    "\n",
    "Если учесть, что этот интервал идёт каждые 15 дней, значит здесь есть некоторая зависимость, не связанная с продажей квартир."
   ]
  },
  {
   "cell_type": "markdown",
   "metadata": {},
   "source": [
    "### Уберите редкие и выбивающиеся значения. Опишите, какие особенности обнаружили."
   ]
  },
  {
   "cell_type": "code",
   "execution_count": 11,
   "metadata": {},
   "outputs": [
    {
     "data": {
      "image/png": "[encoded data removed]",
      "text/plain": [
       "<Figure size 432x288 with 1 Axes>"
      ]
     },
     "metadata": {
      "needs_background": "light"
     },
     "output_type": "display_data"
    },
    {
     "data": {
      "image/png": "[encoded data removed]",
      "text/plain": [
       "<Figure size 432x288 with 1 Axes>"
      ]
     },
     "metadata": {
      "needs_background": "light"
     },
     "output_type": "display_data"
    },
    {
     "name": "stdout",
     "output_type": "stream",
     "text": [
      "Количество дней размещения, медиана: 74.0\n",
      "Количество дней размещения, среднее: 156.6\n",
      "Количество дней размещения, медиана новая: 114.0\n",
      "Количество дней размещения, среднее новое: 195.8\n"
     ]
    }
   ],
   "source": [
    "dfo = df.query('days_exposition != 45 and days_exposition != 30 and days_exposition != 60 and days_exposition != 90 and days_exposition != 7 and days_exposition != 0')\n",
    "\n",
    "df.plot(y = 'days_exposition', kind = 'hist', bins = 50, grid = True, range = (1,1600))\n",
    "plt.xlabel('Количество дней на сайте недвижимости')\n",
    "plt.ylabel('Частота')\n",
    "plt.show()\n",
    "dfo.plot(y = 'days_exposition', kind = 'hist', bins = 50, grid = True, range = (1,200))\n",
    "plt.xlabel('Количество дней на сайте недвижимости')\n",
    "plt.ylabel('Частота')\n",
    "plt.show()\n",
    "\n",
    "print('Количество дней размещения, медиана: {:.1f}'.format(df['days_exposition'].median()))\n",
    "print('Количество дней размещения, среднее: {:.1f}'.format(df['days_exposition'].mean()))\n",
    "print('Количество дней размещения, медиана новая: {:.1f}'.format(dfo['days_exposition'].median()))\n",
    "print('Количество дней размещения, среднее новое: {:.1f}'.format(dfo['days_exposition'].mean()))"
   ]
  },
  {
   "cell_type": "markdown",
   "metadata": {},
   "source": [
    "Для получения более качественных данных отфильтровал аномалии. Сравним медианы и средние значения до и после.\n",
    "\n",
    "Убраны пиковые дни. Медианы подсчитаны.\n",
    "\n",
    "Нормальные значения теперь в диапазоне от 0 до 600 дней."
   ]
  },
  {
   "cell_type": "code",
   "execution_count": 12,
   "metadata": {},
   "outputs": [
    {
     "data": {
      "image/png": "[encoded data removed]",
      "text/plain": [
       "<Figure size 432x288 with 1 Axes>"
      ]
     },
     "metadata": {
      "needs_background": "light"
     },
     "output_type": "display_data"
    },
    {
     "data": {
      "image/png": "[encoded data removed]",
      "text/plain": [
       "<Figure size 432x288 with 1 Axes>"
      ]
     },
     "metadata": {
      "needs_background": "light"
     },
     "output_type": "display_data"
    },
    {
     "name": "stdout",
     "output_type": "stream",
     "text": [
      "Цена, медиана: 4650000.0\n",
      "Цена, среднее: 6541548.8\n",
      "Цена, медиана новая: 4500000.0\n",
      "Цена, среднее новое: 5149177.0\n"
     ]
    }
   ],
   "source": [
    "dfo = dfo.query('last_price <= 1.5e+7 and last_price >= 1.2e+6')\n",
    "\n",
    "df.plot(y = 'last_price', kind = 'hist', bins = 50, grid = True, range = (0, 2e+7))\n",
    "plt.xlabel('Цена на момент снятия с публикации')\n",
    "plt.ylabel('Частота')\n",
    "plt.show()\n",
    "dfo.plot(y = 'last_price', kind = 'hist', bins = 50, grid = True, range = (0, 1.5e+7))\n",
    "plt.xlabel('Цена на момент снятия с публикации')\n",
    "plt.ylabel('Частота')\n",
    "plt.show()\n",
    "\n",
    "print('Цена, медиана: {:.1f}'.format(df['last_price'].median()))\n",
    "print('Цена, среднее: {:.1f}'.format(df['last_price'].mean()))\n",
    "print('Цена, медиана новая: {:.1f}'.format(dfo['last_price'].median()))\n",
    "print('Цена, среднее новое: {:.1f}'.format(dfo['last_price'].mean()))"
   ]
  },
  {
   "cell_type": "markdown",
   "metadata": {},
   "source": [
    "Цена - сделал диапазон 1,2 млн - 15 млн. Тем самым избавился от ненормальных значений, по среднему это очень заметно."
   ]
  },
  {
   "cell_type": "code",
   "execution_count": 13,
   "metadata": {},
   "outputs": [
    {
     "data": {
      "image/png": "[encoded data removed]",
      "text/plain": [
       "<Figure size 432x288 with 1 Axes>"
      ]
     },
     "metadata": {
      "needs_background": "light"
     },
     "output_type": "display_data"
    },
    {
     "data": {
      "image/png": "[encoded data removed]",
      "text/plain": [
       "<Figure size 432x288 with 1 Axes>"
      ]
     },
     "metadata": {
      "needs_background": "light"
     },
     "output_type": "display_data"
    },
    {
     "name": "stdout",
     "output_type": "stream",
     "text": [
      "Площадь квартиры в м², медиана: 52.0\n",
      "Площадь квартиры в м², среднее: 60.3\n",
      "Площадь квартиры в м², медиана новая: 50.0\n",
      "Площадь квартиры в м², среднее новое: 54.4\n"
     ]
    }
   ],
   "source": [
    "dfo = dfo.query('total_area <= 150')\n",
    "\n",
    "df.plot(y = 'total_area', kind = 'hist', bins = 50, grid = True, range = (0, 400))\n",
    "plt.xlabel('Площадь квартиры в м²')\n",
    "plt.ylabel('Частота')\n",
    "plt.show()\n",
    "dfo.plot(y = 'total_area', kind = 'hist', bins = 50, grid = True)\n",
    "plt.xlabel('Площадь квартиры в м²')\n",
    "plt.ylabel('Частота')\n",
    "plt.show()\n",
    "\n",
    "print('Площадь квартиры в м², медиана: {:.1f}'.format(df['total_area'].median()))\n",
    "print('Площадь квартиры в м², среднее: {:.1f}'.format(df['total_area'].mean()))\n",
    "print('Площадь квартиры в м², медиана новая: {:.1f}'.format(dfo['total_area'].median()))\n",
    "print('Площадь квартиры в м², среднее новое: {:.1f}'.format(dfo['total_area'].mean()))"
   ]
  },
  {
   "cell_type": "markdown",
   "metadata": {},
   "source": [
    "Площадь - отсеял завышенные и непопулярные площади. Теперь в работе диапазон до 150 квадратных метров.\n",
    "\n",
    "Самые популярные на рынке это квартиры площадью 50-55 квадратных метров."
   ]
  },
  {
   "cell_type": "code",
   "execution_count": 14,
   "metadata": {},
   "outputs": [
    {
     "data": {
      "image/png": "[encoded data removed]",
      "text/plain": [
       "<Figure size 432x288 with 1 Axes>"
      ]
     },
     "metadata": {
      "needs_background": "light"
     },
     "output_type": "display_data"
    },
    {
     "data": {
      "image/png": "[encoded data removed]",
      "text/plain": [
       "<Figure size 432x288 with 1 Axes>"
      ]
     },
     "metadata": {
      "needs_background": "light"
     },
     "output_type": "display_data"
    },
    {
     "name": "stdout",
     "output_type": "stream",
     "text": [
      "Высота потолков, м, медиана: 2.6\n",
      "Высота потолков, м, среднее: 2.7\n",
      "Высота потолков, м, медиана новая: 2.6\n",
      "Высота потолков, м, среднее новое: 2.7\n"
     ]
    }
   ],
   "source": [
    "dfo = dfo.query('ceiling_height <= 4 and ceiling_height >= 2.4')\n",
    "\n",
    "df.plot(y = 'ceiling_height', kind = 'hist', bins = 20, grid = True, range = (0,10))\n",
    "plt.xlabel('Высота потолков, м')\n",
    "plt.ylabel('Частота')\n",
    "plt.show()\n",
    "dfo.plot(y = 'ceiling_height', kind = 'hist', bins = 20, grid = True, range = (2,4))\n",
    "plt.xlabel('Высота потолков, м')\n",
    "plt.ylabel('Частота')\n",
    "plt.show()\n",
    "\n",
    "print('Высота потолков, м, медиана: {:.1f}'.format(df['ceiling_height'].median()))\n",
    "print('Высота потолков, м, среднее: {:.1f}'.format(df['ceiling_height'].mean()))\n",
    "print('Высота потолков, м, медиана новая: {:.1f}'.format(dfo['ceiling_height'].median()))\n",
    "print('Высота потолков, м, среднее новое: {:.1f}'.format(dfo['ceiling_height'].mean()))"
   ]
  },
  {
   "cell_type": "markdown",
   "metadata": {},
   "source": [
    "Ограничил высоту потолков диапазоном 2,4 м - 4,0 м. Изменений почти нет, избавился от потолка со 100 метрами."
   ]
  },
  {
   "cell_type": "code",
   "execution_count": 15,
   "metadata": {},
   "outputs": [
    {
     "data": {
      "text/html": [
       "<div>\n",
       "<style scoped>\n",
       "    .dataframe tbody tr th:only-of-type {\n",
       "        vertical-align: middle;\n",
       "    }\n",
       "\n",
       "    .dataframe tbody tr th {\n",
       "        vertical-align: top;\n",
       "    }\n",
       "\n",
       "    .dataframe thead th {\n",
       "        text-align: right;\n",
       "    }\n",
       "</style>\n",
       "<table border=\"1\" class=\"dataframe\">\n",
       "  <thead>\n",
       "    <tr style=\"text-align: right;\">\n",
       "      <th></th>\n",
       "      <th>last_price</th>\n",
       "      <th>total_area</th>\n",
       "      <th>rooms</th>\n",
       "      <th>ceiling_height</th>\n",
       "    </tr>\n",
       "  </thead>\n",
       "  <tbody>\n",
       "    <tr>\n",
       "      <th>min</th>\n",
       "      <td>1200000.0</td>\n",
       "      <td>12.0</td>\n",
       "      <td>0.0</td>\n",
       "      <td>2.4</td>\n",
       "    </tr>\n",
       "    <tr>\n",
       "      <th>max</th>\n",
       "      <td>15000000.0</td>\n",
       "      <td>150.0</td>\n",
       "      <td>7.0</td>\n",
       "      <td>4.0</td>\n",
       "    </tr>\n",
       "  </tbody>\n",
       "</table>\n",
       "</div>"
      ],
      "text/plain": [
       "     last_price  total_area  rooms  ceiling_height\n",
       "min   1200000.0        12.0    0.0             2.4\n",
       "max  15000000.0       150.0    7.0             4.0"
      ]
     },
     "execution_count": 15,
     "metadata": {},
     "output_type": "execute_result"
    }
   ],
   "source": [
    "dfo[['last_price', 'total_area','rooms', 'ceiling_height' ]].describe().loc[['min', 'max']]"
   ]
  },
  {
   "cell_type": "markdown",
   "metadata": {},
   "source": [
    "### Какие факторы больше всего влияют на стоимость квартиры? Изучите, зависит ли цена от площади, числа комнат, удалённости от центра. Изучите зависимость цены от того, на каком этаже расположена квартира: первом, последнем или другом. Также изучите зависимость от даты размещения: дня недели, месяца и года."
   ]
  },
  {
   "cell_type": "code",
   "execution_count": 16,
   "metadata": {
    "scrolled": false
   },
   "outputs": [
    {
     "data": {
      "image/png": "[encoded data removed]",
      "text/plain": [
       "<Figure size 432x288 with 1 Axes>"
      ]
     },
     "metadata": {
      "needs_background": "light"
     },
     "output_type": "display_data"
    },
    {
     "name": "stdout",
     "output_type": "stream",
     "text": [
      "-0.029967585387899877\n"
     ]
    }
   ],
   "source": [
    "#Зависимость цены от площади.\n",
    "\n",
    "zpl = dfo.pivot_table(index = 'total_area', values = 'price_kv_m', aggfunc = ['mean', 'count', 'median'])\n",
    "zpl.columns = ['mean', 'count', 'median']\n",
    "zpl.plot(y = 'median', style = 'o', legend = True)\n",
    "plt.xlabel('Площадь квартиры в м²')\n",
    "plt.ylabel('Стоимость кв.метра')\n",
    "plt.show()\n",
    "zpl.sort_values('median', ascending = False)\n",
    "print(dfo['total_area'].corr(dfo['price_kv_m']))"
   ]
  },
  {
   "cell_type": "markdown",
   "metadata": {},
   "source": [
    "Коррелляция получилась в основном очень слабая, разберём по порядку гистаграммы.\n",
    "\n",
    "Площадь - при росте площади, цена квадратного метра зачастую почти не растёт."
   ]
  },
  {
   "cell_type": "code",
   "execution_count": 17,
   "metadata": {},
   "outputs": [
    {
     "data": {
      "image/png": "[encoded data removed]",
      "text/plain": [
       "<Figure size 432x288 with 1 Axes>"
      ]
     },
     "metadata": {
      "needs_background": "light"
     },
     "output_type": "display_data"
    },
    {
     "name": "stdout",
     "output_type": "stream",
     "text": [
      "-0.20005144420675958\n"
     ]
    }
   ],
   "source": [
    "#Зависимость цены от числа комнат.\n",
    "\n",
    "zroom = dfo.pivot_table(index = 'rooms', values = 'price_kv_m', aggfunc = ['mean', 'count', 'median'])\n",
    "zroom.columns = ['mean', 'count', 'median']\n",
    "zroom.query('count > 20').plot(y = 'median', grid = True, legend = True)\n",
    "plt.xlabel('Комнаты')\n",
    "plt.ylabel('Стоимость кв.метра')\n",
    "plt.show()\n",
    "zroom.query('count > 20').sort_values('median', ascending = False)\n",
    "print(dfo['rooms'].corr(dfo['price_kv_m']))"
   ]
  },
  {
   "cell_type": "markdown",
   "metadata": {},
   "source": [
    "Чем больше комнат в квартире, тем меньше стоимость квадратного метра."
   ]
  },
  {
   "cell_type": "code",
   "execution_count": 18,
   "metadata": {},
   "outputs": [
    {
     "data": {
      "image/png": "[encoded data removed]",
      "text/plain": [
       "<Figure size 432x288 with 1 Axes>"
      ]
     },
     "metadata": {
      "needs_background": "light"
     },
     "output_type": "display_data"
    },
    {
     "name": "stdout",
     "output_type": "stream",
     "text": [
      "-0.3969398795293054\n"
     ]
    }
   ],
   "source": [
    "#Зависимость цены от удалённости от центра.\n",
    "\n",
    "dfo.plot(kind = 'scatter', y = 'price_kv_m', x = 'cityCenters_nearest', alpha = 0.4)\n",
    "plt.xlabel('Расстояние до центра города в м')\n",
    "plt.ylabel('Стоимость кв.метра')\n",
    "plt.show()\n",
    "print(dfo['cityCenters_nearest'].corr(dfo['price_kv_m']))"
   ]
  },
  {
   "cell_type": "markdown",
   "metadata": {},
   "source": [
    "Близость к центру - встречается множество предложений с ценой в 2 раза выше средней, при максимальной близости к центру."
   ]
  },
  {
   "cell_type": "code",
   "execution_count": 19,
   "metadata": {},
   "outputs": [
    {
     "data": {
      "image/png": "[encoded data removed]",
      "text/plain": [
       "<Figure size 432x288 with 1 Axes>"
      ]
     },
     "metadata": {
      "needs_background": "light"
     },
     "output_type": "display_data"
    }
   ],
   "source": [
    "#Зависимость цены от этажа.\n",
    "\n",
    "zet = dfo.pivot_table(index = 'floor2', values = 'price_kv_m', aggfunc = ['mean', 'count', 'median'])\n",
    "zet.columns = ['mean', 'count', 'median']\n",
    "zet.plot(y = 'median', legend = True)\n",
    "plt.xlabel('Этаж')\n",
    "plt.ylabel('Стоимость кв.метра')\n",
    "plt.show()"
   ]
  },
  {
   "cell_type": "markdown",
   "metadata": {},
   "source": [
    "Этаж - первый этаж классически дешевле, чем остальные. Разница с последним небольшая, около 9%. Помещения на \"других\" этажах дороже, чем первый или последний."
   ]
  },
  {
   "cell_type": "code",
   "execution_count": 20,
   "metadata": {},
   "outputs": [
    {
     "data": {
      "image/png": "[encoded data removed]",
      "text/plain": [
       "<Figure size 432x288 with 1 Axes>"
      ]
     },
     "metadata": {
      "needs_background": "light"
     },
     "output_type": "display_data"
    },
    {
     "data": {
      "image/png": "[encoded data removed]",
      "text/plain": [
       "<Figure size 432x288 with 1 Axes>"
      ]
     },
     "metadata": {
      "needs_background": "light"
     },
     "output_type": "display_data"
    }
   ],
   "source": [
    "#Зависимость цены от даты размещения.\n",
    "\n",
    "z_day = dfo.pivot_table(index = 'weekday', values = 'price_kv_m', aggfunc = ['mean', 'count', 'median'])\n",
    "z_day.columns = ['mean', 'count', 'median']\n",
    "z_day.plot(y = 'median', legend = True)\n",
    "plt.xlabel('День недели')\n",
    "plt.ylabel('Стоимость кв.метра')\n",
    "plt.show()\n",
    "\n",
    "#Зависимость стоимости кв. метра от даты размещения: месяца.\n",
    "\n",
    "z_m = dfo.pivot_table(index = 'month', values = 'price_kv_m', aggfunc = ['mean', 'count', 'median'])\n",
    "z_m.columns = ['mean', 'count', 'median']\n",
    "z_m.plot(y = 'median', legend = True)\n",
    "plt.xlabel('Месяц')\n",
    "plt.ylabel('Стоимость кв.метра')\n",
    "plt.show()"
   ]
  },
  {
   "cell_type": "markdown",
   "metadata": {},
   "source": [
    "День - во вторник самая высокая цена, в субботу самая низкая. Отклонения небольшие.\n",
    "\n",
    "Месяц - в мае самая низкая цена, в марте самая высокая. После лета к осени цена вновь растёт. Также провал цены наблюдается в районе Нового года. Провал на НГ связан с отсутствием денег у людей под конец и начало года. Летом люди в отпусках и меньше касаются вопросов недвижимости.\n",
    "\n",
    "(Оставил старые рассуждения, но это наверно можно удалить, раз связи тут нет)"
   ]
  },
  {
   "cell_type": "code",
   "execution_count": 21,
   "metadata": {},
   "outputs": [
    {
     "data": {
      "image/png": "[encoded data removed]",
      "text/plain": [
       "<Figure size 432x288 with 1 Axes>"
      ]
     },
     "metadata": {
      "needs_background": "light"
     },
     "output_type": "display_data"
    }
   ],
   "source": [
    "#Зависимость стоимости кв. метра от даты размещения: года.\n",
    "\n",
    "z_y = dfo.pivot_table(index = 'year', values = 'price_kv_m', aggfunc = ['mean', 'count', 'median'])\n",
    "z_y.columns = ['mean', 'count', 'median']\n",
    "z_y.plot(y = 'median', legend = True)\n",
    "plt.xlabel('Год')\n",
    "plt.ylabel('Стоимость кв.метра')\n",
    "plt.show()"
   ]
  },
  {
   "cell_type": "markdown",
   "metadata": {},
   "source": [
    "Год - 2014 был с высокой стоимостью квадратного метра, затем цена упала к 2016 году, но постепенно идёт резкий рост к 2019 году, который обогнал стоимость кв.метра 2014 года."
   ]
  },
  {
   "cell_type": "markdown",
   "metadata": {},
   "source": [
    "### Выберите 10 населённых пунктов с наибольшим числом объявлений. Посчитайте среднюю цену квадратного метра в этих населённых пунктах. Выделите среди них населённые пункты с самой высокой и низкой стоимостью жилья."
   ]
  },
  {
   "cell_type": "code",
   "execution_count": 22,
   "metadata": {},
   "outputs": [
    {
     "name": "stdout",
     "output_type": "stream",
     "text": [
      "                   count           mean\n",
      "locality_name                          \n",
      "Санкт-Петербург    11563  105792.624578\n",
      "поселок Мурино       501   85559.809898\n",
      "поселок Шушары       359   78209.189630\n",
      "Всеволожск           301   66770.030597\n",
      "Колпино              272   75030.974936\n",
      "Пушкин               269  100854.906807\n",
      "деревня Кудрово      265   92234.338086\n",
      "поселок Парголово    260   89972.281555\n",
      "Гатчина              237   67942.970403\n",
      "Выборг               170   57822.300021\n",
      "\n",
      "Самая высокая стоимость жилья\n",
      "                 count           mean\n",
      "locality_name                        \n",
      "Санкт-Петербург  11563  105792.624578\n",
      "\n",
      "Самая низкая стоимость жилья\n",
      "               count          mean\n",
      "locality_name                     \n",
      "Выборг           170  57822.300021\n"
     ]
    }
   ],
   "source": [
    "ten = dfo.pivot_table(index = 'locality_name', values = 'price_kv_m', aggfunc=['count', 'mean'])\n",
    "ten.columns = ['count', 'mean']\n",
    "ten = ten.sort_values('count', ascending = False).head(10)\n",
    "print(ten)\n",
    "print('')\n",
    "print('Самая высокая стоимость жилья')\n",
    "print((ten[ten['mean'] == ten['mean'].max()]))\n",
    "print('')\n",
    "print('Самая низкая стоимость жилья')\n",
    "print(ten[ten['mean'] == ten['mean'].min()])"
   ]
  },
  {
   "cell_type": "markdown",
   "metadata": {},
   "source": [
    "<b>Вывод</b>"
   ]
  },
  {
   "cell_type": "markdown",
   "metadata": {},
   "source": [
    "Самая высокая стоимость в ТОП-10 - Санкт-Петербург. Самая низкая стоимость в ТОП-10 это Выборг."
   ]
  },
  {
   "cell_type": "markdown",
   "metadata": {},
   "source": [
    "### Изучите предложения квартир: для каждой квартиры есть информация о расстоянии до центра. Выделите квартиры в Санкт-Петербурге ('locality_name'). Ваша задача — выяснить, какая область входит в центр. Создайте столбец с расстоянием до центра в километрах: округлите до целых значений. После этого посчитайте среднюю цену для каждого километра. Постройте график: он должен показывать, как цена зависит от удалённости от центра. Определите границу, где график сильно меняется — это и будет центральная зона."
   ]
  },
  {
   "cell_type": "code",
   "execution_count": 23,
   "metadata": {},
   "outputs": [
    {
     "name": "stderr",
     "output_type": "stream",
     "text": [
      "<ipython-input-23-066edae97d4d>:1: SettingWithCopyWarning: \n",
      "A value is trying to be set on a copy of a slice from a DataFrame.\n",
      "Try using .loc[row_indexer,col_indexer] = value instead\n",
      "\n",
      "See the caveats in the documentation: https://pandas.pydata.org/pandas-docs/stable/user_guide/indexing.html#returning-a-view-versus-a-copy\n",
      "  dfo['cityCenters_nearest'] = df['cityCenters_nearest'].fillna(30000)\n",
      "<ipython-input-23-066edae97d4d>:2: SettingWithCopyWarning: \n",
      "A value is trying to be set on a copy of a slice from a DataFrame.\n",
      "Try using .loc[row_indexer,col_indexer] = value instead\n",
      "\n",
      "See the caveats in the documentation: https://pandas.pydata.org/pandas-docs/stable/user_guide/indexing.html#returning-a-view-versus-a-copy\n",
      "  dfo['cityCenters_nearest'] = dfo['cityCenters_nearest'] / 1000\n",
      "<ipython-input-23-066edae97d4d>:3: SettingWithCopyWarning: \n",
      "A value is trying to be set on a copy of a slice from a DataFrame.\n",
      "Try using .loc[row_indexer,col_indexer] = value instead\n",
      "\n",
      "See the caveats in the documentation: https://pandas.pydata.org/pandas-docs/stable/user_guide/indexing.html#returning-a-view-versus-a-copy\n",
      "  dfo['cityCenters_nearest'] = dfo['cityCenters_nearest'].astype('int')\n"
     ]
    },
    {
     "data": {
      "image/png": "[encoded data removed]",
      "text/plain": [
       "<Figure size 432x288 with 1 Axes>"
      ]
     },
     "metadata": {
      "needs_background": "light"
     },
     "output_type": "display_data"
    },
    {
     "name": "stdout",
     "output_type": "stream",
     "text": [
      "                        price_kv_m\n",
      "cityCenters_nearest               \n",
      "0                    124612.740912\n",
      "1                    119490.529839\n",
      "2                    114987.889241\n",
      "3                    109560.803812\n",
      "4                    122177.168394\n",
      "5                    122333.988439\n",
      "6                    121836.052501\n",
      "7                    120523.887984\n",
      "8                    112480.011209\n",
      "9                    106259.173353\n",
      "10                   106676.699822\n",
      "11                   103967.505313\n",
      "12                   106303.092063\n",
      "13                   104765.288303\n",
      "14                   102384.968591\n",
      "15                    99575.287249\n",
      "16                    98127.611864\n",
      "17                    92815.795886\n",
      "18                    94279.385751\n",
      "19                    94335.523049\n",
      "20                   102874.291970\n",
      "21                    89561.773179\n",
      "22                    84339.420318\n",
      "23                    90910.749407\n",
      "24                    80746.335837\n",
      "25                    92206.835864\n",
      "26                    55118.977673\n",
      "27                   132115.709459\n",
      "28                    81840.638722\n",
      "29                    65460.203079\n",
      "30                   105065.857590\n"
     ]
    }
   ],
   "source": [
    "dfo['cityCenters_nearest'] = df['cityCenters_nearest'].fillna(30000)\n",
    "dfo['cityCenters_nearest'] = dfo['cityCenters_nearest'] / 1000\n",
    "dfo['cityCenters_nearest'] = dfo['cityCenters_nearest'].astype('int')\n",
    "dfSPB = dfo.query('locality_name == \"Санкт-Петербург\"').pivot_table(index = 'cityCenters_nearest', values = 'price_kv_m', aggfunc = 'mean')\n",
    "dfSPB.plot(y = 'price_kv_m', legend = True)\n",
    "plt.xlabel('Расстояние до центра, км')\n",
    "plt.ylabel('Стоимость кв.метра')\n",
    "plt.show()\n",
    "print(dfSPB)"
   ]
  },
  {
   "cell_type": "markdown",
   "metadata": {},
   "source": [
    "<b>Вывод</b>"
   ]
  },
  {
   "cell_type": "markdown",
   "metadata": {},
   "source": [
    "Выделим радиус 3 км как центральную зону."
   ]
  },
  {
   "cell_type": "markdown",
   "metadata": {},
   "source": [
    "### Выделите сегмент квартир в центре. Проанализируйте эту территорию и изучите следующие параметры: площадь, цена, число комнат, высота потолков. Также выделите факторы, которые влияют на стоимость квартиры (число комнат, этаж, удалённость от центра, дата размещения объявления). Сделайте выводы. Отличаются ли они от общих выводов по всему городу?"
   ]
  },
  {
   "cell_type": "code",
   "execution_count": 24,
   "metadata": {
    "scrolled": false
   },
   "outputs": [
    {
     "data": {
      "image/png": "[encoded data removed]",
      "text/plain": [
       "<Figure size 432x288 with 1 Axes>"
      ]
     },
     "metadata": {
      "needs_background": "light"
     },
     "output_type": "display_data"
    },
    {
     "data": {
      "text/html": [
       "<div>\n",
       "<style scoped>\n",
       "    .dataframe tbody tr th:only-of-type {\n",
       "        vertical-align: middle;\n",
       "    }\n",
       "\n",
       "    .dataframe tbody tr th {\n",
       "        vertical-align: top;\n",
       "    }\n",
       "\n",
       "    .dataframe thead th {\n",
       "        text-align: right;\n",
       "    }\n",
       "</style>\n",
       "<table border=\"1\" class=\"dataframe\">\n",
       "  <thead>\n",
       "    <tr style=\"text-align: right;\">\n",
       "      <th></th>\n",
       "      <th>mean</th>\n",
       "      <th>count</th>\n",
       "      <th>median</th>\n",
       "    </tr>\n",
       "    <tr>\n",
       "      <th>total_area</th>\n",
       "      <th></th>\n",
       "      <th></th>\n",
       "      <th></th>\n",
       "    </tr>\n",
       "  </thead>\n",
       "  <tbody>\n",
       "    <tr>\n",
       "      <th>13.0</th>\n",
       "      <td>292307.692308</td>\n",
       "      <td>1</td>\n",
       "      <td>292307.692308</td>\n",
       "    </tr>\n",
       "    <tr>\n",
       "      <th>25.0</th>\n",
       "      <td>240000.040000</td>\n",
       "      <td>1</td>\n",
       "      <td>240000.040000</td>\n",
       "    </tr>\n",
       "    <tr>\n",
       "      <th>45.7</th>\n",
       "      <td>227571.115974</td>\n",
       "      <td>1</td>\n",
       "      <td>227571.115974</td>\n",
       "    </tr>\n",
       "    <tr>\n",
       "      <th>42.7</th>\n",
       "      <td>226440.281030</td>\n",
       "      <td>2</td>\n",
       "      <td>226440.281030</td>\n",
       "    </tr>\n",
       "    <tr>\n",
       "      <th>60.6</th>\n",
       "      <td>221122.112211</td>\n",
       "      <td>1</td>\n",
       "      <td>221122.112211</td>\n",
       "    </tr>\n",
       "    <tr>\n",
       "      <th>...</th>\n",
       "      <td>...</td>\n",
       "      <td>...</td>\n",
       "      <td>...</td>\n",
       "    </tr>\n",
       "    <tr>\n",
       "      <th>110.6</th>\n",
       "      <td>67811.934901</td>\n",
       "      <td>1</td>\n",
       "      <td>67811.934901</td>\n",
       "    </tr>\n",
       "    <tr>\n",
       "      <th>147.0</th>\n",
       "      <td>66666.666667</td>\n",
       "      <td>1</td>\n",
       "      <td>66666.666667</td>\n",
       "    </tr>\n",
       "    <tr>\n",
       "      <th>48.8</th>\n",
       "      <td>63524.590164</td>\n",
       "      <td>1</td>\n",
       "      <td>63524.590164</td>\n",
       "    </tr>\n",
       "    <tr>\n",
       "      <th>147.8</th>\n",
       "      <td>62922.868742</td>\n",
       "      <td>1</td>\n",
       "      <td>62922.868742</td>\n",
       "    </tr>\n",
       "    <tr>\n",
       "      <th>120.4</th>\n",
       "      <td>62126.245847</td>\n",
       "      <td>1</td>\n",
       "      <td>62126.245847</td>\n",
       "    </tr>\n",
       "  </tbody>\n",
       "</table>\n",
       "<p>342 rows × 3 columns</p>\n",
       "</div>"
      ],
      "text/plain": [
       "                     mean  count         median\n",
       "total_area                                     \n",
       "13.0        292307.692308      1  292307.692308\n",
       "25.0        240000.040000      1  240000.040000\n",
       "45.7        227571.115974      1  227571.115974\n",
       "42.7        226440.281030      2  226440.281030\n",
       "60.6        221122.112211      1  221122.112211\n",
       "...                   ...    ...            ...\n",
       "110.6        67811.934901      1   67811.934901\n",
       "147.0        66666.666667      1   66666.666667\n",
       "48.8         63524.590164      1   63524.590164\n",
       "147.8        62922.868742      1   62922.868742\n",
       "120.4        62126.245847      1   62126.245847\n",
       "\n",
       "[342 rows x 3 columns]"
      ]
     },
     "execution_count": 24,
     "metadata": {},
     "output_type": "execute_result"
    }
   ],
   "source": [
    "cspb = dfo.query('cityCenters_nearest <= 3 and locality_name == \"Санкт-Петербург\"')\n",
    "\n",
    "#Зависимость стоимости кв. метра от площади.\n",
    "\n",
    "cspb_zpl = cspb.pivot_table(index = 'total_area', values = 'price_kv_m', aggfunc = ['mean', 'count', 'median'])\n",
    "cspb_zpl.columns = ['mean', 'count', 'median']\n",
    "cspb_zpl.plot(y = 'median', style = 'o', legend = True, alpha = 0.3)\n",
    "plt.xlabel('Площадь квартиры в м')\n",
    "plt.ylabel('Стоимость кв.метра')\n",
    "plt.show()\n",
    "cspb_zpl.sort_values('median', ascending = False)"
   ]
  },
  {
   "cell_type": "markdown",
   "metadata": {},
   "source": [
    "Вновь взглянем на гистограммы.\n",
    "\n",
    "Площадь - нет отличий от выводов по всему городу. От увеличения площади стоимость квадратного метра не растёт. В целом цена квадратного метра в центре выше, чем по всему городу."
   ]
  },
  {
   "cell_type": "code",
   "execution_count": 25,
   "metadata": {},
   "outputs": [
    {
     "data": {
      "image/png": "[encoded data removed]",
      "text/plain": [
       "<Figure size 432x288 with 1 Axes>"
      ]
     },
     "metadata": {
      "needs_background": "light"
     },
     "output_type": "display_data"
    },
    {
     "data": {
      "text/html": [
       "<div>\n",
       "<style scoped>\n",
       "    .dataframe tbody tr th:only-of-type {\n",
       "        vertical-align: middle;\n",
       "    }\n",
       "\n",
       "    .dataframe tbody tr th {\n",
       "        vertical-align: top;\n",
       "    }\n",
       "\n",
       "    .dataframe thead th {\n",
       "        text-align: right;\n",
       "    }\n",
       "</style>\n",
       "<table border=\"1\" class=\"dataframe\">\n",
       "  <thead>\n",
       "    <tr style=\"text-align: right;\">\n",
       "      <th></th>\n",
       "      <th>mean</th>\n",
       "      <th>count</th>\n",
       "      <th>median</th>\n",
       "    </tr>\n",
       "    <tr>\n",
       "      <th>rooms</th>\n",
       "      <th></th>\n",
       "      <th></th>\n",
       "      <th></th>\n",
       "    </tr>\n",
       "  </thead>\n",
       "  <tbody>\n",
       "    <tr>\n",
       "      <th>1</th>\n",
       "      <td>139602.803393</td>\n",
       "      <td>80</td>\n",
       "      <td>126521.950036</td>\n",
       "    </tr>\n",
       "    <tr>\n",
       "      <th>2</th>\n",
       "      <td>120887.220969</td>\n",
       "      <td>232</td>\n",
       "      <td>114680.671254</td>\n",
       "    </tr>\n",
       "    <tr>\n",
       "      <th>3</th>\n",
       "      <td>108384.534391</td>\n",
       "      <td>213</td>\n",
       "      <td>102228.047182</td>\n",
       "    </tr>\n",
       "    <tr>\n",
       "      <th>4</th>\n",
       "      <td>98741.012786</td>\n",
       "      <td>99</td>\n",
       "      <td>95931.882687</td>\n",
       "    </tr>\n",
       "    <tr>\n",
       "      <th>5</th>\n",
       "      <td>90497.612506</td>\n",
       "      <td>42</td>\n",
       "      <td>87492.182614</td>\n",
       "    </tr>\n",
       "  </tbody>\n",
       "</table>\n",
       "</div>"
      ],
      "text/plain": [
       "                mean  count         median\n",
       "rooms                                     \n",
       "1      139602.803393     80  126521.950036\n",
       "2      120887.220969    232  114680.671254\n",
       "3      108384.534391    213  102228.047182\n",
       "4       98741.012786     99   95931.882687\n",
       "5       90497.612506     42   87492.182614"
      ]
     },
     "execution_count": 25,
     "metadata": {},
     "output_type": "execute_result"
    }
   ],
   "source": [
    "#Зависимость стоимости кв. метра от количества комнат.\n",
    "\n",
    "cspb_rooms = cspb.pivot_table(index='rooms', values='price_kv_m', aggfunc=['mean', 'count', 'median'])\n",
    "cspb_rooms.columns = ['mean', 'count', 'median']\n",
    "cspb_rooms.query('count > 20').plot(y = 'median', legend = True)\n",
    "plt.xlabel('Комнаты')\n",
    "plt.ylabel('Стоимость кв.метра')\n",
    "plt.show()\n",
    "cspb_rooms.query('count > 20').sort_values('median', ascending = False)"
   ]
  },
  {
   "cell_type": "markdown",
   "metadata": {},
   "source": [
    "Комнаты - квартиры с 5 комнатами имеют наименьшую цену квадратного метра. Отличия от прошлого случая, лишь в стоимости квадратного метра - здесь она выше."
   ]
  },
  {
   "cell_type": "code",
   "execution_count": 26,
   "metadata": {},
   "outputs": [
    {
     "data": {
      "image/png": "[encoded data removed]",
      "text/plain": [
       "<Figure size 432x288 with 1 Axes>"
      ]
     },
     "metadata": {
      "needs_background": "light"
     },
     "output_type": "display_data"
    }
   ],
   "source": [
    "#Зависимость стоимости кв. метра от этажа.\n",
    "\n",
    "cspb_et = cspb.pivot_table(index = 'floor2', values = 'price_kv_m', aggfunc = ['mean', 'count', 'median'])\n",
    "cspb_et.columns = ['mean', 'count', 'median']\n",
    "cspb_et.plot(y = 'median', legend = True)\n",
    "plt.xlabel('Этаж')\n",
    "plt.ylabel('Стоимость кв.метра')\n",
    "plt.show()"
   ]
  },
  {
   "cell_type": "markdown",
   "metadata": {},
   "source": [
    "Этаж - особых отличий нет, первый этаж самый доступный по цене. Последний в центре намного ближе по цене к самому дорогому из других, чем в остальном городе."
   ]
  },
  {
   "cell_type": "code",
   "execution_count": 27,
   "metadata": {},
   "outputs": [
    {
     "data": {
      "image/png": "[encoded data removed]",
      "text/plain": [
       "<Figure size 432x288 with 1 Axes>"
      ]
     },
     "metadata": {
      "needs_background": "light"
     },
     "output_type": "display_data"
    },
    {
     "data": {
      "image/png": "[encoded data removed]",
      "text/plain": [
       "<Figure size 432x288 with 1 Axes>"
      ]
     },
     "metadata": {
      "needs_background": "light"
     },
     "output_type": "display_data"
    }
   ],
   "source": [
    "#Зависимость стоимости кв. метра от даты размещения: дня недели.\n",
    "\n",
    "cspb_day = cspb.pivot_table(index = 'weekday', values = 'price_kv_m', aggfunc = ['mean', 'count', 'median'])\n",
    "cspb_day.columns = ['mean', 'count', 'median']\n",
    "cspb_day.plot(y = 'median')\n",
    "plt.xlabel('День недели')\n",
    "plt.ylabel('Стоимость кв.метра')\n",
    "plt.show()\n",
    "\n",
    "#Зависимость стоимости кв. метра от даты размещения: месяца.\n",
    "\n",
    "cspb_m = cspb.pivot_table(index = 'month', values = 'price_kv_m', aggfunc = ['mean', 'count', 'median'])\n",
    "cspb_m.columns = ['mean', 'count', 'median']\n",
    "cspb_m.plot(y = 'median')\n",
    "plt.xlabel('Месяц')\n",
    "plt.ylabel('Стоимость кв.метра')\n",
    "plt.show()"
   ]
  },
  {
   "cell_type": "markdown",
   "metadata": {},
   "source": [
    "День - ситуация отличается на 180 градусов от прошлого вывода по дням, в будни цены ниже, к выходным повышаются. Вторник - самые низкие цены, воскресенье - самые высокие.\n",
    "\n",
    "Месяц - подъём в начале весны, спад к лету, подъём к осени, спад после НГ. Похоже на ситуацию во всём городе, кроме резких скачков в феврале-апреле.\n",
    "\n",
    "(Просто оставил старый вывод, смысла рассматривать это нет)"
   ]
  },
  {
   "cell_type": "code",
   "execution_count": 28,
   "metadata": {},
   "outputs": [
    {
     "data": {
      "image/png": "[encoded data removed]",
      "text/plain": [
       "<Figure size 432x288 with 1 Axes>"
      ]
     },
     "metadata": {
      "needs_background": "light"
     },
     "output_type": "display_data"
    }
   ],
   "source": [
    "#Зависимость стоимости кв. метра от даты размещения: года.\n",
    "\n",
    "cspb_y = cspb.pivot_table(index = 'year', values = 'price_kv_m', aggfunc = ['mean', 'count', 'median'])\n",
    "cspb_y.columns = ['mean', 'count', 'median']\n",
    "cspb_y.plot(y = 'median', legend = True)\n",
    "plt.xlabel('Год')\n",
    "plt.ylabel('Стоимость кв.метра')\n",
    "plt.show()"
   ]
  },
  {
   "cell_type": "markdown",
   "metadata": {},
   "source": [
    "Нет отличий от выводов по всему городу. Резкий обвал цен в 2015, затем постепенный подъём, и новый рекорд цены квадратного метра в 2019."
   ]
  },
  {
   "cell_type": "code",
   "execution_count": 29,
   "metadata": {},
   "outputs": [
    {
     "data": {
      "image/png": "[encoded data removed]",
      "text/plain": [
       "<Figure size 432x288 with 1 Axes>"
      ]
     },
     "metadata": {
      "needs_background": "light"
     },
     "output_type": "display_data"
    }
   ],
   "source": [
    "#Зависимость стоимости кв. метра от удалённости от центра.\n",
    "\n",
    "cspb_uc = cspb.pivot_table(index = 'cityCenters_nearest', values = 'price_kv_m', aggfunc = ['mean', 'count', 'median'])\n",
    "cspb_uc.columns = ['mean', 'count', 'median']\n",
    "cspb_uc.plot(y = 'median', legend = True)\n",
    "plt.xlabel('Расстояние до центра, км')\n",
    "plt.ylabel('Стоимость кв.метра')\n",
    "plt.show()"
   ]
  },
  {
   "cell_type": "markdown",
   "metadata": {},
   "source": [
    "Близость к центру - чем ближе к центру, тем дороже."
   ]
  },
  {
   "cell_type": "markdown",
   "metadata": {},
   "source": [
    "## Общий вывод"
   ]
  },
  {
   "cell_type": "markdown",
   "metadata": {},
   "source": [
    "Обработана информация о рынке недвижимости. Проведена оценка насколько влияют различные факторы на цену квадратного метра.\n",
    "\n",
    "- Самая высокая стоимость жилья в Санкт-Петербурге. Самая низкая в Выборге (ТОП-10 населённых пунктов с наибольшим числом объявлений)\n",
    "- Область входящая в центр равняется радиусу 3 километров.\n",
    "- В 2014 году была высокая цена, которая упала к 2016 году, затем постепенно начался рост и к 2019 году стоимость стала больше, чем в 2014 году.\n",
    "- Первый этаж имеет самую низкую цену. По городу около 80000 за кв.м., в центре 100000 за кв.м.\n",
    "- Последний этаж стоит дороже, чем первый, но зачастую дешевле, чем остальные другие этажи. По городу 88000 за кв.м., в центре 106500 за кв.м.\n",
    "- Цена стоимости квадратного метра падает при увеличении числа комнат. Ситуация по центру: 1 комната - 125000 за кв.м., 5 комнат - 90000 за кв.м. Остальной город: 0-1 комната - около 105000 за кв.м., 5 комнат - около 85000 за кв.м. В центре нет предложений с \"0\" комнат.\n",
    "- Высота потолков в среднем составляет 2,7 метра.\n",
    "- Продажа квартиры считается очень долгой, если объявление держится более 500 дней.\n",
    "- Ситуация на рынке недвижимости в центре частично отличается от всего города. Стоимость квадратного метра становится выше, чем ближе находится квартира к центру города."
   ]
  }
 ],
 "metadata": {
  "ExecuteTimeLog": [
   {
    "duration": 803,
    "start_time": "2021-07-18T17:15:17.026Z"
   },
   {
    "duration": 73,
    "start_time": "2021-07-18T17:18:15.036Z"
   },
   {
    "duration": 73,
    "start_time": "2021-07-18T17:18:23.679Z"
   },
   {
    "duration": 72,
    "start_time": "2021-07-18T17:19:41.559Z"
   },
   {
    "duration": 73,
    "start_time": "2021-07-18T17:20:55.651Z"
   },
   {
    "duration": 72,
    "start_time": "2021-07-18T17:20:58.028Z"
   },
   {
    "duration": 75,
    "start_time": "2021-07-18T17:21:00.431Z"
   },
   {
    "duration": 73,
    "start_time": "2021-07-18T17:21:17.983Z"
   },
   {
    "duration": 629,
    "start_time": "2021-07-18T17:22:39.231Z"
   },
   {
    "duration": 72,
    "start_time": "2021-07-18T17:22:44.070Z"
   },
   {
    "duration": 108,
    "start_time": "2021-07-18T17:22:50.124Z"
   },
   {
    "duration": 74,
    "start_time": "2021-07-18T17:22:57.471Z"
   },
   {
    "duration": 68,
    "start_time": "2021-07-18T17:23:37.879Z"
   },
   {
    "duration": 75,
    "start_time": "2021-07-18T17:30:27.772Z"
   },
   {
    "duration": 79,
    "start_time": "2021-07-18T17:30:45.509Z"
   },
   {
    "duration": 73,
    "start_time": "2021-07-18T17:30:58.781Z"
   },
   {
    "duration": 113,
    "start_time": "2021-07-18T17:31:11.989Z"
   },
   {
    "duration": 74,
    "start_time": "2021-07-18T17:31:27.350Z"
   },
   {
    "duration": 109,
    "start_time": "2021-07-18T17:31:58.774Z"
   },
   {
    "duration": 99,
    "start_time": "2021-07-18T17:32:10.557Z"
   },
   {
    "duration": 95,
    "start_time": "2021-07-18T17:32:49.685Z"
   },
   {
    "duration": 96,
    "start_time": "2021-07-18T17:33:59.293Z"
   },
   {
    "duration": 116,
    "start_time": "2021-07-18T17:34:19.837Z"
   },
   {
    "duration": 120,
    "start_time": "2021-07-18T17:34:22.445Z"
   },
   {
    "duration": 98,
    "start_time": "2021-07-18T17:34:29.965Z"
   },
   {
    "duration": 508,
    "start_time": "2021-07-18T17:35:15.765Z"
   },
   {
    "duration": 89,
    "start_time": "2021-07-18T17:35:19.805Z"
   },
   {
    "duration": 106,
    "start_time": "2021-07-18T17:46:11.117Z"
   },
   {
    "duration": 97,
    "start_time": "2021-07-18T17:57:08.371Z"
   },
   {
    "duration": 94,
    "start_time": "2021-07-18T17:57:24.230Z"
   },
   {
    "duration": 100,
    "start_time": "2021-07-18T17:57:37.590Z"
   },
   {
    "duration": 98,
    "start_time": "2021-07-18T17:57:49.318Z"
   },
   {
    "duration": 101,
    "start_time": "2021-07-18T17:58:12.461Z"
   },
   {
    "duration": 92,
    "start_time": "2021-07-18T17:58:28.510Z"
   },
   {
    "duration": 95,
    "start_time": "2021-07-18T17:59:18.118Z"
   },
   {
    "duration": 96,
    "start_time": "2021-07-18T17:59:27.590Z"
   },
   {
    "duration": 95,
    "start_time": "2021-07-18T17:59:39.941Z"
   },
   {
    "duration": 99,
    "start_time": "2021-07-18T18:00:00.478Z"
   },
   {
    "duration": 94,
    "start_time": "2021-07-18T18:00:12.782Z"
   },
   {
    "duration": 93,
    "start_time": "2021-07-18T18:00:49.582Z"
   },
   {
    "duration": 96,
    "start_time": "2021-07-18T18:00:55.909Z"
   },
   {
    "duration": 94,
    "start_time": "2021-07-18T18:01:04.958Z"
   },
   {
    "duration": 98,
    "start_time": "2021-07-18T18:01:12.278Z"
   },
   {
    "duration": 94,
    "start_time": "2021-07-18T18:01:22.942Z"
   },
   {
    "duration": 93,
    "start_time": "2021-07-18T18:01:34.110Z"
   },
   {
    "duration": 93,
    "start_time": "2021-07-18T18:01:42.334Z"
   },
   {
    "duration": 96,
    "start_time": "2021-07-18T18:01:53.477Z"
   },
   {
    "duration": 94,
    "start_time": "2021-07-18T18:02:02.237Z"
   },
   {
    "duration": 95,
    "start_time": "2021-07-18T18:02:15.734Z"
   },
   {
    "duration": 95,
    "start_time": "2021-07-18T18:02:21.352Z"
   },
   {
    "duration": 410,
    "start_time": "2021-07-18T18:06:45.398Z"
   },
   {
    "duration": 447,
    "start_time": "2021-07-18T18:06:51.206Z"
   },
   {
    "duration": 97,
    "start_time": "2021-07-18T18:06:53.797Z"
   },
   {
    "duration": 348,
    "start_time": "2021-07-18T18:06:55.822Z"
   },
   {
    "duration": 344,
    "start_time": "2021-07-18T18:07:03.238Z"
   },
   {
    "duration": 315,
    "start_time": "2021-07-18T18:08:41.878Z"
   },
   {
    "duration": 22,
    "start_time": "2021-07-18T18:08:50.606Z"
   },
   {
    "duration": 22,
    "start_time": "2021-07-18T18:09:09.373Z"
   },
   {
    "duration": 310,
    "start_time": "2021-07-18T18:09:14.294Z"
   },
   {
    "duration": 325,
    "start_time": "2021-07-18T18:09:53.102Z"
   },
   {
    "duration": 365,
    "start_time": "2021-07-18T18:10:03.630Z"
   },
   {
    "duration": 23,
    "start_time": "2021-07-18T18:10:32.406Z"
   },
   {
    "duration": 339,
    "start_time": "2021-07-18T18:11:02.470Z"
   },
   {
    "duration": 336,
    "start_time": "2021-07-18T18:11:11.838Z"
   },
   {
    "duration": 23,
    "start_time": "2021-07-18T18:11:27.278Z"
   },
   {
    "duration": 383,
    "start_time": "2021-07-18T18:12:21.854Z"
   },
   {
    "duration": 27,
    "start_time": "2021-07-18T18:12:28.014Z"
   },
   {
    "duration": 27,
    "start_time": "2021-07-18T18:12:52.598Z"
   },
   {
    "duration": 38,
    "start_time": "2021-07-18T18:13:59.470Z"
   },
   {
    "duration": 38,
    "start_time": "2021-07-18T18:14:10.150Z"
   },
   {
    "duration": 40,
    "start_time": "2021-07-18T18:14:28.046Z"
   },
   {
    "duration": 381,
    "start_time": "2021-07-18T18:14:45.806Z"
   },
   {
    "duration": 46,
    "start_time": "2021-07-18T18:15:09.846Z"
   },
   {
    "duration": 47,
    "start_time": "2021-07-18T18:16:11.142Z"
   },
   {
    "duration": 108,
    "start_time": "2021-07-18T18:16:19.863Z"
   },
   {
    "duration": 95,
    "start_time": "2021-07-18T18:16:42.678Z"
   },
   {
    "duration": 40,
    "start_time": "2021-07-18T18:16:45.798Z"
   },
   {
    "duration": 38,
    "start_time": "2021-07-18T18:18:18.358Z"
   },
   {
    "duration": 94,
    "start_time": "2021-07-18T18:18:22.086Z"
   },
   {
    "duration": 36,
    "start_time": "2021-07-18T18:18:23.966Z"
   },
   {
    "duration": 145,
    "start_time": "2021-07-18T18:19:27.694Z"
   },
   {
    "duration": 117,
    "start_time": "2021-07-18T18:28:00.390Z"
   },
   {
    "duration": 104,
    "start_time": "2021-07-18T18:29:47.014Z"
   },
   {
    "duration": 33,
    "start_time": "2021-07-18T18:29:48.830Z"
   },
   {
    "duration": 2259,
    "start_time": "2021-07-18T18:32:23.711Z"
   },
   {
    "duration": 2277,
    "start_time": "2021-07-18T18:32:55.727Z"
   },
   {
    "duration": 2368,
    "start_time": "2021-07-18T18:33:00.911Z"
   },
   {
    "duration": 132,
    "start_time": "2021-07-18T18:34:23.639Z"
   },
   {
    "duration": 2325,
    "start_time": "2021-07-18T18:34:41.639Z"
   },
   {
    "duration": 2271,
    "start_time": "2021-07-18T18:34:51.503Z"
   },
   {
    "duration": 2475,
    "start_time": "2021-07-18T18:35:08.064Z"
   },
   {
    "duration": 108,
    "start_time": "2021-07-18T18:35:12.790Z"
   },
   {
    "duration": 2263,
    "start_time": "2021-07-18T18:35:14.831Z"
   },
   {
    "duration": 2235,
    "start_time": "2021-07-18T18:35:45.831Z"
   },
   {
    "duration": 3094,
    "start_time": "2021-07-18T18:36:19.543Z"
   },
   {
    "duration": 3125,
    "start_time": "2021-07-18T18:36:41.671Z"
   },
   {
    "duration": 2340,
    "start_time": "2021-07-18T18:36:51.247Z"
   },
   {
    "duration": 3922,
    "start_time": "2021-07-18T18:37:56.351Z"
   },
   {
    "duration": 3457,
    "start_time": "2021-07-18T18:38:10.103Z"
   },
   {
    "duration": 106,
    "start_time": "2021-07-18T18:38:16.879Z"
   },
   {
    "duration": 3255,
    "start_time": "2021-07-18T18:38:22.255Z"
   },
   {
    "duration": 3271,
    "start_time": "2021-07-18T18:38:30.687Z"
   },
   {
    "duration": 3180,
    "start_time": "2021-07-18T18:38:40.367Z"
   },
   {
    "duration": 105,
    "start_time": "2021-07-18T18:38:47.743Z"
   },
   {
    "duration": 3240,
    "start_time": "2021-07-18T18:38:52.263Z"
   },
   {
    "duration": 3390,
    "start_time": "2021-07-18T18:39:19.615Z"
   },
   {
    "duration": 118,
    "start_time": "2021-07-18T18:39:25.670Z"
   },
   {
    "duration": 3310,
    "start_time": "2021-07-18T18:39:27.847Z"
   },
   {
    "duration": 13,
    "start_time": "2021-07-18T18:42:14.111Z"
   },
   {
    "duration": 8,
    "start_time": "2021-07-18T18:42:42.830Z"
   },
   {
    "duration": 323,
    "start_time": "2021-07-18T18:44:53.415Z"
   },
   {
    "duration": 108,
    "start_time": "2021-07-18T18:45:14.351Z"
   },
   {
    "duration": 3161,
    "start_time": "2021-07-18T18:45:16.191Z"
   },
   {
    "duration": 315,
    "start_time": "2021-07-18T18:45:21.191Z"
   },
   {
    "duration": 344,
    "start_time": "2021-07-18T18:46:55.063Z"
   },
   {
    "duration": 347,
    "start_time": "2021-07-18T18:47:03.822Z"
   },
   {
    "duration": 8182,
    "start_time": "2021-07-18T18:47:14.767Z"
   },
   {
    "duration": 97,
    "start_time": "2021-07-18T18:47:26.862Z"
   },
   {
    "duration": 35,
    "start_time": "2021-07-18T18:47:35.032Z"
   },
   {
    "duration": 8165,
    "start_time": "2021-07-18T18:47:39.439Z"
   },
   {
    "duration": 9,
    "start_time": "2021-07-18T18:47:52.199Z"
   },
   {
    "duration": 9,
    "start_time": "2021-07-18T18:48:38.119Z"
   },
   {
    "duration": 3281,
    "start_time": "2021-07-18T19:44:14.169Z"
   },
   {
    "duration": 106,
    "start_time": "2021-07-18T19:44:33.544Z"
   },
   {
    "duration": 3334,
    "start_time": "2021-07-18T19:44:35.609Z"
   },
   {
    "duration": 41,
    "start_time": "2021-07-18T19:44:47.032Z"
   },
   {
    "duration": 36,
    "start_time": "2021-07-18T19:45:36.970Z"
   },
   {
    "duration": 110,
    "start_time": "2021-07-18T19:45:40.112Z"
   },
   {
    "duration": 41,
    "start_time": "2021-07-18T19:45:41.880Z"
   },
   {
    "duration": 15,
    "start_time": "2021-07-18T19:47:43.449Z"
   },
   {
    "duration": 108,
    "start_time": "2021-07-18T19:47:52.632Z"
   },
   {
    "duration": 36,
    "start_time": "2021-07-18T19:47:54.296Z"
   },
   {
    "duration": 2580,
    "start_time": "2021-07-18T19:47:56.448Z"
   },
   {
    "duration": 109,
    "start_time": "2021-07-18T19:48:06.344Z"
   },
   {
    "duration": 32,
    "start_time": "2021-07-18T19:48:09.288Z"
   },
   {
    "duration": 21,
    "start_time": "2021-07-18T19:48:11.018Z"
   },
   {
    "duration": 1380,
    "start_time": "2021-07-19T16:35:59.311Z"
   },
   {
    "duration": 385,
    "start_time": "2021-07-19T16:36:16.377Z"
   },
   {
    "duration": 85,
    "start_time": "2021-07-19T16:37:00.049Z"
   },
   {
    "duration": 24,
    "start_time": "2021-07-19T16:39:54.097Z"
   },
   {
    "duration": 85,
    "start_time": "2021-07-19T16:39:57.745Z"
   },
   {
    "duration": 22,
    "start_time": "2021-07-19T16:39:59.753Z"
   },
   {
    "duration": 19,
    "start_time": "2021-07-19T16:40:03.785Z"
   },
   {
    "duration": 20,
    "start_time": "2021-07-19T16:42:39.233Z"
   },
   {
    "duration": 18,
    "start_time": "2021-07-19T16:42:47.252Z"
   },
   {
    "duration": 17,
    "start_time": "2021-07-19T16:43:16.065Z"
   },
   {
    "duration": 17,
    "start_time": "2021-07-19T17:19:23.969Z"
   },
   {
    "duration": 299,
    "start_time": "2021-07-19T17:19:33.874Z"
   },
   {
    "duration": 18,
    "start_time": "2021-07-19T17:19:42.219Z"
   },
   {
    "duration": 18,
    "start_time": "2021-07-19T17:19:56.683Z"
   },
   {
    "duration": 95,
    "start_time": "2021-07-19T17:20:48.355Z"
   },
   {
    "duration": 88,
    "start_time": "2021-07-19T17:20:56.898Z"
   },
   {
    "duration": 604,
    "start_time": "2021-07-19T17:21:00.794Z"
   },
   {
    "duration": 462,
    "start_time": "2021-07-19T17:21:42.723Z"
   },
   {
    "duration": 438,
    "start_time": "2021-07-19T17:21:44.707Z"
   },
   {
    "duration": 441,
    "start_time": "2021-07-19T17:21:55.299Z"
   },
   {
    "duration": 508,
    "start_time": "2021-07-19T17:21:59.746Z"
   },
   {
    "duration": 545,
    "start_time": "2021-07-19T17:22:20.459Z"
   },
   {
    "duration": 460,
    "start_time": "2021-07-19T17:23:25.587Z"
   },
   {
    "duration": 566,
    "start_time": "2021-07-19T17:23:31.234Z"
   },
   {
    "duration": 550,
    "start_time": "2021-07-19T17:23:47.323Z"
   },
   {
    "duration": 80,
    "start_time": "2021-07-19T17:23:50.242Z"
   },
   {
    "duration": 25,
    "start_time": "2021-07-19T17:23:51.866Z"
   },
   {
    "duration": 540,
    "start_time": "2021-07-19T17:23:53.338Z"
   },
   {
    "duration": 553,
    "start_time": "2021-07-19T17:24:05.250Z"
   },
   {
    "duration": 81,
    "start_time": "2021-07-19T17:24:09.842Z"
   },
   {
    "duration": 23,
    "start_time": "2021-07-19T17:24:11.666Z"
   },
   {
    "duration": 543,
    "start_time": "2021-07-19T17:24:12.818Z"
   },
   {
    "duration": 80,
    "start_time": "2021-07-19T17:28:57.128Z"
   },
   {
    "duration": 27,
    "start_time": "2021-07-19T17:28:58.810Z"
   },
   {
    "duration": 133,
    "start_time": "2021-07-19T17:29:00.091Z"
   },
   {
    "duration": 516,
    "start_time": "2021-07-19T17:29:24.403Z"
   },
   {
    "duration": 41,
    "start_time": "2021-07-19T17:29:34.075Z"
   },
   {
    "duration": 42,
    "start_time": "2021-07-19T17:30:24.091Z"
   },
   {
    "duration": 38,
    "start_time": "2021-07-19T17:30:35.299Z"
   },
   {
    "duration": 38,
    "start_time": "2021-07-19T17:30:52.764Z"
   },
   {
    "duration": 38,
    "start_time": "2021-07-19T17:31:03.804Z"
   },
   {
    "duration": 82,
    "start_time": "2021-07-19T17:31:24.027Z"
   },
   {
    "duration": 24,
    "start_time": "2021-07-19T17:31:25.914Z"
   },
   {
    "duration": 45,
    "start_time": "2021-07-19T17:31:29.348Z"
   },
   {
    "duration": 44,
    "start_time": "2021-07-19T17:31:38.915Z"
   },
   {
    "duration": 37,
    "start_time": "2021-07-19T17:31:48.115Z"
   },
   {
    "duration": 6871,
    "start_time": "2021-07-19T17:32:59.395Z"
   },
   {
    "duration": 75,
    "start_time": "2021-07-19T17:33:12.091Z"
   },
   {
    "duration": 22,
    "start_time": "2021-07-19T17:33:14.066Z"
   },
   {
    "duration": 6702,
    "start_time": "2021-07-19T17:33:15.323Z"
   },
   {
    "duration": 25,
    "start_time": "2021-07-19T17:33:40.652Z"
   },
   {
    "duration": 82,
    "start_time": "2021-07-19T17:33:44.523Z"
   },
   {
    "duration": 23,
    "start_time": "2021-07-19T17:33:47.013Z"
   },
   {
    "duration": 34,
    "start_time": "2021-07-19T17:33:48.532Z"
   },
   {
    "duration": 249,
    "start_time": "2021-07-19T17:35:07.619Z"
   },
   {
    "duration": 543,
    "start_time": "2021-07-19T17:35:46.227Z"
   },
   {
    "duration": 2173,
    "start_time": "2021-07-19T17:35:49.161Z"
   },
   {
    "duration": 750,
    "start_time": "2021-07-19T17:35:59.428Z"
   },
   {
    "duration": 1043,
    "start_time": "2021-07-19T17:36:09.828Z"
   },
   {
    "duration": 191,
    "start_time": "2021-07-19T17:36:13.973Z"
   },
   {
    "duration": 410,
    "start_time": "2021-07-19T17:36:39.827Z"
   },
   {
    "duration": 405,
    "start_time": "2021-07-19T17:36:44.604Z"
   },
   {
    "duration": 432,
    "start_time": "2021-07-19T17:36:57.612Z"
   },
   {
    "duration": 411,
    "start_time": "2021-07-19T17:37:02.524Z"
   },
   {
    "duration": 82,
    "start_time": "2021-07-19T17:37:06.211Z"
   },
   {
    "duration": 25,
    "start_time": "2021-07-19T17:37:07.650Z"
   },
   {
    "duration": 34,
    "start_time": "2021-07-19T17:37:09.451Z"
   },
   {
    "duration": 522,
    "start_time": "2021-07-19T17:37:10.859Z"
   },
   {
    "duration": 195,
    "start_time": "2021-07-19T17:37:14.500Z"
   },
   {
    "duration": 789,
    "start_time": "2021-07-19T17:37:19.803Z"
   },
   {
    "duration": 443,
    "start_time": "2021-07-19T17:37:52.636Z"
   },
   {
    "duration": 467,
    "start_time": "2021-07-19T17:37:56.436Z"
   },
   {
    "duration": 455,
    "start_time": "2021-07-19T17:38:02.507Z"
   },
   {
    "duration": 262,
    "start_time": "2021-07-19T17:38:26.835Z"
   },
   {
    "duration": 470,
    "start_time": "2021-07-19T17:38:31.195Z"
   },
   {
    "duration": 407,
    "start_time": "2021-07-19T17:39:08.643Z"
   },
   {
    "duration": 392,
    "start_time": "2021-07-19T17:39:13.323Z"
   },
   {
    "duration": 172,
    "start_time": "2021-07-19T17:39:25.683Z"
   },
   {
    "duration": 208,
    "start_time": "2021-07-19T17:40:22.691Z"
   },
   {
    "duration": 86,
    "start_time": "2021-07-19T17:40:30.875Z"
   },
   {
    "duration": 24,
    "start_time": "2021-07-19T17:40:32.795Z"
   },
   {
    "duration": 35,
    "start_time": "2021-07-19T17:40:34.292Z"
   },
   {
    "duration": 202,
    "start_time": "2021-07-19T17:40:36.267Z"
   },
   {
    "duration": 661,
    "start_time": "2021-07-19T17:40:44.947Z"
   },
   {
    "duration": 21,
    "start_time": "2021-07-19T17:41:55.028Z"
   },
   {
    "duration": 19,
    "start_time": "2021-07-19T17:42:04.411Z"
   },
   {
    "duration": 188,
    "start_time": "2021-07-19T17:42:16.747Z"
   },
   {
    "duration": 24,
    "start_time": "2021-07-19T17:43:15.275Z"
   },
   {
    "duration": 23,
    "start_time": "2021-07-19T17:43:17.306Z"
   },
   {
    "duration": 69,
    "start_time": "2021-07-19T17:43:22.363Z"
   },
   {
    "duration": 21,
    "start_time": "2021-07-19T17:43:24.547Z"
   },
   {
    "duration": 280,
    "start_time": "2021-07-19T17:43:47.187Z"
   },
   {
    "duration": 74,
    "start_time": "2021-07-19T17:43:50.899Z"
   },
   {
    "duration": 297,
    "start_time": "2021-07-19T17:43:52.723Z"
   },
   {
    "duration": 71,
    "start_time": "2021-07-19T17:44:33.675Z"
   },
   {
    "duration": 23,
    "start_time": "2021-07-19T17:44:35.523Z"
   },
   {
    "duration": 32,
    "start_time": "2021-07-19T17:45:09.395Z"
   },
   {
    "duration": 664,
    "start_time": "2021-07-19T17:45:14.363Z"
   },
   {
    "duration": 71,
    "start_time": "2021-07-19T17:46:11.427Z"
   },
   {
    "duration": 16,
    "start_time": "2021-07-19T17:46:13.411Z"
   },
   {
    "duration": 37,
    "start_time": "2021-07-19T17:46:15.099Z"
   },
   {
    "duration": 645,
    "start_time": "2021-07-19T17:46:16.467Z"
   },
   {
    "duration": 708,
    "start_time": "2021-07-19T17:47:51.171Z"
   },
   {
    "duration": 701,
    "start_time": "2021-07-19T17:48:12.019Z"
   },
   {
    "duration": 765,
    "start_time": "2021-07-19T17:49:06.747Z"
   },
   {
    "duration": 474,
    "start_time": "2021-07-19T17:49:21.012Z"
   },
   {
    "duration": 807,
    "start_time": "2021-07-19T17:49:30.091Z"
   },
   {
    "duration": 1375,
    "start_time": "2021-07-19T17:54:47.692Z"
   },
   {
    "duration": 1020,
    "start_time": "2021-07-19T17:55:21.380Z"
   },
   {
    "duration": 1103,
    "start_time": "2021-07-19T17:55:34.374Z"
   },
   {
    "duration": 1186,
    "start_time": "2021-07-19T17:56:01.900Z"
   },
   {
    "duration": 255378,
    "start_time": "2021-07-19T18:00:25.726Z"
   },
   {
    "duration": 73,
    "start_time": "2021-07-19T18:04:41.106Z"
   },
   {
    "duration": 1087,
    "start_time": "2021-07-19T18:04:54.748Z"
   },
   {
    "duration": 1070,
    "start_time": "2021-07-19T18:05:44.524Z"
   },
   {
    "duration": 85,
    "start_time": "2021-07-19T18:06:58.308Z"
   },
   {
    "duration": 16,
    "start_time": "2021-07-19T18:07:14.571Z"
   },
   {
    "duration": 33,
    "start_time": "2021-07-19T18:07:15.772Z"
   },
   {
    "duration": 1068,
    "start_time": "2021-07-19T18:07:17.404Z"
   },
   {
    "duration": 1309,
    "start_time": "2021-07-19T18:07:55.308Z"
   },
   {
    "duration": 1438,
    "start_time": "2021-07-19T18:08:07.973Z"
   },
   {
    "duration": 1004,
    "start_time": "2021-07-19T18:08:33.932Z"
   },
   {
    "duration": 1062,
    "start_time": "2021-07-19T18:08:42.684Z"
   },
   {
    "duration": 1147,
    "start_time": "2021-07-19T18:09:35.460Z"
   },
   {
    "duration": 1105,
    "start_time": "2021-07-19T18:10:15.940Z"
   },
   {
    "duration": 1126,
    "start_time": "2021-07-19T18:10:43.932Z"
   },
   {
    "duration": 1181,
    "start_time": "2021-07-19T18:10:50.108Z"
   },
   {
    "duration": 1462,
    "start_time": "2021-07-19T18:11:30.981Z"
   },
   {
    "duration": 1410,
    "start_time": "2021-07-19T18:11:48.233Z"
   },
   {
    "duration": 1690,
    "start_time": "2021-07-19T18:12:10.852Z"
   },
   {
    "duration": 1247,
    "start_time": "2021-07-19T18:12:59.817Z"
   },
   {
    "duration": 1228,
    "start_time": "2021-07-19T18:13:49.413Z"
   },
   {
    "duration": 1379,
    "start_time": "2021-07-19T18:13:58.245Z"
   },
   {
    "duration": 1404,
    "start_time": "2021-07-19T18:14:18.501Z"
   },
   {
    "duration": 1430,
    "start_time": "2021-07-19T18:14:28.388Z"
   },
   {
    "duration": 1372,
    "start_time": "2021-07-19T18:19:16.548Z"
   },
   {
    "duration": 1424,
    "start_time": "2021-07-19T18:19:28.301Z"
   },
   {
    "duration": 84,
    "start_time": "2021-07-19T18:28:16.133Z"
   },
   {
    "duration": 18,
    "start_time": "2021-07-19T18:28:18.604Z"
   },
   {
    "duration": 35,
    "start_time": "2021-07-19T18:28:20.396Z"
   },
   {
    "duration": 1406,
    "start_time": "2021-07-19T18:33:40.389Z"
   },
   {
    "duration": 1150,
    "start_time": "2021-07-19T18:36:22.709Z"
   },
   {
    "duration": 300,
    "start_time": "2021-07-19T18:36:25.860Z"
   },
   {
    "duration": 1157,
    "start_time": "2021-07-19T18:37:15.437Z"
   },
   {
    "duration": 1105,
    "start_time": "2021-07-19T18:37:23.421Z"
   },
   {
    "duration": 1177,
    "start_time": "2021-07-19T18:37:30.852Z"
   },
   {
    "duration": 789,
    "start_time": "2021-07-19T18:38:12.741Z"
   },
   {
    "duration": 775,
    "start_time": "2021-07-19T18:38:43.829Z"
   },
   {
    "duration": 1226,
    "start_time": "2021-07-19T18:39:27.693Z"
   },
   {
    "duration": 1125,
    "start_time": "2021-07-19T18:39:41.917Z"
   },
   {
    "duration": 1254,
    "start_time": "2021-07-19T18:39:58.037Z"
   },
   {
    "duration": 1293,
    "start_time": "2021-07-19T18:40:02.989Z"
   },
   {
    "duration": 6409,
    "start_time": "2021-07-19T18:40:45.301Z"
   },
   {
    "duration": 1049,
    "start_time": "2021-07-19T18:41:09.622Z"
   },
   {
    "duration": 1721,
    "start_time": "2021-07-19T18:41:35.197Z"
   },
   {
    "duration": 1237,
    "start_time": "2021-07-19T18:41:47.389Z"
   },
   {
    "duration": 1442,
    "start_time": "2021-07-19T18:41:56.093Z"
   },
   {
    "duration": 1154,
    "start_time": "2021-07-19T18:42:07.244Z"
   },
   {
    "duration": 1917,
    "start_time": "2021-07-19T18:42:22.293Z"
   },
   {
    "duration": 1458,
    "start_time": "2021-07-19T18:42:33.501Z"
   },
   {
    "duration": 1279,
    "start_time": "2021-07-19T18:43:00.733Z"
   },
   {
    "duration": 1427,
    "start_time": "2021-07-19T18:43:08.741Z"
   },
   {
    "duration": 1456,
    "start_time": "2021-07-19T18:43:40.565Z"
   },
   {
    "duration": 1378,
    "start_time": "2021-07-19T18:44:12.229Z"
   },
   {
    "duration": 1355,
    "start_time": "2021-07-19T18:44:22.413Z"
   },
   {
    "duration": 1227,
    "start_time": "2021-07-19T18:44:59.133Z"
   },
   {
    "duration": 1099,
    "start_time": "2021-07-19T18:45:10.189Z"
   },
   {
    "duration": 1238,
    "start_time": "2021-07-19T18:45:29.861Z"
   },
   {
    "duration": 1079,
    "start_time": "2021-07-19T18:45:38.869Z"
   },
   {
    "duration": 1265,
    "start_time": "2021-07-19T18:45:48.101Z"
   },
   {
    "duration": 1036,
    "start_time": "2021-07-19T18:45:53.053Z"
   },
   {
    "duration": 1270,
    "start_time": "2021-07-19T18:46:02.757Z"
   },
   {
    "duration": 1824,
    "start_time": "2021-07-19T18:46:22.342Z"
   },
   {
    "duration": 1433,
    "start_time": "2021-07-19T18:46:34.701Z"
   },
   {
    "duration": 1121,
    "start_time": "2021-07-19T18:46:46.213Z"
   },
   {
    "duration": 1366,
    "start_time": "2021-07-19T18:46:56.885Z"
   },
   {
    "duration": 89,
    "start_time": "2021-07-19T18:47:54.293Z"
   },
   {
    "duration": 87,
    "start_time": "2021-07-19T18:48:02.845Z"
   },
   {
    "duration": 302,
    "start_time": "2021-07-19T18:48:08.541Z"
   },
   {
    "duration": 981,
    "start_time": "2021-07-19T18:48:28.149Z"
   },
   {
    "duration": 300,
    "start_time": "2021-07-19T18:48:33.829Z"
   },
   {
    "duration": 562,
    "start_time": "2021-07-19T18:49:04.133Z"
   },
   {
    "duration": 546,
    "start_time": "2021-07-19T18:49:09.453Z"
   },
   {
    "duration": 412,
    "start_time": "2021-07-19T18:49:11.501Z"
   },
   {
    "duration": 296,
    "start_time": "2021-07-19T18:49:16.157Z"
   },
   {
    "duration": 293,
    "start_time": "2021-07-19T18:49:44.229Z"
   },
   {
    "duration": 564,
    "start_time": "2021-07-19T18:49:50.685Z"
   },
   {
    "duration": 654,
    "start_time": "2021-07-19T18:49:54.917Z"
   },
   {
    "duration": 551,
    "start_time": "2021-07-19T18:49:57.742Z"
   },
   {
    "duration": 440,
    "start_time": "2021-07-19T18:50:00.214Z"
   },
   {
    "duration": 642,
    "start_time": "2021-07-20T17:19:09.857Z"
   },
   {
    "duration": 74,
    "start_time": "2021-07-20T17:19:17.480Z"
   },
   {
    "duration": 38,
    "start_time": "2021-07-20T17:19:21.224Z"
   },
   {
    "duration": 1197,
    "start_time": "2021-07-20T17:19:26.960Z"
   },
   {
    "duration": 1083,
    "start_time": "2021-07-20T17:19:52.936Z"
   },
   {
    "duration": 1140,
    "start_time": "2021-07-20T17:20:03.472Z"
   },
   {
    "duration": 77,
    "start_time": "2021-07-20T17:20:30.176Z"
   },
   {
    "duration": 16,
    "start_time": "2021-07-20T17:20:32.608Z"
   },
   {
    "duration": 36,
    "start_time": "2021-07-20T17:20:34.160Z"
   },
   {
    "duration": 1098,
    "start_time": "2021-07-20T17:20:35.400Z"
   },
   {
    "duration": 1065,
    "start_time": "2021-07-20T17:20:48.384Z"
   },
   {
    "duration": 1007,
    "start_time": "2021-07-20T17:20:54.152Z"
   },
   {
    "duration": 1053,
    "start_time": "2021-07-20T17:21:07.552Z"
   },
   {
    "duration": 1042,
    "start_time": "2021-07-20T17:21:13.824Z"
   },
   {
    "duration": 1242,
    "start_time": "2021-07-20T17:21:17.905Z"
   },
   {
    "duration": 997,
    "start_time": "2021-07-20T17:21:22.937Z"
   },
   {
    "duration": 1029,
    "start_time": "2021-07-20T17:21:31.408Z"
   },
   {
    "duration": 986,
    "start_time": "2021-07-20T17:21:47.777Z"
   },
   {
    "duration": 1210,
    "start_time": "2021-07-20T17:21:54.336Z"
   },
   {
    "duration": 999,
    "start_time": "2021-07-20T17:22:04.881Z"
   },
   {
    "duration": 1081,
    "start_time": "2021-07-20T17:22:11.337Z"
   },
   {
    "duration": 1033,
    "start_time": "2021-07-20T17:22:18.280Z"
   },
   {
    "duration": 1333,
    "start_time": "2021-07-20T17:22:57.921Z"
   },
   {
    "duration": 991,
    "start_time": "2021-07-20T17:23:27.520Z"
   },
   {
    "duration": 396,
    "start_time": "2021-07-20T17:23:37.985Z"
   },
   {
    "duration": 9,
    "start_time": "2021-07-20T17:24:15.992Z"
   },
   {
    "duration": 339,
    "start_time": "2021-07-20T17:28:15.368Z"
   },
   {
    "duration": 18,
    "start_time": "2021-07-20T17:28:23.329Z"
   },
   {
    "duration": 14,
    "start_time": "2021-07-20T17:28:26.392Z"
   },
   {
    "duration": 79,
    "start_time": "2021-07-20T17:28:30.848Z"
   },
   {
    "duration": 14,
    "start_time": "2021-07-20T17:28:32.697Z"
   },
   {
    "duration": 32,
    "start_time": "2021-07-20T17:28:33.792Z"
   },
   {
    "duration": 1035,
    "start_time": "2021-07-20T17:28:35.488Z"
   },
   {
    "duration": 286,
    "start_time": "2021-07-20T17:28:37.224Z"
   },
   {
    "duration": 24,
    "start_time": "2021-07-20T17:28:38.904Z"
   },
   {
    "duration": 12,
    "start_time": "2021-07-20T17:28:43.168Z"
   },
   {
    "duration": 99,
    "start_time": "2021-07-20T17:28:55.128Z"
   },
   {
    "duration": 104,
    "start_time": "2021-07-20T17:29:21.777Z"
   },
   {
    "duration": 97,
    "start_time": "2021-07-20T17:29:52.976Z"
   },
   {
    "duration": 98,
    "start_time": "2021-07-20T17:29:55.753Z"
   },
   {
    "duration": 82,
    "start_time": "2021-07-20T17:29:58.760Z"
   },
   {
    "duration": 16,
    "start_time": "2021-07-20T17:30:00.098Z"
   },
   {
    "duration": 37,
    "start_time": "2021-07-20T17:30:01.536Z"
   },
   {
    "duration": 1042,
    "start_time": "2021-07-20T17:30:05.145Z"
   },
   {
    "duration": 312,
    "start_time": "2021-07-20T17:30:06.832Z"
   },
   {
    "duration": 112,
    "start_time": "2021-07-20T17:30:08.665Z"
   },
   {
    "duration": 85,
    "start_time": "2021-07-20T17:31:13.081Z"
   },
   {
    "duration": 14,
    "start_time": "2021-07-20T17:31:14.505Z"
   },
   {
    "duration": 32,
    "start_time": "2021-07-20T17:31:15.745Z"
   },
   {
    "duration": 1051,
    "start_time": "2021-07-20T17:31:16.864Z"
   },
   {
    "duration": 286,
    "start_time": "2021-07-20T17:31:18.368Z"
   },
   {
    "duration": 263,
    "start_time": "2021-07-20T17:31:20.408Z"
   },
   {
    "duration": 850,
    "start_time": "2021-07-20T17:31:25.992Z"
   },
   {
    "duration": 77,
    "start_time": "2021-07-20T17:34:15.569Z"
   },
   {
    "duration": 16,
    "start_time": "2021-07-20T17:34:16.792Z"
   },
   {
    "duration": 31,
    "start_time": "2021-07-20T17:34:18.177Z"
   },
   {
    "duration": 1056,
    "start_time": "2021-07-20T17:34:19.305Z"
   },
   {
    "duration": 300,
    "start_time": "2021-07-20T17:34:20.728Z"
   },
   {
    "duration": 6624,
    "start_time": "2021-07-20T17:34:22.377Z"
   },
   {
    "duration": 6902,
    "start_time": "2021-07-20T17:34:30.458Z"
   },
   {
    "duration": 74,
    "start_time": "2021-07-20T17:34:39.537Z"
   },
   {
    "duration": 14,
    "start_time": "2021-07-20T17:34:41.313Z"
   },
   {
    "duration": 31,
    "start_time": "2021-07-20T17:34:42.425Z"
   },
   {
    "duration": 1140,
    "start_time": "2021-07-20T17:34:43.457Z"
   },
   {
    "duration": 306,
    "start_time": "2021-07-20T17:34:45.008Z"
   },
   {
    "duration": 6782,
    "start_time": "2021-07-20T17:34:46.577Z"
   },
   {
    "duration": 8045,
    "start_time": "2021-07-20T17:35:01.834Z"
   },
   {
    "duration": 79,
    "start_time": "2021-07-20T17:35:25.529Z"
   },
   {
    "duration": 15,
    "start_time": "2021-07-20T17:35:26.681Z"
   },
   {
    "duration": 34,
    "start_time": "2021-07-20T17:35:27.777Z"
   },
   {
    "duration": 1087,
    "start_time": "2021-07-20T17:35:28.825Z"
   },
   {
    "duration": 337,
    "start_time": "2021-07-20T17:35:30.297Z"
   },
   {
    "duration": 6630,
    "start_time": "2021-07-20T17:35:33.289Z"
   },
   {
    "duration": 1064,
    "start_time": "2021-07-20T17:35:51.593Z"
   },
   {
    "duration": 7550,
    "start_time": "2021-07-20T17:35:53.737Z"
   },
   {
    "duration": 3095,
    "start_time": "2021-07-20T17:36:11.970Z"
   },
   {
    "duration": 76,
    "start_time": "2021-07-20T17:36:22.033Z"
   },
   {
    "duration": 14,
    "start_time": "2021-07-20T17:36:23.593Z"
   },
   {
    "duration": 39,
    "start_time": "2021-07-20T17:36:24.912Z"
   },
   {
    "duration": 1056,
    "start_time": "2021-07-20T17:36:26.545Z"
   },
   {
    "duration": 293,
    "start_time": "2021-07-20T17:36:29.056Z"
   },
   {
    "duration": 2776,
    "start_time": "2021-07-20T17:36:31.321Z"
   },
   {
    "duration": 7432,
    "start_time": "2021-07-20T17:36:54.073Z"
   },
   {
    "duration": 74,
    "start_time": "2021-07-20T17:46:25.281Z"
   },
   {
    "duration": 15,
    "start_time": "2021-07-20T17:46:28.793Z"
   },
   {
    "duration": 1350,
    "start_time": "2021-07-20T17:46:30.241Z"
   },
   {
    "duration": 7012,
    "start_time": "2021-07-20T17:48:06.426Z"
   },
   {
    "duration": 8549,
    "start_time": "2021-07-20T17:48:40.522Z"
   },
   {
    "duration": 79,
    "start_time": "2021-07-20T17:48:51.281Z"
   },
   {
    "duration": 15,
    "start_time": "2021-07-20T17:48:52.593Z"
   },
   {
    "duration": 1308,
    "start_time": "2021-07-20T17:48:53.859Z"
   },
   {
    "duration": 1215,
    "start_time": "2021-07-20T17:49:12.194Z"
   },
   {
    "duration": 22,
    "start_time": "2021-07-20T17:49:35.538Z"
   },
   {
    "duration": 1220,
    "start_time": "2021-07-20T17:49:53.497Z"
   },
   {
    "duration": 1293,
    "start_time": "2021-07-20T17:50:01.185Z"
   },
   {
    "duration": 1437,
    "start_time": "2021-07-20T17:50:03.474Z"
   },
   {
    "duration": 76,
    "start_time": "2021-07-20T17:50:08.665Z"
   },
   {
    "duration": 14,
    "start_time": "2021-07-20T17:50:11.329Z"
   },
   {
    "duration": 1256,
    "start_time": "2021-07-20T17:50:12.617Z"
   },
   {
    "duration": 1663,
    "start_time": "2021-07-20T17:50:59.450Z"
   },
   {
    "duration": 77,
    "start_time": "2021-07-20T17:51:04.377Z"
   },
   {
    "duration": 14,
    "start_time": "2021-07-20T17:51:05.545Z"
   },
   {
    "duration": 1202,
    "start_time": "2021-07-20T17:51:07.093Z"
   },
   {
    "duration": 1219,
    "start_time": "2021-07-20T17:54:17.786Z"
   },
   {
    "duration": 75,
    "start_time": "2021-07-20T17:54:49.802Z"
   },
   {
    "duration": 13,
    "start_time": "2021-07-20T17:54:51.745Z"
   },
   {
    "duration": 1437,
    "start_time": "2021-07-20T17:54:53.626Z"
   },
   {
    "duration": 80,
    "start_time": "2021-07-20T17:54:59.665Z"
   },
   {
    "duration": 15,
    "start_time": "2021-07-20T17:55:00.841Z"
   },
   {
    "duration": 1421,
    "start_time": "2021-07-20T17:55:02.241Z"
   },
   {
    "duration": 1469,
    "start_time": "2021-07-20T17:57:34.602Z"
   },
   {
    "duration": 1274,
    "start_time": "2021-07-20T17:57:46.290Z"
   },
   {
    "duration": 160,
    "start_time": "2021-07-20T18:04:27.754Z"
   },
   {
    "duration": 307,
    "start_time": "2021-07-20T18:04:35.257Z"
   },
   {
    "duration": 359,
    "start_time": "2021-07-20T18:05:09.098Z"
   },
   {
    "duration": 446,
    "start_time": "2021-07-20T18:05:18.931Z"
   },
   {
    "duration": 213,
    "start_time": "2021-07-20T18:05:26.050Z"
   },
   {
    "duration": 156,
    "start_time": "2021-07-20T18:05:32.929Z"
   },
   {
    "duration": 191,
    "start_time": "2021-07-20T18:05:36.913Z"
   },
   {
    "duration": 285,
    "start_time": "2021-07-20T18:05:42.617Z"
   },
   {
    "duration": 1013,
    "start_time": "2021-07-20T18:05:47.033Z"
   },
   {
    "duration": 211,
    "start_time": "2021-07-20T18:05:49.697Z"
   },
   {
    "duration": 219,
    "start_time": "2021-07-20T18:06:13.914Z"
   },
   {
    "duration": 217,
    "start_time": "2021-07-20T18:06:17.521Z"
   },
   {
    "duration": 223,
    "start_time": "2021-07-20T18:06:34.209Z"
   },
   {
    "duration": 227,
    "start_time": "2021-07-20T18:07:51.282Z"
   },
   {
    "duration": 220,
    "start_time": "2021-07-20T18:08:11.137Z"
   },
   {
    "duration": 165,
    "start_time": "2021-07-20T18:08:22.978Z"
   },
   {
    "duration": 193,
    "start_time": "2021-07-20T18:08:25.730Z"
   },
   {
    "duration": 217,
    "start_time": "2021-07-20T18:08:28.426Z"
   },
   {
    "duration": 258,
    "start_time": "2021-07-20T18:08:38.313Z"
   },
   {
    "duration": 337,
    "start_time": "2021-07-20T18:09:04.306Z"
   },
   {
    "duration": 224,
    "start_time": "2021-07-20T18:09:08.305Z"
   },
   {
    "duration": 224,
    "start_time": "2021-07-20T18:09:19.082Z"
   },
   {
    "duration": 303,
    "start_time": "2021-07-20T18:09:43.842Z"
   },
   {
    "duration": 77,
    "start_time": "2021-07-20T18:14:16.818Z"
   },
   {
    "duration": 17,
    "start_time": "2021-07-20T18:14:18.066Z"
   },
   {
    "duration": 1200,
    "start_time": "2021-07-20T18:14:19.530Z"
   },
   {
    "duration": 995,
    "start_time": "2021-07-20T18:14:22.426Z"
   },
   {
    "duration": 285,
    "start_time": "2021-07-20T18:14:24.082Z"
   },
   {
    "duration": 309,
    "start_time": "2021-07-20T18:14:26.090Z"
   },
   {
    "duration": 215,
    "start_time": "2021-07-20T18:14:42.914Z"
   },
   {
    "duration": 216,
    "start_time": "2021-07-20T18:15:12.874Z"
   },
   {
    "duration": 474,
    "start_time": "2021-07-20T18:16:35.818Z"
   },
   {
    "duration": 213,
    "start_time": "2021-07-20T18:16:44.106Z"
   },
   {
    "duration": 224,
    "start_time": "2021-07-20T18:25:39.402Z"
   },
   {
    "duration": 223,
    "start_time": "2021-07-20T18:25:46.666Z"
   },
   {
    "duration": 7,
    "start_time": "2021-07-20T18:25:55.138Z"
   },
   {
    "duration": 87,
    "start_time": "2021-07-20T18:26:07.937Z"
   },
   {
    "duration": 73,
    "start_time": "2021-07-20T18:26:20.930Z"
   },
   {
    "duration": 68,
    "start_time": "2021-07-20T18:26:31.410Z"
   },
   {
    "duration": 73,
    "start_time": "2021-07-20T18:26:51.826Z"
   },
   {
    "duration": 66,
    "start_time": "2021-07-20T18:27:05.322Z"
   },
   {
    "duration": 62,
    "start_time": "2021-07-20T18:27:15.266Z"
   },
   {
    "duration": 62,
    "start_time": "2021-07-20T18:27:21.386Z"
   },
   {
    "duration": 66,
    "start_time": "2021-07-20T18:27:30.210Z"
   },
   {
    "duration": 66,
    "start_time": "2021-07-20T18:27:38.642Z"
   },
   {
    "duration": 68,
    "start_time": "2021-07-20T18:27:51.058Z"
   },
   {
    "duration": 64,
    "start_time": "2021-07-20T18:27:57.146Z"
   },
   {
    "duration": 61,
    "start_time": "2021-07-20T18:28:08.042Z"
   },
   {
    "duration": 70,
    "start_time": "2021-07-20T18:28:15.395Z"
   },
   {
    "duration": 14,
    "start_time": "2021-07-20T18:29:14.890Z"
   },
   {
    "duration": 15,
    "start_time": "2021-07-20T18:29:24.602Z"
   },
   {
    "duration": 13,
    "start_time": "2021-07-20T18:29:33.594Z"
   },
   {
    "duration": 14,
    "start_time": "2021-07-20T18:29:38.562Z"
   },
   {
    "duration": 14,
    "start_time": "2021-07-20T18:29:42.564Z"
   },
   {
    "duration": 13,
    "start_time": "2021-07-20T18:29:46.762Z"
   },
   {
    "duration": 21,
    "start_time": "2021-07-20T18:29:51.443Z"
   },
   {
    "duration": 69,
    "start_time": "2021-07-20T18:30:05.402Z"
   },
   {
    "duration": 73,
    "start_time": "2021-07-20T18:30:11.914Z"
   },
   {
    "duration": 69,
    "start_time": "2021-07-20T18:30:24.747Z"
   },
   {
    "duration": 67,
    "start_time": "2021-07-20T18:30:31.818Z"
   },
   {
    "duration": 64,
    "start_time": "2021-07-20T18:30:38.378Z"
   },
   {
    "duration": 70,
    "start_time": "2021-07-20T18:30:50.867Z"
   },
   {
    "duration": 76,
    "start_time": "2021-07-20T18:31:02.074Z"
   },
   {
    "duration": 1104,
    "start_time": "2021-07-20T18:31:58.019Z"
   },
   {
    "duration": 1832,
    "start_time": "2021-07-20T18:33:05.451Z"
   },
   {
    "duration": 77,
    "start_time": "2021-07-20T18:33:13.102Z"
   },
   {
    "duration": 15,
    "start_time": "2021-07-20T18:33:14.498Z"
   },
   {
    "duration": 1051,
    "start_time": "2021-07-20T18:33:15.779Z"
   },
   {
    "duration": 1206,
    "start_time": "2021-07-20T18:34:28.643Z"
   },
   {
    "duration": 1098,
    "start_time": "2021-07-20T18:34:56.147Z"
   },
   {
    "duration": 599,
    "start_time": "2021-07-20T18:35:04.203Z"
   },
   {
    "duration": 436,
    "start_time": "2021-07-20T18:35:21.523Z"
   },
   {
    "duration": 445,
    "start_time": "2021-07-20T18:35:38.563Z"
   },
   {
    "duration": 697,
    "start_time": "2021-07-20T18:35:55.563Z"
   },
   {
    "duration": 475,
    "start_time": "2021-07-20T18:36:00.298Z"
   },
   {
    "duration": 519,
    "start_time": "2021-07-20T18:36:08.219Z"
   },
   {
    "duration": 463,
    "start_time": "2021-07-20T18:36:14.210Z"
   },
   {
    "duration": 734,
    "start_time": "2021-07-20T18:36:18.819Z"
   },
   {
    "duration": 514,
    "start_time": "2021-07-20T18:36:29.275Z"
   },
   {
    "duration": 473,
    "start_time": "2021-07-20T18:37:47.626Z"
   },
   {
    "duration": 481,
    "start_time": "2021-07-20T18:37:58.203Z"
   },
   {
    "duration": 81,
    "start_time": "2021-07-20T18:38:55.547Z"
   },
   {
    "duration": 17,
    "start_time": "2021-07-20T18:38:58.818Z"
   },
   {
    "duration": 502,
    "start_time": "2021-07-20T18:39:00.060Z"
   },
   {
    "duration": 1118,
    "start_time": "2021-07-20T18:39:03.379Z"
   },
   {
    "duration": 8,
    "start_time": "2021-07-20T18:40:04.226Z"
   },
   {
    "duration": 260,
    "start_time": "2021-07-20T18:41:23.922Z"
   },
   {
    "duration": 258,
    "start_time": "2021-07-20T18:41:31.379Z"
   },
   {
    "duration": 14,
    "start_time": "2021-07-20T18:41:42.322Z"
   },
   {
    "duration": 12,
    "start_time": "2021-07-20T18:43:55.011Z"
   },
   {
    "duration": 170,
    "start_time": "2021-07-20T18:50:46.235Z"
   },
   {
    "duration": 285,
    "start_time": "2021-07-20T18:50:49.643Z"
   },
   {
    "duration": 7,
    "start_time": "2021-07-20T18:57:05.980Z"
   },
   {
    "duration": 7,
    "start_time": "2021-07-20T18:57:21.660Z"
   },
   {
    "duration": 7,
    "start_time": "2021-07-20T18:57:27.460Z"
   },
   {
    "duration": 7,
    "start_time": "2021-07-20T18:57:29.724Z"
   },
   {
    "duration": 7,
    "start_time": "2021-07-20T18:57:32.155Z"
   },
   {
    "duration": 7,
    "start_time": "2021-07-20T18:57:41.203Z"
   },
   {
    "duration": 14,
    "start_time": "2021-07-20T18:59:26.996Z"
   },
   {
    "duration": 14,
    "start_time": "2021-07-20T18:59:28.323Z"
   },
   {
    "duration": 13,
    "start_time": "2021-07-20T18:59:37.612Z"
   },
   {
    "duration": 16,
    "start_time": "2021-07-20T18:59:39.027Z"
   },
   {
    "duration": 16,
    "start_time": "2021-07-20T18:59:43.539Z"
   },
   {
    "duration": 15,
    "start_time": "2021-07-20T18:59:47.395Z"
   },
   {
    "duration": 82,
    "start_time": "2021-07-20T19:00:03.188Z"
   },
   {
    "duration": 16,
    "start_time": "2021-07-20T19:00:28.772Z"
   },
   {
    "duration": 460,
    "start_time": "2021-07-20T19:00:30.044Z"
   },
   {
    "duration": 1080,
    "start_time": "2021-07-20T19:00:31.372Z"
   },
   {
    "duration": 286,
    "start_time": "2021-07-20T19:00:34.059Z"
   },
   {
    "duration": 8,
    "start_time": "2021-07-20T19:00:35.795Z"
   },
   {
    "duration": 290,
    "start_time": "2021-07-20T19:00:36.803Z"
   },
   {
    "duration": 15,
    "start_time": "2021-07-20T19:00:38.915Z"
   },
   {
    "duration": 8,
    "start_time": "2021-07-20T19:01:14.755Z"
   },
   {
    "duration": 84,
    "start_time": "2021-07-20T19:01:18.988Z"
   },
   {
    "duration": 16,
    "start_time": "2021-07-20T19:01:20.316Z"
   },
   {
    "duration": 455,
    "start_time": "2021-07-20T19:01:21.379Z"
   },
   {
    "duration": 1128,
    "start_time": "2021-07-20T19:01:22.395Z"
   },
   {
    "duration": 294,
    "start_time": "2021-07-20T19:01:25.492Z"
   },
   {
    "duration": 15,
    "start_time": "2021-07-20T19:01:27.115Z"
   },
   {
    "duration": 295,
    "start_time": "2021-07-20T19:01:28.915Z"
   },
   {
    "duration": 8,
    "start_time": "2021-07-20T19:01:32.187Z"
   },
   {
    "duration": 6,
    "start_time": "2021-07-20T19:03:27.404Z"
   },
   {
    "duration": 5,
    "start_time": "2021-07-20T19:03:34.395Z"
   },
   {
    "duration": 5,
    "start_time": "2021-07-20T19:03:36.955Z"
   },
   {
    "duration": 5,
    "start_time": "2021-07-20T19:03:58.196Z"
   },
   {
    "duration": 307,
    "start_time": "2021-07-20T19:05:28.115Z"
   },
   {
    "duration": 277,
    "start_time": "2021-07-20T19:05:33.124Z"
   },
   {
    "duration": 16,
    "start_time": "2021-07-20T19:06:32.676Z"
   },
   {
    "duration": 1573,
    "start_time": "2021-07-20T19:06:36.708Z"
   },
   {
    "duration": 16,
    "start_time": "2021-07-20T19:06:41.259Z"
   },
   {
    "duration": 15,
    "start_time": "2021-07-20T19:07:32.236Z"
   },
   {
    "duration": 94,
    "start_time": "2021-07-20T19:07:41.260Z"
   },
   {
    "duration": 14,
    "start_time": "2021-07-20T19:07:46.332Z"
   },
   {
    "duration": 281,
    "start_time": "2021-07-20T19:08:44.540Z"
   },
   {
    "duration": 15,
    "start_time": "2021-07-20T19:08:53.316Z"
   },
   {
    "duration": 4885,
    "start_time": "2021-07-20T19:09:57.492Z"
   },
   {
    "duration": 263,
    "start_time": "2021-07-20T19:10:05.524Z"
   },
   {
    "duration": 87,
    "start_time": "2021-07-20T19:10:14.804Z"
   },
   {
    "duration": 303,
    "start_time": "2021-07-20T19:10:28.700Z"
   },
   {
    "duration": 483,
    "start_time": "2021-07-20T19:10:37.260Z"
   },
   {
    "duration": 18,
    "start_time": "2021-07-20T19:12:34.468Z"
   },
   {
    "duration": 18,
    "start_time": "2021-07-20T19:12:56.940Z"
   },
   {
    "duration": 18,
    "start_time": "2021-07-20T19:13:28.571Z"
   },
   {
    "duration": 20,
    "start_time": "2021-07-20T19:13:32.940Z"
   },
   {
    "duration": 18,
    "start_time": "2021-07-20T19:17:06.668Z"
   },
   {
    "duration": 20,
    "start_time": "2021-07-20T19:18:12.524Z"
   },
   {
    "duration": 18,
    "start_time": "2021-07-20T19:18:14.276Z"
   },
   {
    "duration": 18,
    "start_time": "2021-07-20T19:18:32.276Z"
   },
   {
    "duration": 32,
    "start_time": "2021-07-20T19:18:40.780Z"
   },
   {
    "duration": 103,
    "start_time": "2021-07-20T19:22:10.741Z"
   },
   {
    "duration": 32,
    "start_time": "2021-07-20T19:22:13.724Z"
   },
   {
    "duration": 205,
    "start_time": "2021-07-20T19:23:16.244Z"
   },
   {
    "duration": 4494,
    "start_time": "2021-07-20T19:23:31.781Z"
   },
   {
    "duration": 7,
    "start_time": "2021-07-20T19:25:59.205Z"
   },
   {
    "duration": 293,
    "start_time": "2021-07-20T19:27:10.573Z"
   },
   {
    "duration": 7,
    "start_time": "2021-07-20T19:27:13.844Z"
   },
   {
    "duration": 6,
    "start_time": "2021-07-20T19:27:35.324Z"
   },
   {
    "duration": 7,
    "start_time": "2021-07-20T19:27:52.853Z"
   },
   {
    "duration": 5,
    "start_time": "2021-07-20T19:27:57.349Z"
   },
   {
    "duration": 5,
    "start_time": "2021-07-20T19:27:59.397Z"
   },
   {
    "duration": 82,
    "start_time": "2021-07-20T19:28:04.620Z"
   },
   {
    "duration": 15,
    "start_time": "2021-07-20T19:28:06.116Z"
   },
   {
    "duration": 564,
    "start_time": "2021-07-20T19:28:07.141Z"
   },
   {
    "duration": 1038,
    "start_time": "2021-07-20T19:28:08.317Z"
   },
   {
    "duration": 304,
    "start_time": "2021-07-20T19:28:09.756Z"
   },
   {
    "duration": 16,
    "start_time": "2021-07-20T19:28:11.820Z"
   },
   {
    "duration": 301,
    "start_time": "2021-07-20T19:28:12.772Z"
   },
   {
    "duration": 8,
    "start_time": "2021-07-20T19:28:15.372Z"
   },
   {
    "duration": 7,
    "start_time": "2021-07-20T19:28:16.996Z"
   },
   {
    "duration": 7,
    "start_time": "2021-07-20T19:28:27.381Z"
   },
   {
    "duration": 3401,
    "start_time": "2021-07-20T19:28:39.580Z"
   },
   {
    "duration": 21,
    "start_time": "2021-07-20T19:28:57.317Z"
   },
   {
    "duration": 4230,
    "start_time": "2021-07-20T19:29:19.220Z"
   },
   {
    "duration": 337,
    "start_time": "2021-07-20T19:29:28.749Z"
   },
   {
    "duration": 80,
    "start_time": "2021-07-20T19:29:39.732Z"
   },
   {
    "duration": 14,
    "start_time": "2021-07-20T19:29:41.220Z"
   },
   {
    "duration": 541,
    "start_time": "2021-07-20T19:29:42.404Z"
   },
   {
    "duration": 1035,
    "start_time": "2021-07-20T19:29:43.477Z"
   },
   {
    "duration": 296,
    "start_time": "2021-07-20T19:29:45.013Z"
   },
   {
    "duration": 17,
    "start_time": "2021-07-20T19:29:46.380Z"
   },
   {
    "duration": 282,
    "start_time": "2021-07-20T19:29:47.844Z"
   },
   {
    "duration": 7,
    "start_time": "2021-07-20T19:29:49.396Z"
   },
   {
    "duration": 281,
    "start_time": "2021-07-20T19:29:53.780Z"
   },
   {
    "duration": 8326,
    "start_time": "2021-07-20T19:30:10.701Z"
   },
   {
    "duration": 1491,
    "start_time": "2021-07-20T19:34:13.274Z"
   },
   {
    "duration": 1488,
    "start_time": "2021-07-20T19:34:13.278Z"
   },
   {
    "duration": 1488,
    "start_time": "2021-07-20T19:34:13.280Z"
   },
   {
    "duration": 1485,
    "start_time": "2021-07-20T19:34:13.284Z"
   },
   {
    "duration": 1485,
    "start_time": "2021-07-20T19:34:13.286Z"
   },
   {
    "duration": 1485,
    "start_time": "2021-07-20T19:34:13.287Z"
   },
   {
    "duration": 1486,
    "start_time": "2021-07-20T19:34:13.288Z"
   },
   {
    "duration": 1486,
    "start_time": "2021-07-20T19:34:13.289Z"
   },
   {
    "duration": 1487,
    "start_time": "2021-07-20T19:34:13.290Z"
   },
   {
    "duration": 84,
    "start_time": "2021-07-20T19:34:17.119Z"
   },
   {
    "duration": 19,
    "start_time": "2021-07-20T19:34:18.903Z"
   },
   {
    "duration": 592,
    "start_time": "2021-07-20T19:34:21.310Z"
   },
   {
    "duration": 1057,
    "start_time": "2021-07-20T19:34:22.575Z"
   },
   {
    "duration": 295,
    "start_time": "2021-07-20T19:34:25.055Z"
   },
   {
    "duration": 15,
    "start_time": "2021-07-20T19:34:26.750Z"
   },
   {
    "duration": 286,
    "start_time": "2021-07-20T19:34:28.231Z"
   },
   {
    "duration": 8,
    "start_time": "2021-07-20T19:34:30.214Z"
   },
   {
    "duration": 290,
    "start_time": "2021-07-20T19:35:00.231Z"
   },
   {
    "duration": 939,
    "start_time": "2021-07-20T19:35:11.600Z"
   },
   {
    "duration": 176,
    "start_time": "2021-07-20T19:35:19.101Z"
   },
   {
    "duration": 14,
    "start_time": "2021-07-20T19:35:19.279Z"
   },
   {
    "duration": 451,
    "start_time": "2021-07-20T19:35:19.295Z"
   },
   {
    "duration": 1046,
    "start_time": "2021-07-20T19:35:19.748Z"
   },
   {
    "duration": 313,
    "start_time": "2021-07-20T19:35:20.795Z"
   },
   {
    "duration": 16,
    "start_time": "2021-07-20T19:35:21.109Z"
   },
   {
    "duration": 423,
    "start_time": "2021-07-20T19:35:21.126Z"
   },
   {
    "duration": 7,
    "start_time": "2021-07-20T19:35:21.551Z"
   },
   {
    "duration": 282,
    "start_time": "2021-07-20T19:35:21.560Z"
   },
   {
    "duration": 279,
    "start_time": "2021-07-20T19:35:33.423Z"
   },
   {
    "duration": 76,
    "start_time": "2021-07-20T19:35:38.964Z"
   },
   {
    "duration": 15,
    "start_time": "2021-07-20T19:35:39.041Z"
   },
   {
    "duration": 445,
    "start_time": "2021-07-20T19:35:39.058Z"
   },
   {
    "duration": 1013,
    "start_time": "2021-07-20T19:35:39.505Z"
   },
   {
    "duration": 298,
    "start_time": "2021-07-20T19:35:40.520Z"
   },
   {
    "duration": 27,
    "start_time": "2021-07-20T19:35:40.821Z"
   },
   {
    "duration": 393,
    "start_time": "2021-07-20T19:35:40.850Z"
   },
   {
    "duration": 8,
    "start_time": "2021-07-20T19:35:41.244Z"
   },
   {
    "duration": 264,
    "start_time": "2021-07-20T19:35:41.253Z"
   },
   {
    "duration": 83,
    "start_time": "2021-07-20T19:35:50.485Z"
   },
   {
    "duration": 16,
    "start_time": "2021-07-20T19:35:50.569Z"
   },
   {
    "duration": 474,
    "start_time": "2021-07-20T19:35:50.587Z"
   },
   {
    "duration": 1028,
    "start_time": "2021-07-20T19:35:51.063Z"
   },
   {
    "duration": 394,
    "start_time": "2021-07-20T19:35:52.093Z"
   },
   {
    "duration": 15,
    "start_time": "2021-07-20T19:35:52.489Z"
   },
   {
    "duration": 305,
    "start_time": "2021-07-20T19:35:52.506Z"
   },
   {
    "duration": 7,
    "start_time": "2021-07-20T19:35:52.813Z"
   },
   {
    "duration": 21,
    "start_time": "2021-07-20T19:35:52.822Z"
   },
   {
    "duration": 3848,
    "start_time": "2021-07-20T19:36:03.735Z"
   },
   {
    "duration": 21,
    "start_time": "2021-07-20T19:36:13.495Z"
   },
   {
    "duration": 21,
    "start_time": "2021-07-20T19:36:24.351Z"
   },
   {
    "duration": 91,
    "start_time": "2021-07-20T19:38:23.759Z"
   },
   {
    "duration": 3520,
    "start_time": "2021-07-20T19:38:31.335Z"
   },
   {
    "duration": 4380,
    "start_time": "2021-07-20T19:38:38.743Z"
   },
   {
    "duration": 275,
    "start_time": "2021-07-20T19:39:26.399Z"
   },
   {
    "duration": 8118,
    "start_time": "2021-07-20T19:39:36.199Z"
   },
   {
    "duration": 9,
    "start_time": "2021-07-20T19:39:54.400Z"
   },
   {
    "duration": 280,
    "start_time": "2021-07-20T19:40:29.607Z"
   },
   {
    "duration": 741,
    "start_time": "2021-07-20T19:40:39.384Z"
   },
   {
    "duration": 10,
    "start_time": "2021-07-20T19:40:44.135Z"
   },
   {
    "duration": 12,
    "start_time": "2021-07-20T19:41:11.991Z"
   },
   {
    "duration": 9,
    "start_time": "2021-07-20T19:41:22.783Z"
   },
   {
    "duration": 8,
    "start_time": "2021-07-20T19:41:26.247Z"
   },
   {
    "duration": 7527,
    "start_time": "2021-07-20T19:44:05.071Z"
   },
   {
    "duration": 9,
    "start_time": "2021-07-20T19:44:20.544Z"
   },
   {
    "duration": 8,
    "start_time": "2021-07-20T19:44:48.855Z"
   },
   {
    "duration": 8,
    "start_time": "2021-07-20T19:53:23.432Z"
   },
   {
    "duration": 7,
    "start_time": "2021-07-20T19:53:42.696Z"
   },
   {
    "duration": 348,
    "start_time": "2021-07-20T19:53:54.207Z"
   },
   {
    "duration": 26,
    "start_time": "2021-07-20T19:54:02.911Z"
   },
   {
    "duration": 31,
    "start_time": "2021-07-20T19:54:11.407Z"
   },
   {
    "duration": 32,
    "start_time": "2021-07-20T19:54:20.336Z"
   },
   {
    "duration": 6685,
    "start_time": "2021-07-20T19:54:38.712Z"
   },
   {
    "duration": 7868,
    "start_time": "2021-07-20T19:54:50.139Z"
   },
   {
    "duration": 74,
    "start_time": "2021-07-20T19:55:09.742Z"
   },
   {
    "duration": 15,
    "start_time": "2021-07-20T19:55:09.817Z"
   },
   {
    "duration": 454,
    "start_time": "2021-07-20T19:55:09.834Z"
   },
   {
    "duration": 1010,
    "start_time": "2021-07-20T19:55:10.290Z"
   },
   {
    "duration": 412,
    "start_time": "2021-07-20T19:55:11.302Z"
   },
   {
    "duration": 28,
    "start_time": "2021-07-20T19:55:11.716Z"
   },
   {
    "duration": 295,
    "start_time": "2021-07-20T19:55:11.746Z"
   },
   {
    "duration": 8,
    "start_time": "2021-07-20T19:55:12.042Z"
   },
   {
    "duration": 6918,
    "start_time": "2021-07-20T19:55:12.052Z"
   },
   {
    "duration": 8292,
    "start_time": "2021-07-20T19:55:56.456Z"
   },
   {
    "duration": 86,
    "start_time": "2021-07-20T19:57:22.619Z"
   },
   {
    "duration": 14,
    "start_time": "2021-07-20T19:57:22.706Z"
   },
   {
    "duration": 445,
    "start_time": "2021-07-20T19:57:22.722Z"
   },
   {
    "duration": 1121,
    "start_time": "2021-07-20T19:57:23.169Z"
   },
   {
    "duration": 299,
    "start_time": "2021-07-20T19:57:24.292Z"
   },
   {
    "duration": 17,
    "start_time": "2021-07-20T19:57:24.593Z"
   },
   {
    "duration": 324,
    "start_time": "2021-07-20T19:57:24.611Z"
   },
   {
    "duration": 9,
    "start_time": "2021-07-20T19:57:24.937Z"
   },
   {
    "duration": 6777,
    "start_time": "2021-07-20T19:57:24.949Z"
   },
   {
    "duration": 30,
    "start_time": "2021-07-20T19:57:44.463Z"
   },
   {
    "duration": 299,
    "start_time": "2021-07-20T20:01:48.632Z"
   },
   {
    "duration": 292,
    "start_time": "2021-07-20T20:02:09.528Z"
   },
   {
    "duration": 473,
    "start_time": "2021-07-20T20:02:20.088Z"
   },
   {
    "duration": 74,
    "start_time": "2021-07-20T20:02:28.488Z"
   },
   {
    "duration": 15,
    "start_time": "2021-07-20T20:02:28.564Z"
   },
   {
    "duration": 481,
    "start_time": "2021-07-20T20:02:28.581Z"
   },
   {
    "duration": 1112,
    "start_time": "2021-07-20T20:02:29.064Z"
   },
   {
    "duration": 308,
    "start_time": "2021-07-20T20:02:30.178Z"
   },
   {
    "duration": 15,
    "start_time": "2021-07-20T20:02:30.487Z"
   },
   {
    "duration": 311,
    "start_time": "2021-07-20T20:02:30.504Z"
   },
   {
    "duration": 8,
    "start_time": "2021-07-20T20:02:30.817Z"
   },
   {
    "duration": 488,
    "start_time": "2021-07-20T20:02:30.827Z"
   },
   {
    "duration": 282,
    "start_time": "2021-07-20T20:03:19.160Z"
   },
   {
    "duration": 78,
    "start_time": "2021-07-20T20:03:23.164Z"
   },
   {
    "duration": 14,
    "start_time": "2021-07-20T20:03:23.244Z"
   },
   {
    "duration": 454,
    "start_time": "2021-07-20T20:03:23.260Z"
   },
   {
    "duration": 1111,
    "start_time": "2021-07-20T20:03:23.716Z"
   },
   {
    "duration": 304,
    "start_time": "2021-07-20T20:03:24.828Z"
   },
   {
    "duration": 22,
    "start_time": "2021-07-20T20:03:25.133Z"
   },
   {
    "duration": 319,
    "start_time": "2021-07-20T20:03:25.156Z"
   },
   {
    "duration": 7,
    "start_time": "2021-07-20T20:03:25.477Z"
   },
   {
    "duration": 296,
    "start_time": "2021-07-20T20:03:25.486Z"
   },
   {
    "duration": 359,
    "start_time": "2021-07-20T20:03:46.624Z"
   },
   {
    "duration": 331,
    "start_time": "2021-07-20T20:03:50.600Z"
   },
   {
    "duration": 295,
    "start_time": "2021-07-20T20:04:08.952Z"
   },
   {
    "duration": 305,
    "start_time": "2021-07-20T20:04:19.656Z"
   },
   {
    "duration": 312,
    "start_time": "2021-07-20T20:04:27.687Z"
   },
   {
    "duration": 314,
    "start_time": "2021-07-20T20:04:39.808Z"
   },
   {
    "duration": 440,
    "start_time": "2021-07-20T20:04:50.128Z"
   },
   {
    "duration": 314,
    "start_time": "2021-07-20T20:04:52.984Z"
   },
   {
    "duration": 311,
    "start_time": "2021-07-20T20:04:54.920Z"
   },
   {
    "duration": 326,
    "start_time": "2021-07-20T20:04:57.999Z"
   },
   {
    "duration": 316,
    "start_time": "2021-07-20T20:05:00.391Z"
   },
   {
    "duration": 409,
    "start_time": "2021-07-20T20:05:02.719Z"
   },
   {
    "duration": 311,
    "start_time": "2021-07-20T20:05:06.456Z"
   },
   {
    "duration": 318,
    "start_time": "2021-07-20T20:05:09.415Z"
   },
   {
    "duration": 363,
    "start_time": "2021-07-20T20:05:14.559Z"
   },
   {
    "duration": 312,
    "start_time": "2021-07-20T20:05:32.048Z"
   },
   {
    "duration": 298,
    "start_time": "2021-07-20T20:05:37.263Z"
   },
   {
    "duration": 402,
    "start_time": "2021-07-20T20:05:41.120Z"
   },
   {
    "duration": 321,
    "start_time": "2021-07-20T20:05:45.288Z"
   },
   {
    "duration": 321,
    "start_time": "2021-07-20T20:05:48.232Z"
   },
   {
    "duration": 308,
    "start_time": "2021-07-20T20:07:31.296Z"
   },
   {
    "duration": 297,
    "start_time": "2021-07-20T20:07:45.776Z"
   },
   {
    "duration": 193,
    "start_time": "2021-07-20T20:07:52.239Z"
   },
   {
    "duration": 464,
    "start_time": "2021-07-20T20:07:54.800Z"
   },
   {
    "duration": 381,
    "start_time": "2021-07-20T20:07:59.416Z"
   },
   {
    "duration": 204,
    "start_time": "2021-07-20T20:08:08.144Z"
   },
   {
    "duration": 225,
    "start_time": "2021-07-20T20:08:11.055Z"
   },
   {
    "duration": 284,
    "start_time": "2021-07-20T20:08:15.231Z"
   },
   {
    "duration": 283,
    "start_time": "2021-07-20T20:08:29.048Z"
   },
   {
    "duration": 264,
    "start_time": "2021-07-20T20:08:34.729Z"
   },
   {
    "duration": 1497,
    "start_time": "2021-07-20T20:08:56.708Z"
   },
   {
    "duration": 183,
    "start_time": "2021-07-20T20:09:25.472Z"
   },
   {
    "duration": 14,
    "start_time": "2021-07-20T20:09:25.656Z"
   },
   {
    "duration": 454,
    "start_time": "2021-07-20T20:09:25.672Z"
   },
   {
    "duration": 1009,
    "start_time": "2021-07-20T20:09:26.128Z"
   },
   {
    "duration": 294,
    "start_time": "2021-07-20T20:09:27.140Z"
   },
   {
    "duration": 16,
    "start_time": "2021-07-20T20:09:27.441Z"
   },
   {
    "duration": 402,
    "start_time": "2021-07-20T20:09:27.458Z"
   },
   {
    "duration": 8,
    "start_time": "2021-07-20T20:09:27.862Z"
   },
   {
    "duration": 6829,
    "start_time": "2021-07-20T20:09:27.872Z"
   },
   {
    "duration": 278,
    "start_time": "2021-07-20T20:09:44.322Z"
   },
   {
    "duration": 8,
    "start_time": "2021-07-20T20:11:49.583Z"
   },
   {
    "duration": 8,
    "start_time": "2021-07-20T20:11:56.984Z"
   },
   {
    "duration": 8,
    "start_time": "2021-07-20T20:12:02.175Z"
   },
   {
    "duration": 8,
    "start_time": "2021-07-20T20:12:36.168Z"
   },
   {
    "duration": 9,
    "start_time": "2021-07-20T20:12:44.679Z"
   },
   {
    "duration": 8,
    "start_time": "2021-07-20T20:12:47.935Z"
   },
   {
    "duration": 894,
    "start_time": "2021-07-21T17:01:24.163Z"
   },
   {
    "duration": 32,
    "start_time": "2021-07-21T17:01:25.059Z"
   },
   {
    "duration": 813,
    "start_time": "2021-07-21T17:01:25.094Z"
   },
   {
    "duration": 2118,
    "start_time": "2021-07-21T17:01:25.909Z"
   },
   {
    "duration": 566,
    "start_time": "2021-07-21T17:01:28.029Z"
   },
   {
    "duration": 25,
    "start_time": "2021-07-21T17:01:28.598Z"
   },
   {
    "duration": 571,
    "start_time": "2021-07-21T17:01:28.626Z"
   },
   {
    "duration": 10,
    "start_time": "2021-07-21T17:01:29.200Z"
   },
   {
    "duration": 431,
    "start_time": "2021-07-21T17:01:29.213Z"
   },
   {
    "duration": 1176,
    "start_time": "2021-07-21T17:06:16.740Z"
   },
   {
    "duration": 178,
    "start_time": "2021-07-21T17:06:44.468Z"
   },
   {
    "duration": 1113,
    "start_time": "2021-07-21T17:06:47.772Z"
   },
   {
    "duration": 121,
    "start_time": "2021-07-21T17:07:00.228Z"
   },
   {
    "duration": 101,
    "start_time": "2021-07-21T17:07:09.454Z"
   },
   {
    "duration": 889,
    "start_time": "2021-07-21T17:07:13.068Z"
   },
   {
    "duration": 839,
    "start_time": "2021-07-21T17:07:28.716Z"
   },
   {
    "duration": 920,
    "start_time": "2021-07-21T17:07:38.444Z"
   },
   {
    "duration": 1021,
    "start_time": "2021-07-21T17:07:44.574Z"
   },
   {
    "duration": 343,
    "start_time": "2021-07-21T17:14:04.162Z"
   },
   {
    "duration": 336,
    "start_time": "2021-07-21T17:14:42.196Z"
   },
   {
    "duration": 944,
    "start_time": "2021-07-21T17:14:52.133Z"
   },
   {
    "duration": 2876,
    "start_time": "2021-07-21T17:15:40.645Z"
   },
   {
    "duration": 2796,
    "start_time": "2021-07-21T17:15:55.348Z"
   },
   {
    "duration": 9349,
    "start_time": "2021-07-21T17:17:04.765Z"
   },
   {
    "duration": 7906,
    "start_time": "2021-07-21T17:17:54.964Z"
   },
   {
    "duration": 8797,
    "start_time": "2021-07-21T17:18:24.156Z"
   },
   {
    "duration": 361,
    "start_time": "2021-07-21T17:20:00.261Z"
   },
   {
    "duration": 9449,
    "start_time": "2021-07-21T17:22:35.005Z"
   },
   {
    "duration": 9827,
    "start_time": "2021-07-21T17:24:24.517Z"
   },
   {
    "duration": 9507,
    "start_time": "2021-07-21T17:24:42.909Z"
   },
   {
    "duration": 9832,
    "start_time": "2021-07-21T17:25:08.719Z"
   },
   {
    "duration": 9326,
    "start_time": "2021-07-21T17:25:56.205Z"
   },
   {
    "duration": 9569,
    "start_time": "2021-07-21T17:26:10.060Z"
   },
   {
    "duration": 1462,
    "start_time": "2021-07-21T17:26:46.800Z"
   },
   {
    "duration": 1659,
    "start_time": "2021-07-21T17:28:38.548Z"
   },
   {
    "duration": 1910,
    "start_time": "2021-07-21T17:29:10.029Z"
   },
   {
    "duration": 8454,
    "start_time": "2021-07-21T17:30:43.957Z"
   },
   {
    "duration": 9261,
    "start_time": "2021-07-21T17:32:15.972Z"
   },
   {
    "duration": 118,
    "start_time": "2021-07-21T17:32:47.245Z"
   },
   {
    "duration": 8882,
    "start_time": "2021-07-21T17:32:52.116Z"
   },
   {
    "duration": 9510,
    "start_time": "2021-07-21T17:33:24.701Z"
   },
   {
    "duration": 9198,
    "start_time": "2021-07-21T17:34:40.741Z"
   },
   {
    "duration": 822,
    "start_time": "2021-07-21T17:36:48.877Z"
   },
   {
    "duration": 1010,
    "start_time": "2021-07-21T17:36:59.453Z"
   },
   {
    "duration": 799,
    "start_time": "2021-07-21T17:37:06.613Z"
   },
   {
    "duration": 971,
    "start_time": "2021-07-21T17:37:12.133Z"
   },
   {
    "duration": 112,
    "start_time": "2021-07-21T17:37:19.333Z"
   },
   {
    "duration": 34,
    "start_time": "2021-07-21T17:37:19.448Z"
   },
   {
    "duration": 806,
    "start_time": "2021-07-21T17:37:19.485Z"
   },
   {
    "duration": 1845,
    "start_time": "2021-07-21T17:37:20.294Z"
   },
   {
    "duration": 565,
    "start_time": "2021-07-21T17:37:22.141Z"
   },
   {
    "duration": 32,
    "start_time": "2021-07-21T17:37:22.709Z"
   },
   {
    "duration": 849,
    "start_time": "2021-07-21T17:37:22.744Z"
   },
   {
    "duration": -19,
    "start_time": "2021-07-21T17:37:23.614Z"
   },
   {
    "duration": -19,
    "start_time": "2021-07-21T17:37:23.616Z"
   },
   {
    "duration": 888,
    "start_time": "2021-07-21T17:37:59.717Z"
   },
   {
    "duration": 327,
    "start_time": "2021-07-21T17:38:43.622Z"
   },
   {
    "duration": 110,
    "start_time": "2021-07-21T17:38:52.501Z"
   },
   {
    "duration": 1086,
    "start_time": "2021-07-21T17:41:27.638Z"
   },
   {
    "duration": 816,
    "start_time": "2021-07-21T17:41:45.285Z"
   },
   {
    "duration": 817,
    "start_time": "2021-07-21T17:41:54.317Z"
   },
   {
    "duration": 2034,
    "start_time": "2021-07-21T17:42:05.189Z"
   },
   {
    "duration": 2031,
    "start_time": "2021-07-21T17:42:17.591Z"
   },
   {
    "duration": 337,
    "start_time": "2021-07-21T17:43:30.445Z"
   },
   {
    "duration": 391,
    "start_time": "2021-07-21T17:43:47.783Z"
   },
   {
    "duration": 105,
    "start_time": "2021-07-21T17:43:59.366Z"
   },
   {
    "duration": 351,
    "start_time": "2021-07-21T17:44:06.709Z"
   },
   {
    "duration": 862,
    "start_time": "2021-07-21T17:46:05.077Z"
   },
   {
    "duration": 107,
    "start_time": "2021-07-21T17:46:17.860Z"
   },
   {
    "duration": 31,
    "start_time": "2021-07-21T17:46:17.970Z"
   },
   {
    "duration": 809,
    "start_time": "2021-07-21T17:46:18.004Z"
   },
   {
    "duration": 1837,
    "start_time": "2021-07-21T17:46:18.816Z"
   },
   {
    "duration": 557,
    "start_time": "2021-07-21T17:46:20.655Z"
   },
   {
    "duration": 25,
    "start_time": "2021-07-21T17:46:21.215Z"
   },
   {
    "duration": 350,
    "start_time": "2021-07-21T17:46:21.242Z"
   },
   {
    "duration": -24,
    "start_time": "2021-07-21T17:46:21.619Z"
   },
   {
    "duration": -22,
    "start_time": "2021-07-21T17:46:21.620Z"
   },
   {
    "duration": 422,
    "start_time": "2021-07-21T17:47:24.574Z"
   },
   {
    "duration": 431,
    "start_time": "2021-07-21T17:47:36.479Z"
   },
   {
    "duration": 325,
    "start_time": "2021-07-21T17:47:43.894Z"
   },
   {
    "duration": 356,
    "start_time": "2021-07-21T17:48:02.190Z"
   },
   {
    "duration": 348,
    "start_time": "2021-07-21T17:48:05.782Z"
   },
   {
    "duration": 109,
    "start_time": "2021-07-21T17:48:07.894Z"
   },
   {
    "duration": 22,
    "start_time": "2021-07-21T17:48:08.006Z"
   },
   {
    "duration": 868,
    "start_time": "2021-07-21T17:48:08.031Z"
   },
   {
    "duration": 1859,
    "start_time": "2021-07-21T17:48:08.901Z"
   },
   {
    "duration": 559,
    "start_time": "2021-07-21T17:48:10.763Z"
   },
   {
    "duration": 27,
    "start_time": "2021-07-21T17:48:11.325Z"
   },
   {
    "duration": 384,
    "start_time": "2021-07-21T17:48:11.355Z"
   },
   {
    "duration": -14,
    "start_time": "2021-07-21T17:48:11.756Z"
   },
   {
    "duration": -12,
    "start_time": "2021-07-21T17:48:11.756Z"
   },
   {
    "duration": 2246,
    "start_time": "2021-07-21T17:49:30.694Z"
   },
   {
    "duration": 1434,
    "start_time": "2021-07-21T17:50:22.430Z"
   },
   {
    "duration": 1354,
    "start_time": "2021-07-21T17:50:32.773Z"
   },
   {
    "duration": 1601,
    "start_time": "2021-07-21T17:50:41.135Z"
   },
   {
    "duration": 1383,
    "start_time": "2021-07-21T17:50:50.534Z"
   },
   {
    "duration": 2209,
    "start_time": "2021-07-21T17:50:59.550Z"
   },
   {
    "duration": 2165,
    "start_time": "2021-07-21T17:51:08.109Z"
   },
   {
    "duration": 2079,
    "start_time": "2021-07-21T17:51:21.533Z"
   },
   {
    "duration": 2023,
    "start_time": "2021-07-21T17:52:05.605Z"
   },
   {
    "duration": 1861,
    "start_time": "2021-07-21T17:52:15.134Z"
   },
   {
    "duration": 319,
    "start_time": "2021-07-21T17:53:49.085Z"
   },
   {
    "duration": -29,
    "start_time": "2021-07-21T17:55:31.578Z"
   },
   {
    "duration": 8895,
    "start_time": "2021-07-21T17:55:32.341Z"
   },
   {
    "duration": 8638,
    "start_time": "2021-07-21T17:55:53.774Z"
   },
   {
    "duration": 1390,
    "start_time": "2021-07-21T17:56:09.222Z"
   },
   {
    "duration": 1501,
    "start_time": "2021-07-21T17:56:46.784Z"
   },
   {
    "duration": 1385,
    "start_time": "2021-07-21T17:57:04.502Z"
   },
   {
    "duration": 559,
    "start_time": "2021-07-21T17:57:36.413Z"
   },
   {
    "duration": 451,
    "start_time": "2021-07-21T17:58:28.558Z"
   },
   {
    "duration": 109,
    "start_time": "2021-07-21T17:58:36.019Z"
   },
   {
    "duration": 22,
    "start_time": "2021-07-21T17:58:36.131Z"
   },
   {
    "duration": 802,
    "start_time": "2021-07-21T17:58:36.157Z"
   },
   {
    "duration": 1935,
    "start_time": "2021-07-21T17:58:36.961Z"
   },
   {
    "duration": 543,
    "start_time": "2021-07-21T17:58:38.898Z"
   },
   {
    "duration": 41,
    "start_time": "2021-07-21T17:58:39.443Z"
   },
   {
    "duration": 1400,
    "start_time": "2021-07-21T17:58:39.487Z"
   },
   {
    "duration": 9,
    "start_time": "2021-07-21T17:58:40.890Z"
   },
   {
    "duration": 342,
    "start_time": "2021-07-21T17:58:40.902Z"
   },
   {
    "duration": 1048,
    "start_time": "2021-07-21T17:59:02.566Z"
   },
   {
    "duration": 465,
    "start_time": "2021-07-21T17:59:20.335Z"
   },
   {
    "duration": 459,
    "start_time": "2021-07-21T17:59:29.397Z"
   },
   {
    "duration": 104,
    "start_time": "2021-07-21T17:59:34.350Z"
   },
   {
    "duration": 36,
    "start_time": "2021-07-21T17:59:34.457Z"
   },
   {
    "duration": 863,
    "start_time": "2021-07-21T17:59:34.496Z"
   },
   {
    "duration": 1790,
    "start_time": "2021-07-21T17:59:35.362Z"
   },
   {
    "duration": 569,
    "start_time": "2021-07-21T17:59:37.155Z"
   },
   {
    "duration": 26,
    "start_time": "2021-07-21T17:59:37.726Z"
   },
   {
    "duration": 1511,
    "start_time": "2021-07-21T17:59:37.755Z"
   },
   {
    "duration": 14,
    "start_time": "2021-07-21T17:59:39.269Z"
   },
   {
    "duration": 321,
    "start_time": "2021-07-21T17:59:39.287Z"
   },
   {
    "duration": 559,
    "start_time": "2021-07-21T18:00:14.086Z"
   },
   {
    "duration": 841,
    "start_time": "2021-07-21T18:00:23.438Z"
   },
   {
    "duration": 229,
    "start_time": "2021-07-21T18:00:33.413Z"
   },
   {
    "duration": 588,
    "start_time": "2021-07-21T18:00:46.829Z"
   },
   {
    "duration": 288,
    "start_time": "2021-07-21T18:00:52.198Z"
   },
   {
    "duration": 277,
    "start_time": "2021-07-21T18:00:59.343Z"
   },
   {
    "duration": 110,
    "start_time": "2021-07-21T18:01:02.613Z"
   },
   {
    "duration": 25,
    "start_time": "2021-07-21T18:01:02.726Z"
   },
   {
    "duration": 822,
    "start_time": "2021-07-21T18:01:02.754Z"
   },
   {
    "duration": 1934,
    "start_time": "2021-07-21T18:01:03.582Z"
   },
   {
    "duration": 577,
    "start_time": "2021-07-21T18:01:05.519Z"
   },
   {
    "duration": 25,
    "start_time": "2021-07-21T18:01:06.099Z"
   },
   {
    "duration": 1034,
    "start_time": "2021-07-21T18:01:06.126Z"
   },
   {
    "duration": 21,
    "start_time": "2021-07-21T18:01:07.162Z"
   },
   {
    "duration": 357,
    "start_time": "2021-07-21T18:01:07.186Z"
   },
   {
    "duration": -28,
    "start_time": "2021-07-21T18:02:01.857Z"
   },
   {
    "duration": -28,
    "start_time": "2021-07-21T18:02:01.858Z"
   },
   {
    "duration": -27,
    "start_time": "2021-07-21T18:02:01.859Z"
   },
   {
    "duration": -27,
    "start_time": "2021-07-21T18:02:01.860Z"
   },
   {
    "duration": -26,
    "start_time": "2021-07-21T18:02:01.861Z"
   },
   {
    "duration": -26,
    "start_time": "2021-07-21T18:02:01.862Z"
   },
   {
    "duration": -26,
    "start_time": "2021-07-21T18:02:01.863Z"
   },
   {
    "duration": -25,
    "start_time": "2021-07-21T18:02:01.864Z"
   },
   {
    "duration": -25,
    "start_time": "2021-07-21T18:02:01.865Z"
   },
   {
    "duration": 116,
    "start_time": "2021-07-21T18:02:20.072Z"
   },
   {
    "duration": 23,
    "start_time": "2021-07-21T18:02:20.190Z"
   },
   {
    "duration": 843,
    "start_time": "2021-07-21T18:02:20.216Z"
   },
   {
    "duration": 2054,
    "start_time": "2021-07-21T18:02:21.062Z"
   },
   {
    "duration": 1080,
    "start_time": "2021-07-21T18:02:23.119Z"
   },
   {
    "duration": 27,
    "start_time": "2021-07-21T18:02:24.201Z"
   },
   {
    "duration": 2175,
    "start_time": "2021-07-21T18:02:24.230Z"
   },
   {
    "duration": 8,
    "start_time": "2021-07-21T18:02:26.408Z"
   },
   {
    "duration": 402,
    "start_time": "2021-07-21T18:02:26.419Z"
   },
   {
    "duration": 443,
    "start_time": "2021-07-21T18:02:44.549Z"
   },
   {
    "duration": 419,
    "start_time": "2021-07-21T18:03:02.231Z"
   },
   {
    "duration": 113,
    "start_time": "2021-07-21T18:03:05.521Z"
   },
   {
    "duration": 634,
    "start_time": "2021-07-21T18:03:05.637Z"
   },
   {
    "duration": 1028,
    "start_time": "2021-07-21T18:03:06.274Z"
   },
   {
    "duration": 1834,
    "start_time": "2021-07-21T18:03:07.306Z"
   },
   {
    "duration": 558,
    "start_time": "2021-07-21T18:03:09.142Z"
   },
   {
    "duration": 24,
    "start_time": "2021-07-21T18:03:09.703Z"
   },
   {
    "duration": 1229,
    "start_time": "2021-07-21T18:03:09.730Z"
   },
   {
    "duration": 8,
    "start_time": "2021-07-21T18:03:10.962Z"
   },
   {
    "duration": 354,
    "start_time": "2021-07-21T18:03:10.983Z"
   },
   {
    "duration": 1943,
    "start_time": "2021-07-21T18:05:21.405Z"
   },
   {
    "duration": 106,
    "start_time": "2021-07-21T18:05:25.885Z"
   },
   {
    "duration": 22,
    "start_time": "2021-07-21T18:05:25.993Z"
   },
   {
    "duration": 801,
    "start_time": "2021-07-21T18:05:26.018Z"
   },
   {
    "duration": 1849,
    "start_time": "2021-07-21T18:05:26.822Z"
   },
   {
    "duration": 658,
    "start_time": "2021-07-21T18:05:28.674Z"
   },
   {
    "duration": 24,
    "start_time": "2021-07-21T18:05:29.335Z"
   },
   {
    "duration": 1433,
    "start_time": "2021-07-21T18:05:29.362Z"
   },
   {
    "duration": -20,
    "start_time": "2021-07-21T18:05:30.818Z"
   },
   {
    "duration": -20,
    "start_time": "2021-07-21T18:05:30.819Z"
   },
   {
    "duration": 412,
    "start_time": "2021-07-21T18:06:47.270Z"
   },
   {
    "duration": 110,
    "start_time": "2021-07-21T18:07:00.376Z"
   },
   {
    "duration": 22,
    "start_time": "2021-07-21T18:07:00.489Z"
   },
   {
    "duration": 1256,
    "start_time": "2021-07-21T18:07:00.514Z"
   },
   {
    "duration": 2158,
    "start_time": "2021-07-21T18:07:01.773Z"
   },
   {
    "duration": 588,
    "start_time": "2021-07-21T18:07:03.933Z"
   },
   {
    "duration": 25,
    "start_time": "2021-07-21T18:07:04.523Z"
   },
   {
    "duration": 1256,
    "start_time": "2021-07-21T18:07:04.551Z"
   },
   {
    "duration": 9,
    "start_time": "2021-07-21T18:07:05.809Z"
   },
   {
    "duration": 349,
    "start_time": "2021-07-21T18:07:05.821Z"
   },
   {
    "duration": 1472,
    "start_time": "2021-07-21T18:08:45.166Z"
   },
   {
    "duration": 752,
    "start_time": "2021-07-21T18:09:37.984Z"
   },
   {
    "duration": 391,
    "start_time": "2021-07-21T18:09:50.086Z"
   },
   {
    "duration": 111,
    "start_time": "2021-07-21T18:10:17.676Z"
   },
   {
    "duration": 30,
    "start_time": "2021-07-21T18:10:17.792Z"
   },
   {
    "duration": 1008,
    "start_time": "2021-07-21T18:10:17.827Z"
   },
   {
    "duration": 2054,
    "start_time": "2021-07-21T18:10:18.838Z"
   },
   {
    "duration": 668,
    "start_time": "2021-07-21T18:10:20.895Z"
   },
   {
    "duration": 38,
    "start_time": "2021-07-21T18:10:21.565Z"
   },
   {
    "duration": 1160,
    "start_time": "2021-07-21T18:10:21.606Z"
   },
   {
    "duration": 16,
    "start_time": "2021-07-21T18:10:22.769Z"
   },
   {
    "duration": 329,
    "start_time": "2021-07-21T18:10:22.788Z"
   },
   {
    "duration": 384,
    "start_time": "2021-07-21T18:10:33.006Z"
   },
   {
    "duration": 108,
    "start_time": "2021-07-21T18:10:36.288Z"
   },
   {
    "duration": 200,
    "start_time": "2021-07-21T18:10:36.399Z"
   },
   {
    "duration": 785,
    "start_time": "2021-07-21T18:10:36.602Z"
   },
   {
    "duration": 1827,
    "start_time": "2021-07-21T18:10:37.390Z"
   },
   {
    "duration": 562,
    "start_time": "2021-07-21T18:10:39.220Z"
   },
   {
    "duration": 24,
    "start_time": "2021-07-21T18:10:39.785Z"
   },
   {
    "duration": 1290,
    "start_time": "2021-07-21T18:10:39.812Z"
   },
   {
    "duration": 9,
    "start_time": "2021-07-21T18:10:41.106Z"
   },
   {
    "duration": 367,
    "start_time": "2021-07-21T18:10:41.118Z"
   },
   {
    "duration": 413,
    "start_time": "2021-07-21T18:10:57.382Z"
   },
   {
    "duration": 411,
    "start_time": "2021-07-21T18:11:19.749Z"
   },
   {
    "duration": 387,
    "start_time": "2021-07-21T18:11:27.614Z"
   },
   {
    "duration": 393,
    "start_time": "2021-07-21T18:11:31.118Z"
   },
   {
    "duration": 380,
    "start_time": "2021-07-21T18:11:34.077Z"
   },
   {
    "duration": 393,
    "start_time": "2021-07-21T18:11:37.830Z"
   },
   {
    "duration": 379,
    "start_time": "2021-07-21T18:11:40.390Z"
   },
   {
    "duration": 383,
    "start_time": "2021-07-21T18:11:43.366Z"
   },
   {
    "duration": 109,
    "start_time": "2021-07-21T18:11:47.760Z"
   },
   {
    "duration": 27,
    "start_time": "2021-07-21T18:11:47.872Z"
   },
   {
    "duration": 897,
    "start_time": "2021-07-21T18:11:47.902Z"
   },
   {
    "duration": 1850,
    "start_time": "2021-07-21T18:11:48.802Z"
   },
   {
    "duration": 580,
    "start_time": "2021-07-21T18:11:50.654Z"
   },
   {
    "duration": 24,
    "start_time": "2021-07-21T18:11:51.237Z"
   },
   {
    "duration": 1318,
    "start_time": "2021-07-21T18:11:51.264Z"
   },
   {
    "duration": 8,
    "start_time": "2021-07-21T18:11:52.585Z"
   },
   {
    "duration": 489,
    "start_time": "2021-07-21T18:11:52.598Z"
   },
   {
    "duration": 403,
    "start_time": "2021-07-21T18:12:25.677Z"
   },
   {
    "duration": 390,
    "start_time": "2021-07-21T18:12:28.558Z"
   },
   {
    "duration": 397,
    "start_time": "2021-07-21T18:12:30.429Z"
   },
   {
    "duration": 387,
    "start_time": "2021-07-21T18:12:32.485Z"
   },
   {
    "duration": 381,
    "start_time": "2021-07-21T18:12:54.095Z"
   },
   {
    "duration": 396,
    "start_time": "2021-07-21T18:12:57.790Z"
   },
   {
    "duration": 10,
    "start_time": "2021-07-21T18:12:59.670Z"
   },
   {
    "duration": 385,
    "start_time": "2021-07-21T18:13:00.590Z"
   },
   {
    "duration": 385,
    "start_time": "2021-07-21T18:13:03.926Z"
   },
   {
    "duration": 100,
    "start_time": "2021-07-21T18:13:06.843Z"
   },
   {
    "duration": 22,
    "start_time": "2021-07-21T18:13:06.945Z"
   },
   {
    "duration": 970,
    "start_time": "2021-07-21T18:13:06.983Z"
   },
   {
    "duration": 1950,
    "start_time": "2021-07-21T18:13:07.956Z"
   },
   {
    "duration": 559,
    "start_time": "2021-07-21T18:13:09.910Z"
   },
   {
    "duration": 33,
    "start_time": "2021-07-21T18:13:10.472Z"
   },
   {
    "duration": 1199,
    "start_time": "2021-07-21T18:13:10.507Z"
   },
   {
    "duration": 9,
    "start_time": "2021-07-21T18:13:11.708Z"
   },
   {
    "duration": 322,
    "start_time": "2021-07-21T18:13:11.720Z"
   },
   {
    "duration": 481,
    "start_time": "2021-07-21T18:17:21.798Z"
   },
   {
    "duration": 109,
    "start_time": "2021-07-21T18:17:26.376Z"
   },
   {
    "duration": 22,
    "start_time": "2021-07-21T18:17:26.489Z"
   },
   {
    "duration": 831,
    "start_time": "2021-07-21T18:17:26.514Z"
   },
   {
    "duration": 1855,
    "start_time": "2021-07-21T18:17:27.348Z"
   },
   {
    "duration": 569,
    "start_time": "2021-07-21T18:17:29.205Z"
   },
   {
    "duration": 25,
    "start_time": "2021-07-21T18:17:29.782Z"
   },
   {
    "duration": 1285,
    "start_time": "2021-07-21T18:17:29.809Z"
   },
   {
    "duration": 9,
    "start_time": "2021-07-21T18:17:31.096Z"
   },
   {
    "duration": 345,
    "start_time": "2021-07-21T18:17:31.108Z"
   },
   {
    "duration": 384,
    "start_time": "2021-07-21T18:19:20.654Z"
   },
   {
    "duration": 109,
    "start_time": "2021-07-21T18:19:27.643Z"
   },
   {
    "duration": 37,
    "start_time": "2021-07-21T18:19:27.756Z"
   },
   {
    "duration": 806,
    "start_time": "2021-07-21T18:19:27.796Z"
   },
   {
    "duration": 1969,
    "start_time": "2021-07-21T18:19:28.605Z"
   },
   {
    "duration": 574,
    "start_time": "2021-07-21T18:19:30.576Z"
   },
   {
    "duration": 42,
    "start_time": "2021-07-21T18:19:31.153Z"
   },
   {
    "duration": 1191,
    "start_time": "2021-07-21T18:19:31.197Z"
   },
   {
    "duration": 9,
    "start_time": "2021-07-21T18:19:32.390Z"
   },
   {
    "duration": 314,
    "start_time": "2021-07-21T18:19:32.402Z"
   },
   {
    "duration": 380,
    "start_time": "2021-07-21T18:19:37.430Z"
   },
   {
    "duration": 372,
    "start_time": "2021-07-21T18:19:40.590Z"
   },
   {
    "duration": 374,
    "start_time": "2021-07-21T18:19:44.198Z"
   },
   {
    "duration": 414,
    "start_time": "2021-07-21T18:19:46.462Z"
   },
   {
    "duration": 105,
    "start_time": "2021-07-21T18:19:49.626Z"
   },
   {
    "duration": 23,
    "start_time": "2021-07-21T18:19:49.734Z"
   },
   {
    "duration": 912,
    "start_time": "2021-07-21T18:19:49.761Z"
   },
   {
    "duration": 1846,
    "start_time": "2021-07-21T18:19:50.677Z"
   },
   {
    "duration": 579,
    "start_time": "2021-07-21T18:19:52.526Z"
   },
   {
    "duration": 30,
    "start_time": "2021-07-21T18:19:53.108Z"
   },
   {
    "duration": 1376,
    "start_time": "2021-07-21T18:19:53.141Z"
   },
   {
    "duration": 9,
    "start_time": "2021-07-21T18:19:54.520Z"
   },
   {
    "duration": 390,
    "start_time": "2021-07-21T18:19:54.534Z"
   },
   {
    "duration": 616,
    "start_time": "2021-07-21T18:20:25.918Z"
   },
   {
    "duration": 120,
    "start_time": "2021-07-21T18:20:40.430Z"
   },
   {
    "duration": 112,
    "start_time": "2021-07-21T18:20:44.174Z"
   },
   {
    "duration": 749,
    "start_time": "2021-07-21T18:20:48.222Z"
   },
   {
    "duration": 106,
    "start_time": "2021-07-21T18:20:52.919Z"
   },
   {
    "duration": 22,
    "start_time": "2021-07-21T18:20:53.027Z"
   },
   {
    "duration": 806,
    "start_time": "2021-07-21T18:20:53.052Z"
   },
   {
    "duration": 1928,
    "start_time": "2021-07-21T18:20:53.861Z"
   },
   {
    "duration": 564,
    "start_time": "2021-07-21T18:20:55.792Z"
   },
   {
    "duration": 38,
    "start_time": "2021-07-21T18:20:56.359Z"
   },
   {
    "duration": 2224,
    "start_time": "2021-07-21T18:20:56.399Z"
   },
   {
    "duration": 9,
    "start_time": "2021-07-21T18:20:58.626Z"
   },
   {
    "duration": 318,
    "start_time": "2021-07-21T18:20:58.639Z"
   },
   {
    "duration": 840,
    "start_time": "2021-07-21T18:21:43.782Z"
   },
   {
    "duration": 167,
    "start_time": "2021-07-21T18:21:51.590Z"
   },
   {
    "duration": 806,
    "start_time": "2021-07-21T18:21:56.262Z"
   },
   {
    "duration": 761,
    "start_time": "2021-07-21T18:22:10.870Z"
   },
   {
    "duration": 738,
    "start_time": "2021-07-21T18:22:13.062Z"
   },
   {
    "duration": 735,
    "start_time": "2021-07-21T18:22:15.318Z"
   },
   {
    "duration": 104,
    "start_time": "2021-07-21T18:22:19.941Z"
   },
   {
    "duration": 34,
    "start_time": "2021-07-21T18:22:20.048Z"
   },
   {
    "duration": 911,
    "start_time": "2021-07-21T18:22:20.086Z"
   },
   {
    "duration": 1958,
    "start_time": "2021-07-21T18:22:21.000Z"
   },
   {
    "duration": 577,
    "start_time": "2021-07-21T18:22:22.961Z"
   },
   {
    "duration": 24,
    "start_time": "2021-07-21T18:22:23.540Z"
   },
   {
    "duration": 2353,
    "start_time": "2021-07-21T18:22:23.567Z"
   },
   {
    "duration": 8,
    "start_time": "2021-07-21T18:22:25.923Z"
   },
   {
    "duration": 460,
    "start_time": "2021-07-21T18:22:25.934Z"
   },
   {
    "duration": 607,
    "start_time": "2021-07-21T18:22:46.892Z"
   },
   {
    "duration": 104,
    "start_time": "2021-07-21T18:22:57.385Z"
   },
   {
    "duration": 23,
    "start_time": "2021-07-21T18:22:57.493Z"
   },
   {
    "duration": 881,
    "start_time": "2021-07-21T18:22:57.520Z"
   },
   {
    "duration": 1936,
    "start_time": "2021-07-21T18:22:58.404Z"
   },
   {
    "duration": 569,
    "start_time": "2021-07-21T18:23:00.342Z"
   },
   {
    "duration": 25,
    "start_time": "2021-07-21T18:23:00.914Z"
   },
   {
    "duration": 2052,
    "start_time": "2021-07-21T18:23:00.942Z"
   },
   {
    "duration": 10,
    "start_time": "2021-07-21T18:23:02.997Z"
   },
   {
    "duration": 428,
    "start_time": "2021-07-21T18:23:03.010Z"
   },
   {
    "duration": 102,
    "start_time": "2021-07-21T18:23:18.101Z"
   },
   {
    "duration": 21,
    "start_time": "2021-07-21T18:23:18.205Z"
   },
   {
    "duration": 912,
    "start_time": "2021-07-21T18:23:18.229Z"
   },
   {
    "duration": 1978,
    "start_time": "2021-07-21T18:23:19.144Z"
   },
   {
    "duration": 571,
    "start_time": "2021-07-21T18:23:21.124Z"
   },
   {
    "duration": 24,
    "start_time": "2021-07-21T18:23:21.698Z"
   },
   {
    "duration": 2088,
    "start_time": "2021-07-21T18:23:21.724Z"
   },
   {
    "duration": 8,
    "start_time": "2021-07-21T18:23:23.814Z"
   },
   {
    "duration": 372,
    "start_time": "2021-07-21T18:23:23.826Z"
   },
   {
    "duration": 650,
    "start_time": "2021-07-21T18:24:02.982Z"
   },
   {
    "duration": 709,
    "start_time": "2021-07-21T18:24:07.342Z"
   },
   {
    "duration": 102,
    "start_time": "2021-07-21T18:24:11.113Z"
   },
   {
    "duration": 21,
    "start_time": "2021-07-21T18:24:11.217Z"
   },
   {
    "duration": 791,
    "start_time": "2021-07-21T18:24:11.241Z"
   },
   {
    "duration": 1995,
    "start_time": "2021-07-21T18:24:12.035Z"
   },
   {
    "duration": 564,
    "start_time": "2021-07-21T18:24:14.033Z"
   },
   {
    "duration": 24,
    "start_time": "2021-07-21T18:24:14.599Z"
   },
   {
    "duration": 2272,
    "start_time": "2021-07-21T18:24:14.626Z"
   },
   {
    "duration": 9,
    "start_time": "2021-07-21T18:24:16.900Z"
   },
   {
    "duration": 351,
    "start_time": "2021-07-21T18:24:16.912Z"
   },
   {
    "duration": 102,
    "start_time": "2021-07-21T18:24:24.306Z"
   },
   {
    "duration": 20,
    "start_time": "2021-07-21T18:24:24.411Z"
   },
   {
    "duration": 786,
    "start_time": "2021-07-21T18:24:24.435Z"
   },
   {
    "duration": 1843,
    "start_time": "2021-07-21T18:24:25.224Z"
   },
   {
    "duration": 684,
    "start_time": "2021-07-21T18:24:27.070Z"
   },
   {
    "duration": 40,
    "start_time": "2021-07-21T18:24:27.757Z"
   },
   {
    "duration": 2061,
    "start_time": "2021-07-21T18:24:27.800Z"
   },
   {
    "duration": 20,
    "start_time": "2021-07-21T18:24:29.864Z"
   },
   {
    "duration": 354,
    "start_time": "2021-07-21T18:24:29.889Z"
   },
   {
    "duration": 106,
    "start_time": "2021-07-21T18:24:54.027Z"
   },
   {
    "duration": 22,
    "start_time": "2021-07-21T18:24:54.136Z"
   },
   {
    "duration": 892,
    "start_time": "2021-07-21T18:24:54.161Z"
   },
   {
    "duration": 1956,
    "start_time": "2021-07-21T18:24:55.056Z"
   },
   {
    "duration": 581,
    "start_time": "2021-07-21T18:24:57.015Z"
   },
   {
    "duration": 27,
    "start_time": "2021-07-21T18:24:57.598Z"
   },
   {
    "duration": 14643,
    "start_time": "2021-07-21T18:24:57.627Z"
   },
   {
    "duration": 13,
    "start_time": "2021-07-21T18:25:12.272Z"
   },
   {
    "duration": 338,
    "start_time": "2021-07-21T18:25:12.288Z"
   },
   {
    "duration": 324,
    "start_time": "2021-07-21T18:41:14.655Z"
   },
   {
    "duration": 322,
    "start_time": "2021-07-21T18:41:23.279Z"
   },
   {
    "duration": 44,
    "start_time": "2021-07-21T18:42:29.303Z"
   },
   {
    "duration": 41,
    "start_time": "2021-07-21T18:42:53.748Z"
   },
   {
    "duration": 42,
    "start_time": "2021-07-21T18:42:56.662Z"
   },
   {
    "duration": 103,
    "start_time": "2021-07-21T18:43:00.759Z"
   },
   {
    "duration": 33,
    "start_time": "2021-07-21T18:43:00.865Z"
   },
   {
    "duration": 804,
    "start_time": "2021-07-21T18:43:00.902Z"
   },
   {
    "duration": 1843,
    "start_time": "2021-07-21T18:43:01.709Z"
   },
   {
    "duration": 665,
    "start_time": "2021-07-21T18:43:03.555Z"
   },
   {
    "duration": 25,
    "start_time": "2021-07-21T18:43:04.222Z"
   },
   {
    "duration": 14095,
    "start_time": "2021-07-21T18:43:04.249Z"
   },
   {
    "duration": 54,
    "start_time": "2021-07-21T18:43:18.346Z"
   },
   {
    "duration": 314,
    "start_time": "2021-07-21T18:43:18.404Z"
   },
   {
    "duration": 50,
    "start_time": "2021-07-21T18:44:16.551Z"
   },
   {
    "duration": 37,
    "start_time": "2021-07-21T18:44:26.574Z"
   },
   {
    "duration": 128,
    "start_time": "2021-07-21T18:44:51.886Z"
   },
   {
    "duration": 115,
    "start_time": "2021-07-21T18:44:56.006Z"
   },
   {
    "duration": 115,
    "start_time": "2021-07-21T18:45:05.126Z"
   },
   {
    "duration": 108,
    "start_time": "2021-07-21T18:45:12.679Z"
   },
   {
    "duration": 102,
    "start_time": "2021-07-21T18:45:45.294Z"
   },
   {
    "duration": 40,
    "start_time": "2021-07-21T18:45:54.575Z"
   },
   {
    "duration": 42,
    "start_time": "2021-07-21T18:46:20.350Z"
   },
   {
    "duration": 42,
    "start_time": "2021-07-21T18:46:29.454Z"
   },
   {
    "duration": 41,
    "start_time": "2021-07-21T18:46:40.295Z"
   },
   {
    "duration": 403,
    "start_time": "2021-07-21T18:47:04.798Z"
   },
   {
    "duration": 41,
    "start_time": "2021-07-21T18:47:16.247Z"
   },
   {
    "duration": 37,
    "start_time": "2021-07-21T18:47:35.286Z"
   },
   {
    "duration": 106,
    "start_time": "2021-07-21T18:52:56.543Z"
   },
   {
    "duration": 8559,
    "start_time": "2021-07-21T18:53:08.767Z"
   },
   {
    "duration": 8731,
    "start_time": "2021-07-21T18:54:17.495Z"
   },
   {
    "duration": 9021,
    "start_time": "2021-07-21T18:54:31.927Z"
   },
   {
    "duration": 9201,
    "start_time": "2021-07-21T18:56:20.303Z"
   },
   {
    "duration": 104,
    "start_time": "2021-07-21T18:56:40.469Z"
   },
   {
    "duration": 22,
    "start_time": "2021-07-21T18:56:40.583Z"
   },
   {
    "duration": 906,
    "start_time": "2021-07-21T18:56:40.608Z"
   },
   {
    "duration": 1863,
    "start_time": "2021-07-21T18:56:41.517Z"
   },
   {
    "duration": 567,
    "start_time": "2021-07-21T18:56:43.383Z"
   },
   {
    "duration": 40,
    "start_time": "2021-07-21T18:56:43.953Z"
   },
   {
    "duration": 14539,
    "start_time": "2021-07-21T18:56:43.995Z"
   },
   {
    "duration": 53,
    "start_time": "2021-07-21T18:56:58.537Z"
   },
   {
    "duration": 8150,
    "start_time": "2021-07-21T18:56:58.594Z"
   },
   {
    "duration": 8284,
    "start_time": "2021-07-21T18:57:56.191Z"
   },
   {
    "duration": 101,
    "start_time": "2021-07-21T18:58:06.883Z"
   },
   {
    "duration": 22,
    "start_time": "2021-07-21T18:58:06.987Z"
   },
   {
    "duration": 829,
    "start_time": "2021-07-21T18:58:07.012Z"
   },
   {
    "duration": 1883,
    "start_time": "2021-07-21T18:58:07.844Z"
   },
   {
    "duration": 709,
    "start_time": "2021-07-21T18:58:09.731Z"
   },
   {
    "duration": 46,
    "start_time": "2021-07-21T18:58:10.443Z"
   },
   {
    "duration": 14532,
    "start_time": "2021-07-21T18:58:10.492Z"
   },
   {
    "duration": 37,
    "start_time": "2021-07-21T18:58:25.028Z"
   },
   {
    "duration": 389,
    "start_time": "2021-07-21T18:58:25.083Z"
   },
   {
    "duration": 300,
    "start_time": "2021-07-21T18:58:47.108Z"
   },
   {
    "duration": 310,
    "start_time": "2021-07-21T19:00:25.535Z"
   },
   {
    "duration": 423,
    "start_time": "2021-07-21T19:00:34.159Z"
   },
   {
    "duration": 362,
    "start_time": "2021-07-21T19:00:45.382Z"
   },
   {
    "duration": 104,
    "start_time": "2021-07-21T19:00:50.410Z"
   },
   {
    "duration": 21,
    "start_time": "2021-07-21T19:00:50.517Z"
   },
   {
    "duration": 786,
    "start_time": "2021-07-21T19:00:50.542Z"
   },
   {
    "duration": 1865,
    "start_time": "2021-07-21T19:00:51.331Z"
   },
   {
    "duration": 645,
    "start_time": "2021-07-21T19:00:53.199Z"
   },
   {
    "duration": 36,
    "start_time": "2021-07-21T19:00:53.847Z"
   },
   {
    "duration": 14529,
    "start_time": "2021-07-21T19:00:53.886Z"
   },
   {
    "duration": 38,
    "start_time": "2021-07-21T19:01:08.417Z"
   },
   {
    "duration": 334,
    "start_time": "2021-07-21T19:01:08.458Z"
   },
   {
    "duration": 105,
    "start_time": "2021-07-21T19:02:00.659Z"
   },
   {
    "duration": 33,
    "start_time": "2021-07-21T19:02:00.767Z"
   },
   {
    "duration": 930,
    "start_time": "2021-07-21T19:02:00.805Z"
   },
   {
    "duration": 1870,
    "start_time": "2021-07-21T19:02:01.738Z"
   },
   {
    "duration": 674,
    "start_time": "2021-07-21T19:02:03.610Z"
   },
   {
    "duration": 25,
    "start_time": "2021-07-21T19:02:04.286Z"
   },
   {
    "duration": 15257,
    "start_time": "2021-07-21T19:02:04.313Z"
   },
   {
    "duration": 61,
    "start_time": "2021-07-21T19:02:19.573Z"
   },
   {
    "duration": 403,
    "start_time": "2021-07-21T19:02:19.639Z"
   },
   {
    "duration": 312,
    "start_time": "2021-07-21T19:03:12.102Z"
   },
   {
    "duration": 310,
    "start_time": "2021-07-21T19:03:25.911Z"
   },
   {
    "duration": 326,
    "start_time": "2021-07-21T19:03:31.159Z"
   },
   {
    "duration": 345,
    "start_time": "2021-07-21T19:03:33.847Z"
   },
   {
    "duration": 298,
    "start_time": "2021-07-21T19:03:41.328Z"
   },
   {
    "duration": 291,
    "start_time": "2021-07-21T19:06:49.535Z"
   },
   {
    "duration": 957,
    "start_time": "2021-07-22T17:28:49.338Z"
   },
   {
    "duration": 34,
    "start_time": "2021-07-22T17:28:50.299Z"
   },
   {
    "duration": 818,
    "start_time": "2021-07-22T17:28:50.336Z"
   },
   {
    "duration": 2006,
    "start_time": "2021-07-22T17:28:51.156Z"
   },
   {
    "duration": 548,
    "start_time": "2021-07-22T17:28:53.164Z"
   },
   {
    "duration": 26,
    "start_time": "2021-07-22T17:28:53.715Z"
   },
   {
    "duration": 13888,
    "start_time": "2021-07-22T17:28:53.744Z"
   },
   {
    "duration": 52,
    "start_time": "2021-07-22T17:29:07.634Z"
   },
   {
    "duration": 423,
    "start_time": "2021-07-22T17:29:07.690Z"
   },
   {
    "duration": 733,
    "start_time": "2021-07-22T17:36:07.804Z"
   },
   {
    "duration": 8313,
    "start_time": "2021-07-22T17:36:19.502Z"
   },
   {
    "duration": 334,
    "start_time": "2021-07-22T17:36:42.950Z"
   },
   {
    "duration": 343,
    "start_time": "2021-07-22T17:38:18.366Z"
   },
   {
    "duration": 628,
    "start_time": "2021-07-22T17:42:02.605Z"
   },
   {
    "duration": 602,
    "start_time": "2021-07-22T17:42:17.006Z"
   },
   {
    "duration": 690,
    "start_time": "2021-07-22T17:43:33.102Z"
   },
   {
    "duration": 914,
    "start_time": "2021-07-22T17:43:43.166Z"
   },
   {
    "duration": 688,
    "start_time": "2021-07-22T17:43:45.598Z"
   },
   {
    "duration": 118,
    "start_time": "2021-07-22T17:44:06.249Z"
   },
   {
    "duration": 25,
    "start_time": "2021-07-22T17:44:06.371Z"
   },
   {
    "duration": 832,
    "start_time": "2021-07-22T17:44:06.401Z"
   },
   {
    "duration": 1895,
    "start_time": "2021-07-22T17:44:07.236Z"
   },
   {
    "duration": 578,
    "start_time": "2021-07-22T17:44:09.133Z"
   },
   {
    "duration": 27,
    "start_time": "2021-07-22T17:44:09.714Z"
   },
   {
    "duration": 13668,
    "start_time": "2021-07-22T17:44:09.743Z"
   },
   {
    "duration": 54,
    "start_time": "2021-07-22T17:44:23.413Z"
   },
   {
    "duration": 333,
    "start_time": "2021-07-22T17:44:23.471Z"
   },
   {
    "duration": 633,
    "start_time": "2021-07-22T17:44:23.806Z"
   },
   {
    "duration": 598,
    "start_time": "2021-07-22T17:44:51.470Z"
   },
   {
    "duration": 162,
    "start_time": "2021-07-22T17:50:21.036Z"
   },
   {
    "duration": 22,
    "start_time": "2021-07-22T17:50:22.478Z"
   },
   {
    "duration": 882,
    "start_time": "2021-07-22T17:50:25.838Z"
   },
   {
    "duration": 1947,
    "start_time": "2021-07-22T17:50:27.862Z"
   },
   {
    "duration": 544,
    "start_time": "2021-07-22T17:50:30.750Z"
   },
   {
    "duration": 26,
    "start_time": "2021-07-22T17:50:33.134Z"
   },
   {
    "duration": 47,
    "start_time": "2021-07-22T17:50:35.930Z"
   },
   {
    "duration": 317,
    "start_time": "2021-07-22T17:50:37.229Z"
   },
   {
    "duration": 854,
    "start_time": "2021-07-22T17:50:39.358Z"
   },
   {
    "duration": 957,
    "start_time": "2021-07-22T17:54:43.359Z"
   },
   {
    "duration": 1248,
    "start_time": "2021-07-22T17:56:43.382Z"
   },
   {
    "duration": 1526,
    "start_time": "2021-07-22T17:57:28.087Z"
   },
   {
    "duration": 2653,
    "start_time": "2021-07-22T17:58:31.854Z"
   },
   {
    "duration": 2286,
    "start_time": "2021-07-22T17:58:42.623Z"
   },
   {
    "duration": 2965,
    "start_time": "2021-07-22T18:01:09.079Z"
   },
   {
    "duration": 2235,
    "start_time": "2021-07-22T18:01:21.791Z"
   },
   {
    "duration": 2386,
    "start_time": "2021-07-22T18:01:31.111Z"
   },
   {
    "duration": 2181,
    "start_time": "2021-07-22T18:02:20.966Z"
   },
   {
    "duration": 2321,
    "start_time": "2021-07-22T18:02:41.102Z"
   },
   {
    "duration": 111,
    "start_time": "2021-07-22T18:04:17.726Z"
   },
   {
    "duration": 112,
    "start_time": "2021-07-22T18:16:09.231Z"
   },
   {
    "duration": 46,
    "start_time": "2021-07-22T18:16:11.198Z"
   },
   {
    "duration": 865,
    "start_time": "2021-07-22T18:16:13.510Z"
   },
   {
    "duration": 1727,
    "start_time": "2021-07-22T18:20:17.095Z"
   },
   {
    "duration": 1834,
    "start_time": "2021-07-22T18:20:46.150Z"
   },
   {
    "duration": 1768,
    "start_time": "2021-07-22T18:21:02.398Z"
   },
   {
    "duration": 1917,
    "start_time": "2021-07-22T18:21:09.982Z"
   },
   {
    "duration": 1848,
    "start_time": "2021-07-22T18:21:25.295Z"
   },
   {
    "duration": 1785,
    "start_time": "2021-07-22T18:21:34.894Z"
   },
   {
    "duration": 2790,
    "start_time": "2021-07-22T18:22:18.351Z"
   },
   {
    "duration": 1734,
    "start_time": "2021-07-22T18:22:32.398Z"
   },
   {
    "duration": 1909,
    "start_time": "2021-07-22T18:23:02.798Z"
   },
   {
    "duration": 1883,
    "start_time": "2021-07-22T18:23:55.006Z"
   },
   {
    "duration": 2078,
    "start_time": "2021-07-22T18:24:10.351Z"
   },
   {
    "duration": 1960,
    "start_time": "2021-07-22T18:24:23.639Z"
   },
   {
    "duration": 1819,
    "start_time": "2021-07-22T18:24:31.271Z"
   },
   {
    "duration": 2237,
    "start_time": "2021-07-22T18:25:03.086Z"
   },
   {
    "duration": 1865,
    "start_time": "2021-07-22T18:25:25.543Z"
   },
   {
    "duration": 2054,
    "start_time": "2021-07-22T18:41:33.719Z"
   },
   {
    "duration": 1943,
    "start_time": "2021-07-22T18:42:17.518Z"
   },
   {
    "duration": 506,
    "start_time": "2021-07-22T18:48:26.271Z"
   },
   {
    "duration": 853,
    "start_time": "2021-07-22T18:48:36.075Z"
   },
   {
    "duration": 732,
    "start_time": "2021-07-22T18:48:59.183Z"
   },
   {
    "duration": 1015,
    "start_time": "2021-07-22T18:49:21.511Z"
   },
   {
    "duration": 2118,
    "start_time": "2021-07-22T18:49:29.847Z"
   },
   {
    "duration": 1143,
    "start_time": "2021-07-22T18:50:04.151Z"
   },
   {
    "duration": 1232,
    "start_time": "2021-07-22T18:51:04.439Z"
   },
   {
    "duration": 1163,
    "start_time": "2021-07-22T18:51:22.727Z"
   },
   {
    "duration": 1162,
    "start_time": "2021-07-22T18:51:33.672Z"
   },
   {
    "duration": 2312,
    "start_time": "2021-07-22T18:51:46.927Z"
   },
   {
    "duration": 161,
    "start_time": "2021-07-22T18:52:20.279Z"
   },
   {
    "duration": 1206,
    "start_time": "2021-07-22T18:52:29.014Z"
   },
   {
    "duration": 1203,
    "start_time": "2021-07-22T18:52:48.663Z"
   },
   {
    "duration": 1189,
    "start_time": "2021-07-22T18:57:48.455Z"
   },
   {
    "duration": 1295,
    "start_time": "2021-07-22T18:58:11.903Z"
   },
   {
    "duration": 948,
    "start_time": "2021-07-22T19:06:28.167Z"
   },
   {
    "duration": 347,
    "start_time": "2021-07-22T19:06:37.223Z"
   },
   {
    "duration": 354,
    "start_time": "2021-07-22T19:06:55.671Z"
   },
   {
    "duration": 342,
    "start_time": "2021-07-22T19:07:00.623Z"
   },
   {
    "duration": 663,
    "start_time": "2021-07-22T19:08:08.464Z"
   },
   {
    "duration": 676,
    "start_time": "2021-07-22T19:08:19.951Z"
   },
   {
    "duration": 103,
    "start_time": "2021-07-22T19:08:40.215Z"
   },
   {
    "duration": 1003,
    "start_time": "2021-07-22T19:08:50.192Z"
   },
   {
    "duration": 770,
    "start_time": "2021-07-22T19:09:35.064Z"
   },
   {
    "duration": 663,
    "start_time": "2021-07-22T19:09:59.248Z"
   },
   {
    "duration": 665,
    "start_time": "2021-07-22T19:10:27.663Z"
   },
   {
    "duration": 652,
    "start_time": "2021-07-22T19:10:49.240Z"
   },
   {
    "duration": 659,
    "start_time": "2021-07-22T19:11:18.407Z"
   },
   {
    "duration": 1433,
    "start_time": "2021-07-22T19:12:43.423Z"
   },
   {
    "duration": 1774,
    "start_time": "2021-07-22T19:14:02.048Z"
   },
   {
    "duration": 1692,
    "start_time": "2021-07-22T19:15:09.391Z"
   },
   {
    "duration": 2628,
    "start_time": "2021-07-22T19:16:30.527Z"
   },
   {
    "duration": 2536,
    "start_time": "2021-07-22T19:17:20.912Z"
   },
   {
    "duration": 2622,
    "start_time": "2021-07-22T19:17:33.919Z"
   },
   {
    "duration": 39,
    "start_time": "2021-07-22T19:18:11.439Z"
   },
   {
    "duration": 110,
    "start_time": "2021-07-22T19:18:58.578Z"
   },
   {
    "duration": 44,
    "start_time": "2021-07-22T19:18:58.692Z"
   },
   {
    "duration": 1355,
    "start_time": "2021-07-22T19:18:58.740Z"
   },
   {
    "duration": 2964,
    "start_time": "2021-07-22T19:19:00.099Z"
   },
   {
    "duration": 1772,
    "start_time": "2021-07-22T19:19:03.066Z"
   },
   {
    "duration": 1811,
    "start_time": "2021-07-22T19:19:04.841Z"
   },
   {
    "duration": 3906,
    "start_time": "2021-07-22T19:19:06.663Z"
   },
   {
    "duration": 60,
    "start_time": "2021-07-22T19:19:10.574Z"
   },
   {
    "duration": 492,
    "start_time": "2021-07-22T19:19:10.637Z"
   },
   {
    "duration": 2522,
    "start_time": "2021-07-22T19:19:11.133Z"
   },
   {
    "duration": 1224,
    "start_time": "2021-07-22T19:21:55.855Z"
   },
   {
    "duration": 40,
    "start_time": "2021-07-22T19:23:15.591Z"
   },
   {
    "duration": 303,
    "start_time": "2021-07-22T19:23:44.679Z"
   },
   {
    "duration": 111,
    "start_time": "2021-07-22T19:23:56.015Z"
   },
   {
    "duration": 52,
    "start_time": "2021-07-22T19:23:56.130Z"
   },
   {
    "duration": 805,
    "start_time": "2021-07-22T19:23:56.185Z"
   },
   {
    "duration": 2001,
    "start_time": "2021-07-22T19:23:56.993Z"
   },
   {
    "duration": 1155,
    "start_time": "2021-07-22T19:23:58.997Z"
   },
   {
    "duration": 1211,
    "start_time": "2021-07-22T19:24:00.163Z"
   },
   {
    "duration": 2690,
    "start_time": "2021-07-22T19:24:01.376Z"
   },
   {
    "duration": 44,
    "start_time": "2021-07-22T19:24:04.068Z"
   },
   {
    "duration": 349,
    "start_time": "2021-07-22T19:24:04.115Z"
   },
   {
    "duration": 2282,
    "start_time": "2021-07-22T19:24:04.467Z"
   },
   {
    "duration": 109,
    "start_time": "2021-07-22T19:31:42.667Z"
   },
   {
    "duration": 44,
    "start_time": "2021-07-22T19:31:42.779Z"
   },
   {
    "duration": 883,
    "start_time": "2021-07-22T19:31:42.826Z"
   },
   {
    "duration": 1806,
    "start_time": "2021-07-22T19:31:43.712Z"
   },
   {
    "duration": 1217,
    "start_time": "2021-07-22T19:31:45.520Z"
   },
   {
    "duration": 1132,
    "start_time": "2021-07-22T19:31:46.739Z"
   },
   {
    "duration": 2592,
    "start_time": "2021-07-22T19:31:47.873Z"
   },
   {
    "duration": 39,
    "start_time": "2021-07-22T19:31:50.467Z"
   },
   {
    "duration": 490,
    "start_time": "2021-07-22T19:31:50.511Z"
   },
   {
    "duration": 2460,
    "start_time": "2021-07-22T19:31:51.004Z"
   },
   {
    "duration": 2660,
    "start_time": "2021-07-22T19:36:20.591Z"
   },
   {
    "duration": 2321,
    "start_time": "2021-07-22T19:36:44.623Z"
   },
   {
    "duration": 111,
    "start_time": "2021-07-22T19:36:59.383Z"
   },
   {
    "duration": 48,
    "start_time": "2021-07-22T19:36:59.497Z"
   },
   {
    "duration": 810,
    "start_time": "2021-07-22T19:36:59.548Z"
   },
   {
    "duration": 1931,
    "start_time": "2021-07-22T19:37:00.363Z"
   },
   {
    "duration": 1151,
    "start_time": "2021-07-22T19:37:02.296Z"
   },
   {
    "duration": 1197,
    "start_time": "2021-07-22T19:37:03.450Z"
   },
   {
    "duration": 2665,
    "start_time": "2021-07-22T19:37:04.650Z"
   },
   {
    "duration": 52,
    "start_time": "2021-07-22T19:37:07.318Z"
   },
   {
    "duration": 318,
    "start_time": "2021-07-22T19:37:07.373Z"
   },
   {
    "duration": 2510,
    "start_time": "2021-07-22T19:37:07.694Z"
   },
   {
    "duration": 1866,
    "start_time": "2021-07-22T19:42:44.695Z"
   },
   {
    "duration": 1880,
    "start_time": "2021-07-22T19:42:56.255Z"
   },
   {
    "duration": 1992,
    "start_time": "2021-07-22T19:44:27.103Z"
   },
   {
    "duration": 1862,
    "start_time": "2021-07-22T19:47:57.743Z"
   },
   {
    "duration": 1954,
    "start_time": "2021-07-22T19:49:15.487Z"
   },
   {
    "duration": 111,
    "start_time": "2021-07-22T19:49:52.108Z"
   },
   {
    "duration": 54,
    "start_time": "2021-07-22T19:49:52.222Z"
   },
   {
    "duration": 845,
    "start_time": "2021-07-22T19:49:52.280Z"
   },
   {
    "duration": 2040,
    "start_time": "2021-07-22T19:49:53.128Z"
   },
   {
    "duration": 1209,
    "start_time": "2021-07-22T19:49:55.171Z"
   },
   {
    "duration": 1212,
    "start_time": "2021-07-22T19:49:56.383Z"
   },
   {
    "duration": 2700,
    "start_time": "2021-07-22T19:49:57.598Z"
   },
   {
    "duration": 42,
    "start_time": "2021-07-22T19:50:00.301Z"
   },
   {
    "duration": 332,
    "start_time": "2021-07-22T19:50:00.363Z"
   },
   {
    "duration": 2355,
    "start_time": "2021-07-22T19:50:00.698Z"
   },
   {
    "duration": 1961,
    "start_time": "2021-07-22T19:51:08.511Z"
   },
   {
    "duration": 108,
    "start_time": "2021-07-22T19:53:04.515Z"
   },
   {
    "duration": 53,
    "start_time": "2021-07-22T19:53:04.626Z"
   },
   {
    "duration": 805,
    "start_time": "2021-07-22T19:53:04.682Z"
   },
   {
    "duration": 1960,
    "start_time": "2021-07-22T19:53:05.489Z"
   },
   {
    "duration": 1153,
    "start_time": "2021-07-22T19:53:07.452Z"
   },
   {
    "duration": 1189,
    "start_time": "2021-07-22T19:53:08.608Z"
   },
   {
    "duration": 2717,
    "start_time": "2021-07-22T19:53:09.799Z"
   },
   {
    "duration": 76,
    "start_time": "2021-07-22T19:53:12.520Z"
   },
   {
    "duration": 336,
    "start_time": "2021-07-22T19:53:12.600Z"
   },
   {
    "duration": 3362,
    "start_time": "2021-07-22T19:53:12.939Z"
   },
   {
    "duration": 2989,
    "start_time": "2021-07-22T19:53:54.336Z"
   },
   {
    "duration": 2984,
    "start_time": "2021-07-22T19:55:23.624Z"
   },
   {
    "duration": 2954,
    "start_time": "2021-07-22T19:55:42.896Z"
   },
   {
    "duration": 3330,
    "start_time": "2021-07-22T20:09:11.704Z"
   },
   {
    "duration": 326,
    "start_time": "2021-07-22T20:21:35.855Z"
   },
   {
    "duration": 314,
    "start_time": "2021-07-22T20:22:24.463Z"
   },
   {
    "duration": 388,
    "start_time": "2021-07-22T20:22:32.249Z"
   },
   {
    "duration": 2881,
    "start_time": "2021-07-22T20:24:16.656Z"
   },
   {
    "duration": 2282,
    "start_time": "2021-07-22T20:24:35.805Z"
   },
   {
    "duration": 2339,
    "start_time": "2021-07-22T20:24:57.823Z"
   },
   {
    "duration": 2285,
    "start_time": "2021-07-22T20:25:07.871Z"
   },
   {
    "duration": 2290,
    "start_time": "2021-07-22T20:25:42.695Z"
   },
   {
    "duration": 2739,
    "start_time": "2021-07-22T20:27:32.759Z"
   },
   {
    "duration": 3849,
    "start_time": "2021-07-22T20:30:19.600Z"
   },
   {
    "duration": 155,
    "start_time": "2021-07-22T20:51:22.223Z"
   },
   {
    "duration": 81,
    "start_time": "2021-07-22T20:51:22.381Z"
   },
   {
    "duration": 1333,
    "start_time": "2021-07-22T20:51:22.467Z"
   },
   {
    "duration": 2838,
    "start_time": "2021-07-22T20:51:23.804Z"
   },
   {
    "duration": 1897,
    "start_time": "2021-07-22T20:51:26.645Z"
   },
   {
    "duration": 1782,
    "start_time": "2021-07-22T20:51:28.545Z"
   },
   {
    "duration": 3938,
    "start_time": "2021-07-22T20:51:30.330Z"
   },
   {
    "duration": 46,
    "start_time": "2021-07-22T20:51:34.271Z"
   },
   {
    "duration": 347,
    "start_time": "2021-07-22T20:51:34.321Z"
   },
   {
    "duration": 3040,
    "start_time": "2021-07-22T20:51:34.671Z"
   },
   {
    "duration": 2585,
    "start_time": "2021-07-22T20:57:13.616Z"
   },
   {
    "duration": 153,
    "start_time": "2021-07-22T20:58:26.186Z"
   },
   {
    "duration": 71,
    "start_time": "2021-07-22T20:58:26.342Z"
   },
   {
    "duration": 1374,
    "start_time": "2021-07-22T20:58:26.417Z"
   },
   {
    "duration": 2937,
    "start_time": "2021-07-22T20:58:27.794Z"
   },
   {
    "duration": 1750,
    "start_time": "2021-07-22T20:58:30.735Z"
   },
   {
    "duration": 1948,
    "start_time": "2021-07-22T20:58:32.488Z"
   },
   {
    "duration": 3903,
    "start_time": "2021-07-22T20:58:34.439Z"
   },
   {
    "duration": 62,
    "start_time": "2021-07-22T20:58:38.346Z"
   },
   {
    "duration": 472,
    "start_time": "2021-07-22T20:58:38.413Z"
   },
   {
    "duration": 3428,
    "start_time": "2021-07-22T20:58:38.888Z"
   },
   {
    "duration": 637,
    "start_time": "2021-07-23T07:25:41.198Z"
   },
   {
    "duration": 29,
    "start_time": "2021-07-23T07:25:41.837Z"
   },
   {
    "duration": 449,
    "start_time": "2021-07-23T07:25:41.868Z"
   },
   {
    "duration": 1088,
    "start_time": "2021-07-23T07:25:42.318Z"
   },
   {
    "duration": 642,
    "start_time": "2021-07-23T07:25:43.408Z"
   },
   {
    "duration": 712,
    "start_time": "2021-07-23T07:25:44.052Z"
   },
   {
    "duration": 1616,
    "start_time": "2021-07-23T07:25:44.766Z"
   },
   {
    "duration": 26,
    "start_time": "2021-07-23T07:25:46.385Z"
   },
   {
    "duration": 191,
    "start_time": "2021-07-23T07:25:46.413Z"
   },
   {
    "duration": 1548,
    "start_time": "2021-07-23T07:25:46.606Z"
   },
   {
    "duration": 40,
    "start_time": "2021-07-23T07:27:32.038Z"
   },
   {
    "duration": 22,
    "start_time": "2021-07-23T08:27:15.662Z"
   },
   {
    "duration": 628,
    "start_time": "2021-07-23T17:45:47.593Z"
   },
   {
    "duration": 287,
    "start_time": "2021-07-23T17:45:48.222Z"
   },
   {
    "duration": -705,
    "start_time": "2021-07-23T17:45:49.216Z"
   },
   {
    "duration": -706,
    "start_time": "2021-07-23T17:45:49.218Z"
   },
   {
    "duration": -706,
    "start_time": "2021-07-23T17:45:49.219Z"
   },
   {
    "duration": -707,
    "start_time": "2021-07-23T17:45:49.221Z"
   },
   {
    "duration": -707,
    "start_time": "2021-07-23T17:45:49.222Z"
   },
   {
    "duration": -708,
    "start_time": "2021-07-23T17:45:49.224Z"
   },
   {
    "duration": -708,
    "start_time": "2021-07-23T17:45:49.225Z"
   },
   {
    "duration": -710,
    "start_time": "2021-07-23T17:45:49.227Z"
   },
   {
    "duration": -710,
    "start_time": "2021-07-23T17:45:49.228Z"
   },
   {
    "duration": -709,
    "start_time": "2021-07-23T17:45:49.229Z"
   },
   {
    "duration": 77,
    "start_time": "2021-07-23T17:46:11.660Z"
   },
   {
    "duration": 25,
    "start_time": "2021-07-23T17:46:11.739Z"
   },
   {
    "duration": 16,
    "start_time": "2021-07-23T17:46:11.766Z"
   },
   {
    "duration": 433,
    "start_time": "2021-07-23T17:46:11.791Z"
   },
   {
    "duration": 1059,
    "start_time": "2021-07-23T17:46:12.225Z"
   },
   {
    "duration": 627,
    "start_time": "2021-07-23T17:46:13.286Z"
   },
   {
    "duration": 713,
    "start_time": "2021-07-23T17:46:13.914Z"
   },
   {
    "duration": 21,
    "start_time": "2021-07-23T17:46:14.629Z"
   },
   {
    "duration": 1506,
    "start_time": "2021-07-23T17:46:14.652Z"
   },
   {
    "duration": 35,
    "start_time": "2021-07-23T17:46:16.160Z"
   },
   {
    "duration": 174,
    "start_time": "2021-07-23T17:46:16.196Z"
   },
   {
    "duration": 1489,
    "start_time": "2021-07-23T17:46:16.372Z"
   },
   {
    "duration": 261,
    "start_time": "2021-07-23T17:50:30.631Z"
   },
   {
    "duration": 19,
    "start_time": "2021-07-23T17:51:02.215Z"
   },
   {
    "duration": 80,
    "start_time": "2021-07-23T17:51:07.027Z"
   },
   {
    "duration": 25,
    "start_time": "2021-07-23T17:51:07.108Z"
   },
   {
    "duration": 12,
    "start_time": "2021-07-23T17:51:07.135Z"
   },
   {
    "duration": 453,
    "start_time": "2021-07-23T17:51:07.149Z"
   },
   {
    "duration": 1020,
    "start_time": "2021-07-23T17:51:07.603Z"
   },
   {
    "duration": 624,
    "start_time": "2021-07-23T17:51:08.625Z"
   },
   {
    "duration": 631,
    "start_time": "2021-07-23T17:51:09.251Z"
   },
   {
    "duration": 26,
    "start_time": "2021-07-23T17:51:09.884Z"
   },
   {
    "duration": 1563,
    "start_time": "2021-07-23T17:51:09.912Z"
   },
   {
    "duration": 28,
    "start_time": "2021-07-23T17:51:11.477Z"
   },
   {
    "duration": 170,
    "start_time": "2021-07-23T17:51:11.506Z"
   },
   {
    "duration": 1488,
    "start_time": "2021-07-23T17:51:11.678Z"
   },
   {
    "duration": 11,
    "start_time": "2021-07-23T17:52:07.231Z"
   },
   {
    "duration": 20,
    "start_time": "2021-07-23T17:54:45.055Z"
   },
   {
    "duration": 20,
    "start_time": "2021-07-23T17:55:31.455Z"
   },
   {
    "duration": 20,
    "start_time": "2021-07-23T17:55:51.639Z"
   },
   {
    "duration": 75,
    "start_time": "2021-07-23T17:55:55.037Z"
   },
   {
    "duration": 24,
    "start_time": "2021-07-23T17:55:55.114Z"
   },
   {
    "duration": 13,
    "start_time": "2021-07-23T17:55:55.140Z"
   },
   {
    "duration": 441,
    "start_time": "2021-07-23T17:55:55.155Z"
   },
   {
    "duration": 959,
    "start_time": "2021-07-23T17:55:55.597Z"
   },
   {
    "duration": 804,
    "start_time": "2021-07-23T17:55:56.558Z"
   },
   {
    "duration": 654,
    "start_time": "2021-07-23T17:55:57.364Z"
   },
   {
    "duration": 22,
    "start_time": "2021-07-23T17:55:58.020Z"
   },
   {
    "duration": 1617,
    "start_time": "2021-07-23T17:55:58.044Z"
   },
   {
    "duration": 33,
    "start_time": "2021-07-23T17:55:59.662Z"
   },
   {
    "duration": 171,
    "start_time": "2021-07-23T17:55:59.696Z"
   },
   {
    "duration": 1555,
    "start_time": "2021-07-23T17:55:59.869Z"
   },
   {
    "duration": 25,
    "start_time": "2021-07-23T17:56:18.608Z"
   },
   {
    "duration": 265,
    "start_time": "2021-07-23T18:00:31.864Z"
   },
   {
    "duration": 16,
    "start_time": "2021-07-23T18:00:39.248Z"
   },
   {
    "duration": 72,
    "start_time": "2021-07-23T18:00:44.164Z"
   },
   {
    "duration": 22,
    "start_time": "2021-07-23T18:00:44.238Z"
   },
   {
    "duration": 10,
    "start_time": "2021-07-23T18:00:44.262Z"
   },
   {
    "duration": 437,
    "start_time": "2021-07-23T18:00:44.274Z"
   },
   {
    "duration": 927,
    "start_time": "2021-07-23T18:00:44.712Z"
   },
   {
    "duration": 665,
    "start_time": "2021-07-23T18:00:45.641Z"
   },
   {
    "duration": 704,
    "start_time": "2021-07-23T18:00:46.307Z"
   },
   {
    "duration": 19,
    "start_time": "2021-07-23T18:00:47.013Z"
   },
   {
    "duration": 1481,
    "start_time": "2021-07-23T18:00:47.033Z"
   },
   {
    "duration": 23,
    "start_time": "2021-07-23T18:00:48.516Z"
   },
   {
    "duration": 169,
    "start_time": "2021-07-23T18:00:48.540Z"
   },
   {
    "duration": 1423,
    "start_time": "2021-07-23T18:00:48.711Z"
   },
   {
    "duration": 69,
    "start_time": "2021-07-23T18:04:16.794Z"
   },
   {
    "duration": 26,
    "start_time": "2021-07-23T18:04:16.865Z"
   },
   {
    "duration": 11,
    "start_time": "2021-07-23T18:04:16.893Z"
   },
   {
    "duration": 485,
    "start_time": "2021-07-23T18:04:16.906Z"
   },
   {
    "duration": 691,
    "start_time": "2021-07-23T18:04:17.393Z"
   },
   {
    "duration": 232,
    "start_time": "2021-07-23T18:04:18.091Z"
   },
   {
    "duration": 597,
    "start_time": "2021-07-23T18:04:18.325Z"
   },
   {
    "duration": 674,
    "start_time": "2021-07-23T18:04:18.923Z"
   },
   {
    "duration": 19,
    "start_time": "2021-07-23T18:04:19.600Z"
   },
   {
    "duration": 1409,
    "start_time": "2021-07-23T18:04:19.620Z"
   },
   {
    "duration": 23,
    "start_time": "2021-07-23T18:04:21.030Z"
   },
   {
    "duration": 173,
    "start_time": "2021-07-23T18:04:21.055Z"
   },
   {
    "duration": 1472,
    "start_time": "2021-07-23T18:04:21.230Z"
   },
   {
    "duration": 96,
    "start_time": "2021-07-23T18:17:43.360Z"
   },
   {
    "duration": 605,
    "start_time": "2021-07-23T18:17:49.768Z"
   },
   {
    "duration": 682,
    "start_time": "2021-07-23T18:18:15.528Z"
   },
   {
    "duration": 623,
    "start_time": "2021-07-23T18:19:07.945Z"
   },
   {
    "duration": 746,
    "start_time": "2021-07-23T18:19:57.968Z"
   },
   {
    "duration": 740,
    "start_time": "2021-07-23T18:24:25.673Z"
   },
   {
    "duration": 727,
    "start_time": "2021-07-23T18:24:41.585Z"
   },
   {
    "duration": 782,
    "start_time": "2021-07-23T18:25:44.473Z"
   },
   {
    "duration": 722,
    "start_time": "2021-07-23T18:30:38.673Z"
   },
   {
    "duration": 21,
    "start_time": "2021-07-23T18:31:04.062Z"
   },
   {
    "duration": 714,
    "start_time": "2021-07-23T18:32:28.800Z"
   },
   {
    "duration": 20,
    "start_time": "2021-07-23T18:32:31.561Z"
   },
   {
    "duration": 779,
    "start_time": "2021-07-23T18:33:24.585Z"
   },
   {
    "duration": 709,
    "start_time": "2021-07-23T18:34:05.953Z"
   },
   {
    "duration": 802,
    "start_time": "2021-07-23T18:37:26.977Z"
   },
   {
    "duration": 984,
    "start_time": "2021-07-23T18:44:42.529Z"
   },
   {
    "duration": 1374,
    "start_time": "2021-07-23T18:45:29.513Z"
   },
   {
    "duration": 747,
    "start_time": "2021-07-23T18:46:12.665Z"
   },
   {
    "duration": 75,
    "start_time": "2021-07-23T18:48:37.066Z"
   },
   {
    "duration": 24,
    "start_time": "2021-07-23T18:48:37.143Z"
   },
   {
    "duration": 23,
    "start_time": "2021-07-23T18:48:37.169Z"
   },
   {
    "duration": 433,
    "start_time": "2021-07-23T18:48:37.194Z"
   },
   {
    "duration": 805,
    "start_time": "2021-07-23T18:48:37.629Z"
   },
   {
    "duration": 259,
    "start_time": "2021-07-23T18:48:38.436Z"
   },
   {
    "duration": 631,
    "start_time": "2021-07-23T18:48:38.696Z"
   },
   {
    "duration": 871,
    "start_time": "2021-07-23T18:48:39.330Z"
   },
   {
    "duration": 22,
    "start_time": "2021-07-23T18:48:40.204Z"
   },
   {
    "duration": 1559,
    "start_time": "2021-07-23T18:48:40.228Z"
   },
   {
    "duration": 25,
    "start_time": "2021-07-23T18:48:41.789Z"
   },
   {
    "duration": 185,
    "start_time": "2021-07-23T18:48:41.816Z"
   },
   {
    "duration": 1499,
    "start_time": "2021-07-23T18:48:42.003Z"
   },
   {
    "duration": 1510,
    "start_time": "2021-07-23T18:49:10.306Z"
   },
   {
    "duration": 1659,
    "start_time": "2021-07-23T18:50:28.753Z"
   },
   {
    "duration": 72,
    "start_time": "2021-07-23T18:50:35.676Z"
   },
   {
    "duration": 22,
    "start_time": "2021-07-23T18:50:35.751Z"
   },
   {
    "duration": 17,
    "start_time": "2021-07-23T18:50:35.775Z"
   },
   {
    "duration": 493,
    "start_time": "2021-07-23T18:50:35.793Z"
   },
   {
    "duration": 716,
    "start_time": "2021-07-23T18:50:36.288Z"
   },
   {
    "duration": 242,
    "start_time": "2021-07-23T18:50:37.006Z"
   },
   {
    "duration": 606,
    "start_time": "2021-07-23T18:50:37.250Z"
   },
   {
    "duration": 816,
    "start_time": "2021-07-23T18:50:37.858Z"
   },
   {
    "duration": 30,
    "start_time": "2021-07-23T18:50:38.676Z"
   },
   {
    "duration": 1458,
    "start_time": "2021-07-23T18:50:38.707Z"
   },
   {
    "duration": 31,
    "start_time": "2021-07-23T18:50:40.167Z"
   },
   {
    "duration": 244,
    "start_time": "2021-07-23T18:50:40.199Z"
   },
   {
    "duration": 1688,
    "start_time": "2021-07-23T18:50:40.445Z"
   },
   {
    "duration": 73,
    "start_time": "2021-07-23T18:53:01.870Z"
   },
   {
    "duration": 23,
    "start_time": "2021-07-23T18:53:01.945Z"
   },
   {
    "duration": 28,
    "start_time": "2021-07-23T18:53:01.970Z"
   },
   {
    "duration": 496,
    "start_time": "2021-07-23T18:53:02.000Z"
   },
   {
    "duration": 715,
    "start_time": "2021-07-23T18:53:02.497Z"
   },
   {
    "duration": 244,
    "start_time": "2021-07-23T18:53:03.213Z"
   },
   {
    "duration": 613,
    "start_time": "2021-07-23T18:53:03.458Z"
   },
   {
    "duration": 824,
    "start_time": "2021-07-23T18:53:04.073Z"
   },
   {
    "duration": 20,
    "start_time": "2021-07-23T18:53:04.898Z"
   },
   {
    "duration": 1594,
    "start_time": "2021-07-23T18:53:04.920Z"
   },
   {
    "duration": 25,
    "start_time": "2021-07-23T18:53:06.517Z"
   },
   {
    "duration": 261,
    "start_time": "2021-07-23T18:53:06.544Z"
   },
   {
    "duration": 1721,
    "start_time": "2021-07-23T18:53:06.807Z"
   },
   {
    "duration": 1618,
    "start_time": "2021-07-23T18:54:07.250Z"
   },
   {
    "duration": 1498,
    "start_time": "2021-07-23T18:54:50.129Z"
   },
   {
    "duration": 76,
    "start_time": "2021-07-23T18:55:15.548Z"
   },
   {
    "duration": 23,
    "start_time": "2021-07-23T18:55:15.626Z"
   },
   {
    "duration": 11,
    "start_time": "2021-07-23T18:55:15.650Z"
   },
   {
    "duration": 449,
    "start_time": "2021-07-23T18:55:15.663Z"
   },
   {
    "duration": 708,
    "start_time": "2021-07-23T18:55:16.113Z"
   },
   {
    "duration": 243,
    "start_time": "2021-07-23T18:55:16.822Z"
   },
   {
    "duration": 677,
    "start_time": "2021-07-23T18:55:17.066Z"
   },
   {
    "duration": 746,
    "start_time": "2021-07-23T18:55:17.745Z"
   },
   {
    "duration": 19,
    "start_time": "2021-07-23T18:55:18.493Z"
   },
   {
    "duration": 1384,
    "start_time": "2021-07-23T18:55:18.513Z"
   },
   {
    "duration": 25,
    "start_time": "2021-07-23T18:55:19.898Z"
   },
   {
    "duration": 180,
    "start_time": "2021-07-23T18:55:19.924Z"
   },
   {
    "duration": 1722,
    "start_time": "2021-07-23T18:55:20.106Z"
   },
   {
    "duration": 1517,
    "start_time": "2021-07-23T18:55:54.201Z"
   },
   {
    "duration": 1502,
    "start_time": "2021-07-23T18:56:06.874Z"
   },
   {
    "duration": 1486,
    "start_time": "2021-07-23T18:56:29.698Z"
   },
   {
    "duration": 1476,
    "start_time": "2021-07-23T18:57:05.321Z"
   },
   {
    "duration": 1491,
    "start_time": "2021-07-23T19:02:31.929Z"
   },
   {
    "duration": 581,
    "start_time": "2021-07-23T19:17:23.417Z"
   },
   {
    "duration": 696,
    "start_time": "2021-07-23T19:18:43.601Z"
   },
   {
    "duration": 578,
    "start_time": "2021-07-23T19:19:40.880Z"
   },
   {
    "duration": 842,
    "start_time": "2021-07-23T19:19:50.153Z"
   },
   {
    "duration": 565,
    "start_time": "2021-07-23T19:20:12.664Z"
   },
   {
    "duration": 719,
    "start_time": "2021-07-23T19:20:52.041Z"
   },
   {
    "duration": 579,
    "start_time": "2021-07-23T19:21:03.208Z"
   },
   {
    "duration": 678,
    "start_time": "2021-07-23T19:21:12.849Z"
   },
   {
    "duration": 761,
    "start_time": "2021-07-23T19:21:27.553Z"
   },
   {
    "duration": 847,
    "start_time": "2021-07-23T19:21:55.144Z"
   },
   {
    "duration": 769,
    "start_time": "2021-07-23T19:22:08.832Z"
   },
   {
    "duration": 865,
    "start_time": "2021-07-23T19:22:26.344Z"
   },
   {
    "duration": 785,
    "start_time": "2021-07-23T19:22:49.417Z"
   },
   {
    "duration": 745,
    "start_time": "2021-07-23T19:22:53.305Z"
   },
   {
    "duration": 714,
    "start_time": "2021-07-24T05:26:38.879Z"
   },
   {
    "duration": 219,
    "start_time": "2021-07-24T05:27:18.993Z"
   },
   {
    "duration": 253,
    "start_time": "2021-07-24T05:27:26.708Z"
   },
   {
    "duration": 24,
    "start_time": "2021-07-24T05:27:26.963Z"
   },
   {
    "duration": 15,
    "start_time": "2021-07-24T05:27:26.989Z"
   },
   {
    "duration": 458,
    "start_time": "2021-07-24T05:27:27.005Z"
   },
   {
    "duration": 910,
    "start_time": "2021-07-24T05:27:27.465Z"
   },
   {
    "duration": -228,
    "start_time": "2021-07-24T05:27:28.605Z"
   },
   {
    "duration": -228,
    "start_time": "2021-07-24T05:27:28.606Z"
   },
   {
    "duration": -230,
    "start_time": "2021-07-24T05:27:28.608Z"
   },
   {
    "duration": -230,
    "start_time": "2021-07-24T05:27:28.609Z"
   },
   {
    "duration": -221,
    "start_time": "2021-07-24T05:27:28.611Z"
   },
   {
    "duration": -221,
    "start_time": "2021-07-24T05:27:28.612Z"
   },
   {
    "duration": -222,
    "start_time": "2021-07-24T05:27:28.614Z"
   },
   {
    "duration": -222,
    "start_time": "2021-07-24T05:27:28.615Z"
   },
   {
    "duration": 786,
    "start_time": "2021-07-24T05:28:30.396Z"
   },
   {
    "duration": 841,
    "start_time": "2021-07-24T05:29:22.363Z"
   },
   {
    "duration": 773,
    "start_time": "2021-07-24T05:29:38.523Z"
   },
   {
    "duration": 228,
    "start_time": "2021-07-24T05:29:52.963Z"
   },
   {
    "duration": 231,
    "start_time": "2021-07-24T05:30:07.427Z"
   },
   {
    "duration": 661,
    "start_time": "2021-07-24T05:32:57.393Z"
   },
   {
    "duration": 224,
    "start_time": "2021-07-24T05:33:02.379Z"
   },
   {
    "duration": 388,
    "start_time": "2021-07-24T05:34:08.400Z"
   },
   {
    "duration": 81,
    "start_time": "2021-07-24T05:34:33.525Z"
   },
   {
    "duration": 26,
    "start_time": "2021-07-24T05:34:33.608Z"
   },
   {
    "duration": 12,
    "start_time": "2021-07-24T05:34:33.636Z"
   },
   {
    "duration": 459,
    "start_time": "2021-07-24T05:34:33.651Z"
   },
   {
    "duration": 500,
    "start_time": "2021-07-24T05:34:34.111Z"
   },
   {
    "duration": 245,
    "start_time": "2021-07-24T05:34:34.613Z"
   },
   {
    "duration": 299,
    "start_time": "2021-07-24T05:34:34.860Z"
   },
   {
    "duration": 177,
    "start_time": "2021-07-24T05:34:35.162Z"
   },
   {
    "duration": 605,
    "start_time": "2021-07-24T05:34:35.341Z"
   },
   {
    "duration": 732,
    "start_time": "2021-07-24T05:34:35.948Z"
   },
   {
    "duration": 26,
    "start_time": "2021-07-24T05:34:36.682Z"
   },
   {
    "duration": 1535,
    "start_time": "2021-07-24T05:34:36.710Z"
   },
   {
    "duration": 24,
    "start_time": "2021-07-24T05:34:38.247Z"
   },
   {
    "duration": 180,
    "start_time": "2021-07-24T05:34:38.272Z"
   },
   {
    "duration": 1543,
    "start_time": "2021-07-24T05:34:38.453Z"
   },
   {
    "duration": 109,
    "start_time": "2021-07-24T05:37:18.171Z"
   },
   {
    "duration": 492,
    "start_time": "2021-07-24T05:37:20.988Z"
   },
   {
    "duration": 715,
    "start_time": "2021-07-24T05:37:43.116Z"
   },
   {
    "duration": 702,
    "start_time": "2021-07-24T05:39:24.412Z"
   },
   {
    "duration": 592,
    "start_time": "2021-07-24T05:39:55.627Z"
   },
   {
    "duration": 28,
    "start_time": "2021-07-24T05:39:59.596Z"
   },
   {
    "duration": 5682,
    "start_time": "2021-07-24T05:42:11.220Z"
   },
   {
    "duration": 1510,
    "start_time": "2021-07-24T05:42:26.396Z"
   },
   {
    "duration": 1440,
    "start_time": "2021-07-24T05:43:02.204Z"
   },
   {
    "duration": 1623,
    "start_time": "2021-07-24T05:44:21.452Z"
   },
   {
    "duration": 1503,
    "start_time": "2021-07-24T05:49:19.452Z"
   },
   {
    "duration": 220,
    "start_time": "2021-07-24T05:49:22.540Z"
   },
   {
    "duration": 1282,
    "start_time": "2021-07-24T05:49:47.860Z"
   },
   {
    "duration": 197,
    "start_time": "2021-07-24T05:49:51.021Z"
   },
   {
    "duration": 1265,
    "start_time": "2021-07-24T05:50:50.988Z"
   },
   {
    "duration": 156,
    "start_time": "2021-07-24T05:52:10.332Z"
   },
   {
    "duration": 332,
    "start_time": "2021-07-24T05:52:13.909Z"
   },
   {
    "duration": 174,
    "start_time": "2021-07-24T05:52:17.732Z"
   },
   {
    "duration": 81,
    "start_time": "2021-07-24T05:52:22.953Z"
   },
   {
    "duration": 25,
    "start_time": "2021-07-24T05:52:23.036Z"
   },
   {
    "duration": 13,
    "start_time": "2021-07-24T05:52:23.063Z"
   },
   {
    "duration": 456,
    "start_time": "2021-07-24T05:52:23.077Z"
   },
   {
    "duration": 482,
    "start_time": "2021-07-24T05:52:23.535Z"
   },
   {
    "duration": 241,
    "start_time": "2021-07-24T05:52:24.018Z"
   },
   {
    "duration": 243,
    "start_time": "2021-07-24T05:52:24.261Z"
   },
   {
    "duration": 186,
    "start_time": "2021-07-24T05:52:24.505Z"
   },
   {
    "duration": 113,
    "start_time": "2021-07-24T05:52:24.693Z"
   },
   {
    "duration": 507,
    "start_time": "2021-07-24T05:52:24.808Z"
   },
   {
    "duration": 697,
    "start_time": "2021-07-24T05:52:25.317Z"
   },
   {
    "duration": 27,
    "start_time": "2021-07-24T05:52:26.016Z"
   },
   {
    "duration": 20,
    "start_time": "2021-07-24T05:52:26.045Z"
   },
   {
    "duration": 212,
    "start_time": "2021-07-24T05:52:26.067Z"
   },
   {
    "duration": 214,
    "start_time": "2021-07-24T05:52:26.281Z"
   },
   {
    "duration": 549,
    "start_time": "2021-07-24T05:52:26.496Z"
   },
   {
    "duration": 168,
    "start_time": "2021-07-24T05:52:27.047Z"
   },
   {
    "duration": 356,
    "start_time": "2021-07-24T05:52:27.216Z"
   },
   {
    "duration": 180,
    "start_time": "2021-07-24T05:52:27.573Z"
   },
   {
    "duration": 23,
    "start_time": "2021-07-24T05:52:27.755Z"
   },
   {
    "duration": 177,
    "start_time": "2021-07-24T05:52:27.780Z"
   },
   {
    "duration": 1567,
    "start_time": "2021-07-24T05:52:27.959Z"
   },
   {
    "duration": 173,
    "start_time": "2021-07-24T05:54:22.380Z"
   },
   {
    "duration": 337,
    "start_time": "2021-07-24T05:54:38.621Z"
   },
   {
    "duration": 163,
    "start_time": "2021-07-24T05:55:54.164Z"
   },
   {
    "duration": 166,
    "start_time": "2021-07-24T05:56:22.292Z"
   },
   {
    "duration": 161,
    "start_time": "2021-07-24T05:56:36.061Z"
   },
   {
    "duration": 225,
    "start_time": "2021-07-24T05:57:05.901Z"
   },
   {
    "duration": 166,
    "start_time": "2021-07-24T05:57:16.188Z"
   },
   {
    "duration": 181,
    "start_time": "2021-07-24T06:00:15.324Z"
   },
   {
    "duration": 183,
    "start_time": "2021-07-24T06:00:27.477Z"
   },
   {
    "duration": 1137,
    "start_time": "2021-07-24T06:00:29.788Z"
   },
   {
    "duration": 146,
    "start_time": "2021-07-24T06:02:48.676Z"
   },
   {
    "duration": 409,
    "start_time": "2021-07-24T06:02:57.005Z"
   },
   {
    "duration": 166,
    "start_time": "2021-07-24T06:03:02.277Z"
   },
   {
    "duration": 443,
    "start_time": "2021-07-24T06:03:04.886Z"
   },
   {
    "duration": 195,
    "start_time": "2021-07-24T06:06:05.603Z"
   },
   {
    "duration": 78,
    "start_time": "2021-07-24T06:06:10.645Z"
   },
   {
    "duration": 22,
    "start_time": "2021-07-24T06:06:10.725Z"
   },
   {
    "duration": 11,
    "start_time": "2021-07-24T06:06:10.749Z"
   },
   {
    "duration": 446,
    "start_time": "2021-07-24T06:06:10.762Z"
   },
   {
    "duration": 422,
    "start_time": "2021-07-24T06:06:11.209Z"
   },
   {
    "duration": 239,
    "start_time": "2021-07-24T06:06:11.632Z"
   },
   {
    "duration": 237,
    "start_time": "2021-07-24T06:06:11.872Z"
   },
   {
    "duration": 247,
    "start_time": "2021-07-24T06:06:12.112Z"
   },
   {
    "duration": 115,
    "start_time": "2021-07-24T06:06:12.360Z"
   },
   {
    "duration": 499,
    "start_time": "2021-07-24T06:06:12.477Z"
   },
   {
    "duration": 614,
    "start_time": "2021-07-24T06:06:12.977Z"
   },
   {
    "duration": 26,
    "start_time": "2021-07-24T06:06:13.593Z"
   },
   {
    "duration": 19,
    "start_time": "2021-07-24T06:06:13.620Z"
   },
   {
    "duration": 206,
    "start_time": "2021-07-24T06:06:13.641Z"
   },
   {
    "duration": 190,
    "start_time": "2021-07-24T06:06:13.849Z"
   },
   {
    "duration": 670,
    "start_time": "2021-07-24T06:06:14.041Z"
   },
   {
    "duration": 153,
    "start_time": "2021-07-24T06:06:14.712Z"
   },
   {
    "duration": 337,
    "start_time": "2021-07-24T06:06:14.866Z"
   },
   {
    "duration": 176,
    "start_time": "2021-07-24T06:06:15.204Z"
   },
   {
    "duration": 27,
    "start_time": "2021-07-24T06:06:15.381Z"
   },
   {
    "duration": 176,
    "start_time": "2021-07-24T06:06:15.410Z"
   },
   {
    "duration": 188,
    "start_time": "2021-07-24T06:06:15.588Z"
   },
   {
    "duration": 189,
    "start_time": "2021-07-24T06:06:15.779Z"
   },
   {
    "duration": 150,
    "start_time": "2021-07-24T06:06:15.970Z"
   },
   {
    "duration": 339,
    "start_time": "2021-07-24T06:06:16.122Z"
   },
   {
    "duration": 232,
    "start_time": "2021-07-24T06:06:16.463Z"
   },
   {
    "duration": 451,
    "start_time": "2021-07-24T06:06:16.697Z"
   },
   {
    "duration": 189,
    "start_time": "2021-07-24T06:08:28.413Z"
   },
   {
    "duration": 181,
    "start_time": "2021-07-24T06:08:44.726Z"
   },
   {
    "duration": 183,
    "start_time": "2021-07-24T06:08:50.172Z"
   },
   {
    "duration": 155,
    "start_time": "2021-07-24T06:09:01.892Z"
   },
   {
    "duration": 170,
    "start_time": "2021-07-24T06:09:33.052Z"
   },
   {
    "duration": 1309,
    "start_time": "2021-07-24T06:09:47.445Z"
   },
   {
    "duration": 605,
    "start_time": "2021-07-24T06:10:06.724Z"
   },
   {
    "duration": 481,
    "start_time": "2021-07-24T06:13:07.012Z"
   },
   {
    "duration": 469,
    "start_time": "2021-07-24T06:13:10.965Z"
   },
   {
    "duration": 5543,
    "start_time": "2021-07-24T06:13:51.604Z"
   },
   {
    "duration": 5627,
    "start_time": "2021-07-24T06:14:00.901Z"
   },
   {
    "duration": 171,
    "start_time": "2021-07-24T06:14:12.740Z"
   },
   {
    "duration": 7,
    "start_time": "2021-07-24T06:37:58.660Z"
   },
   {
    "duration": 6,
    "start_time": "2021-07-24T06:39:48.285Z"
   },
   {
    "duration": 5,
    "start_time": "2021-07-24T06:39:52.860Z"
   },
   {
    "duration": 5568,
    "start_time": "2021-07-24T06:41:07.749Z"
   },
   {
    "duration": -228,
    "start_time": "2021-07-24T06:41:25.654Z"
   },
   {
    "duration": 233,
    "start_time": "2021-07-24T06:42:21.781Z"
   },
   {
    "duration": 236,
    "start_time": "2021-07-24T06:42:43.132Z"
   },
   {
    "duration": 5499,
    "start_time": "2021-07-24T06:43:30.237Z"
   },
   {
    "duration": 14,
    "start_time": "2021-07-24T06:43:41.085Z"
   },
   {
    "duration": 12,
    "start_time": "2021-07-24T06:44:28.117Z"
   },
   {
    "duration": 25,
    "start_time": "2021-07-24T06:46:04.005Z"
   },
   {
    "duration": 25,
    "start_time": "2021-07-24T06:46:16.221Z"
   },
   {
    "duration": 941,
    "start_time": "2021-07-24T06:46:41.189Z"
   },
   {
    "duration": 31,
    "start_time": "2021-07-24T06:47:04.541Z"
   },
   {
    "duration": 22,
    "start_time": "2021-07-24T06:47:24.613Z"
   },
   {
    "duration": 11,
    "start_time": "2021-07-24T06:48:30.909Z"
   },
   {
    "duration": 282,
    "start_time": "2021-07-24T06:49:00.957Z"
   },
   {
    "duration": 231,
    "start_time": "2021-07-24T06:49:05.558Z"
   },
   {
    "duration": 243,
    "start_time": "2021-07-24T06:49:08.677Z"
   },
   {
    "duration": 11,
    "start_time": "2021-07-24T06:49:12.741Z"
   },
   {
    "duration": 20,
    "start_time": "2021-07-24T06:50:15.629Z"
   },
   {
    "duration": 21,
    "start_time": "2021-07-24T06:54:22.949Z"
   },
   {
    "duration": 22,
    "start_time": "2021-07-24T06:54:44.525Z"
   },
   {
    "duration": 5457,
    "start_time": "2021-07-24T06:55:36.381Z"
   },
   {
    "duration": 5910,
    "start_time": "2021-07-24T06:55:52.166Z"
   },
   {
    "duration": 21,
    "start_time": "2021-07-24T06:56:08.910Z"
   },
   {
    "duration": 33,
    "start_time": "2021-07-24T06:56:57.557Z"
   },
   {
    "duration": 32,
    "start_time": "2021-07-24T06:57:18.494Z"
   },
   {
    "duration": 268,
    "start_time": "2021-07-24T06:59:40.747Z"
   },
   {
    "duration": 624,
    "start_time": "2021-07-24T06:59:45.010Z"
   },
   {
    "duration": 25,
    "start_time": "2021-07-24T06:59:45.636Z"
   },
   {
    "duration": 32,
    "start_time": "2021-07-24T06:59:45.663Z"
   },
   {
    "duration": 5524,
    "start_time": "2021-07-24T06:59:45.696Z"
   },
   {
    "duration": -256,
    "start_time": "2021-07-24T06:59:51.479Z"
   },
   {
    "duration": -258,
    "start_time": "2021-07-24T06:59:51.481Z"
   },
   {
    "duration": -259,
    "start_time": "2021-07-24T06:59:51.483Z"
   },
   {
    "duration": -260,
    "start_time": "2021-07-24T06:59:51.485Z"
   },
   {
    "duration": -261,
    "start_time": "2021-07-24T06:59:51.487Z"
   },
   {
    "duration": -262,
    "start_time": "2021-07-24T06:59:51.489Z"
   },
   {
    "duration": -264,
    "start_time": "2021-07-24T06:59:51.491Z"
   },
   {
    "duration": -269,
    "start_time": "2021-07-24T06:59:51.497Z"
   },
   {
    "duration": -277,
    "start_time": "2021-07-24T06:59:51.506Z"
   },
   {
    "duration": -278,
    "start_time": "2021-07-24T06:59:51.508Z"
   },
   {
    "duration": -293,
    "start_time": "2021-07-24T06:59:51.524Z"
   },
   {
    "duration": -298,
    "start_time": "2021-07-24T06:59:51.530Z"
   },
   {
    "duration": -299,
    "start_time": "2021-07-24T06:59:51.532Z"
   },
   {
    "duration": -302,
    "start_time": "2021-07-24T06:59:51.535Z"
   },
   {
    "duration": -303,
    "start_time": "2021-07-24T06:59:51.537Z"
   },
   {
    "duration": -303,
    "start_time": "2021-07-24T06:59:51.538Z"
   },
   {
    "duration": -305,
    "start_time": "2021-07-24T06:59:51.541Z"
   },
   {
    "duration": -311,
    "start_time": "2021-07-24T06:59:51.548Z"
   },
   {
    "duration": -312,
    "start_time": "2021-07-24T06:59:51.550Z"
   },
   {
    "duration": -313,
    "start_time": "2021-07-24T06:59:51.552Z"
   },
   {
    "duration": -314,
    "start_time": "2021-07-24T06:59:51.554Z"
   },
   {
    "duration": -315,
    "start_time": "2021-07-24T06:59:51.556Z"
   },
   {
    "duration": -318,
    "start_time": "2021-07-24T06:59:51.559Z"
   },
   {
    "duration": -319,
    "start_time": "2021-07-24T06:59:51.561Z"
   },
   {
    "duration": 606,
    "start_time": "2021-07-24T07:00:31.175Z"
   },
   {
    "duration": 247,
    "start_time": "2021-07-24T07:00:39.485Z"
   },
   {
    "duration": 255,
    "start_time": "2021-07-24T07:00:56.228Z"
   },
   {
    "duration": 909,
    "start_time": "2021-07-24T07:01:03.438Z"
   },
   {
    "duration": 33,
    "start_time": "2021-07-24T07:01:20.485Z"
   },
   {
    "duration": 301,
    "start_time": "2021-07-24T07:01:51.893Z"
   },
   {
    "duration": 32,
    "start_time": "2021-07-24T07:02:11.934Z"
   },
   {
    "duration": 25,
    "start_time": "2021-07-24T07:03:33.868Z"
   },
   {
    "duration": 24,
    "start_time": "2021-07-24T07:04:01.270Z"
   },
   {
    "duration": 23,
    "start_time": "2021-07-24T07:04:05.389Z"
   },
   {
    "duration": 36,
    "start_time": "2021-07-24T07:04:22.134Z"
   },
   {
    "duration": 259,
    "start_time": "2021-07-24T07:05:24.413Z"
   },
   {
    "duration": 22,
    "start_time": "2021-07-24T07:05:33.565Z"
   },
   {
    "duration": 17,
    "start_time": "2021-07-24T07:06:01.550Z"
   },
   {
    "duration": 17,
    "start_time": "2021-07-24T07:08:13.597Z"
   },
   {
    "duration": 13,
    "start_time": "2021-07-24T07:08:28.910Z"
   },
   {
    "duration": 77,
    "start_time": "2021-07-24T07:09:29.323Z"
   },
   {
    "duration": 20,
    "start_time": "2021-07-24T07:09:29.402Z"
   },
   {
    "duration": 9,
    "start_time": "2021-07-24T07:09:29.424Z"
   },
   {
    "duration": 16,
    "start_time": "2021-07-24T07:09:29.435Z"
   },
   {
    "duration": 505,
    "start_time": "2021-07-24T07:09:29.452Z"
   },
   {
    "duration": 507,
    "start_time": "2021-07-24T07:09:29.959Z"
   },
   {
    "duration": 244,
    "start_time": "2021-07-24T07:09:30.467Z"
   },
   {
    "duration": 233,
    "start_time": "2021-07-24T07:09:30.714Z"
   },
   {
    "duration": 5805,
    "start_time": "2021-07-24T07:09:30.949Z"
   },
   {
    "duration": -222,
    "start_time": "2021-07-24T07:09:36.978Z"
   },
   {
    "duration": -222,
    "start_time": "2021-07-24T07:09:36.979Z"
   },
   {
    "duration": -224,
    "start_time": "2021-07-24T07:09:36.981Z"
   },
   {
    "duration": -224,
    "start_time": "2021-07-24T07:09:36.982Z"
   },
   {
    "duration": -224,
    "start_time": "2021-07-24T07:09:36.983Z"
   },
   {
    "duration": -225,
    "start_time": "2021-07-24T07:09:36.985Z"
   },
   {
    "duration": -225,
    "start_time": "2021-07-24T07:09:36.986Z"
   },
   {
    "duration": -226,
    "start_time": "2021-07-24T07:09:36.988Z"
   },
   {
    "duration": -228,
    "start_time": "2021-07-24T07:09:36.990Z"
   },
   {
    "duration": -229,
    "start_time": "2021-07-24T07:09:36.992Z"
   },
   {
    "duration": -229,
    "start_time": "2021-07-24T07:09:36.993Z"
   },
   {
    "duration": -230,
    "start_time": "2021-07-24T07:09:36.995Z"
   },
   {
    "duration": -231,
    "start_time": "2021-07-24T07:09:36.997Z"
   },
   {
    "duration": -235,
    "start_time": "2021-07-24T07:09:37.002Z"
   },
   {
    "duration": -236,
    "start_time": "2021-07-24T07:09:37.004Z"
   },
   {
    "duration": -238,
    "start_time": "2021-07-24T07:09:37.006Z"
   },
   {
    "duration": -238,
    "start_time": "2021-07-24T07:09:37.007Z"
   },
   {
    "duration": -239,
    "start_time": "2021-07-24T07:09:37.009Z"
   },
   {
    "duration": -239,
    "start_time": "2021-07-24T07:09:37.010Z"
   },
   {
    "duration": 172,
    "start_time": "2021-07-24T07:10:10.638Z"
   },
   {
    "duration": 113,
    "start_time": "2021-07-24T07:10:19.941Z"
   },
   {
    "duration": 480,
    "start_time": "2021-07-24T07:10:22.230Z"
   },
   {
    "duration": 682,
    "start_time": "2021-07-24T07:10:26.285Z"
   },
   {
    "duration": 29,
    "start_time": "2021-07-24T07:10:28.621Z"
   },
   {
    "duration": 78,
    "start_time": "2021-07-24T07:10:42.918Z"
   },
   {
    "duration": 21,
    "start_time": "2021-07-24T07:10:42.997Z"
   },
   {
    "duration": 10,
    "start_time": "2021-07-24T07:10:43.019Z"
   },
   {
    "duration": 16,
    "start_time": "2021-07-24T07:10:43.030Z"
   },
   {
    "duration": 456,
    "start_time": "2021-07-24T07:10:43.048Z"
   },
   {
    "duration": 394,
    "start_time": "2021-07-24T07:10:43.506Z"
   },
   {
    "duration": 237,
    "start_time": "2021-07-24T07:10:43.901Z"
   },
   {
    "duration": 225,
    "start_time": "2021-07-24T07:10:44.140Z"
   },
   {
    "duration": 172,
    "start_time": "2021-07-24T07:10:44.367Z"
   },
   {
    "duration": 182,
    "start_time": "2021-07-24T07:10:44.541Z"
   },
   {
    "duration": 501,
    "start_time": "2021-07-24T07:10:44.724Z"
   },
   {
    "duration": 607,
    "start_time": "2021-07-24T07:10:45.227Z"
   },
   {
    "duration": 28,
    "start_time": "2021-07-24T07:10:45.836Z"
   },
   {
    "duration": 37,
    "start_time": "2021-07-24T07:10:45.866Z"
   },
   {
    "duration": 196,
    "start_time": "2021-07-24T07:10:45.904Z"
   },
   {
    "duration": 191,
    "start_time": "2021-07-24T07:10:46.101Z"
   },
   {
    "duration": 526,
    "start_time": "2021-07-24T07:10:46.294Z"
   },
   {
    "duration": 224,
    "start_time": "2021-07-24T07:10:46.822Z"
   },
   {
    "duration": 333,
    "start_time": "2021-07-24T07:10:47.048Z"
   },
   {
    "duration": 195,
    "start_time": "2021-07-24T07:10:47.391Z"
   },
   {
    "duration": 24,
    "start_time": "2021-07-24T07:10:47.591Z"
   },
   {
    "duration": 179,
    "start_time": "2021-07-24T07:10:47.616Z"
   },
   {
    "duration": 206,
    "start_time": "2021-07-24T07:10:47.798Z"
   },
   {
    "duration": 194,
    "start_time": "2021-07-24T07:10:48.005Z"
   },
   {
    "duration": 154,
    "start_time": "2021-07-24T07:10:48.201Z"
   },
   {
    "duration": 331,
    "start_time": "2021-07-24T07:10:48.357Z"
   },
   {
    "duration": 178,
    "start_time": "2021-07-24T07:10:48.691Z"
   },
   {
    "duration": 528,
    "start_time": "2021-07-24T07:10:48.871Z"
   },
   {
    "duration": 13,
    "start_time": "2021-07-24T07:12:09.086Z"
   },
   {
    "duration": 242,
    "start_time": "2021-07-24T07:12:22.093Z"
   },
   {
    "duration": 15,
    "start_time": "2021-07-24T07:12:25.278Z"
   },
   {
    "duration": 238,
    "start_time": "2021-07-24T07:12:31.942Z"
   },
   {
    "duration": 13,
    "start_time": "2021-07-24T07:12:35.838Z"
   },
   {
    "duration": 78,
    "start_time": "2021-07-24T07:12:40.927Z"
   },
   {
    "duration": 21,
    "start_time": "2021-07-24T07:12:41.007Z"
   },
   {
    "duration": 10,
    "start_time": "2021-07-24T07:12:41.030Z"
   },
   {
    "duration": 17,
    "start_time": "2021-07-24T07:12:41.042Z"
   },
   {
    "duration": 476,
    "start_time": "2021-07-24T07:12:41.060Z"
   },
   {
    "duration": 413,
    "start_time": "2021-07-24T07:12:41.538Z"
   },
   {
    "duration": 253,
    "start_time": "2021-07-24T07:12:41.954Z"
   },
   {
    "duration": 235,
    "start_time": "2021-07-24T07:12:42.210Z"
   },
   {
    "duration": 187,
    "start_time": "2021-07-24T07:12:42.448Z"
   },
   {
    "duration": 120,
    "start_time": "2021-07-24T07:12:42.637Z"
   },
   {
    "duration": 569,
    "start_time": "2021-07-24T07:12:42.759Z"
   },
   {
    "duration": 617,
    "start_time": "2021-07-24T07:12:43.330Z"
   },
   {
    "duration": 29,
    "start_time": "2021-07-24T07:12:43.949Z"
   },
   {
    "duration": 20,
    "start_time": "2021-07-24T07:12:43.992Z"
   },
   {
    "duration": 202,
    "start_time": "2021-07-24T07:12:44.014Z"
   },
   {
    "duration": 190,
    "start_time": "2021-07-24T07:12:44.217Z"
   },
   {
    "duration": 541,
    "start_time": "2021-07-24T07:12:44.408Z"
   },
   {
    "duration": 162,
    "start_time": "2021-07-24T07:12:44.950Z"
   },
   {
    "duration": 336,
    "start_time": "2021-07-24T07:12:45.114Z"
   },
   {
    "duration": 245,
    "start_time": "2021-07-24T07:12:45.452Z"
   },
   {
    "duration": 26,
    "start_time": "2021-07-24T07:12:45.699Z"
   },
   {
    "duration": 183,
    "start_time": "2021-07-24T07:12:45.727Z"
   },
   {
    "duration": 199,
    "start_time": "2021-07-24T07:12:45.913Z"
   },
   {
    "duration": 198,
    "start_time": "2021-07-24T07:12:46.113Z"
   },
   {
    "duration": 156,
    "start_time": "2021-07-24T07:12:46.312Z"
   },
   {
    "duration": 341,
    "start_time": "2021-07-24T07:12:46.470Z"
   },
   {
    "duration": 185,
    "start_time": "2021-07-24T07:12:46.813Z"
   },
   {
    "duration": 426,
    "start_time": "2021-07-24T07:12:47.000Z"
   },
   {
    "duration": 16,
    "start_time": "2021-07-24T07:13:33.397Z"
   },
   {
    "duration": 16,
    "start_time": "2021-07-24T07:13:44.701Z"
   },
   {
    "duration": 71,
    "start_time": "2021-07-24T07:13:47.457Z"
   },
   {
    "duration": 20,
    "start_time": "2021-07-24T07:13:47.530Z"
   },
   {
    "duration": 10,
    "start_time": "2021-07-24T07:13:47.552Z"
   },
   {
    "duration": 35,
    "start_time": "2021-07-24T07:13:47.564Z"
   },
   {
    "duration": 519,
    "start_time": "2021-07-24T07:13:47.600Z"
   },
   {
    "duration": 400,
    "start_time": "2021-07-24T07:13:48.121Z"
   },
   {
    "duration": 237,
    "start_time": "2021-07-24T07:13:48.523Z"
   },
   {
    "duration": 232,
    "start_time": "2021-07-24T07:13:48.762Z"
   },
   {
    "duration": 185,
    "start_time": "2021-07-24T07:13:48.995Z"
   },
   {
    "duration": 115,
    "start_time": "2021-07-24T07:13:49.181Z"
   },
   {
    "duration": 508,
    "start_time": "2021-07-24T07:13:49.297Z"
   },
   {
    "duration": 689,
    "start_time": "2021-07-24T07:13:49.806Z"
   },
   {
    "duration": 27,
    "start_time": "2021-07-24T07:13:50.497Z"
   },
   {
    "duration": 19,
    "start_time": "2021-07-24T07:13:50.525Z"
   },
   {
    "duration": 206,
    "start_time": "2021-07-24T07:13:50.546Z"
   },
   {
    "duration": 196,
    "start_time": "2021-07-24T07:13:50.754Z"
   },
   {
    "duration": 580,
    "start_time": "2021-07-24T07:13:50.952Z"
   },
   {
    "duration": 158,
    "start_time": "2021-07-24T07:13:51.533Z"
   },
   {
    "duration": 338,
    "start_time": "2021-07-24T07:13:51.693Z"
   },
   {
    "duration": 176,
    "start_time": "2021-07-24T07:13:52.033Z"
   },
   {
    "duration": 25,
    "start_time": "2021-07-24T07:13:52.211Z"
   },
   {
    "duration": 179,
    "start_time": "2021-07-24T07:13:52.238Z"
   },
   {
    "duration": 258,
    "start_time": "2021-07-24T07:13:52.419Z"
   },
   {
    "duration": 188,
    "start_time": "2021-07-24T07:13:52.678Z"
   },
   {
    "duration": 162,
    "start_time": "2021-07-24T07:13:52.868Z"
   },
   {
    "duration": 338,
    "start_time": "2021-07-24T07:13:53.031Z"
   },
   {
    "duration": 181,
    "start_time": "2021-07-24T07:13:53.371Z"
   },
   {
    "duration": 468,
    "start_time": "2021-07-24T07:13:53.553Z"
   },
   {
    "duration": 17,
    "start_time": "2021-07-24T07:14:56.653Z"
   },
   {
    "duration": 16,
    "start_time": "2021-07-24T07:17:29.318Z"
   },
   {
    "duration": 77,
    "start_time": "2021-07-24T07:17:31.912Z"
   },
   {
    "duration": 21,
    "start_time": "2021-07-24T07:17:31.991Z"
   },
   {
    "duration": 11,
    "start_time": "2021-07-24T07:17:32.013Z"
   },
   {
    "duration": 20,
    "start_time": "2021-07-24T07:17:32.025Z"
   },
   {
    "duration": 479,
    "start_time": "2021-07-24T07:17:32.046Z"
   },
   {
    "duration": 469,
    "start_time": "2021-07-24T07:17:32.527Z"
   },
   {
    "duration": 240,
    "start_time": "2021-07-24T07:17:32.998Z"
   },
   {
    "duration": 233,
    "start_time": "2021-07-24T07:17:33.240Z"
   },
   {
    "duration": 184,
    "start_time": "2021-07-24T07:17:33.475Z"
   },
   {
    "duration": 119,
    "start_time": "2021-07-24T07:17:33.661Z"
   },
   {
    "duration": 492,
    "start_time": "2021-07-24T07:17:33.781Z"
   },
   {
    "duration": 675,
    "start_time": "2021-07-24T07:17:34.274Z"
   },
   {
    "duration": 27,
    "start_time": "2021-07-24T07:17:34.950Z"
   },
   {
    "duration": 29,
    "start_time": "2021-07-24T07:17:34.979Z"
   },
   {
    "duration": 197,
    "start_time": "2021-07-24T07:17:35.009Z"
   },
   {
    "duration": 194,
    "start_time": "2021-07-24T07:17:35.207Z"
   },
   {
    "duration": 550,
    "start_time": "2021-07-24T07:17:35.402Z"
   },
   {
    "duration": 158,
    "start_time": "2021-07-24T07:17:35.954Z"
   },
   {
    "duration": 343,
    "start_time": "2021-07-24T07:17:36.114Z"
   },
   {
    "duration": 181,
    "start_time": "2021-07-24T07:17:36.459Z"
   },
   {
    "duration": 25,
    "start_time": "2021-07-24T07:17:36.642Z"
   },
   {
    "duration": 182,
    "start_time": "2021-07-24T07:17:36.668Z"
   },
   {
    "duration": 205,
    "start_time": "2021-07-24T07:17:36.854Z"
   },
   {
    "duration": 190,
    "start_time": "2021-07-24T07:17:37.061Z"
   },
   {
    "duration": 228,
    "start_time": "2021-07-24T07:17:37.253Z"
   },
   {
    "duration": 343,
    "start_time": "2021-07-24T07:17:37.483Z"
   },
   {
    "duration": 184,
    "start_time": "2021-07-24T07:17:37.828Z"
   },
   {
    "duration": 455,
    "start_time": "2021-07-24T07:17:38.014Z"
   },
   {
    "duration": 90,
    "start_time": "2021-07-24T07:18:14.678Z"
   },
   {
    "duration": 84,
    "start_time": "2021-07-24T07:18:26.021Z"
   },
   {
    "duration": 20,
    "start_time": "2021-07-24T07:18:40.150Z"
   },
   {
    "duration": 269,
    "start_time": "2021-07-24T07:18:56.589Z"
   },
   {
    "duration": 17,
    "start_time": "2021-07-24T07:19:16.951Z"
   },
   {
    "duration": 406,
    "start_time": "2021-07-24T07:19:56.222Z"
   },
   {
    "duration": 239,
    "start_time": "2021-07-24T07:20:19.318Z"
   },
   {
    "duration": 76,
    "start_time": "2021-07-24T07:20:23.299Z"
   },
   {
    "duration": 25,
    "start_time": "2021-07-24T07:20:23.376Z"
   },
   {
    "duration": 10,
    "start_time": "2021-07-24T07:20:23.403Z"
   },
   {
    "duration": 20,
    "start_time": "2021-07-24T07:20:23.415Z"
   },
   {
    "duration": 472,
    "start_time": "2021-07-24T07:20:23.436Z"
   },
   {
    "duration": 394,
    "start_time": "2021-07-24T07:20:23.910Z"
   },
   {
    "duration": 238,
    "start_time": "2021-07-24T07:20:24.306Z"
   },
   {
    "duration": 293,
    "start_time": "2021-07-24T07:20:24.547Z"
   },
   {
    "duration": 177,
    "start_time": "2021-07-24T07:20:24.842Z"
   },
   {
    "duration": 119,
    "start_time": "2021-07-24T07:20:25.021Z"
   },
   {
    "duration": 499,
    "start_time": "2021-07-24T07:20:25.142Z"
   },
   {
    "duration": 601,
    "start_time": "2021-07-24T07:20:25.642Z"
   },
   {
    "duration": 27,
    "start_time": "2021-07-24T07:20:26.245Z"
   },
   {
    "duration": 40,
    "start_time": "2021-07-24T07:20:26.274Z"
   },
   {
    "duration": 209,
    "start_time": "2021-07-24T07:20:26.316Z"
   },
   {
    "duration": 264,
    "start_time": "2021-07-24T07:20:26.527Z"
   },
   {
    "duration": 549,
    "start_time": "2021-07-24T07:20:26.793Z"
   },
   {
    "duration": 166,
    "start_time": "2021-07-24T07:20:27.344Z"
   },
   {
    "duration": 343,
    "start_time": "2021-07-24T07:20:27.512Z"
   },
   {
    "duration": 182,
    "start_time": "2021-07-24T07:20:27.857Z"
   },
   {
    "duration": 26,
    "start_time": "2021-07-24T07:20:28.041Z"
   },
   {
    "duration": 183,
    "start_time": "2021-07-24T07:20:28.068Z"
   },
   {
    "duration": 198,
    "start_time": "2021-07-24T07:20:28.255Z"
   },
   {
    "duration": 190,
    "start_time": "2021-07-24T07:20:28.454Z"
   },
   {
    "duration": 153,
    "start_time": "2021-07-24T07:20:28.645Z"
   },
   {
    "duration": 401,
    "start_time": "2021-07-24T07:20:28.800Z"
   },
   {
    "duration": 179,
    "start_time": "2021-07-24T07:20:29.202Z"
   },
   {
    "duration": 432,
    "start_time": "2021-07-24T07:20:29.382Z"
   },
   {
    "duration": 18,
    "start_time": "2021-07-24T07:20:46.926Z"
   },
   {
    "duration": 17,
    "start_time": "2021-07-24T07:22:43.214Z"
   },
   {
    "duration": 75,
    "start_time": "2021-07-24T07:22:46.202Z"
   },
   {
    "duration": 23,
    "start_time": "2021-07-24T07:22:46.279Z"
   },
   {
    "duration": 10,
    "start_time": "2021-07-24T07:22:46.304Z"
   },
   {
    "duration": 20,
    "start_time": "2021-07-24T07:22:46.316Z"
   },
   {
    "duration": 460,
    "start_time": "2021-07-24T07:22:46.337Z"
   },
   {
    "duration": 405,
    "start_time": "2021-07-24T07:22:46.799Z"
   },
   {
    "duration": 241,
    "start_time": "2021-07-24T07:22:47.206Z"
   },
   {
    "duration": 228,
    "start_time": "2021-07-24T07:22:47.449Z"
   },
   {
    "duration": 173,
    "start_time": "2021-07-24T07:22:47.679Z"
   },
   {
    "duration": 182,
    "start_time": "2021-07-24T07:22:47.854Z"
   },
   {
    "duration": 496,
    "start_time": "2021-07-24T07:22:48.038Z"
   },
   {
    "duration": 616,
    "start_time": "2021-07-24T07:22:48.536Z"
   },
   {
    "duration": 41,
    "start_time": "2021-07-24T07:22:49.154Z"
   },
   {
    "duration": 19,
    "start_time": "2021-07-24T07:22:49.196Z"
   },
   {
    "duration": 200,
    "start_time": "2021-07-24T07:22:49.217Z"
   },
   {
    "duration": 191,
    "start_time": "2021-07-24T07:22:49.418Z"
   },
   {
    "duration": 635,
    "start_time": "2021-07-24T07:22:49.611Z"
   },
   {
    "duration": 156,
    "start_time": "2021-07-24T07:22:50.247Z"
   },
   {
    "duration": 348,
    "start_time": "2021-07-24T07:22:50.404Z"
   },
   {
    "duration": 174,
    "start_time": "2021-07-24T07:22:50.754Z"
   },
   {
    "duration": 24,
    "start_time": "2021-07-24T07:22:50.930Z"
   },
   {
    "duration": 185,
    "start_time": "2021-07-24T07:22:50.956Z"
   },
   {
    "duration": 198,
    "start_time": "2021-07-24T07:22:51.144Z"
   },
   {
    "duration": 196,
    "start_time": "2021-07-24T07:22:51.344Z"
   },
   {
    "duration": 156,
    "start_time": "2021-07-24T07:22:51.542Z"
   },
   {
    "duration": 344,
    "start_time": "2021-07-24T07:22:51.700Z"
   },
   {
    "duration": 245,
    "start_time": "2021-07-24T07:22:52.046Z"
   },
   {
    "duration": 420,
    "start_time": "2021-07-24T07:22:52.293Z"
   },
   {
    "duration": 442,
    "start_time": "2021-07-24T07:27:00.406Z"
   },
   {
    "duration": 191,
    "start_time": "2021-07-24T07:27:37.582Z"
   },
   {
    "duration": 199,
    "start_time": "2021-07-24T07:27:46.582Z"
   },
   {
    "duration": 870,
    "start_time": "2021-07-24T13:57:18.357Z"
   },
   {
    "duration": 35,
    "start_time": "2021-07-24T13:57:19.230Z"
   },
   {
    "duration": 37,
    "start_time": "2021-07-24T13:57:19.268Z"
   },
   {
    "duration": 32,
    "start_time": "2021-07-24T14:44:30.044Z"
   },
   {
    "duration": 8,
    "start_time": "2021-07-24T14:44:36.623Z"
   },
   {
    "duration": 6,
    "start_time": "2021-07-24T14:44:43.825Z"
   },
   {
    "duration": 6,
    "start_time": "2021-07-24T14:44:53.634Z"
   },
   {
    "duration": 4,
    "start_time": "2021-07-24T14:45:18.012Z"
   },
   {
    "duration": 5622,
    "start_time": "2021-07-24T14:45:29.121Z"
   },
   {
    "duration": 403,
    "start_time": "2021-07-24T15:00:36.325Z"
   },
   {
    "duration": 346,
    "start_time": "2021-07-24T15:00:43.112Z"
   },
   {
    "duration": 371,
    "start_time": "2021-07-24T15:00:55.510Z"
   },
   {
    "duration": 405,
    "start_time": "2021-07-24T15:01:25.647Z"
   },
   {
    "duration": 415,
    "start_time": "2021-07-24T15:01:56.954Z"
   },
   {
    "duration": 429,
    "start_time": "2021-07-24T15:02:19.037Z"
   },
   {
    "duration": 402,
    "start_time": "2021-07-24T15:03:08.676Z"
   },
   {
    "duration": 711,
    "start_time": "2021-07-24T15:03:14.558Z"
   },
   {
    "duration": 875,
    "start_time": "2021-07-24T15:03:30.489Z"
   },
   {
    "duration": 885,
    "start_time": "2021-07-24T15:03:52.630Z"
   },
   {
    "duration": 115,
    "start_time": "2021-07-24T15:06:08.004Z"
   },
   {
    "duration": 61,
    "start_time": "2021-07-24T15:06:08.121Z"
   },
   {
    "duration": 16,
    "start_time": "2021-07-24T15:06:08.186Z"
   },
   {
    "duration": 35,
    "start_time": "2021-07-24T15:06:08.205Z"
   },
   {
    "duration": 58,
    "start_time": "2021-07-24T15:06:08.243Z"
   },
   {
    "duration": 7,
    "start_time": "2021-07-24T15:06:08.304Z"
   },
   {
    "duration": 11,
    "start_time": "2021-07-24T15:06:08.314Z"
   },
   {
    "duration": 7,
    "start_time": "2021-07-24T15:06:08.330Z"
   },
   {
    "duration": 41,
    "start_time": "2021-07-24T15:06:08.341Z"
   },
   {
    "duration": 6474,
    "start_time": "2021-07-24T15:06:08.385Z"
   },
   {
    "duration": 5793,
    "start_time": "2021-07-24T15:06:14.861Z"
   },
   {
    "duration": 11444,
    "start_time": "2021-07-24T15:06:20.657Z"
   },
   {
    "duration": 11366,
    "start_time": "2021-07-24T15:06:32.104Z"
   },
   {
    "duration": 801,
    "start_time": "2021-07-24T15:06:43.472Z"
   },
   {
    "duration": 778,
    "start_time": "2021-07-24T15:06:44.276Z"
   },
   {
    "duration": 440,
    "start_time": "2021-07-24T15:06:45.056Z"
   },
   {
    "duration": 433,
    "start_time": "2021-07-24T15:06:45.499Z"
   },
   {
    "duration": 321,
    "start_time": "2021-07-24T15:06:45.934Z"
   },
   {
    "duration": 3,
    "start_time": "2021-07-24T15:06:46.257Z"
   },
   {
    "duration": 315,
    "start_time": "2021-07-24T15:06:46.262Z"
   },
   {
    "duration": 990,
    "start_time": "2021-07-24T15:06:46.583Z"
   },
   {
    "duration": 1139,
    "start_time": "2021-07-24T15:06:47.583Z"
   },
   {
    "duration": 57,
    "start_time": "2021-07-24T15:06:48.726Z"
   },
   {
    "duration": 33,
    "start_time": "2021-07-24T15:06:48.786Z"
   },
   {
    "duration": 368,
    "start_time": "2021-07-24T15:06:48.822Z"
   },
   {
    "duration": 354,
    "start_time": "2021-07-24T15:06:49.192Z"
   },
   {
    "duration": 791,
    "start_time": "2021-07-24T15:06:49.549Z"
   },
   {
    "duration": 399,
    "start_time": "2021-07-24T15:06:50.343Z"
   },
   {
    "duration": 709,
    "start_time": "2021-07-24T15:06:50.745Z"
   },
   {
    "duration": 331,
    "start_time": "2021-07-24T15:06:51.456Z"
   },
   {
    "duration": 39,
    "start_time": "2021-07-24T15:06:51.790Z"
   },
   {
    "duration": 340,
    "start_time": "2021-07-24T15:06:51.831Z"
   },
   {
    "duration": 365,
    "start_time": "2021-07-24T15:06:52.182Z"
   },
   {
    "duration": 361,
    "start_time": "2021-07-24T15:06:52.550Z"
   },
   {
    "duration": 298,
    "start_time": "2021-07-24T15:06:52.914Z"
   },
   {
    "duration": 631,
    "start_time": "2021-07-24T15:06:53.214Z"
   },
   {
    "duration": 329,
    "start_time": "2021-07-24T15:06:53.847Z"
   },
   {
    "duration": 713,
    "start_time": "2021-07-24T15:06:54.183Z"
   },
   {
    "duration": 816,
    "start_time": "2021-07-24T15:15:04.812Z"
   },
   {
    "duration": 37,
    "start_time": "2021-07-24T15:15:05.631Z"
   },
   {
    "duration": 35,
    "start_time": "2021-07-24T15:15:05.671Z"
   },
   {
    "duration": 43,
    "start_time": "2021-07-24T15:15:05.708Z"
   },
   {
    "duration": 49,
    "start_time": "2021-07-24T15:15:05.753Z"
   },
   {
    "duration": 7,
    "start_time": "2021-07-24T15:15:05.805Z"
   },
   {
    "duration": 9,
    "start_time": "2021-07-24T15:15:05.816Z"
   },
   {
    "duration": 12,
    "start_time": "2021-07-24T15:15:05.828Z"
   },
   {
    "duration": 40,
    "start_time": "2021-07-24T15:15:05.842Z"
   },
   {
    "duration": 5569,
    "start_time": "2021-07-24T15:15:05.885Z"
   },
   {
    "duration": 5679,
    "start_time": "2021-07-24T15:15:11.456Z"
   },
   {
    "duration": 892,
    "start_time": "2021-07-24T15:15:36.565Z"
   },
   {
    "duration": 38,
    "start_time": "2021-07-24T15:15:37.460Z"
   },
   {
    "duration": 25,
    "start_time": "2021-07-24T15:15:37.501Z"
   },
   {
    "duration": 54,
    "start_time": "2021-07-24T15:15:37.529Z"
   },
   {
    "duration": 849,
    "start_time": "2021-07-24T15:15:43.314Z"
   },
   {
    "duration": 1022,
    "start_time": "2021-07-24T15:15:44.166Z"
   },
   {
    "duration": 453,
    "start_time": "2021-07-24T15:15:45.191Z"
   },
   {
    "duration": 438,
    "start_time": "2021-07-24T15:15:45.647Z"
   },
   {
    "duration": 323,
    "start_time": "2021-07-24T15:15:46.088Z"
   },
   {
    "duration": 4,
    "start_time": "2021-07-24T15:15:46.413Z"
   },
   {
    "duration": 221,
    "start_time": "2021-07-24T15:15:46.419Z"
   },
   {
    "duration": 1292,
    "start_time": "2021-07-24T15:15:46.645Z"
   },
   {
    "duration": 1192,
    "start_time": "2021-07-24T15:15:47.940Z"
   },
   {
    "duration": 61,
    "start_time": "2021-07-24T15:15:49.135Z"
   },
   {
    "duration": 32,
    "start_time": "2021-07-24T15:15:49.198Z"
   },
   {
    "duration": 362,
    "start_time": "2021-07-24T15:15:49.232Z"
   },
   {
    "duration": 349,
    "start_time": "2021-07-24T15:15:49.597Z"
   },
   {
    "duration": 702,
    "start_time": "2021-07-24T15:15:49.948Z"
   },
   {
    "duration": 278,
    "start_time": "2021-07-24T15:15:50.653Z"
   },
   {
    "duration": 622,
    "start_time": "2021-07-24T15:15:50.934Z"
   },
   {
    "duration": 314,
    "start_time": "2021-07-24T15:15:51.559Z"
   },
   {
    "duration": 40,
    "start_time": "2021-07-24T15:15:51.882Z"
   },
   {
    "duration": 319,
    "start_time": "2021-07-24T15:15:51.924Z"
   },
   {
    "duration": 360,
    "start_time": "2021-07-24T15:15:52.246Z"
   },
   {
    "duration": 375,
    "start_time": "2021-07-24T15:15:52.608Z"
   },
   {
    "duration": 340,
    "start_time": "2021-07-24T15:15:52.985Z"
   },
   {
    "duration": 617,
    "start_time": "2021-07-24T15:15:53.330Z"
   },
   {
    "duration": 337,
    "start_time": "2021-07-24T15:15:53.950Z"
   },
   {
    "duration": 726,
    "start_time": "2021-07-24T15:15:54.290Z"
   },
   {
    "duration": 25,
    "start_time": "2021-07-24T15:16:02.038Z"
   },
   {
    "duration": 12,
    "start_time": "2021-07-24T15:16:02.065Z"
   },
   {
    "duration": 33,
    "start_time": "2021-07-24T15:16:02.080Z"
   },
   {
    "duration": 6,
    "start_time": "2021-07-24T15:16:04.942Z"
   },
   {
    "duration": 5,
    "start_time": "2021-07-24T15:16:05.368Z"
   },
   {
    "duration": 5685,
    "start_time": "2021-07-24T15:16:05.858Z"
   },
   {
    "duration": 882,
    "start_time": "2021-07-24T15:16:18.247Z"
   },
   {
    "duration": 874,
    "start_time": "2021-07-24T17:07:57.556Z"
   },
   {
    "duration": 54,
    "start_time": "2021-07-24T17:08:01.545Z"
   },
   {
    "duration": 493,
    "start_time": "2021-07-24T17:08:21.127Z"
   },
   {
    "duration": 47,
    "start_time": "2021-07-24T17:08:31.090Z"
   },
   {
    "duration": 39,
    "start_time": "2021-07-24T17:08:41.298Z"
   },
   {
    "duration": 39,
    "start_time": "2021-07-24T17:08:50.641Z"
   },
   {
    "duration": 109,
    "start_time": "2021-07-24T17:09:21.150Z"
   },
   {
    "duration": 64,
    "start_time": "2021-07-24T17:09:21.263Z"
   },
   {
    "duration": 17,
    "start_time": "2021-07-24T17:09:21.330Z"
   },
   {
    "duration": 65,
    "start_time": "2021-07-24T17:09:21.350Z"
   },
   {
    "duration": 29,
    "start_time": "2021-07-24T17:09:21.417Z"
   },
   {
    "duration": 7,
    "start_time": "2021-07-24T17:09:21.449Z"
   },
   {
    "duration": 6,
    "start_time": "2021-07-24T17:09:21.482Z"
   },
   {
    "duration": 6,
    "start_time": "2021-07-24T17:09:21.492Z"
   },
   {
    "duration": 6,
    "start_time": "2021-07-24T17:09:21.501Z"
   },
   {
    "duration": 6020,
    "start_time": "2021-07-24T17:09:21.509Z"
   },
   {
    "duration": 3,
    "start_time": "2021-07-24T17:09:27.532Z"
   },
   {
    "duration": 11,
    "start_time": "2021-07-24T17:09:27.537Z"
   },
   {
    "duration": 7,
    "start_time": "2021-07-24T17:09:27.550Z"
   },
   {
    "duration": 911,
    "start_time": "2021-07-24T17:09:27.559Z"
   },
   {
    "duration": 1093,
    "start_time": "2021-07-24T17:09:28.474Z"
   },
   {
    "duration": 457,
    "start_time": "2021-07-24T17:09:29.569Z"
   },
   {
    "duration": 437,
    "start_time": "2021-07-24T17:09:30.029Z"
   },
   {
    "duration": 344,
    "start_time": "2021-07-24T17:09:30.469Z"
   },
   {
    "duration": 1002,
    "start_time": "2021-07-24T17:09:30.816Z"
   },
   {
    "duration": 222,
    "start_time": "2021-07-24T17:09:31.821Z"
   },
   {
    "duration": 1027,
    "start_time": "2021-07-24T17:09:32.046Z"
   },
   {
    "duration": 1151,
    "start_time": "2021-07-24T17:09:33.083Z"
   },
   {
    "duration": 60,
    "start_time": "2021-07-24T17:09:34.240Z"
   },
   {
    "duration": 36,
    "start_time": "2021-07-24T17:09:34.304Z"
   },
   {
    "duration": 408,
    "start_time": "2021-07-24T17:09:34.342Z"
   },
   {
    "duration": 354,
    "start_time": "2021-07-24T17:09:34.752Z"
   },
   {
    "duration": 701,
    "start_time": "2021-07-24T17:09:35.108Z"
   },
   {
    "duration": 295,
    "start_time": "2021-07-24T17:09:35.812Z"
   },
   {
    "duration": 685,
    "start_time": "2021-07-24T17:09:36.110Z"
   },
   {
    "duration": 321,
    "start_time": "2021-07-24T17:09:36.797Z"
   },
   {
    "duration": 40,
    "start_time": "2021-07-24T17:09:37.120Z"
   },
   {
    "duration": 321,
    "start_time": "2021-07-24T17:09:37.162Z"
   },
   {
    "duration": 358,
    "start_time": "2021-07-24T17:09:37.486Z"
   },
   {
    "duration": 357,
    "start_time": "2021-07-24T17:09:37.847Z"
   },
   {
    "duration": 299,
    "start_time": "2021-07-24T17:09:38.208Z"
   },
   {
    "duration": 635,
    "start_time": "2021-07-24T17:09:38.511Z"
   },
   {
    "duration": 338,
    "start_time": "2021-07-24T17:09:39.150Z"
   },
   {
    "duration": 715,
    "start_time": "2021-07-24T17:09:39.491Z"
   },
   {
    "duration": 46,
    "start_time": "2021-07-24T17:10:32.842Z"
   },
   {
    "duration": 188,
    "start_time": "2021-07-24T17:10:50.978Z"
   },
   {
    "duration": 55,
    "start_time": "2021-07-24T17:11:32.474Z"
   },
   {
    "duration": 44,
    "start_time": "2021-07-24T17:11:47.121Z"
   },
   {
    "duration": 356,
    "start_time": "2021-07-24T17:12:07.858Z"
   },
   {
    "duration": 106,
    "start_time": "2021-07-24T17:12:15.602Z"
   },
   {
    "duration": 44,
    "start_time": "2021-07-24T17:12:18.034Z"
   },
   {
    "duration": 121,
    "start_time": "2021-07-24T17:12:28.514Z"
   },
   {
    "duration": 66,
    "start_time": "2021-07-24T17:12:28.637Z"
   },
   {
    "duration": 15,
    "start_time": "2021-07-24T17:12:28.707Z"
   },
   {
    "duration": 60,
    "start_time": "2021-07-24T17:12:28.725Z"
   },
   {
    "duration": 25,
    "start_time": "2021-07-24T17:12:28.788Z"
   },
   {
    "duration": 7,
    "start_time": "2021-07-24T17:12:28.815Z"
   },
   {
    "duration": 16,
    "start_time": "2021-07-24T17:12:28.825Z"
   },
   {
    "duration": 39,
    "start_time": "2021-07-24T17:12:28.845Z"
   },
   {
    "duration": 15,
    "start_time": "2021-07-24T17:12:28.888Z"
   },
   {
    "duration": 5641,
    "start_time": "2021-07-24T17:12:28.906Z"
   },
   {
    "duration": 3,
    "start_time": "2021-07-24T17:12:34.551Z"
   },
   {
    "duration": 12,
    "start_time": "2021-07-24T17:12:34.556Z"
   },
   {
    "duration": 13,
    "start_time": "2021-07-24T17:12:34.570Z"
   },
   {
    "duration": 810,
    "start_time": "2021-07-24T17:12:34.586Z"
   },
   {
    "duration": 769,
    "start_time": "2021-07-24T17:12:35.399Z"
   },
   {
    "duration": 448,
    "start_time": "2021-07-24T17:12:36.171Z"
   },
   {
    "duration": 441,
    "start_time": "2021-07-24T17:12:36.622Z"
   },
   {
    "duration": 349,
    "start_time": "2021-07-24T17:12:37.066Z"
   },
   {
    "duration": 970,
    "start_time": "2021-07-24T17:12:37.418Z"
   },
   {
    "duration": 209,
    "start_time": "2021-07-24T17:12:38.390Z"
   },
   {
    "duration": 934,
    "start_time": "2021-07-24T17:12:38.601Z"
   },
   {
    "duration": 1147,
    "start_time": "2021-07-24T17:12:39.537Z"
   },
   {
    "duration": 45,
    "start_time": "2021-07-24T17:12:40.689Z"
   },
   {
    "duration": 61,
    "start_time": "2021-07-24T17:12:40.738Z"
   },
   {
    "duration": 364,
    "start_time": "2021-07-24T17:12:40.802Z"
   },
   {
    "duration": 418,
    "start_time": "2021-07-24T17:12:41.168Z"
   },
   {
    "duration": 734,
    "start_time": "2021-07-24T17:12:41.588Z"
   },
   {
    "duration": 294,
    "start_time": "2021-07-24T17:12:42.325Z"
   },
   {
    "duration": 624,
    "start_time": "2021-07-24T17:12:42.621Z"
   },
   {
    "duration": 334,
    "start_time": "2021-07-24T17:12:43.248Z"
   },
   {
    "duration": 39,
    "start_time": "2021-07-24T17:12:43.584Z"
   },
   {
    "duration": 327,
    "start_time": "2021-07-24T17:12:43.625Z"
   },
   {
    "duration": 369,
    "start_time": "2021-07-24T17:12:43.954Z"
   },
   {
    "duration": 358,
    "start_time": "2021-07-24T17:12:44.326Z"
   },
   {
    "duration": 295,
    "start_time": "2021-07-24T17:12:44.687Z"
   },
   {
    "duration": 720,
    "start_time": "2021-07-24T17:12:44.984Z"
   },
   {
    "duration": 335,
    "start_time": "2021-07-24T17:12:45.707Z"
   },
   {
    "duration": 768,
    "start_time": "2021-07-24T17:12:46.045Z"
   },
   {
    "duration": 47,
    "start_time": "2021-07-24T17:12:55.962Z"
   },
   {
    "duration": 119,
    "start_time": "2021-07-24T17:15:17.555Z"
   },
   {
    "duration": 57,
    "start_time": "2021-07-24T17:15:17.677Z"
   },
   {
    "duration": 15,
    "start_time": "2021-07-24T17:15:17.737Z"
   },
   {
    "duration": 39,
    "start_time": "2021-07-24T17:15:17.754Z"
   },
   {
    "duration": 3,
    "start_time": "2021-07-24T17:15:17.796Z"
   },
   {
    "duration": 10,
    "start_time": "2021-07-24T17:15:17.801Z"
   },
   {
    "duration": 3,
    "start_time": "2021-07-24T17:15:18.414Z"
   },
   {
    "duration": 8,
    "start_time": "2021-07-24T17:15:18.420Z"
   },
   {
    "duration": 8,
    "start_time": "2021-07-24T17:15:18.430Z"
   },
   {
    "duration": 14,
    "start_time": "2021-07-24T17:15:18.441Z"
   },
   {
    "duration": 12,
    "start_time": "2021-07-24T17:15:18.457Z"
   },
   {
    "duration": 3,
    "start_time": "2021-07-24T17:15:18.484Z"
   },
   {
    "duration": 6,
    "start_time": "2021-07-24T17:15:18.490Z"
   },
   {
    "duration": 830,
    "start_time": "2021-07-24T17:15:18.500Z"
   },
   {
    "duration": 785,
    "start_time": "2021-07-24T17:15:19.333Z"
   },
   {
    "duration": 438,
    "start_time": "2021-07-24T17:15:20.121Z"
   },
   {
    "duration": 446,
    "start_time": "2021-07-24T17:15:20.562Z"
   },
   {
    "duration": 338,
    "start_time": "2021-07-24T17:15:21.010Z"
   },
   {
    "duration": 966,
    "start_time": "2021-07-24T17:15:21.350Z"
   },
   {
    "duration": 214,
    "start_time": "2021-07-24T17:15:22.318Z"
   },
   {
    "duration": 972,
    "start_time": "2021-07-24T17:15:22.534Z"
   },
   {
    "duration": 1413,
    "start_time": "2021-07-24T17:15:23.509Z"
   },
   {
    "duration": 100,
    "start_time": "2021-07-24T17:15:24.925Z"
   },
   {
    "duration": 34,
    "start_time": "2021-07-24T17:15:25.027Z"
   },
   {
    "duration": 487,
    "start_time": "2021-07-24T17:15:25.063Z"
   },
   {
    "duration": 441,
    "start_time": "2021-07-24T17:15:25.552Z"
   },
   {
    "duration": 712,
    "start_time": "2021-07-24T17:15:25.997Z"
   },
   {
    "duration": 298,
    "start_time": "2021-07-24T17:15:26.712Z"
   },
   {
    "duration": 635,
    "start_time": "2021-07-24T17:15:27.017Z"
   },
   {
    "duration": 341,
    "start_time": "2021-07-24T17:15:27.655Z"
   },
   {
    "duration": 42,
    "start_time": "2021-07-24T17:15:27.999Z"
   },
   {
    "duration": 346,
    "start_time": "2021-07-24T17:15:28.044Z"
   },
   {
    "duration": 374,
    "start_time": "2021-07-24T17:15:28.393Z"
   },
   {
    "duration": 367,
    "start_time": "2021-07-24T17:15:28.770Z"
   },
   {
    "duration": 298,
    "start_time": "2021-07-24T17:15:29.139Z"
   },
   {
    "duration": 656,
    "start_time": "2021-07-24T17:15:29.439Z"
   },
   {
    "duration": 453,
    "start_time": "2021-07-24T17:15:30.097Z"
   },
   {
    "duration": 759,
    "start_time": "2021-07-24T17:15:30.552Z"
   },
   {
    "duration": 25,
    "start_time": "2021-07-24T17:17:13.771Z"
   },
   {
    "duration": 786,
    "start_time": "2021-07-24T17:19:48.531Z"
   },
   {
    "duration": 441,
    "start_time": "2021-07-24T17:20:12.195Z"
   },
   {
    "duration": 430,
    "start_time": "2021-07-24T17:20:28.915Z"
   },
   {
    "duration": 384,
    "start_time": "2021-07-24T17:20:33.212Z"
   },
   {
    "duration": 426,
    "start_time": "2021-07-24T17:20:37.235Z"
   },
   {
    "duration": 348,
    "start_time": "2021-07-24T17:20:56.419Z"
   },
   {
    "duration": 341,
    "start_time": "2021-07-24T17:20:59.787Z"
   },
   {
    "duration": 1031,
    "start_time": "2021-07-24T17:21:58.076Z"
   },
   {
    "duration": 1169,
    "start_time": "2021-07-24T17:22:11.427Z"
   },
   {
    "duration": 343,
    "start_time": "2021-07-24T17:22:54.542Z"
   },
   {
    "duration": 332,
    "start_time": "2021-07-24T17:23:26.435Z"
   },
   {
    "duration": 343,
    "start_time": "2021-07-24T17:23:53.780Z"
   },
   {
    "duration": 704,
    "start_time": "2021-07-24T17:24:15.923Z"
   },
   {
    "duration": 287,
    "start_time": "2021-07-24T17:24:30.340Z"
   },
   {
    "duration": 283,
    "start_time": "2021-07-24T17:24:54.859Z"
   },
   {
    "duration": 730,
    "start_time": "2021-07-24T17:25:13.052Z"
   },
   {
    "duration": 317,
    "start_time": "2021-07-24T17:25:25.513Z"
   },
   {
    "duration": 311,
    "start_time": "2021-07-24T17:25:46.923Z"
   },
   {
    "duration": 364,
    "start_time": "2021-07-24T17:26:04.881Z"
   },
   {
    "duration": 358,
    "start_time": "2021-07-24T17:26:21.004Z"
   },
   {
    "duration": 337,
    "start_time": "2021-07-24T17:26:25.867Z"
   },
   {
    "duration": 340,
    "start_time": "2021-07-24T17:26:31.245Z"
   },
   {
    "duration": 319,
    "start_time": "2021-07-24T17:26:37.084Z"
   },
   {
    "duration": 310,
    "start_time": "2021-07-24T17:26:44.619Z"
   },
   {
    "duration": 703,
    "start_time": "2021-07-24T17:26:49.236Z"
   },
   {
    "duration": 624,
    "start_time": "2021-07-24T17:26:55.740Z"
   },
   {
    "duration": 288,
    "start_time": "2021-07-24T17:27:25.980Z"
   },
   {
    "duration": 632,
    "start_time": "2021-07-24T17:27:46.668Z"
   },
   {
    "duration": 342,
    "start_time": "2021-07-24T17:27:54.540Z"
   },
   {
    "duration": 718,
    "start_time": "2021-07-24T17:28:05.707Z"
   },
   {
    "duration": 1461,
    "start_time": "2021-07-24T17:29:04.980Z"
   },
   {
    "duration": 1533,
    "start_time": "2021-07-24T17:29:17.043Z"
   },
   {
    "duration": 1146,
    "start_time": "2021-07-24T17:29:26.467Z"
   },
   {
    "duration": 115,
    "start_time": "2021-07-24T17:29:32.988Z"
   },
   {
    "duration": 32,
    "start_time": "2021-07-24T17:29:33.106Z"
   },
   {
    "duration": 42,
    "start_time": "2021-07-24T17:29:33.142Z"
   },
   {
    "duration": 31,
    "start_time": "2021-07-24T17:29:33.187Z"
   },
   {
    "duration": 4,
    "start_time": "2021-07-24T17:29:33.221Z"
   },
   {
    "duration": 7,
    "start_time": "2021-07-24T17:29:33.228Z"
   },
   {
    "duration": 6,
    "start_time": "2021-07-24T17:29:33.238Z"
   },
   {
    "duration": 39,
    "start_time": "2021-07-24T17:29:33.247Z"
   },
   {
    "duration": 6,
    "start_time": "2021-07-24T17:29:33.292Z"
   },
   {
    "duration": 9,
    "start_time": "2021-07-24T17:29:33.301Z"
   },
   {
    "duration": 7,
    "start_time": "2021-07-24T17:29:33.313Z"
   },
   {
    "duration": 8,
    "start_time": "2021-07-24T17:29:33.322Z"
   },
   {
    "duration": 12,
    "start_time": "2021-07-24T17:29:33.332Z"
   },
   {
    "duration": 917,
    "start_time": "2021-07-24T17:29:33.347Z"
   },
   {
    "duration": 786,
    "start_time": "2021-07-24T17:29:34.266Z"
   },
   {
    "duration": 463,
    "start_time": "2021-07-24T17:29:35.056Z"
   },
   {
    "duration": 446,
    "start_time": "2021-07-24T17:29:35.522Z"
   },
   {
    "duration": 357,
    "start_time": "2021-07-24T17:29:35.971Z"
   },
   {
    "duration": 881,
    "start_time": "2021-07-24T17:29:36.330Z"
   },
   {
    "duration": 220,
    "start_time": "2021-07-24T17:29:37.213Z"
   },
   {
    "duration": 1079,
    "start_time": "2021-07-24T17:29:37.435Z"
   },
   {
    "duration": 1185,
    "start_time": "2021-07-24T17:29:38.517Z"
   },
   {
    "duration": 41,
    "start_time": "2021-07-24T17:29:39.705Z"
   },
   {
    "duration": 65,
    "start_time": "2021-07-24T17:29:39.748Z"
   },
   {
    "duration": 367,
    "start_time": "2021-07-24T17:29:39.815Z"
   },
   {
    "duration": 355,
    "start_time": "2021-07-24T17:29:40.185Z"
   },
   {
    "duration": 697,
    "start_time": "2021-07-24T17:29:40.545Z"
   },
   {
    "duration": 300,
    "start_time": "2021-07-24T17:29:41.245Z"
   },
   {
    "duration": 634,
    "start_time": "2021-07-24T17:29:41.547Z"
   },
   {
    "duration": 434,
    "start_time": "2021-07-24T17:29:42.184Z"
   },
   {
    "duration": 61,
    "start_time": "2021-07-24T17:29:42.622Z"
   },
   {
    "duration": 368,
    "start_time": "2021-07-24T17:29:42.686Z"
   },
   {
    "duration": 354,
    "start_time": "2021-07-24T17:29:43.056Z"
   },
   {
    "duration": 375,
    "start_time": "2021-07-24T17:29:43.412Z"
   },
   {
    "duration": 293,
    "start_time": "2021-07-24T17:29:43.789Z"
   },
   {
    "duration": 655,
    "start_time": "2021-07-24T17:29:44.085Z"
   },
   {
    "duration": 348,
    "start_time": "2021-07-24T17:29:44.743Z"
   },
   {
    "duration": 703,
    "start_time": "2021-07-24T17:29:45.093Z"
   },
   {
    "duration": 964,
    "start_time": "2021-07-24T17:30:08.491Z"
   },
   {
    "duration": 1338,
    "start_time": "2021-07-24T17:31:02.611Z"
   },
   {
    "duration": 966,
    "start_time": "2021-07-24T17:31:10.259Z"
   },
   {
    "duration": 399,
    "start_time": "2021-07-24T17:32:28.075Z"
   },
   {
    "duration": 1176,
    "start_time": "2021-07-24T17:32:51.029Z"
   },
   {
    "duration": 136,
    "start_time": "2021-07-24T17:33:44.253Z"
   },
   {
    "duration": 154,
    "start_time": "2021-07-24T17:33:44.394Z"
   },
   {
    "duration": 3,
    "start_time": "2021-07-24T17:33:44.551Z"
   },
   {
    "duration": 28,
    "start_time": "2021-07-24T17:33:44.557Z"
   },
   {
    "duration": 9,
    "start_time": "2021-07-24T17:33:44.588Z"
   },
   {
    "duration": 10,
    "start_time": "2021-07-24T17:33:44.599Z"
   },
   {
    "duration": 8,
    "start_time": "2021-07-24T17:33:44.612Z"
   },
   {
    "duration": 8,
    "start_time": "2021-07-24T17:33:44.625Z"
   },
   {
    "duration": 16,
    "start_time": "2021-07-24T17:33:44.637Z"
   },
   {
    "duration": 27,
    "start_time": "2021-07-24T17:33:44.656Z"
   },
   {
    "duration": 4,
    "start_time": "2021-07-24T17:33:44.686Z"
   },
   {
    "duration": 9,
    "start_time": "2021-07-24T17:33:44.693Z"
   },
   {
    "duration": 13,
    "start_time": "2021-07-24T17:33:44.705Z"
   },
   {
    "duration": 838,
    "start_time": "2021-07-24T17:33:44.721Z"
   },
   {
    "duration": 834,
    "start_time": "2021-07-24T17:33:45.562Z"
   },
   {
    "duration": 717,
    "start_time": "2021-07-24T17:33:46.399Z"
   },
   {
    "duration": 756,
    "start_time": "2021-07-24T17:33:47.120Z"
   },
   {
    "duration": 488,
    "start_time": "2021-07-24T17:33:47.883Z"
   },
   {
    "duration": 892,
    "start_time": "2021-07-24T17:33:48.373Z"
   },
   {
    "duration": 217,
    "start_time": "2021-07-24T17:33:49.268Z"
   },
   {
    "duration": 1094,
    "start_time": "2021-07-24T17:33:49.489Z"
   },
   {
    "duration": 1201,
    "start_time": "2021-07-24T17:33:50.585Z"
   },
   {
    "duration": 43,
    "start_time": "2021-07-24T17:33:51.791Z"
   },
   {
    "duration": 63,
    "start_time": "2021-07-24T17:33:51.837Z"
   },
   {
    "duration": 364,
    "start_time": "2021-07-24T17:33:51.903Z"
   },
   {
    "duration": 363,
    "start_time": "2021-07-24T17:33:52.270Z"
   },
   {
    "duration": 732,
    "start_time": "2021-07-24T17:33:52.635Z"
   },
   {
    "duration": 473,
    "start_time": "2021-07-24T17:33:53.369Z"
   },
   {
    "duration": 1019,
    "start_time": "2021-07-24T17:33:53.846Z"
   },
   {
    "duration": 335,
    "start_time": "2021-07-24T17:33:54.868Z"
   },
   {
    "duration": 41,
    "start_time": "2021-07-24T17:33:55.206Z"
   },
   {
    "duration": 343,
    "start_time": "2021-07-24T17:33:55.250Z"
   },
   {
    "duration": 362,
    "start_time": "2021-07-24T17:33:55.595Z"
   },
   {
    "duration": 367,
    "start_time": "2021-07-24T17:33:55.959Z"
   },
   {
    "duration": 308,
    "start_time": "2021-07-24T17:33:56.329Z"
   },
   {
    "duration": 666,
    "start_time": "2021-07-24T17:33:56.640Z"
   },
   {
    "duration": 360,
    "start_time": "2021-07-24T17:33:57.308Z"
   },
   {
    "duration": 750,
    "start_time": "2021-07-24T17:33:57.671Z"
   },
   {
    "duration": 1419,
    "start_time": "2021-07-24T17:35:03.619Z"
   },
   {
    "duration": 1156,
    "start_time": "2021-07-24T17:35:14.699Z"
   },
   {
    "duration": 1151,
    "start_time": "2021-07-24T17:36:19.499Z"
   },
   {
    "duration": 1259,
    "start_time": "2021-07-24T17:36:37.467Z"
   },
   {
    "duration": 1152,
    "start_time": "2021-07-24T17:37:13.819Z"
   },
   {
    "duration": 1669,
    "start_time": "2021-07-24T17:39:00.668Z"
   },
   {
    "duration": 116,
    "start_time": "2021-07-24T17:39:20.916Z"
   },
   {
    "duration": 1728,
    "start_time": "2021-07-24T17:39:28.635Z"
   },
   {
    "duration": 1623,
    "start_time": "2021-07-24T17:39:48.996Z"
   },
   {
    "duration": 1774,
    "start_time": "2021-07-24T17:40:17.332Z"
   },
   {
    "duration": 1620,
    "start_time": "2021-07-24T17:40:29.428Z"
   },
   {
    "duration": 1766,
    "start_time": "2021-07-24T17:40:40.460Z"
   },
   {
    "duration": 130,
    "start_time": "2021-07-24T17:41:27.156Z"
   },
   {
    "duration": 107,
    "start_time": "2021-07-24T17:41:39.434Z"
   },
   {
    "duration": 934,
    "start_time": "2021-07-24T17:43:03.267Z"
   },
   {
    "duration": 427,
    "start_time": "2021-07-24T17:43:09.155Z"
   },
   {
    "duration": 427,
    "start_time": "2021-07-24T17:43:18.315Z"
   },
   {
    "duration": 411,
    "start_time": "2021-07-24T17:43:22.459Z"
   },
   {
    "duration": 403,
    "start_time": "2021-07-24T17:43:25.979Z"
   },
   {
    "duration": 416,
    "start_time": "2021-07-24T17:43:30.844Z"
   },
   {
    "duration": 1723,
    "start_time": "2021-07-24T17:43:53.700Z"
   },
   {
    "duration": 1614,
    "start_time": "2021-07-24T17:46:54.892Z"
   },
   {
    "duration": 1596,
    "start_time": "2021-07-24T17:47:11.390Z"
   },
   {
    "duration": 1856,
    "start_time": "2021-07-24T17:47:18.013Z"
   },
   {
    "duration": 1727,
    "start_time": "2021-07-24T17:47:40.620Z"
   },
   {
    "duration": 1755,
    "start_time": "2021-07-24T17:47:59.318Z"
   },
   {
    "duration": 1855,
    "start_time": "2021-07-24T17:48:28.605Z"
   },
   {
    "duration": 1645,
    "start_time": "2021-07-24T17:49:35.300Z"
   },
   {
    "duration": 1737,
    "start_time": "2021-07-24T17:50:15.923Z"
   },
   {
    "duration": 1796,
    "start_time": "2021-07-24T17:50:36.547Z"
   },
   {
    "duration": 1619,
    "start_time": "2021-07-24T17:51:48.826Z"
   },
   {
    "duration": 407,
    "start_time": "2021-07-24T17:52:41.610Z"
   },
   {
    "duration": 1737,
    "start_time": "2021-07-24T17:53:13.147Z"
   },
   {
    "duration": 1598,
    "start_time": "2021-07-24T17:54:48.433Z"
   },
   {
    "duration": 1613,
    "start_time": "2021-07-24T17:55:11.156Z"
   },
   {
    "duration": 1755,
    "start_time": "2021-07-24T17:55:15.834Z"
   },
   {
    "duration": 45,
    "start_time": "2021-07-24T18:08:08.044Z"
   },
   {
    "duration": 34,
    "start_time": "2021-07-24T18:08:40.773Z"
   },
   {
    "duration": 35,
    "start_time": "2021-07-24T18:09:06.530Z"
   },
   {
    "duration": 342,
    "start_time": "2021-07-24T18:10:19.285Z"
   },
   {
    "duration": 312,
    "start_time": "2021-07-24T18:10:31.644Z"
   },
   {
    "duration": 638,
    "start_time": "2021-07-24T18:10:48.812Z"
   },
   {
    "duration": 295,
    "start_time": "2021-07-24T18:11:10.932Z"
   },
   {
    "duration": 632,
    "start_time": "2021-07-24T18:11:29.325Z"
   },
   {
    "duration": 427,
    "start_time": "2021-07-24T18:11:38.788Z"
   },
   {
    "duration": 39,
    "start_time": "2021-07-24T18:12:00.933Z"
   },
   {
    "duration": 316,
    "start_time": "2021-07-24T18:12:31.204Z"
   },
   {
    "duration": 345,
    "start_time": "2021-07-24T18:12:52.858Z"
   },
   {
    "duration": 627,
    "start_time": "2021-07-24T18:13:20.100Z"
   },
   {
    "duration": 436,
    "start_time": "2021-07-24T18:13:36.972Z"
   },
   {
    "duration": 620,
    "start_time": "2021-07-24T18:14:18.621Z"
   },
   {
    "duration": 614,
    "start_time": "2021-07-24T18:15:28.652Z"
   },
   {
    "duration": 634,
    "start_time": "2021-07-24T18:16:02.524Z"
   },
   {
    "duration": 647,
    "start_time": "2021-07-24T18:16:09.906Z"
   },
   {
    "duration": 611,
    "start_time": "2021-07-24T18:16:13.925Z"
   },
   {
    "duration": 634,
    "start_time": "2021-07-24T18:16:18.038Z"
   },
   {
    "duration": 409,
    "start_time": "2021-07-24T18:16:30.428Z"
   },
   {
    "duration": 375,
    "start_time": "2021-07-24T18:17:01.397Z"
   },
   {
    "duration": 326,
    "start_time": "2021-07-24T18:17:25.260Z"
   },
   {
    "duration": 520,
    "start_time": "2021-07-24T18:18:47.325Z"
   },
   {
    "duration": 518,
    "start_time": "2021-07-24T18:19:09.132Z"
   },
   {
    "duration": 173,
    "start_time": "2021-07-24T18:19:13.270Z"
   },
   {
    "duration": 161,
    "start_time": "2021-07-24T18:19:13.446Z"
   },
   {
    "duration": 2,
    "start_time": "2021-07-24T18:19:13.610Z"
   },
   {
    "duration": 15,
    "start_time": "2021-07-24T18:19:13.615Z"
   },
   {
    "duration": 9,
    "start_time": "2021-07-24T18:19:13.633Z"
   },
   {
    "duration": 13,
    "start_time": "2021-07-24T18:19:13.644Z"
   },
   {
    "duration": 8,
    "start_time": "2021-07-24T18:19:13.660Z"
   },
   {
    "duration": 14,
    "start_time": "2021-07-24T18:19:13.672Z"
   },
   {
    "duration": 10,
    "start_time": "2021-07-24T18:19:13.693Z"
   },
   {
    "duration": 12,
    "start_time": "2021-07-24T18:19:13.707Z"
   },
   {
    "duration": 11,
    "start_time": "2021-07-24T18:19:13.721Z"
   },
   {
    "duration": 10,
    "start_time": "2021-07-24T18:19:13.734Z"
   },
   {
    "duration": 13,
    "start_time": "2021-07-24T18:19:13.746Z"
   },
   {
    "duration": 892,
    "start_time": "2021-07-24T18:19:13.761Z"
   },
   {
    "duration": 821,
    "start_time": "2021-07-24T18:19:14.655Z"
   },
   {
    "duration": 447,
    "start_time": "2021-07-24T18:19:15.482Z"
   },
   {
    "duration": 463,
    "start_time": "2021-07-24T18:19:15.931Z"
   },
   {
    "duration": 394,
    "start_time": "2021-07-24T18:19:16.396Z"
   },
   {
    "duration": 913,
    "start_time": "2021-07-24T18:19:16.792Z"
   },
   {
    "duration": 212,
    "start_time": "2021-07-24T18:19:17.708Z"
   },
   {
    "duration": 1091,
    "start_time": "2021-07-24T18:19:17.923Z"
   },
   {
    "duration": 1665,
    "start_time": "2021-07-24T18:19:19.017Z"
   },
   {
    "duration": 34,
    "start_time": "2021-07-24T18:19:20.685Z"
   },
   {
    "duration": 63,
    "start_time": "2021-07-24T18:19:20.721Z"
   },
   {
    "duration": 362,
    "start_time": "2021-07-24T18:19:20.786Z"
   },
   {
    "duration": 326,
    "start_time": "2021-07-24T18:19:21.150Z"
   },
   {
    "duration": 694,
    "start_time": "2021-07-24T18:19:21.485Z"
   },
   {
    "duration": 320,
    "start_time": "2021-07-24T18:19:22.184Z"
   },
   {
    "duration": 862,
    "start_time": "2021-07-24T18:19:22.507Z"
   },
   {
    "duration": 333,
    "start_time": "2021-07-24T18:19:23.372Z"
   },
   {
    "duration": 40,
    "start_time": "2021-07-24T18:19:23.709Z"
   },
   {
    "duration": 374,
    "start_time": "2021-07-24T18:19:23.752Z"
   },
   {
    "duration": 429,
    "start_time": "2021-07-24T18:19:24.129Z"
   },
   {
    "duration": 385,
    "start_time": "2021-07-24T18:19:24.560Z"
   },
   {
    "duration": 303,
    "start_time": "2021-07-24T18:19:24.948Z"
   },
   {
    "duration": 832,
    "start_time": "2021-07-24T18:19:25.254Z"
   },
   {
    "duration": 443,
    "start_time": "2021-07-24T18:19:26.089Z"
   },
   {
    "duration": 625,
    "start_time": "2021-07-24T18:19:26.535Z"
   },
   {
    "duration": 104,
    "start_time": "2021-07-24T18:21:11.805Z"
   },
   {
    "duration": 1781,
    "start_time": "2021-07-24T18:22:45.085Z"
   },
   {
    "duration": 1631,
    "start_time": "2021-07-24T18:23:10.964Z"
   },
   {
    "duration": 1851,
    "start_time": "2021-07-24T18:28:22.517Z"
   },
   {
    "duration": 1708,
    "start_time": "2021-07-24T18:28:30.108Z"
   },
   {
    "duration": 1604,
    "start_time": "2021-07-24T18:28:33.925Z"
   },
   {
    "duration": 1738,
    "start_time": "2021-07-24T18:28:40.780Z"
   },
   {
    "duration": 1647,
    "start_time": "2021-07-24T18:29:00.093Z"
   },
   {
    "duration": 1892,
    "start_time": "2021-07-24T18:29:19.476Z"
   },
   {
    "duration": 1285,
    "start_time": "2021-07-24T18:31:01.677Z"
   },
   {
    "duration": 1363,
    "start_time": "2021-07-24T18:31:13.756Z"
   },
   {
    "duration": 1461,
    "start_time": "2021-07-24T18:31:32.396Z"
   },
   {
    "duration": 1360,
    "start_time": "2021-07-24T18:31:36.340Z"
   },
   {
    "duration": 1434,
    "start_time": "2021-07-24T18:31:41.037Z"
   },
   {
    "duration": 1545,
    "start_time": "2021-07-24T18:31:57.780Z"
   },
   {
    "duration": 1418,
    "start_time": "2021-07-24T18:32:06.116Z"
   },
   {
    "duration": 1429,
    "start_time": "2021-07-24T18:32:23.861Z"
   },
   {
    "duration": 1737,
    "start_time": "2021-07-24T18:33:04.756Z"
   },
   {
    "duration": 1328,
    "start_time": "2021-07-24T18:33:20.557Z"
   },
   {
    "duration": 1432,
    "start_time": "2021-07-24T18:33:25.419Z"
   },
   {
    "duration": 1710,
    "start_time": "2021-07-24T18:34:01.924Z"
   },
   {
    "duration": 1498,
    "start_time": "2021-07-24T18:34:56.117Z"
   },
   {
    "duration": 957,
    "start_time": "2021-07-24T18:37:10.276Z"
   },
   {
    "duration": 105,
    "start_time": "2021-07-24T18:37:58.084Z"
   },
   {
    "duration": 35,
    "start_time": "2021-07-24T18:37:58.192Z"
   },
   {
    "duration": 3,
    "start_time": "2021-07-24T18:37:58.230Z"
   },
   {
    "duration": 20,
    "start_time": "2021-07-24T18:37:58.235Z"
   },
   {
    "duration": 13,
    "start_time": "2021-07-24T18:37:58.257Z"
   },
   {
    "duration": 3,
    "start_time": "2021-07-24T18:37:58.282Z"
   },
   {
    "duration": 10,
    "start_time": "2021-07-24T18:37:58.287Z"
   },
   {
    "duration": 6,
    "start_time": "2021-07-24T18:37:58.299Z"
   },
   {
    "duration": 9,
    "start_time": "2021-07-24T18:37:58.309Z"
   },
   {
    "duration": 7,
    "start_time": "2021-07-24T18:37:58.322Z"
   },
   {
    "duration": 8,
    "start_time": "2021-07-24T18:37:58.331Z"
   },
   {
    "duration": 11,
    "start_time": "2021-07-24T18:37:58.341Z"
   },
   {
    "duration": 8,
    "start_time": "2021-07-24T18:37:58.354Z"
   },
   {
    "duration": 925,
    "start_time": "2021-07-24T18:37:58.364Z"
   },
   {
    "duration": 814,
    "start_time": "2021-07-24T18:37:59.292Z"
   },
   {
    "duration": 436,
    "start_time": "2021-07-24T18:38:00.108Z"
   },
   {
    "duration": 456,
    "start_time": "2021-07-24T18:38:00.547Z"
   },
   {
    "duration": 367,
    "start_time": "2021-07-24T18:38:01.006Z"
   },
   {
    "duration": 913,
    "start_time": "2021-07-24T18:38:01.382Z"
   },
   {
    "duration": 218,
    "start_time": "2021-07-24T18:38:02.298Z"
   },
   {
    "duration": 1103,
    "start_time": "2021-07-24T18:38:02.518Z"
   },
   {
    "duration": 986,
    "start_time": "2021-07-24T18:38:03.623Z"
   },
   {
    "duration": 1439,
    "start_time": "2021-07-24T18:38:04.612Z"
   },
   {
    "duration": 49,
    "start_time": "2021-07-24T18:38:06.054Z"
   },
   {
    "duration": 34,
    "start_time": "2021-07-24T18:38:06.106Z"
   },
   {
    "duration": 376,
    "start_time": "2021-07-24T18:38:06.142Z"
   },
   {
    "duration": 320,
    "start_time": "2021-07-24T18:38:06.523Z"
   },
   {
    "duration": 635,
    "start_time": "2021-07-24T18:38:06.847Z"
   },
   {
    "duration": 432,
    "start_time": "2021-07-24T18:38:07.485Z"
   },
   {
    "duration": 625,
    "start_time": "2021-07-24T18:38:07.920Z"
   },
   {
    "duration": 325,
    "start_time": "2021-07-24T18:38:08.547Z"
   },
   {
    "duration": 45,
    "start_time": "2021-07-24T18:38:08.875Z"
   },
   {
    "duration": 348,
    "start_time": "2021-07-24T18:38:08.923Z"
   },
   {
    "duration": 354,
    "start_time": "2021-07-24T18:38:09.274Z"
   },
   {
    "duration": 369,
    "start_time": "2021-07-24T18:38:09.630Z"
   },
   {
    "duration": 292,
    "start_time": "2021-07-24T18:38:10.001Z"
   },
   {
    "duration": 664,
    "start_time": "2021-07-24T18:38:10.296Z"
   },
   {
    "duration": 442,
    "start_time": "2021-07-24T18:38:10.963Z"
   },
   {
    "duration": 436,
    "start_time": "2021-07-24T18:38:11.409Z"
   },
   {
    "duration": 929,
    "start_time": "2021-07-24T18:40:13.963Z"
   },
   {
    "duration": 1174,
    "start_time": "2021-07-24T18:40:21.292Z"
   },
   {
    "duration": 952,
    "start_time": "2021-07-24T18:40:40.604Z"
   },
   {
    "duration": 1054,
    "start_time": "2021-07-24T18:40:49.204Z"
   },
   {
    "duration": 1140,
    "start_time": "2021-07-24T18:41:00.957Z"
   },
   {
    "duration": 980,
    "start_time": "2021-07-24T18:42:41.027Z"
   },
   {
    "duration": 932,
    "start_time": "2021-07-24T18:44:24.283Z"
   },
   {
    "duration": 925,
    "start_time": "2021-07-24T18:44:38.963Z"
   },
   {
    "duration": 1062,
    "start_time": "2021-07-24T18:44:48.691Z"
   },
   {
    "duration": 943,
    "start_time": "2021-07-24T18:45:38.731Z"
   },
   {
    "duration": 137,
    "start_time": "2021-07-24T18:46:12.211Z"
   },
   {
    "duration": 975,
    "start_time": "2021-07-24T18:46:20.131Z"
   },
   {
    "duration": 1095,
    "start_time": "2021-07-24T18:46:30.731Z"
   },
   {
    "duration": 829,
    "start_time": "2021-07-24T18:46:35.164Z"
   },
   {
    "duration": 703,
    "start_time": "2021-07-24T18:46:41.107Z"
   },
   {
    "duration": 729,
    "start_time": "2021-07-24T18:46:44.011Z"
   },
   {
    "duration": 929,
    "start_time": "2021-07-24T18:48:09.347Z"
   },
   {
    "duration": 107,
    "start_time": "2021-07-24T18:48:13.351Z"
   },
   {
    "duration": 166,
    "start_time": "2021-07-24T18:48:13.460Z"
   },
   {
    "duration": 3,
    "start_time": "2021-07-24T18:48:13.629Z"
   },
   {
    "duration": 12,
    "start_time": "2021-07-24T18:48:13.635Z"
   },
   {
    "duration": 6,
    "start_time": "2021-07-24T18:48:13.649Z"
   },
   {
    "duration": 7,
    "start_time": "2021-07-24T18:48:13.657Z"
   },
   {
    "duration": 8,
    "start_time": "2021-07-24T18:48:13.666Z"
   },
   {
    "duration": 8,
    "start_time": "2021-07-24T18:48:13.676Z"
   },
   {
    "duration": 6,
    "start_time": "2021-07-24T18:48:13.688Z"
   },
   {
    "duration": 6,
    "start_time": "2021-07-24T18:48:13.697Z"
   },
   {
    "duration": 19,
    "start_time": "2021-07-24T18:48:13.705Z"
   },
   {
    "duration": 15,
    "start_time": "2021-07-24T18:48:13.726Z"
   },
   {
    "duration": 7,
    "start_time": "2021-07-24T18:48:13.743Z"
   },
   {
    "duration": 871,
    "start_time": "2021-07-24T18:48:13.752Z"
   },
   {
    "duration": 879,
    "start_time": "2021-07-24T18:48:14.625Z"
   },
   {
    "duration": 421,
    "start_time": "2021-07-24T18:48:15.506Z"
   },
   {
    "duration": 459,
    "start_time": "2021-07-24T18:48:15.929Z"
   },
   {
    "duration": 374,
    "start_time": "2021-07-24T18:48:16.390Z"
   },
   {
    "duration": 861,
    "start_time": "2021-07-24T18:48:16.766Z"
   },
   {
    "duration": 210,
    "start_time": "2021-07-24T18:48:17.629Z"
   },
   {
    "duration": 1103,
    "start_time": "2021-07-24T18:48:17.841Z"
   },
   {
    "duration": 978,
    "start_time": "2021-07-24T18:48:18.947Z"
   },
   {
    "duration": 964,
    "start_time": "2021-07-24T18:48:19.928Z"
   },
   {
    "duration": 1077,
    "start_time": "2021-07-24T18:48:20.895Z"
   },
   {
    "duration": 733,
    "start_time": "2021-07-24T18:48:21.982Z"
   },
   {
    "duration": 33,
    "start_time": "2021-07-24T18:48:22.717Z"
   },
   {
    "duration": 376,
    "start_time": "2021-07-24T18:48:22.755Z"
   },
   {
    "duration": 321,
    "start_time": "2021-07-24T18:48:23.134Z"
   },
   {
    "duration": 631,
    "start_time": "2021-07-24T18:48:23.457Z"
   },
   {
    "duration": 309,
    "start_time": "2021-07-24T18:48:24.090Z"
   },
   {
    "duration": 636,
    "start_time": "2021-07-24T18:48:24.401Z"
   },
   {
    "duration": 321,
    "start_time": "2021-07-24T18:48:25.039Z"
   },
   {
    "duration": 51,
    "start_time": "2021-07-24T18:48:25.362Z"
   },
   {
    "duration": 350,
    "start_time": "2021-07-24T18:48:25.415Z"
   },
   {
    "duration": 353,
    "start_time": "2021-07-24T18:48:25.768Z"
   },
   {
    "duration": 373,
    "start_time": "2021-07-24T18:48:26.124Z"
   },
   {
    "duration": 290,
    "start_time": "2021-07-24T18:48:26.499Z"
   },
   {
    "duration": 826,
    "start_time": "2021-07-24T18:48:26.792Z"
   },
   {
    "duration": 353,
    "start_time": "2021-07-24T18:48:27.622Z"
   },
   {
    "duration": 339,
    "start_time": "2021-07-24T18:48:27.978Z"
   },
   {
    "duration": 425,
    "start_time": "2021-07-24T18:59:43.892Z"
   },
   {
    "duration": 309,
    "start_time": "2021-07-24T19:00:50.437Z"
   },
   {
    "duration": 645,
    "start_time": "2021-07-24T19:01:07.485Z"
   },
   {
    "duration": 640,
    "start_time": "2021-07-24T19:01:25.308Z"
   },
   {
    "duration": 648,
    "start_time": "2021-07-24T19:01:33.238Z"
   },
   {
    "duration": 622,
    "start_time": "2021-07-24T19:01:36.726Z"
   },
   {
    "duration": 636,
    "start_time": "2021-07-24T19:01:39.895Z"
   },
   {
    "duration": 637,
    "start_time": "2021-07-24T19:01:43.422Z"
   },
   {
    "duration": 638,
    "start_time": "2021-07-24T19:01:47.662Z"
   },
   {
    "duration": 639,
    "start_time": "2021-07-24T19:01:51.710Z"
   },
   {
    "duration": 630,
    "start_time": "2021-07-24T19:01:54.646Z"
   },
   {
    "duration": 316,
    "start_time": "2021-07-24T19:02:00.902Z"
   },
   {
    "duration": 433,
    "start_time": "2021-07-24T19:02:14.893Z"
   },
   {
    "duration": 333,
    "start_time": "2021-07-24T19:03:26.652Z"
   },
   {
    "duration": 353,
    "start_time": "2021-07-24T19:03:31.006Z"
   },
   {
    "duration": 410,
    "start_time": "2021-07-24T19:03:34.127Z"
   },
   {
    "duration": 340,
    "start_time": "2021-07-24T19:03:39.661Z"
   },
   {
    "duration": 338,
    "start_time": "2021-07-24T19:03:43.086Z"
   },
   {
    "duration": 325,
    "start_time": "2021-07-24T19:03:59.838Z"
   },
   {
    "duration": 394,
    "start_time": "2021-07-24T19:04:04.550Z"
   },
   {
    "duration": 655,
    "start_time": "2021-07-24T19:04:31.686Z"
   },
   {
    "duration": 459,
    "start_time": "2021-07-24T19:05:06.376Z"
   },
   {
    "duration": 355,
    "start_time": "2021-07-24T19:05:37.118Z"
   },
   {
    "duration": 338,
    "start_time": "2021-07-24T19:05:50.295Z"
   },
   {
    "duration": 334,
    "start_time": "2021-07-24T19:05:54.254Z"
   },
   {
    "duration": 323,
    "start_time": "2021-07-24T19:06:02.118Z"
   },
   {
    "duration": 314,
    "start_time": "2021-07-24T19:06:25.526Z"
   },
   {
    "duration": 111,
    "start_time": "2021-07-24T19:06:30.089Z"
   },
   {
    "duration": 34,
    "start_time": "2021-07-24T19:06:30.203Z"
   },
   {
    "duration": 3,
    "start_time": "2021-07-24T19:06:30.240Z"
   },
   {
    "duration": 25,
    "start_time": "2021-07-24T19:06:30.247Z"
   },
   {
    "duration": 28,
    "start_time": "2021-07-24T19:06:30.275Z"
   },
   {
    "duration": 40,
    "start_time": "2021-07-24T19:06:30.305Z"
   },
   {
    "duration": 21,
    "start_time": "2021-07-24T19:06:30.348Z"
   },
   {
    "duration": 30,
    "start_time": "2021-07-24T19:06:30.372Z"
   },
   {
    "duration": 13,
    "start_time": "2021-07-24T19:06:30.406Z"
   },
   {
    "duration": 27,
    "start_time": "2021-07-24T19:06:30.422Z"
   },
   {
    "duration": 31,
    "start_time": "2021-07-24T19:06:30.451Z"
   },
   {
    "duration": 17,
    "start_time": "2021-07-24T19:06:30.485Z"
   },
   {
    "duration": 33,
    "start_time": "2021-07-24T19:06:30.504Z"
   },
   {
    "duration": 964,
    "start_time": "2021-07-24T19:06:30.540Z"
   },
   {
    "duration": 943,
    "start_time": "2021-07-24T19:06:31.507Z"
   },
   {
    "duration": 430,
    "start_time": "2021-07-24T19:06:32.453Z"
   },
   {
    "duration": 440,
    "start_time": "2021-07-24T19:06:32.885Z"
   },
   {
    "duration": 353,
    "start_time": "2021-07-24T19:06:33.329Z"
   },
   {
    "duration": 889,
    "start_time": "2021-07-24T19:06:33.685Z"
   },
   {
    "duration": 222,
    "start_time": "2021-07-24T19:06:34.577Z"
   },
   {
    "duration": 970,
    "start_time": "2021-07-24T19:06:34.803Z"
   },
   {
    "duration": 1118,
    "start_time": "2021-07-24T19:06:35.784Z"
   },
   {
    "duration": 981,
    "start_time": "2021-07-24T19:06:36.906Z"
   },
   {
    "duration": 931,
    "start_time": "2021-07-24T19:06:37.890Z"
   },
   {
    "duration": 768,
    "start_time": "2021-07-24T19:06:38.824Z"
   },
   {
    "duration": 35,
    "start_time": "2021-07-24T19:06:39.594Z"
   },
   {
    "duration": 378,
    "start_time": "2021-07-24T19:06:39.635Z"
   },
   {
    "duration": 479,
    "start_time": "2021-07-24T19:06:40.016Z"
   },
   {
    "duration": 675,
    "start_time": "2021-07-24T19:06:40.497Z"
   },
   {
    "duration": 313,
    "start_time": "2021-07-24T19:06:41.174Z"
   },
   {
    "duration": 645,
    "start_time": "2021-07-24T19:06:41.489Z"
   },
   {
    "duration": 325,
    "start_time": "2021-07-24T19:06:42.137Z"
   },
   {
    "duration": 54,
    "start_time": "2021-07-24T19:06:42.464Z"
   },
   {
    "duration": 350,
    "start_time": "2021-07-24T19:06:42.520Z"
   },
   {
    "duration": 342,
    "start_time": "2021-07-24T19:06:42.872Z"
   },
   {
    "duration": 361,
    "start_time": "2021-07-24T19:06:43.216Z"
   },
   {
    "duration": 294,
    "start_time": "2021-07-24T19:06:43.583Z"
   },
   {
    "duration": 661,
    "start_time": "2021-07-24T19:06:43.882Z"
   },
   {
    "duration": 341,
    "start_time": "2021-07-24T19:06:44.545Z"
   },
   {
    "duration": 340,
    "start_time": "2021-07-24T19:06:44.888Z"
   },
   {
    "duration": 371,
    "start_time": "2021-07-24T19:18:50.848Z"
   },
   {
    "duration": 674,
    "start_time": "2021-07-24T19:18:57.167Z"
   },
   {
    "duration": 150,
    "start_time": "2021-07-24T19:19:15.920Z"
   },
   {
    "duration": 705,
    "start_time": "2021-07-24T19:19:21.015Z"
   },
   {
    "duration": 693,
    "start_time": "2021-07-24T19:19:26.328Z"
   },
   {
    "duration": 837,
    "start_time": "2021-07-24T19:19:29.431Z"
   },
   {
    "duration": 631,
    "start_time": "2021-07-24T19:19:35.097Z"
   },
   {
    "duration": 772,
    "start_time": "2021-07-24T19:19:39.840Z"
   },
   {
    "duration": 663,
    "start_time": "2021-07-24T19:19:43.785Z"
   },
   {
    "duration": 336,
    "start_time": "2021-07-24T19:20:21.846Z"
   },
   {
    "duration": 107,
    "start_time": "2021-07-24T19:34:26.092Z"
   },
   {
    "duration": 33,
    "start_time": "2021-07-24T19:34:26.202Z"
   },
   {
    "duration": 3,
    "start_time": "2021-07-24T19:34:26.237Z"
   },
   {
    "duration": 11,
    "start_time": "2021-07-24T19:34:26.243Z"
   },
   {
    "duration": 7,
    "start_time": "2021-07-24T19:34:26.257Z"
   },
   {
    "duration": 3,
    "start_time": "2021-07-24T19:34:26.283Z"
   },
   {
    "duration": 7,
    "start_time": "2021-07-24T19:34:26.289Z"
   },
   {
    "duration": 8,
    "start_time": "2021-07-24T19:34:26.298Z"
   },
   {
    "duration": 7,
    "start_time": "2021-07-24T19:34:26.310Z"
   },
   {
    "duration": 7,
    "start_time": "2021-07-24T19:34:26.320Z"
   },
   {
    "duration": 8,
    "start_time": "2021-07-24T19:34:26.329Z"
   },
   {
    "duration": 15,
    "start_time": "2021-07-24T19:34:26.340Z"
   },
   {
    "duration": 27,
    "start_time": "2021-07-24T19:34:26.357Z"
   },
   {
    "duration": 798,
    "start_time": "2021-07-24T19:34:26.386Z"
   },
   {
    "duration": 874,
    "start_time": "2021-07-24T19:34:27.187Z"
   },
   {
    "duration": 562,
    "start_time": "2021-07-24T19:34:28.063Z"
   },
   {
    "duration": 441,
    "start_time": "2021-07-24T19:34:28.628Z"
   },
   {
    "duration": 356,
    "start_time": "2021-07-24T19:34:29.072Z"
   },
   {
    "duration": 888,
    "start_time": "2021-07-24T19:34:29.430Z"
   },
   {
    "duration": 213,
    "start_time": "2021-07-24T19:34:30.320Z"
   },
   {
    "duration": 977,
    "start_time": "2021-07-24T19:34:30.536Z"
   },
   {
    "duration": 1176,
    "start_time": "2021-07-24T19:34:31.515Z"
   },
   {
    "duration": 975,
    "start_time": "2021-07-24T19:34:32.694Z"
   },
   {
    "duration": 964,
    "start_time": "2021-07-24T19:34:33.671Z"
   },
   {
    "duration": 765,
    "start_time": "2021-07-24T19:34:34.638Z"
   },
   {
    "duration": 34,
    "start_time": "2021-07-24T19:34:35.405Z"
   },
   {
    "duration": 385,
    "start_time": "2021-07-24T19:34:35.445Z"
   },
   {
    "duration": 324,
    "start_time": "2021-07-24T19:34:35.833Z"
   },
   {
    "duration": 624,
    "start_time": "2021-07-24T19:34:36.159Z"
   },
   {
    "duration": 309,
    "start_time": "2021-07-24T19:34:36.785Z"
   },
   {
    "duration": 791,
    "start_time": "2021-07-24T19:34:37.096Z"
   },
   {
    "duration": 321,
    "start_time": "2021-07-24T19:34:37.890Z"
   },
   {
    "duration": 40,
    "start_time": "2021-07-24T19:34:38.214Z"
   },
   {
    "duration": 362,
    "start_time": "2021-07-24T19:34:38.258Z"
   },
   {
    "duration": 350,
    "start_time": "2021-07-24T19:34:38.622Z"
   },
   {
    "duration": 466,
    "start_time": "2021-07-24T19:34:38.982Z"
   },
   {
    "duration": 288,
    "start_time": "2021-07-24T19:34:39.450Z"
   },
   {
    "duration": 648,
    "start_time": "2021-07-24T19:34:39.740Z"
   },
   {
    "duration": 343,
    "start_time": "2021-07-24T19:34:40.390Z"
   },
   {
    "duration": 343,
    "start_time": "2021-07-24T19:34:40.736Z"
   },
   {
    "duration": 924,
    "start_time": "2021-07-24T19:37:55.872Z"
   },
   {
    "duration": 964,
    "start_time": "2021-07-24T19:38:30.432Z"
   },
   {
    "duration": 498,
    "start_time": "2021-07-24T19:43:28.055Z"
   },
   {
    "duration": 323,
    "start_time": "2021-07-24T19:43:51.830Z"
   },
   {
    "duration": 109,
    "start_time": "2021-07-24T19:43:57.897Z"
   },
   {
    "duration": 35,
    "start_time": "2021-07-24T19:43:58.008Z"
   },
   {
    "duration": 4,
    "start_time": "2021-07-24T19:43:58.045Z"
   },
   {
    "duration": 7,
    "start_time": "2021-07-24T19:43:58.051Z"
   },
   {
    "duration": 11,
    "start_time": "2021-07-24T19:43:58.060Z"
   },
   {
    "duration": 8,
    "start_time": "2021-07-24T19:43:58.073Z"
   },
   {
    "duration": 11,
    "start_time": "2021-07-24T19:43:58.084Z"
   },
   {
    "duration": 10,
    "start_time": "2021-07-24T19:43:58.097Z"
   },
   {
    "duration": 14,
    "start_time": "2021-07-24T19:43:58.111Z"
   },
   {
    "duration": 11,
    "start_time": "2021-07-24T19:43:58.129Z"
   },
   {
    "duration": 13,
    "start_time": "2021-07-24T19:43:58.143Z"
   },
   {
    "duration": 20,
    "start_time": "2021-07-24T19:43:58.158Z"
   },
   {
    "duration": 10,
    "start_time": "2021-07-24T19:43:58.181Z"
   },
   {
    "duration": 957,
    "start_time": "2021-07-24T19:43:58.194Z"
   },
   {
    "duration": 786,
    "start_time": "2021-07-24T19:43:59.154Z"
   },
   {
    "duration": 455,
    "start_time": "2021-07-24T19:43:59.943Z"
   },
   {
    "duration": 455,
    "start_time": "2021-07-24T19:44:00.401Z"
   },
   {
    "duration": 361,
    "start_time": "2021-07-24T19:44:00.859Z"
   },
   {
    "duration": 1094,
    "start_time": "2021-07-24T19:44:01.223Z"
   },
   {
    "duration": 215,
    "start_time": "2021-07-24T19:44:02.321Z"
   },
   {
    "duration": 971,
    "start_time": "2021-07-24T19:44:02.539Z"
   },
   {
    "duration": 977,
    "start_time": "2021-07-24T19:44:03.513Z"
   },
   {
    "duration": 964,
    "start_time": "2021-07-24T19:44:04.493Z"
   },
   {
    "duration": 1105,
    "start_time": "2021-07-24T19:44:05.460Z"
   },
   {
    "duration": 728,
    "start_time": "2021-07-24T19:44:06.568Z"
   },
   {
    "duration": 34,
    "start_time": "2021-07-24T19:44:07.298Z"
   },
   {
    "duration": 362,
    "start_time": "2021-07-24T19:44:07.338Z"
   },
   {
    "duration": 325,
    "start_time": "2021-07-24T19:44:07.703Z"
   },
   {
    "duration": 733,
    "start_time": "2021-07-24T19:44:08.030Z"
   },
   {
    "duration": 298,
    "start_time": "2021-07-24T19:44:08.766Z"
   },
   {
    "duration": 627,
    "start_time": "2021-07-24T19:44:09.067Z"
   },
   {
    "duration": 311,
    "start_time": "2021-07-24T19:44:09.696Z"
   },
   {
    "duration": 39,
    "start_time": "2021-07-24T19:44:10.009Z"
   },
   {
    "duration": 364,
    "start_time": "2021-07-24T19:44:10.051Z"
   },
   {
    "duration": 346,
    "start_time": "2021-07-24T19:44:10.417Z"
   },
   {
    "duration": 364,
    "start_time": "2021-07-24T19:44:10.766Z"
   },
   {
    "duration": 298,
    "start_time": "2021-07-24T19:44:11.133Z"
   },
   {
    "duration": 820,
    "start_time": "2021-07-24T19:44:11.433Z"
   },
   {
    "duration": 334,
    "start_time": "2021-07-24T19:44:12.255Z"
   },
   {
    "duration": 334,
    "start_time": "2021-07-24T19:44:12.592Z"
   },
   {
    "duration": 9079,
    "start_time": "2021-07-24T19:45:20.119Z"
   },
   {
    "duration": 335,
    "start_time": "2021-07-24T19:45:43.878Z"
   },
   {
    "duration": 107,
    "start_time": "2021-07-24T19:45:57.147Z"
   },
   {
    "duration": 37,
    "start_time": "2021-07-24T19:45:57.257Z"
   },
   {
    "duration": 3,
    "start_time": "2021-07-24T19:45:57.297Z"
   },
   {
    "duration": 8,
    "start_time": "2021-07-24T19:45:57.302Z"
   },
   {
    "duration": 7,
    "start_time": "2021-07-24T19:45:57.312Z"
   },
   {
    "duration": 7,
    "start_time": "2021-07-24T19:45:57.322Z"
   },
   {
    "duration": 7,
    "start_time": "2021-07-24T19:45:57.332Z"
   },
   {
    "duration": 8,
    "start_time": "2021-07-24T19:45:57.341Z"
   },
   {
    "duration": 5,
    "start_time": "2021-07-24T19:45:57.353Z"
   },
   {
    "duration": 15,
    "start_time": "2021-07-24T19:45:57.384Z"
   },
   {
    "duration": 7,
    "start_time": "2021-07-24T19:45:57.401Z"
   },
   {
    "duration": 6,
    "start_time": "2021-07-24T19:45:57.411Z"
   },
   {
    "duration": 9,
    "start_time": "2021-07-24T19:45:57.420Z"
   },
   {
    "duration": 919,
    "start_time": "2021-07-24T19:45:57.431Z"
   },
   {
    "duration": 776,
    "start_time": "2021-07-24T19:45:58.353Z"
   },
   {
    "duration": 425,
    "start_time": "2021-07-24T19:45:59.132Z"
   },
   {
    "duration": 433,
    "start_time": "2021-07-24T19:45:59.559Z"
   },
   {
    "duration": 526,
    "start_time": "2021-07-24T19:45:59.995Z"
   },
   {
    "duration": 1158,
    "start_time": "2021-07-24T19:46:00.524Z"
   },
   {
    "duration": 227,
    "start_time": "2021-07-24T19:46:01.685Z"
   },
   {
    "duration": 1050,
    "start_time": "2021-07-24T19:46:01.914Z"
   },
   {
    "duration": 970,
    "start_time": "2021-07-24T19:46:02.966Z"
   },
   {
    "duration": 970,
    "start_time": "2021-07-24T19:46:03.939Z"
   },
   {
    "duration": 1107,
    "start_time": "2021-07-24T19:46:04.911Z"
   },
   {
    "duration": 749,
    "start_time": "2021-07-24T19:46:06.021Z"
   },
   {
    "duration": 41,
    "start_time": "2021-07-24T19:46:06.773Z"
   },
   {
    "duration": 364,
    "start_time": "2021-07-24T19:46:06.819Z"
   },
   {
    "duration": 315,
    "start_time": "2021-07-24T19:46:07.186Z"
   },
   {
    "duration": 672,
    "start_time": "2021-07-24T19:46:07.503Z"
   },
   {
    "duration": 294,
    "start_time": "2021-07-24T19:46:08.183Z"
   },
   {
    "duration": 675,
    "start_time": "2021-07-24T19:46:08.483Z"
   },
   {
    "duration": 330,
    "start_time": "2021-07-24T19:46:09.161Z"
   },
   {
    "duration": 38,
    "start_time": "2021-07-24T19:46:09.493Z"
   },
   {
    "duration": 368,
    "start_time": "2021-07-24T19:46:09.533Z"
   },
   {
    "duration": 345,
    "start_time": "2021-07-24T19:46:09.904Z"
   },
   {
    "duration": 367,
    "start_time": "2021-07-24T19:46:10.252Z"
   },
   {
    "duration": 402,
    "start_time": "2021-07-24T19:46:10.622Z"
   },
   {
    "duration": 656,
    "start_time": "2021-07-24T19:46:11.026Z"
   },
   {
    "duration": 505,
    "start_time": "2021-07-24T19:46:11.685Z"
   },
   {
    "duration": 330,
    "start_time": "2021-07-24T19:46:12.193Z"
   },
   {
    "duration": 421,
    "start_time": "2021-07-24T19:46:22.168Z"
   },
   {
    "duration": 316,
    "start_time": "2021-07-24T19:46:30.935Z"
   },
   {
    "duration": 312,
    "start_time": "2021-07-24T19:46:56.798Z"
   },
   {
    "duration": 314,
    "start_time": "2021-07-24T19:47:04.975Z"
   },
   {
    "duration": 320,
    "start_time": "2021-07-24T19:47:18.183Z"
   },
   {
    "duration": 304,
    "start_time": "2021-07-24T19:47:41.839Z"
   },
   {
    "duration": 316,
    "start_time": "2021-07-24T19:47:52.127Z"
   },
   {
    "duration": 311,
    "start_time": "2021-07-24T19:47:55.566Z"
   },
   {
    "duration": 336,
    "start_time": "2021-07-24T19:48:18.479Z"
   },
   {
    "duration": 312,
    "start_time": "2021-07-24T19:48:54.830Z"
   },
   {
    "duration": 314,
    "start_time": "2021-07-24T19:49:07.191Z"
   },
   {
    "duration": 337,
    "start_time": "2021-07-24T19:49:35.053Z"
   },
   {
    "duration": 319,
    "start_time": "2021-07-24T19:49:40.422Z"
   }
  ],
  "kernelspec": {
   "display_name": "Python 3",
   "language": "python",
   "name": "python3"
  },
  "language_info": {
   "codemirror_mode": {
    "name": "ipython",
    "version": 3
   },
   "file_extension": ".py",
   "mimetype": "text/x-python",
   "name": "python",
   "nbconvert_exporter": "python",
   "pygments_lexer": "ipython3",
   "version": "3.8.8"
  },
  "toc": {
   "base_numbering": 1,
   "nav_menu": {},
   "number_sections": true,
   "sideBar": true,
   "skip_h1_title": true,
   "title_cell": "Содержание",
   "title_sidebar": "Contents",
   "toc_cell": true,
   "toc_position": {
    "height": "calc(100% - 180px)",
    "left": "10px",
    "top": "150px",
    "width": "339.391px"
   },
   "toc_section_display": true,
   "toc_window_display": true
  }
 },
 "nbformat": 4,
 "nbformat_minor": 2
}
