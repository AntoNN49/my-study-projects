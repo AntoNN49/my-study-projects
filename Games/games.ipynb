{
 "cells": [
  {
   "cell_type": "markdown",
   "metadata": {},
   "source": [
    "# Изучение закономерностей, определяющих успешность игр\n",
    "\n",
    "Из открытых источников доступны исторические данные о продажах игр, оценки пользователей и экспертов, жанры и платформы (например, Xbox или PlayStation). Вам нужно выявить определяющие успешность игры закономерности. Это позволит сделать ставку на потенциально популярный продукт и спланировать рекламные кампании для интернет-магазина.\n",
    "\n",
    "Перед вами данные до 2016 года. Представим, что сейчас декабрь 2016 г., и вы планируете кампанию на 2017-й. Нужно отработать принцип работы с данными. Неважно, прогнозируете ли вы продажи на 2017 год по данным 2016-го или же 2027-й — по данным 2026 года."
   ]
  },
  {
   "cell_type": "markdown",
   "metadata": {},
   "source": [
    "## Изучение данных из файла"
   ]
  },
  {
   "cell_type": "code",
   "execution_count": 1,
   "metadata": {
    "scrolled": true
   },
   "outputs": [],
   "source": [
    "import pandas as pd\n",
    "import numpy as np\n",
    "import matplotlib.pyplot as plt\n",
    "import seaborn as sns\n",
    "from scipy import stats as st\n",
    "from math import ceil as math\n",
    "\n",
    "pd.options.display.max_columns = None"
   ]
  },
  {
   "cell_type": "code",
   "execution_count": 2,
   "metadata": {},
   "outputs": [
    {
     "data": {
      "text/html": [
       "<div>\n",
       "<style scoped>\n",
       "    .dataframe tbody tr th:only-of-type {\n",
       "        vertical-align: middle;\n",
       "    }\n",
       "\n",
       "    .dataframe tbody tr th {\n",
       "        vertical-align: top;\n",
       "    }\n",
       "\n",
       "    .dataframe thead th {\n",
       "        text-align: right;\n",
       "    }\n",
       "</style>\n",
       "<table border=\"1\" class=\"dataframe\">\n",
       "  <thead>\n",
       "    <tr style=\"text-align: right;\">\n",
       "      <th></th>\n",
       "      <th>name</th>\n",
       "      <th>platform</th>\n",
       "      <th>year_of_release</th>\n",
       "      <th>genre</th>\n",
       "      <th>na_sales</th>\n",
       "      <th>eu_sales</th>\n",
       "      <th>jp_sales</th>\n",
       "      <th>other_sales</th>\n",
       "      <th>critic_score</th>\n",
       "      <th>user_score</th>\n",
       "      <th>rating</th>\n",
       "    </tr>\n",
       "  </thead>\n",
       "  <tbody>\n",
       "    <tr>\n",
       "      <th>0</th>\n",
       "      <td>Wii Sports</td>\n",
       "      <td>Wii</td>\n",
       "      <td>2006.0</td>\n",
       "      <td>Sports</td>\n",
       "      <td>41.36</td>\n",
       "      <td>28.96</td>\n",
       "      <td>3.77</td>\n",
       "      <td>8.45</td>\n",
       "      <td>76.0</td>\n",
       "      <td>8</td>\n",
       "      <td>E</td>\n",
       "    </tr>\n",
       "    <tr>\n",
       "      <th>1</th>\n",
       "      <td>Super Mario Bros.</td>\n",
       "      <td>NES</td>\n",
       "      <td>1985.0</td>\n",
       "      <td>Platform</td>\n",
       "      <td>29.08</td>\n",
       "      <td>3.58</td>\n",
       "      <td>6.81</td>\n",
       "      <td>0.77</td>\n",
       "      <td>NaN</td>\n",
       "      <td>NaN</td>\n",
       "      <td>NaN</td>\n",
       "    </tr>\n",
       "    <tr>\n",
       "      <th>2</th>\n",
       "      <td>Mario Kart Wii</td>\n",
       "      <td>Wii</td>\n",
       "      <td>2008.0</td>\n",
       "      <td>Racing</td>\n",
       "      <td>15.68</td>\n",
       "      <td>12.76</td>\n",
       "      <td>3.79</td>\n",
       "      <td>3.29</td>\n",
       "      <td>82.0</td>\n",
       "      <td>8.3</td>\n",
       "      <td>E</td>\n",
       "    </tr>\n",
       "    <tr>\n",
       "      <th>3</th>\n",
       "      <td>Wii Sports Resort</td>\n",
       "      <td>Wii</td>\n",
       "      <td>2009.0</td>\n",
       "      <td>Sports</td>\n",
       "      <td>15.61</td>\n",
       "      <td>10.93</td>\n",
       "      <td>3.28</td>\n",
       "      <td>2.95</td>\n",
       "      <td>80.0</td>\n",
       "      <td>8</td>\n",
       "      <td>E</td>\n",
       "    </tr>\n",
       "    <tr>\n",
       "      <th>4</th>\n",
       "      <td>Pokemon Red/Pokemon Blue</td>\n",
       "      <td>GB</td>\n",
       "      <td>1996.0</td>\n",
       "      <td>Role-Playing</td>\n",
       "      <td>11.27</td>\n",
       "      <td>8.89</td>\n",
       "      <td>10.22</td>\n",
       "      <td>1.00</td>\n",
       "      <td>NaN</td>\n",
       "      <td>NaN</td>\n",
       "      <td>NaN</td>\n",
       "    </tr>\n",
       "    <tr>\n",
       "      <th>5</th>\n",
       "      <td>Tetris</td>\n",
       "      <td>GB</td>\n",
       "      <td>1989.0</td>\n",
       "      <td>Puzzle</td>\n",
       "      <td>23.20</td>\n",
       "      <td>2.26</td>\n",
       "      <td>4.22</td>\n",
       "      <td>0.58</td>\n",
       "      <td>NaN</td>\n",
       "      <td>NaN</td>\n",
       "      <td>NaN</td>\n",
       "    </tr>\n",
       "    <tr>\n",
       "      <th>6</th>\n",
       "      <td>New Super Mario Bros.</td>\n",
       "      <td>DS</td>\n",
       "      <td>2006.0</td>\n",
       "      <td>Platform</td>\n",
       "      <td>11.28</td>\n",
       "      <td>9.14</td>\n",
       "      <td>6.50</td>\n",
       "      <td>2.88</td>\n",
       "      <td>89.0</td>\n",
       "      <td>8.5</td>\n",
       "      <td>E</td>\n",
       "    </tr>\n",
       "    <tr>\n",
       "      <th>7</th>\n",
       "      <td>Wii Play</td>\n",
       "      <td>Wii</td>\n",
       "      <td>2006.0</td>\n",
       "      <td>Misc</td>\n",
       "      <td>13.96</td>\n",
       "      <td>9.18</td>\n",
       "      <td>2.93</td>\n",
       "      <td>2.84</td>\n",
       "      <td>58.0</td>\n",
       "      <td>6.6</td>\n",
       "      <td>E</td>\n",
       "    </tr>\n",
       "    <tr>\n",
       "      <th>8</th>\n",
       "      <td>New Super Mario Bros. Wii</td>\n",
       "      <td>Wii</td>\n",
       "      <td>2009.0</td>\n",
       "      <td>Platform</td>\n",
       "      <td>14.44</td>\n",
       "      <td>6.94</td>\n",
       "      <td>4.70</td>\n",
       "      <td>2.24</td>\n",
       "      <td>87.0</td>\n",
       "      <td>8.4</td>\n",
       "      <td>E</td>\n",
       "    </tr>\n",
       "    <tr>\n",
       "      <th>9</th>\n",
       "      <td>Duck Hunt</td>\n",
       "      <td>NES</td>\n",
       "      <td>1984.0</td>\n",
       "      <td>Shooter</td>\n",
       "      <td>26.93</td>\n",
       "      <td>0.63</td>\n",
       "      <td>0.28</td>\n",
       "      <td>0.47</td>\n",
       "      <td>NaN</td>\n",
       "      <td>NaN</td>\n",
       "      <td>NaN</td>\n",
       "    </tr>\n",
       "    <tr>\n",
       "      <th>10</th>\n",
       "      <td>Nintendogs</td>\n",
       "      <td>DS</td>\n",
       "      <td>2005.0</td>\n",
       "      <td>Simulation</td>\n",
       "      <td>9.05</td>\n",
       "      <td>10.95</td>\n",
       "      <td>1.93</td>\n",
       "      <td>2.74</td>\n",
       "      <td>NaN</td>\n",
       "      <td>NaN</td>\n",
       "      <td>NaN</td>\n",
       "    </tr>\n",
       "    <tr>\n",
       "      <th>11</th>\n",
       "      <td>Mario Kart DS</td>\n",
       "      <td>DS</td>\n",
       "      <td>2005.0</td>\n",
       "      <td>Racing</td>\n",
       "      <td>9.71</td>\n",
       "      <td>7.47</td>\n",
       "      <td>4.13</td>\n",
       "      <td>1.90</td>\n",
       "      <td>91.0</td>\n",
       "      <td>8.6</td>\n",
       "      <td>E</td>\n",
       "    </tr>\n",
       "    <tr>\n",
       "      <th>12</th>\n",
       "      <td>Pokemon Gold/Pokemon Silver</td>\n",
       "      <td>GB</td>\n",
       "      <td>1999.0</td>\n",
       "      <td>Role-Playing</td>\n",
       "      <td>9.00</td>\n",
       "      <td>6.18</td>\n",
       "      <td>7.20</td>\n",
       "      <td>0.71</td>\n",
       "      <td>NaN</td>\n",
       "      <td>NaN</td>\n",
       "      <td>NaN</td>\n",
       "    </tr>\n",
       "    <tr>\n",
       "      <th>13</th>\n",
       "      <td>Wii Fit</td>\n",
       "      <td>Wii</td>\n",
       "      <td>2007.0</td>\n",
       "      <td>Sports</td>\n",
       "      <td>8.92</td>\n",
       "      <td>8.03</td>\n",
       "      <td>3.60</td>\n",
       "      <td>2.15</td>\n",
       "      <td>80.0</td>\n",
       "      <td>7.7</td>\n",
       "      <td>E</td>\n",
       "    </tr>\n",
       "    <tr>\n",
       "      <th>14</th>\n",
       "      <td>Kinect Adventures!</td>\n",
       "      <td>X360</td>\n",
       "      <td>2010.0</td>\n",
       "      <td>Misc</td>\n",
       "      <td>15.00</td>\n",
       "      <td>4.89</td>\n",
       "      <td>0.24</td>\n",
       "      <td>1.69</td>\n",
       "      <td>61.0</td>\n",
       "      <td>6.3</td>\n",
       "      <td>E</td>\n",
       "    </tr>\n",
       "  </tbody>\n",
       "</table>\n",
       "</div>"
      ],
      "text/plain": [
       "                           name platform  year_of_release         genre  \\\n",
       "0                    Wii Sports      Wii           2006.0        Sports   \n",
       "1             Super Mario Bros.      NES           1985.0      Platform   \n",
       "2                Mario Kart Wii      Wii           2008.0        Racing   \n",
       "3             Wii Sports Resort      Wii           2009.0        Sports   \n",
       "4      Pokemon Red/Pokemon Blue       GB           1996.0  Role-Playing   \n",
       "5                        Tetris       GB           1989.0        Puzzle   \n",
       "6         New Super Mario Bros.       DS           2006.0      Platform   \n",
       "7                      Wii Play      Wii           2006.0          Misc   \n",
       "8     New Super Mario Bros. Wii      Wii           2009.0      Platform   \n",
       "9                     Duck Hunt      NES           1984.0       Shooter   \n",
       "10                   Nintendogs       DS           2005.0    Simulation   \n",
       "11                Mario Kart DS       DS           2005.0        Racing   \n",
       "12  Pokemon Gold/Pokemon Silver       GB           1999.0  Role-Playing   \n",
       "13                      Wii Fit      Wii           2007.0        Sports   \n",
       "14           Kinect Adventures!     X360           2010.0          Misc   \n",
       "\n",
       "    na_sales  eu_sales  jp_sales  other_sales  critic_score user_score rating  \n",
       "0      41.36     28.96      3.77         8.45          76.0          8      E  \n",
       "1      29.08      3.58      6.81         0.77           NaN        NaN    NaN  \n",
       "2      15.68     12.76      3.79         3.29          82.0        8.3      E  \n",
       "3      15.61     10.93      3.28         2.95          80.0          8      E  \n",
       "4      11.27      8.89     10.22         1.00           NaN        NaN    NaN  \n",
       "5      23.20      2.26      4.22         0.58           NaN        NaN    NaN  \n",
       "6      11.28      9.14      6.50         2.88          89.0        8.5      E  \n",
       "7      13.96      9.18      2.93         2.84          58.0        6.6      E  \n",
       "8      14.44      6.94      4.70         2.24          87.0        8.4      E  \n",
       "9      26.93      0.63      0.28         0.47           NaN        NaN    NaN  \n",
       "10      9.05     10.95      1.93         2.74           NaN        NaN    NaN  \n",
       "11      9.71      7.47      4.13         1.90          91.0        8.6      E  \n",
       "12      9.00      6.18      7.20         0.71           NaN        NaN    NaN  \n",
       "13      8.92      8.03      3.60         2.15          80.0        7.7      E  \n",
       "14     15.00      4.89      0.24         1.69          61.0        6.3      E  "
      ]
     },
     "metadata": {},
     "output_type": "display_data"
    },
    {
     "data": {
      "text/html": [
       "<div>\n",
       "<style scoped>\n",
       "    .dataframe tbody tr th:only-of-type {\n",
       "        vertical-align: middle;\n",
       "    }\n",
       "\n",
       "    .dataframe tbody tr th {\n",
       "        vertical-align: top;\n",
       "    }\n",
       "\n",
       "    .dataframe thead th {\n",
       "        text-align: right;\n",
       "    }\n",
       "</style>\n",
       "<table border=\"1\" class=\"dataframe\">\n",
       "  <thead>\n",
       "    <tr style=\"text-align: right;\">\n",
       "      <th></th>\n",
       "      <th>year_of_release</th>\n",
       "      <th>na_sales</th>\n",
       "      <th>eu_sales</th>\n",
       "      <th>jp_sales</th>\n",
       "      <th>other_sales</th>\n",
       "      <th>critic_score</th>\n",
       "    </tr>\n",
       "  </thead>\n",
       "  <tbody>\n",
       "    <tr>\n",
       "      <th>count</th>\n",
       "      <td>16446.000000</td>\n",
       "      <td>16715.000000</td>\n",
       "      <td>16715.000000</td>\n",
       "      <td>16715.000000</td>\n",
       "      <td>16715.000000</td>\n",
       "      <td>8137.000000</td>\n",
       "    </tr>\n",
       "    <tr>\n",
       "      <th>mean</th>\n",
       "      <td>2006.484616</td>\n",
       "      <td>0.263377</td>\n",
       "      <td>0.145060</td>\n",
       "      <td>0.077617</td>\n",
       "      <td>0.047342</td>\n",
       "      <td>68.967679</td>\n",
       "    </tr>\n",
       "    <tr>\n",
       "      <th>std</th>\n",
       "      <td>5.877050</td>\n",
       "      <td>0.813604</td>\n",
       "      <td>0.503339</td>\n",
       "      <td>0.308853</td>\n",
       "      <td>0.186731</td>\n",
       "      <td>13.938165</td>\n",
       "    </tr>\n",
       "    <tr>\n",
       "      <th>min</th>\n",
       "      <td>1980.000000</td>\n",
       "      <td>0.000000</td>\n",
       "      <td>0.000000</td>\n",
       "      <td>0.000000</td>\n",
       "      <td>0.000000</td>\n",
       "      <td>13.000000</td>\n",
       "    </tr>\n",
       "    <tr>\n",
       "      <th>25%</th>\n",
       "      <td>2003.000000</td>\n",
       "      <td>0.000000</td>\n",
       "      <td>0.000000</td>\n",
       "      <td>0.000000</td>\n",
       "      <td>0.000000</td>\n",
       "      <td>60.000000</td>\n",
       "    </tr>\n",
       "    <tr>\n",
       "      <th>50%</th>\n",
       "      <td>2007.000000</td>\n",
       "      <td>0.080000</td>\n",
       "      <td>0.020000</td>\n",
       "      <td>0.000000</td>\n",
       "      <td>0.010000</td>\n",
       "      <td>71.000000</td>\n",
       "    </tr>\n",
       "    <tr>\n",
       "      <th>75%</th>\n",
       "      <td>2010.000000</td>\n",
       "      <td>0.240000</td>\n",
       "      <td>0.110000</td>\n",
       "      <td>0.040000</td>\n",
       "      <td>0.030000</td>\n",
       "      <td>79.000000</td>\n",
       "    </tr>\n",
       "    <tr>\n",
       "      <th>max</th>\n",
       "      <td>2016.000000</td>\n",
       "      <td>41.360000</td>\n",
       "      <td>28.960000</td>\n",
       "      <td>10.220000</td>\n",
       "      <td>10.570000</td>\n",
       "      <td>98.000000</td>\n",
       "    </tr>\n",
       "  </tbody>\n",
       "</table>\n",
       "</div>"
      ],
      "text/plain": [
       "       year_of_release      na_sales      eu_sales      jp_sales  \\\n",
       "count     16446.000000  16715.000000  16715.000000  16715.000000   \n",
       "mean       2006.484616      0.263377      0.145060      0.077617   \n",
       "std           5.877050      0.813604      0.503339      0.308853   \n",
       "min        1980.000000      0.000000      0.000000      0.000000   \n",
       "25%        2003.000000      0.000000      0.000000      0.000000   \n",
       "50%        2007.000000      0.080000      0.020000      0.000000   \n",
       "75%        2010.000000      0.240000      0.110000      0.040000   \n",
       "max        2016.000000     41.360000     28.960000     10.220000   \n",
       "\n",
       "        other_sales  critic_score  \n",
       "count  16715.000000   8137.000000  \n",
       "mean       0.047342     68.967679  \n",
       "std        0.186731     13.938165  \n",
       "min        0.000000     13.000000  \n",
       "25%        0.000000     60.000000  \n",
       "50%        0.010000     71.000000  \n",
       "75%        0.030000     79.000000  \n",
       "max       10.570000     98.000000  "
      ]
     },
     "metadata": {},
     "output_type": "display_data"
    },
    {
     "name": "stdout",
     "output_type": "stream",
     "text": [
      "<class 'pandas.core.frame.DataFrame'>\n",
      "RangeIndex: 16715 entries, 0 to 16714\n",
      "Data columns (total 11 columns):\n",
      " #   Column           Non-Null Count  Dtype  \n",
      "---  ------           --------------  -----  \n",
      " 0   name             16713 non-null  object \n",
      " 1   platform         16715 non-null  object \n",
      " 2   year_of_release  16446 non-null  float64\n",
      " 3   genre            16713 non-null  object \n",
      " 4   na_sales         16715 non-null  float64\n",
      " 5   eu_sales         16715 non-null  float64\n",
      " 6   jp_sales         16715 non-null  float64\n",
      " 7   other_sales      16715 non-null  float64\n",
      " 8   critic_score     8137 non-null   float64\n",
      " 9   user_score       10014 non-null  object \n",
      " 10  rating           9949 non-null   object \n",
      "dtypes: float64(6), object(5)\n",
      "memory usage: 1.4+ MB\n"
     ]
    }
   ],
   "source": [
    "games = pd.read_csv('games.csv')\n",
    "games.columns = games.columns.str.lower()\n",
    "\n",
    "display(games.head(15))\n",
    "display(games.describe())\n",
    "games.info()"
   ]
  },
  {
   "cell_type": "markdown",
   "metadata": {},
   "source": [
    "После изучения файла видны следующие проблемы:\n",
    "\n",
    "1. Есть пропуски в столбцах: name, year_of_release, critic_score, user_score, rating.\n",
    "2. Неправильные типы данных у столбцов: year_of_release, critic_score, user_score.\n",
    "3. Для удобства работы следует привести к нижнему регистру названия столбцов и значения некоторых столбцов."
   ]
  },
  {
   "cell_type": "markdown",
   "metadata": {},
   "source": [
    "## Подготовка данных"
   ]
  },
  {
   "cell_type": "code",
   "execution_count": 3,
   "metadata": {
    "scrolled": false
   },
   "outputs": [
    {
     "name": "stderr",
     "output_type": "stream",
     "text": [
      "<ipython-input-3-e4d8f542fc94>:20: SettingWithCopyWarning: \n",
      "A value is trying to be set on a copy of a slice from a DataFrame\n",
      "\n",
      "See the caveats in the documentation: https://pandas.pydata.org/pandas-docs/stable/user_guide/indexing.html#returning-a-view-versus-a-copy\n",
      "  games['year_of_release'][i] = games.loc[games['name'] == games['name'][i], 'year_of_release'].max()\n"
     ]
    },
    {
     "data": {
      "text/html": [
       "<div>\n",
       "<style scoped>\n",
       "    .dataframe tbody tr th:only-of-type {\n",
       "        vertical-align: middle;\n",
       "    }\n",
       "\n",
       "    .dataframe tbody tr th {\n",
       "        vertical-align: top;\n",
       "    }\n",
       "\n",
       "    .dataframe thead th {\n",
       "        text-align: right;\n",
       "    }\n",
       "</style>\n",
       "<table border=\"1\" class=\"dataframe\">\n",
       "  <thead>\n",
       "    <tr style=\"text-align: right;\">\n",
       "      <th></th>\n",
       "      <th>id</th>\n",
       "      <th>name</th>\n",
       "      <th>platform</th>\n",
       "      <th>year_of_release</th>\n",
       "      <th>genre</th>\n",
       "      <th>na_sales</th>\n",
       "      <th>eu_sales</th>\n",
       "      <th>jp_sales</th>\n",
       "      <th>other_sales</th>\n",
       "      <th>critic_score</th>\n",
       "      <th>user_score</th>\n",
       "      <th>rating</th>\n",
       "      <th>prod_sum</th>\n",
       "    </tr>\n",
       "  </thead>\n",
       "  <tbody>\n",
       "    <tr>\n",
       "      <th>0</th>\n",
       "      <td>0</td>\n",
       "      <td>Wii Sports</td>\n",
       "      <td>wii</td>\n",
       "      <td>2006</td>\n",
       "      <td>Sports</td>\n",
       "      <td>41.36</td>\n",
       "      <td>28.96</td>\n",
       "      <td>3.77</td>\n",
       "      <td>8.45</td>\n",
       "      <td>76</td>\n",
       "      <td>8.0</td>\n",
       "      <td>E</td>\n",
       "      <td>82.54</td>\n",
       "    </tr>\n",
       "    <tr>\n",
       "      <th>1</th>\n",
       "      <td>1</td>\n",
       "      <td>Super Mario Bros.</td>\n",
       "      <td>nes</td>\n",
       "      <td>1985</td>\n",
       "      <td>Platform</td>\n",
       "      <td>29.08</td>\n",
       "      <td>3.58</td>\n",
       "      <td>6.81</td>\n",
       "      <td>0.77</td>\n",
       "      <td>101</td>\n",
       "      <td>11.0</td>\n",
       "      <td>NaN</td>\n",
       "      <td>40.24</td>\n",
       "    </tr>\n",
       "    <tr>\n",
       "      <th>2</th>\n",
       "      <td>2</td>\n",
       "      <td>Mario Kart Wii</td>\n",
       "      <td>wii</td>\n",
       "      <td>2008</td>\n",
       "      <td>Racing</td>\n",
       "      <td>15.68</td>\n",
       "      <td>12.76</td>\n",
       "      <td>3.79</td>\n",
       "      <td>3.29</td>\n",
       "      <td>82</td>\n",
       "      <td>8.3</td>\n",
       "      <td>E</td>\n",
       "      <td>35.52</td>\n",
       "    </tr>\n",
       "    <tr>\n",
       "      <th>3</th>\n",
       "      <td>3</td>\n",
       "      <td>Wii Sports Resort</td>\n",
       "      <td>wii</td>\n",
       "      <td>2009</td>\n",
       "      <td>Sports</td>\n",
       "      <td>15.61</td>\n",
       "      <td>10.93</td>\n",
       "      <td>3.28</td>\n",
       "      <td>2.95</td>\n",
       "      <td>80</td>\n",
       "      <td>8.0</td>\n",
       "      <td>E</td>\n",
       "      <td>32.77</td>\n",
       "    </tr>\n",
       "    <tr>\n",
       "      <th>4</th>\n",
       "      <td>4</td>\n",
       "      <td>Pokemon Red/Pokemon Blue</td>\n",
       "      <td>gb</td>\n",
       "      <td>1996</td>\n",
       "      <td>Role-Playing</td>\n",
       "      <td>11.27</td>\n",
       "      <td>8.89</td>\n",
       "      <td>10.22</td>\n",
       "      <td>1.00</td>\n",
       "      <td>101</td>\n",
       "      <td>11.0</td>\n",
       "      <td>NaN</td>\n",
       "      <td>31.38</td>\n",
       "    </tr>\n",
       "    <tr>\n",
       "      <th>5</th>\n",
       "      <td>5</td>\n",
       "      <td>Tetris</td>\n",
       "      <td>gb</td>\n",
       "      <td>1989</td>\n",
       "      <td>Puzzle</td>\n",
       "      <td>23.20</td>\n",
       "      <td>2.26</td>\n",
       "      <td>4.22</td>\n",
       "      <td>0.58</td>\n",
       "      <td>101</td>\n",
       "      <td>11.0</td>\n",
       "      <td>NaN</td>\n",
       "      <td>30.26</td>\n",
       "    </tr>\n",
       "    <tr>\n",
       "      <th>6</th>\n",
       "      <td>6</td>\n",
       "      <td>New Super Mario Bros.</td>\n",
       "      <td>ds</td>\n",
       "      <td>2006</td>\n",
       "      <td>Platform</td>\n",
       "      <td>11.28</td>\n",
       "      <td>9.14</td>\n",
       "      <td>6.50</td>\n",
       "      <td>2.88</td>\n",
       "      <td>89</td>\n",
       "      <td>8.5</td>\n",
       "      <td>E</td>\n",
       "      <td>29.80</td>\n",
       "    </tr>\n",
       "    <tr>\n",
       "      <th>7</th>\n",
       "      <td>7</td>\n",
       "      <td>Wii Play</td>\n",
       "      <td>wii</td>\n",
       "      <td>2006</td>\n",
       "      <td>Misc</td>\n",
       "      <td>13.96</td>\n",
       "      <td>9.18</td>\n",
       "      <td>2.93</td>\n",
       "      <td>2.84</td>\n",
       "      <td>58</td>\n",
       "      <td>6.6</td>\n",
       "      <td>E</td>\n",
       "      <td>28.91</td>\n",
       "    </tr>\n",
       "    <tr>\n",
       "      <th>8</th>\n",
       "      <td>8</td>\n",
       "      <td>New Super Mario Bros. Wii</td>\n",
       "      <td>wii</td>\n",
       "      <td>2009</td>\n",
       "      <td>Platform</td>\n",
       "      <td>14.44</td>\n",
       "      <td>6.94</td>\n",
       "      <td>4.70</td>\n",
       "      <td>2.24</td>\n",
       "      <td>87</td>\n",
       "      <td>8.4</td>\n",
       "      <td>E</td>\n",
       "      <td>28.32</td>\n",
       "    </tr>\n",
       "    <tr>\n",
       "      <th>9</th>\n",
       "      <td>9</td>\n",
       "      <td>Duck Hunt</td>\n",
       "      <td>nes</td>\n",
       "      <td>1984</td>\n",
       "      <td>Shooter</td>\n",
       "      <td>26.93</td>\n",
       "      <td>0.63</td>\n",
       "      <td>0.28</td>\n",
       "      <td>0.47</td>\n",
       "      <td>101</td>\n",
       "      <td>11.0</td>\n",
       "      <td>NaN</td>\n",
       "      <td>28.31</td>\n",
       "    </tr>\n",
       "    <tr>\n",
       "      <th>10</th>\n",
       "      <td>10</td>\n",
       "      <td>Nintendogs</td>\n",
       "      <td>ds</td>\n",
       "      <td>2005</td>\n",
       "      <td>Simulation</td>\n",
       "      <td>9.05</td>\n",
       "      <td>10.95</td>\n",
       "      <td>1.93</td>\n",
       "      <td>2.74</td>\n",
       "      <td>101</td>\n",
       "      <td>11.0</td>\n",
       "      <td>NaN</td>\n",
       "      <td>24.67</td>\n",
       "    </tr>\n",
       "    <tr>\n",
       "      <th>11</th>\n",
       "      <td>11</td>\n",
       "      <td>Mario Kart DS</td>\n",
       "      <td>ds</td>\n",
       "      <td>2005</td>\n",
       "      <td>Racing</td>\n",
       "      <td>9.71</td>\n",
       "      <td>7.47</td>\n",
       "      <td>4.13</td>\n",
       "      <td>1.90</td>\n",
       "      <td>91</td>\n",
       "      <td>8.6</td>\n",
       "      <td>E</td>\n",
       "      <td>23.21</td>\n",
       "    </tr>\n",
       "    <tr>\n",
       "      <th>12</th>\n",
       "      <td>12</td>\n",
       "      <td>Pokemon Gold/Pokemon Silver</td>\n",
       "      <td>gb</td>\n",
       "      <td>1999</td>\n",
       "      <td>Role-Playing</td>\n",
       "      <td>9.00</td>\n",
       "      <td>6.18</td>\n",
       "      <td>7.20</td>\n",
       "      <td>0.71</td>\n",
       "      <td>101</td>\n",
       "      <td>11.0</td>\n",
       "      <td>NaN</td>\n",
       "      <td>23.09</td>\n",
       "    </tr>\n",
       "    <tr>\n",
       "      <th>13</th>\n",
       "      <td>13</td>\n",
       "      <td>Wii Fit</td>\n",
       "      <td>wii</td>\n",
       "      <td>2007</td>\n",
       "      <td>Sports</td>\n",
       "      <td>8.92</td>\n",
       "      <td>8.03</td>\n",
       "      <td>3.60</td>\n",
       "      <td>2.15</td>\n",
       "      <td>80</td>\n",
       "      <td>7.7</td>\n",
       "      <td>E</td>\n",
       "      <td>22.70</td>\n",
       "    </tr>\n",
       "    <tr>\n",
       "      <th>14</th>\n",
       "      <td>14</td>\n",
       "      <td>Kinect Adventures!</td>\n",
       "      <td>x360</td>\n",
       "      <td>2010</td>\n",
       "      <td>Misc</td>\n",
       "      <td>15.00</td>\n",
       "      <td>4.89</td>\n",
       "      <td>0.24</td>\n",
       "      <td>1.69</td>\n",
       "      <td>61</td>\n",
       "      <td>6.3</td>\n",
       "      <td>E</td>\n",
       "      <td>21.82</td>\n",
       "    </tr>\n",
       "  </tbody>\n",
       "</table>\n",
       "</div>"
      ],
      "text/plain": [
       "    id                         name platform  year_of_release         genre  \\\n",
       "0    0                   Wii Sports      wii             2006        Sports   \n",
       "1    1            Super Mario Bros.      nes             1985      Platform   \n",
       "2    2               Mario Kart Wii      wii             2008        Racing   \n",
       "3    3            Wii Sports Resort      wii             2009        Sports   \n",
       "4    4     Pokemon Red/Pokemon Blue       gb             1996  Role-Playing   \n",
       "5    5                       Tetris       gb             1989        Puzzle   \n",
       "6    6        New Super Mario Bros.       ds             2006      Platform   \n",
       "7    7                     Wii Play      wii             2006          Misc   \n",
       "8    8    New Super Mario Bros. Wii      wii             2009      Platform   \n",
       "9    9                    Duck Hunt      nes             1984       Shooter   \n",
       "10  10                   Nintendogs       ds             2005    Simulation   \n",
       "11  11                Mario Kart DS       ds             2005        Racing   \n",
       "12  12  Pokemon Gold/Pokemon Silver       gb             1999  Role-Playing   \n",
       "13  13                      Wii Fit      wii             2007        Sports   \n",
       "14  14           Kinect Adventures!     x360             2010          Misc   \n",
       "\n",
       "    na_sales  eu_sales  jp_sales  other_sales  critic_score  user_score  \\\n",
       "0      41.36     28.96      3.77         8.45            76         8.0   \n",
       "1      29.08      3.58      6.81         0.77           101        11.0   \n",
       "2      15.68     12.76      3.79         3.29            82         8.3   \n",
       "3      15.61     10.93      3.28         2.95            80         8.0   \n",
       "4      11.27      8.89     10.22         1.00           101        11.0   \n",
       "5      23.20      2.26      4.22         0.58           101        11.0   \n",
       "6      11.28      9.14      6.50         2.88            89         8.5   \n",
       "7      13.96      9.18      2.93         2.84            58         6.6   \n",
       "8      14.44      6.94      4.70         2.24            87         8.4   \n",
       "9      26.93      0.63      0.28         0.47           101        11.0   \n",
       "10      9.05     10.95      1.93         2.74           101        11.0   \n",
       "11      9.71      7.47      4.13         1.90            91         8.6   \n",
       "12      9.00      6.18      7.20         0.71           101        11.0   \n",
       "13      8.92      8.03      3.60         2.15            80         7.7   \n",
       "14     15.00      4.89      0.24         1.69            61         6.3   \n",
       "\n",
       "   rating  prod_sum  \n",
       "0       E     82.54  \n",
       "1     NaN     40.24  \n",
       "2       E     35.52  \n",
       "3       E     32.77  \n",
       "4     NaN     31.38  \n",
       "5     NaN     30.26  \n",
       "6       E     29.80  \n",
       "7       E     28.91  \n",
       "8       E     28.32  \n",
       "9     NaN     28.31  \n",
       "10    NaN     24.67  \n",
       "11      E     23.21  \n",
       "12    NaN     23.09  \n",
       "13      E     22.70  \n",
       "14      E     21.82  "
      ]
     },
     "metadata": {},
     "output_type": "display_data"
    },
    {
     "data": {
      "text/html": [
       "<div>\n",
       "<style scoped>\n",
       "    .dataframe tbody tr th:only-of-type {\n",
       "        vertical-align: middle;\n",
       "    }\n",
       "\n",
       "    .dataframe tbody tr th {\n",
       "        vertical-align: top;\n",
       "    }\n",
       "\n",
       "    .dataframe thead th {\n",
       "        text-align: right;\n",
       "    }\n",
       "</style>\n",
       "<table border=\"1\" class=\"dataframe\">\n",
       "  <thead>\n",
       "    <tr style=\"text-align: right;\">\n",
       "      <th></th>\n",
       "      <th>id</th>\n",
       "      <th>year_of_release</th>\n",
       "      <th>na_sales</th>\n",
       "      <th>eu_sales</th>\n",
       "      <th>jp_sales</th>\n",
       "      <th>other_sales</th>\n",
       "      <th>critic_score</th>\n",
       "      <th>user_score</th>\n",
       "      <th>prod_sum</th>\n",
       "    </tr>\n",
       "  </thead>\n",
       "  <tbody>\n",
       "    <tr>\n",
       "      <th>count</th>\n",
       "      <td>16567.00000</td>\n",
       "      <td>16567.000000</td>\n",
       "      <td>16567.000000</td>\n",
       "      <td>16567.000000</td>\n",
       "      <td>16567.000000</td>\n",
       "      <td>16567.000000</td>\n",
       "      <td>16567.000000</td>\n",
       "      <td>16567.000000</td>\n",
       "      <td>16567.000000</td>\n",
       "    </tr>\n",
       "    <tr>\n",
       "      <th>mean</th>\n",
       "      <td>8348.32951</td>\n",
       "      <td>2006.491881</td>\n",
       "      <td>0.263975</td>\n",
       "      <td>0.145814</td>\n",
       "      <td>0.078020</td>\n",
       "      <td>0.047567</td>\n",
       "      <td>85.398805</td>\n",
       "      <td>9.236416</td>\n",
       "      <td>0.535376</td>\n",
       "    </tr>\n",
       "    <tr>\n",
       "      <th>std</th>\n",
       "      <td>4826.22625</td>\n",
       "      <td>5.862239</td>\n",
       "      <td>0.816474</td>\n",
       "      <td>0.505364</td>\n",
       "      <td>0.310068</td>\n",
       "      <td>0.187476</td>\n",
       "      <td>18.720751</td>\n",
       "      <td>2.178395</td>\n",
       "      <td>1.554281</td>\n",
       "    </tr>\n",
       "    <tr>\n",
       "      <th>min</th>\n",
       "      <td>0.00000</td>\n",
       "      <td>1980.000000</td>\n",
       "      <td>0.000000</td>\n",
       "      <td>0.000000</td>\n",
       "      <td>0.000000</td>\n",
       "      <td>0.000000</td>\n",
       "      <td>13.000000</td>\n",
       "      <td>0.000000</td>\n",
       "      <td>0.000000</td>\n",
       "    </tr>\n",
       "    <tr>\n",
       "      <th>25%</th>\n",
       "      <td>4163.50000</td>\n",
       "      <td>2003.000000</td>\n",
       "      <td>0.000000</td>\n",
       "      <td>0.000000</td>\n",
       "      <td>0.000000</td>\n",
       "      <td>0.000000</td>\n",
       "      <td>71.000000</td>\n",
       "      <td>7.600000</td>\n",
       "      <td>0.060000</td>\n",
       "    </tr>\n",
       "    <tr>\n",
       "      <th>50%</th>\n",
       "      <td>8347.00000</td>\n",
       "      <td>2007.000000</td>\n",
       "      <td>0.080000</td>\n",
       "      <td>0.020000</td>\n",
       "      <td>0.000000</td>\n",
       "      <td>0.010000</td>\n",
       "      <td>101.000000</td>\n",
       "      <td>11.000000</td>\n",
       "      <td>0.170000</td>\n",
       "    </tr>\n",
       "    <tr>\n",
       "      <th>75%</th>\n",
       "      <td>12526.50000</td>\n",
       "      <td>2010.000000</td>\n",
       "      <td>0.240000</td>\n",
       "      <td>0.110000</td>\n",
       "      <td>0.040000</td>\n",
       "      <td>0.030000</td>\n",
       "      <td>101.000000</td>\n",
       "      <td>11.000000</td>\n",
       "      <td>0.470000</td>\n",
       "    </tr>\n",
       "    <tr>\n",
       "      <th>max</th>\n",
       "      <td>16714.00000</td>\n",
       "      <td>2016.000000</td>\n",
       "      <td>41.360000</td>\n",
       "      <td>28.960000</td>\n",
       "      <td>10.220000</td>\n",
       "      <td>10.570000</td>\n",
       "      <td>101.000000</td>\n",
       "      <td>11.000000</td>\n",
       "      <td>82.540000</td>\n",
       "    </tr>\n",
       "  </tbody>\n",
       "</table>\n",
       "</div>"
      ],
      "text/plain": [
       "                id  year_of_release      na_sales      eu_sales      jp_sales  \\\n",
       "count  16567.00000     16567.000000  16567.000000  16567.000000  16567.000000   \n",
       "mean    8348.32951      2006.491881      0.263975      0.145814      0.078020   \n",
       "std     4826.22625         5.862239      0.816474      0.505364      0.310068   \n",
       "min        0.00000      1980.000000      0.000000      0.000000      0.000000   \n",
       "25%     4163.50000      2003.000000      0.000000      0.000000      0.000000   \n",
       "50%     8347.00000      2007.000000      0.080000      0.020000      0.000000   \n",
       "75%    12526.50000      2010.000000      0.240000      0.110000      0.040000   \n",
       "max    16714.00000      2016.000000     41.360000     28.960000     10.220000   \n",
       "\n",
       "        other_sales  critic_score    user_score      prod_sum  \n",
       "count  16567.000000  16567.000000  16567.000000  16567.000000  \n",
       "mean       0.047567     85.398805      9.236416      0.535376  \n",
       "std        0.187476     18.720751      2.178395      1.554281  \n",
       "min        0.000000     13.000000      0.000000      0.000000  \n",
       "25%        0.000000     71.000000      7.600000      0.060000  \n",
       "50%        0.010000    101.000000     11.000000      0.170000  \n",
       "75%        0.030000    101.000000     11.000000      0.470000  \n",
       "max       10.570000    101.000000     11.000000     82.540000  "
      ]
     },
     "metadata": {},
     "output_type": "display_data"
    },
    {
     "name": "stdout",
     "output_type": "stream",
     "text": [
      "<class 'pandas.core.frame.DataFrame'>\n",
      "Int64Index: 16567 entries, 0 to 16714\n",
      "Data columns (total 13 columns):\n",
      " #   Column           Non-Null Count  Dtype  \n",
      "---  ------           --------------  -----  \n",
      " 0   id               16567 non-null  int64  \n",
      " 1   name             16567 non-null  object \n",
      " 2   platform         16567 non-null  object \n",
      " 3   year_of_release  16567 non-null  int32  \n",
      " 4   genre            16567 non-null  object \n",
      " 5   na_sales         16567 non-null  float64\n",
      " 6   eu_sales         16567 non-null  float64\n",
      " 7   jp_sales         16567 non-null  float64\n",
      " 8   other_sales      16567 non-null  float64\n",
      " 9   critic_score     16567 non-null  int32  \n",
      " 10  user_score       16567 non-null  float64\n",
      " 11  rating           9868 non-null   object \n",
      " 12  prod_sum         16567 non-null  float64\n",
      "dtypes: float64(6), int32(2), int64(1), object(4)\n",
      "memory usage: 1.6+ MB\n",
      "None\n"
     ]
    }
   ],
   "source": [
    "games.duplicated().sum()\n",
    "games['name'].isnull().sum()\n",
    "games.insert(0, 'id', games.index)\n",
    "\n",
    "games.dropna(subset=['name'], inplace = True)\n",
    "\n",
    "games.platform = games.platform.str.lower()\n",
    "\n",
    "games['critic_score'] = games['critic_score'].fillna(101)\n",
    "games['critic_score'] = games['critic_score'].astype('int')\n",
    "\n",
    "games.loc[games['user_score'] == 'tbd', 'user_score'] = '11'\n",
    "games['user_score'] = games['user_score'].fillna(11)\n",
    "games['user_score'] = games['user_score'].astype('float')\n",
    "\n",
    "games['prod_sum'] = games['na_sales'] + games['eu_sales'] + games['jp_sales'] + games['other_sales']\n",
    "\n",
    "# Цикл с заменой отсут. значения для игр, которые есть на разных платформах, берём максимальный год\n",
    "for i in games[games['year_of_release'].isnull() == True].index:  \n",
    "    games['year_of_release'][i] = games.loc[games['name'] == games['name'][i], 'year_of_release'].max()\n",
    "    \n",
    "games.dropna(subset=['year_of_release'], inplace=True)\n",
    "games['year_of_release'] = games['year_of_release'].astype('int')    \n",
    "\n",
    "display(games.head(15))\n",
    "display(games.describe())\n",
    "print(games.info())"
   ]
  },
  {
   "cell_type": "markdown",
   "metadata": {},
   "source": [
    "Подготовим данные:\n",
    "\n",
    "- Удаление строк, где отсутствовало название игры\n",
    "\n",
    "- Приведение к нижнему регистру названия столбцов и значений столбца 'platform'\n",
    "\n",
    "- Заполнение отсутствующих значений в описанных выше столбцах\n",
    "\n",
    "- tbd значит подлежит уточнению, заменю на стороннее число подобные значения\n",
    "\n",
    "- Смена типов данных\n",
    "\n",
    "- Подсчёт суммарных продаж во всех регионах - данная информация хранится в столбце 'prod_sum'"
   ]
  },
  {
   "cell_type": "markdown",
   "metadata": {},
   "source": [
    "## Анализ данных"
   ]
  },
  {
   "cell_type": "code",
   "execution_count": 4,
   "metadata": {},
   "outputs": [
    {
     "data": {
      "text/html": [
       "<div>\n",
       "<style scoped>\n",
       "    .dataframe tbody tr th:only-of-type {\n",
       "        vertical-align: middle;\n",
       "    }\n",
       "\n",
       "    .dataframe tbody tr th {\n",
       "        vertical-align: top;\n",
       "    }\n",
       "\n",
       "    .dataframe thead th {\n",
       "        text-align: right;\n",
       "    }\n",
       "</style>\n",
       "<table border=\"1\" class=\"dataframe\">\n",
       "  <thead>\n",
       "    <tr style=\"text-align: right;\">\n",
       "      <th></th>\n",
       "      <th>name</th>\n",
       "    </tr>\n",
       "    <tr>\n",
       "      <th>year_of_release</th>\n",
       "      <th></th>\n",
       "    </tr>\n",
       "  </thead>\n",
       "  <tbody>\n",
       "    <tr>\n",
       "      <th>1980</th>\n",
       "      <td>9</td>\n",
       "    </tr>\n",
       "    <tr>\n",
       "      <th>1981</th>\n",
       "      <td>46</td>\n",
       "    </tr>\n",
       "    <tr>\n",
       "      <th>1982</th>\n",
       "      <td>36</td>\n",
       "    </tr>\n",
       "    <tr>\n",
       "      <th>1983</th>\n",
       "      <td>17</td>\n",
       "    </tr>\n",
       "    <tr>\n",
       "      <th>1984</th>\n",
       "      <td>14</td>\n",
       "    </tr>\n",
       "    <tr>\n",
       "      <th>1985</th>\n",
       "      <td>14</td>\n",
       "    </tr>\n",
       "    <tr>\n",
       "      <th>1986</th>\n",
       "      <td>21</td>\n",
       "    </tr>\n",
       "    <tr>\n",
       "      <th>1987</th>\n",
       "      <td>16</td>\n",
       "    </tr>\n",
       "    <tr>\n",
       "      <th>1988</th>\n",
       "      <td>15</td>\n",
       "    </tr>\n",
       "    <tr>\n",
       "      <th>1989</th>\n",
       "      <td>17</td>\n",
       "    </tr>\n",
       "    <tr>\n",
       "      <th>1990</th>\n",
       "      <td>16</td>\n",
       "    </tr>\n",
       "    <tr>\n",
       "      <th>1991</th>\n",
       "      <td>41</td>\n",
       "    </tr>\n",
       "    <tr>\n",
       "      <th>1992</th>\n",
       "      <td>43</td>\n",
       "    </tr>\n",
       "    <tr>\n",
       "      <th>1993</th>\n",
       "      <td>60</td>\n",
       "    </tr>\n",
       "    <tr>\n",
       "      <th>1994</th>\n",
       "      <td>121</td>\n",
       "    </tr>\n",
       "    <tr>\n",
       "      <th>1995</th>\n",
       "      <td>219</td>\n",
       "    </tr>\n",
       "    <tr>\n",
       "      <th>1996</th>\n",
       "      <td>263</td>\n",
       "    </tr>\n",
       "    <tr>\n",
       "      <th>1997</th>\n",
       "      <td>289</td>\n",
       "    </tr>\n",
       "    <tr>\n",
       "      <th>1998</th>\n",
       "      <td>379</td>\n",
       "    </tr>\n",
       "    <tr>\n",
       "      <th>1999</th>\n",
       "      <td>339</td>\n",
       "    </tr>\n",
       "    <tr>\n",
       "      <th>2000</th>\n",
       "      <td>350</td>\n",
       "    </tr>\n",
       "    <tr>\n",
       "      <th>2001</th>\n",
       "      <td>484</td>\n",
       "    </tr>\n",
       "    <tr>\n",
       "      <th>2002</th>\n",
       "      <td>845</td>\n",
       "    </tr>\n",
       "    <tr>\n",
       "      <th>2003</th>\n",
       "      <td>785</td>\n",
       "    </tr>\n",
       "    <tr>\n",
       "      <th>2004</th>\n",
       "      <td>765</td>\n",
       "    </tr>\n",
       "    <tr>\n",
       "      <th>2005</th>\n",
       "      <td>947</td>\n",
       "    </tr>\n",
       "    <tr>\n",
       "      <th>2006</th>\n",
       "      <td>1020</td>\n",
       "    </tr>\n",
       "    <tr>\n",
       "      <th>2007</th>\n",
       "      <td>1202</td>\n",
       "    </tr>\n",
       "    <tr>\n",
       "      <th>2008</th>\n",
       "      <td>1440</td>\n",
       "    </tr>\n",
       "    <tr>\n",
       "      <th>2009</th>\n",
       "      <td>1431</td>\n",
       "    </tr>\n",
       "    <tr>\n",
       "      <th>2010</th>\n",
       "      <td>1271</td>\n",
       "    </tr>\n",
       "    <tr>\n",
       "      <th>2011</th>\n",
       "      <td>1153</td>\n",
       "    </tr>\n",
       "    <tr>\n",
       "      <th>2012</th>\n",
       "      <td>662</td>\n",
       "    </tr>\n",
       "    <tr>\n",
       "      <th>2013</th>\n",
       "      <td>547</td>\n",
       "    </tr>\n",
       "    <tr>\n",
       "      <th>2014</th>\n",
       "      <td>582</td>\n",
       "    </tr>\n",
       "    <tr>\n",
       "      <th>2015</th>\n",
       "      <td>606</td>\n",
       "    </tr>\n",
       "    <tr>\n",
       "      <th>2016</th>\n",
       "      <td>502</td>\n",
       "    </tr>\n",
       "  </tbody>\n",
       "</table>\n",
       "</div>"
      ],
      "text/plain": [
       "                 name\n",
       "year_of_release      \n",
       "1980                9\n",
       "1981               46\n",
       "1982               36\n",
       "1983               17\n",
       "1984               14\n",
       "1985               14\n",
       "1986               21\n",
       "1987               16\n",
       "1988               15\n",
       "1989               17\n",
       "1990               16\n",
       "1991               41\n",
       "1992               43\n",
       "1993               60\n",
       "1994              121\n",
       "1995              219\n",
       "1996              263\n",
       "1997              289\n",
       "1998              379\n",
       "1999              339\n",
       "2000              350\n",
       "2001              484\n",
       "2002              845\n",
       "2003              785\n",
       "2004              765\n",
       "2005              947\n",
       "2006             1020\n",
       "2007             1202\n",
       "2008             1440\n",
       "2009             1431\n",
       "2010             1271\n",
       "2011             1153\n",
       "2012              662\n",
       "2013              547\n",
       "2014              582\n",
       "2015              606\n",
       "2016              502"
      ]
     },
     "metadata": {},
     "output_type": "display_data"
    },
    {
     "data": {
      "image/png": "[encoded data removed]",
      "text/plain": [
       "<Figure size 432x288 with 1 Axes>"
      ]
     },
     "metadata": {
      "needs_background": "light"
     },
     "output_type": "display_data"
    }
   ],
   "source": [
    "col_gam_year = games.pivot_table(index='year_of_release', values='name', aggfunc='count')\n",
    "display(col_gam_year)\n",
    "\n",
    "gameskk = games.pivot_table(index = 'year_of_release', values = 'id', aggfunc = 'count')\n",
    "gameskk.plot(y = 'id', legend = False)\n",
    "plt.xlabel('Годы')\n",
    "plt.ylabel('Количество игр')\n",
    "plt.show()"
   ]
  },
  {
   "cell_type": "markdown",
   "metadata": {},
   "source": [
    "В 21 веке стали выпускать много игр, этот период нам будет наиболее интересен.\n",
    "\n",
    "Скачок произошел с 2001-2002 и длился до пика 2008-2009 года, после чего количество выпускаемых игр пошло на спад, возможно это может быть связано с разивтием мобильной индустрии, увеличением времени и средств на разработку игр."
   ]
  },
  {
   "cell_type": "code",
   "execution_count": 5,
   "metadata": {
    "scrolled": false
   },
   "outputs": [
    {
     "data": {
      "image/png": "[encoded data removed]",
      "text/plain": [
       "<Figure size 1008x432 with 1 Axes>"
      ]
     },
     "metadata": {
      "needs_background": "light"
     },
     "output_type": "display_data"
    },
    {
     "data": {
      "image/png": "[encoded data removed]",
      "text/plain": [
       "<Figure size 864x432 with 1 Axes>"
      ]
     },
     "metadata": {
      "needs_background": "light"
     },
     "output_type": "display_data"
    }
   ],
   "source": [
    "pl_gam = games.pivot_table(index='platform', values='prod_sum', aggfunc='sum')\n",
    "pl_gam = pl_gam.sort_values(by='prod_sum', ascending = False)\n",
    "\n",
    "plt.figure(figsize=(14,6))\n",
    "sns.barplot(x=pl_gam.index,y=pl_gam['prod_sum'])\n",
    "plt.title('Продажи по платформам')\n",
    "plt.xlabel('Платформа')\n",
    "plt.ylabel('Размер продаж')\n",
    "plt.show()\n",
    "\n",
    "t5 = games.pivot_table(index='platform', values='prod_sum', aggfunc='sum').sort_values(by='prod_sum', ascending=False).head(5)\n",
    "t5 = t5.reset_index().rename_axis(None, axis=1)\n",
    "\n",
    "plt.figure(figsize=(12,6))\n",
    "plt.title('Количество продаж популярных игровых платформ')\n",
    "plt.xlabel('Годы игровых релизов')\n",
    "plt.ylabel('Продажи')\n",
    "\n",
    "def year_pl(name, data):\n",
    "    tt = games[(games['platform'] == name) & (data['year_of_release'] > 2007)]\n",
    "    ob = tt.pivot_table(index='year_of_release', values='prod_sum', aggfunc='sum').sort_values('year_of_release', ascending=False)\n",
    "    return ob\n",
    "\n",
    "for i in list(t5['platform']):\n",
    "    sns.lineplot(data=year_pl(i,games)['prod_sum'], label=i)\n",
    "    plt.legend()"
   ]
  },
  {
   "cell_type": "markdown",
   "metadata": {},
   "source": [
    "Топ-5 продаж составляют: ps2, x360, ps3, wii и ds.\n",
    "\n",
    "Жизненный цикл платформ из топ-5 в среднем составляет 10 лет."
   ]
  },
  {
   "cell_type": "code",
   "execution_count": 6,
   "metadata": {},
   "outputs": [
    {
     "data": {
      "text/html": [
       "<div>\n",
       "<style scoped>\n",
       "    .dataframe tbody tr th:only-of-type {\n",
       "        vertical-align: middle;\n",
       "    }\n",
       "\n",
       "    .dataframe tbody tr th {\n",
       "        vertical-align: top;\n",
       "    }\n",
       "\n",
       "    .dataframe thead th {\n",
       "        text-align: right;\n",
       "    }\n",
       "</style>\n",
       "<table border=\"1\" class=\"dataframe\">\n",
       "  <thead>\n",
       "    <tr style=\"text-align: right;\">\n",
       "      <th></th>\n",
       "      <th>id</th>\n",
       "      <th>name</th>\n",
       "      <th>platform</th>\n",
       "      <th>year_of_release</th>\n",
       "      <th>genre</th>\n",
       "      <th>na_sales</th>\n",
       "      <th>eu_sales</th>\n",
       "      <th>jp_sales</th>\n",
       "      <th>other_sales</th>\n",
       "      <th>critic_score</th>\n",
       "      <th>user_score</th>\n",
       "      <th>rating</th>\n",
       "      <th>prod_sum</th>\n",
       "    </tr>\n",
       "  </thead>\n",
       "  <tbody>\n",
       "    <tr>\n",
       "      <th>16</th>\n",
       "      <td>16</td>\n",
       "      <td>Grand Theft Auto V</td>\n",
       "      <td>ps3</td>\n",
       "      <td>2013</td>\n",
       "      <td>Action</td>\n",
       "      <td>7.02</td>\n",
       "      <td>9.09</td>\n",
       "      <td>0.98</td>\n",
       "      <td>3.96</td>\n",
       "      <td>97</td>\n",
       "      <td>8.2</td>\n",
       "      <td>M</td>\n",
       "      <td>21.05</td>\n",
       "    </tr>\n",
       "    <tr>\n",
       "      <th>23</th>\n",
       "      <td>23</td>\n",
       "      <td>Grand Theft Auto V</td>\n",
       "      <td>x360</td>\n",
       "      <td>2013</td>\n",
       "      <td>Action</td>\n",
       "      <td>9.66</td>\n",
       "      <td>5.14</td>\n",
       "      <td>0.06</td>\n",
       "      <td>1.41</td>\n",
       "      <td>97</td>\n",
       "      <td>8.1</td>\n",
       "      <td>M</td>\n",
       "      <td>16.27</td>\n",
       "    </tr>\n",
       "    <tr>\n",
       "      <th>31</th>\n",
       "      <td>31</td>\n",
       "      <td>Call of Duty: Black Ops 3</td>\n",
       "      <td>ps4</td>\n",
       "      <td>2015</td>\n",
       "      <td>Shooter</td>\n",
       "      <td>6.03</td>\n",
       "      <td>5.86</td>\n",
       "      <td>0.36</td>\n",
       "      <td>2.38</td>\n",
       "      <td>101</td>\n",
       "      <td>11.0</td>\n",
       "      <td>NaN</td>\n",
       "      <td>14.63</td>\n",
       "    </tr>\n",
       "    <tr>\n",
       "      <th>33</th>\n",
       "      <td>33</td>\n",
       "      <td>Pokemon X/Pokemon Y</td>\n",
       "      <td>3ds</td>\n",
       "      <td>2013</td>\n",
       "      <td>Role-Playing</td>\n",
       "      <td>5.28</td>\n",
       "      <td>4.19</td>\n",
       "      <td>4.35</td>\n",
       "      <td>0.78</td>\n",
       "      <td>101</td>\n",
       "      <td>11.0</td>\n",
       "      <td>NaN</td>\n",
       "      <td>14.60</td>\n",
       "    </tr>\n",
       "    <tr>\n",
       "      <th>42</th>\n",
       "      <td>42</td>\n",
       "      <td>Grand Theft Auto V</td>\n",
       "      <td>ps4</td>\n",
       "      <td>2014</td>\n",
       "      <td>Action</td>\n",
       "      <td>3.96</td>\n",
       "      <td>6.31</td>\n",
       "      <td>0.38</td>\n",
       "      <td>1.97</td>\n",
       "      <td>97</td>\n",
       "      <td>8.3</td>\n",
       "      <td>M</td>\n",
       "      <td>12.62</td>\n",
       "    </tr>\n",
       "    <tr>\n",
       "      <th>...</th>\n",
       "      <td>...</td>\n",
       "      <td>...</td>\n",
       "      <td>...</td>\n",
       "      <td>...</td>\n",
       "      <td>...</td>\n",
       "      <td>...</td>\n",
       "      <td>...</td>\n",
       "      <td>...</td>\n",
       "      <td>...</td>\n",
       "      <td>...</td>\n",
       "      <td>...</td>\n",
       "      <td>...</td>\n",
       "      <td>...</td>\n",
       "    </tr>\n",
       "    <tr>\n",
       "      <th>16703</th>\n",
       "      <td>16703</td>\n",
       "      <td>Strawberry Nauts</td>\n",
       "      <td>psv</td>\n",
       "      <td>2016</td>\n",
       "      <td>Adventure</td>\n",
       "      <td>0.00</td>\n",
       "      <td>0.00</td>\n",
       "      <td>0.01</td>\n",
       "      <td>0.00</td>\n",
       "      <td>101</td>\n",
       "      <td>11.0</td>\n",
       "      <td>NaN</td>\n",
       "      <td>0.01</td>\n",
       "    </tr>\n",
       "    <tr>\n",
       "      <th>16707</th>\n",
       "      <td>16707</td>\n",
       "      <td>Aiyoku no Eustia</td>\n",
       "      <td>psv</td>\n",
       "      <td>2014</td>\n",
       "      <td>Misc</td>\n",
       "      <td>0.00</td>\n",
       "      <td>0.00</td>\n",
       "      <td>0.01</td>\n",
       "      <td>0.00</td>\n",
       "      <td>101</td>\n",
       "      <td>11.0</td>\n",
       "      <td>NaN</td>\n",
       "      <td>0.01</td>\n",
       "    </tr>\n",
       "    <tr>\n",
       "      <th>16710</th>\n",
       "      <td>16710</td>\n",
       "      <td>Samurai Warriors: Sanada Maru</td>\n",
       "      <td>ps3</td>\n",
       "      <td>2016</td>\n",
       "      <td>Action</td>\n",
       "      <td>0.00</td>\n",
       "      <td>0.00</td>\n",
       "      <td>0.01</td>\n",
       "      <td>0.00</td>\n",
       "      <td>101</td>\n",
       "      <td>11.0</td>\n",
       "      <td>NaN</td>\n",
       "      <td>0.01</td>\n",
       "    </tr>\n",
       "    <tr>\n",
       "      <th>16712</th>\n",
       "      <td>16712</td>\n",
       "      <td>Haitaka no Psychedelica</td>\n",
       "      <td>psv</td>\n",
       "      <td>2016</td>\n",
       "      <td>Adventure</td>\n",
       "      <td>0.00</td>\n",
       "      <td>0.00</td>\n",
       "      <td>0.01</td>\n",
       "      <td>0.00</td>\n",
       "      <td>101</td>\n",
       "      <td>11.0</td>\n",
       "      <td>NaN</td>\n",
       "      <td>0.01</td>\n",
       "    </tr>\n",
       "    <tr>\n",
       "      <th>16714</th>\n",
       "      <td>16714</td>\n",
       "      <td>Winning Post 8 2016</td>\n",
       "      <td>psv</td>\n",
       "      <td>2016</td>\n",
       "      <td>Simulation</td>\n",
       "      <td>0.00</td>\n",
       "      <td>0.00</td>\n",
       "      <td>0.01</td>\n",
       "      <td>0.00</td>\n",
       "      <td>101</td>\n",
       "      <td>11.0</td>\n",
       "      <td>NaN</td>\n",
       "      <td>0.01</td>\n",
       "    </tr>\n",
       "  </tbody>\n",
       "</table>\n",
       "<p>2237 rows × 13 columns</p>\n",
       "</div>"
      ],
      "text/plain": [
       "          id                           name platform  year_of_release  \\\n",
       "16        16             Grand Theft Auto V      ps3             2013   \n",
       "23        23             Grand Theft Auto V     x360             2013   \n",
       "31        31      Call of Duty: Black Ops 3      ps4             2015   \n",
       "33        33            Pokemon X/Pokemon Y      3ds             2013   \n",
       "42        42             Grand Theft Auto V      ps4             2014   \n",
       "...      ...                            ...      ...              ...   \n",
       "16703  16703               Strawberry Nauts      psv             2016   \n",
       "16707  16707               Aiyoku no Eustia      psv             2014   \n",
       "16710  16710  Samurai Warriors: Sanada Maru      ps3             2016   \n",
       "16712  16712        Haitaka no Psychedelica      psv             2016   \n",
       "16714  16714            Winning Post 8 2016      psv             2016   \n",
       "\n",
       "              genre  na_sales  eu_sales  jp_sales  other_sales  critic_score  \\\n",
       "16           Action      7.02      9.09      0.98         3.96            97   \n",
       "23           Action      9.66      5.14      0.06         1.41            97   \n",
       "31          Shooter      6.03      5.86      0.36         2.38           101   \n",
       "33     Role-Playing      5.28      4.19      4.35         0.78           101   \n",
       "42           Action      3.96      6.31      0.38         1.97            97   \n",
       "...             ...       ...       ...       ...          ...           ...   \n",
       "16703     Adventure      0.00      0.00      0.01         0.00           101   \n",
       "16707          Misc      0.00      0.00      0.01         0.00           101   \n",
       "16710        Action      0.00      0.00      0.01         0.00           101   \n",
       "16712     Adventure      0.00      0.00      0.01         0.00           101   \n",
       "16714    Simulation      0.00      0.00      0.01         0.00           101   \n",
       "\n",
       "       user_score rating  prod_sum  \n",
       "16            8.2      M     21.05  \n",
       "23            8.1      M     16.27  \n",
       "31           11.0    NaN     14.63  \n",
       "33           11.0    NaN     14.60  \n",
       "42            8.3      M     12.62  \n",
       "...           ...    ...       ...  \n",
       "16703        11.0    NaN      0.01  \n",
       "16707        11.0    NaN      0.01  \n",
       "16710        11.0    NaN      0.01  \n",
       "16712        11.0    NaN      0.01  \n",
       "16714        11.0    NaN      0.01  \n",
       "\n",
       "[2237 rows x 13 columns]"
      ]
     },
     "execution_count": 6,
     "metadata": {},
     "output_type": "execute_result"
    }
   ],
   "source": [
    "games5 = games.loc[games['year_of_release'] > 2012]\n",
    "games5"
   ]
  },
  {
   "cell_type": "markdown",
   "metadata": {},
   "source": [
    "В дальнейшем в работе будем рассматривать данные от 2013 года."
   ]
  },
  {
   "cell_type": "code",
   "execution_count": 7,
   "metadata": {},
   "outputs": [
    {
     "data": {
      "text/html": [
       "<div>\n",
       "<style scoped>\n",
       "    .dataframe tbody tr th:only-of-type {\n",
       "        vertical-align: middle;\n",
       "    }\n",
       "\n",
       "    .dataframe tbody tr th {\n",
       "        vertical-align: top;\n",
       "    }\n",
       "\n",
       "    .dataframe thead th {\n",
       "        text-align: right;\n",
       "    }\n",
       "</style>\n",
       "<table border=\"1\" class=\"dataframe\">\n",
       "  <thead>\n",
       "    <tr style=\"text-align: right;\">\n",
       "      <th></th>\n",
       "      <th></th>\n",
       "      <th>prod_sum</th>\n",
       "    </tr>\n",
       "    <tr>\n",
       "      <th>platform</th>\n",
       "      <th>year_of_release</th>\n",
       "      <th></th>\n",
       "    </tr>\n",
       "  </thead>\n",
       "  <tbody>\n",
       "    <tr>\n",
       "      <th rowspan=\"4\" valign=\"top\">xone</th>\n",
       "      <th>2016</th>\n",
       "      <td>26.15</td>\n",
       "    </tr>\n",
       "    <tr>\n",
       "      <th>2015</th>\n",
       "      <td>60.14</td>\n",
       "    </tr>\n",
       "    <tr>\n",
       "      <th>2014</th>\n",
       "      <td>54.07</td>\n",
       "    </tr>\n",
       "    <tr>\n",
       "      <th>2013</th>\n",
       "      <td>18.96</td>\n",
       "    </tr>\n",
       "    <tr>\n",
       "      <th rowspan=\"4\" valign=\"top\">x360</th>\n",
       "      <th>2016</th>\n",
       "      <td>1.52</td>\n",
       "    </tr>\n",
       "    <tr>\n",
       "      <th>2015</th>\n",
       "      <td>11.96</td>\n",
       "    </tr>\n",
       "    <tr>\n",
       "      <th>2014</th>\n",
       "      <td>34.74</td>\n",
       "    </tr>\n",
       "    <tr>\n",
       "      <th>2013</th>\n",
       "      <td>88.58</td>\n",
       "    </tr>\n",
       "    <tr>\n",
       "      <th rowspan=\"4\" valign=\"top\">wiiu</th>\n",
       "      <th>2014</th>\n",
       "      <td>22.03</td>\n",
       "    </tr>\n",
       "    <tr>\n",
       "      <th>2013</th>\n",
       "      <td>21.65</td>\n",
       "    </tr>\n",
       "    <tr>\n",
       "      <th>2016</th>\n",
       "      <td>4.60</td>\n",
       "    </tr>\n",
       "    <tr>\n",
       "      <th>2015</th>\n",
       "      <td>16.35</td>\n",
       "    </tr>\n",
       "    <tr>\n",
       "      <th rowspan=\"4\" valign=\"top\">wii</th>\n",
       "      <th>2016</th>\n",
       "      <td>0.18</td>\n",
       "    </tr>\n",
       "    <tr>\n",
       "      <th>2015</th>\n",
       "      <td>1.14</td>\n",
       "    </tr>\n",
       "    <tr>\n",
       "      <th>2014</th>\n",
       "      <td>3.75</td>\n",
       "    </tr>\n",
       "    <tr>\n",
       "      <th>2013</th>\n",
       "      <td>8.59</td>\n",
       "    </tr>\n",
       "    <tr>\n",
       "      <th rowspan=\"4\" valign=\"top\">psv</th>\n",
       "      <th>2014</th>\n",
       "      <td>11.90</td>\n",
       "    </tr>\n",
       "    <tr>\n",
       "      <th>2016</th>\n",
       "      <td>4.25</td>\n",
       "    </tr>\n",
       "    <tr>\n",
       "      <th>2015</th>\n",
       "      <td>6.25</td>\n",
       "    </tr>\n",
       "    <tr>\n",
       "      <th>2013</th>\n",
       "      <td>10.59</td>\n",
       "    </tr>\n",
       "    <tr>\n",
       "      <th rowspan=\"3\" valign=\"top\">psp</th>\n",
       "      <th>2015</th>\n",
       "      <td>0.12</td>\n",
       "    </tr>\n",
       "    <tr>\n",
       "      <th>2014</th>\n",
       "      <td>0.24</td>\n",
       "    </tr>\n",
       "    <tr>\n",
       "      <th>2013</th>\n",
       "      <td>3.38</td>\n",
       "    </tr>\n",
       "    <tr>\n",
       "      <th rowspan=\"4\" valign=\"top\">ps4</th>\n",
       "      <th>2016</th>\n",
       "      <td>69.25</td>\n",
       "    </tr>\n",
       "    <tr>\n",
       "      <th>2015</th>\n",
       "      <td>118.90</td>\n",
       "    </tr>\n",
       "    <tr>\n",
       "      <th>2014</th>\n",
       "      <td>100.00</td>\n",
       "    </tr>\n",
       "    <tr>\n",
       "      <th>2013</th>\n",
       "      <td>25.99</td>\n",
       "    </tr>\n",
       "    <tr>\n",
       "      <th rowspan=\"4\" valign=\"top\">ps3</th>\n",
       "      <th>2014</th>\n",
       "      <td>47.76</td>\n",
       "    </tr>\n",
       "    <tr>\n",
       "      <th>2013</th>\n",
       "      <td>113.25</td>\n",
       "    </tr>\n",
       "    <tr>\n",
       "      <th>2016</th>\n",
       "      <td>3.60</td>\n",
       "    </tr>\n",
       "    <tr>\n",
       "      <th>2015</th>\n",
       "      <td>16.82</td>\n",
       "    </tr>\n",
       "    <tr>\n",
       "      <th rowspan=\"4\" valign=\"top\">pc</th>\n",
       "      <th>2016</th>\n",
       "      <td>5.25</td>\n",
       "    </tr>\n",
       "    <tr>\n",
       "      <th>2015</th>\n",
       "      <td>8.52</td>\n",
       "    </tr>\n",
       "    <tr>\n",
       "      <th>2014</th>\n",
       "      <td>13.63</td>\n",
       "    </tr>\n",
       "    <tr>\n",
       "      <th>2013</th>\n",
       "      <td>12.66</td>\n",
       "    </tr>\n",
       "    <tr>\n",
       "      <th>ds</th>\n",
       "      <th>2013</th>\n",
       "      <td>1.54</td>\n",
       "    </tr>\n",
       "    <tr>\n",
       "      <th rowspan=\"4\" valign=\"top\">3ds</th>\n",
       "      <th>2015</th>\n",
       "      <td>27.78</td>\n",
       "    </tr>\n",
       "    <tr>\n",
       "      <th>2014</th>\n",
       "      <td>43.76</td>\n",
       "    </tr>\n",
       "    <tr>\n",
       "      <th>2016</th>\n",
       "      <td>15.14</td>\n",
       "    </tr>\n",
       "    <tr>\n",
       "      <th>2013</th>\n",
       "      <td>56.57</td>\n",
       "    </tr>\n",
       "  </tbody>\n",
       "</table>\n",
       "</div>"
      ],
      "text/plain": [
       "                          prod_sum\n",
       "platform year_of_release          \n",
       "xone     2016                26.15\n",
       "         2015                60.14\n",
       "         2014                54.07\n",
       "         2013                18.96\n",
       "x360     2016                 1.52\n",
       "         2015                11.96\n",
       "         2014                34.74\n",
       "         2013                88.58\n",
       "wiiu     2014                22.03\n",
       "         2013                21.65\n",
       "         2016                 4.60\n",
       "         2015                16.35\n",
       "wii      2016                 0.18\n",
       "         2015                 1.14\n",
       "         2014                 3.75\n",
       "         2013                 8.59\n",
       "psv      2014                11.90\n",
       "         2016                 4.25\n",
       "         2015                 6.25\n",
       "         2013                10.59\n",
       "psp      2015                 0.12\n",
       "         2014                 0.24\n",
       "         2013                 3.38\n",
       "ps4      2016                69.25\n",
       "         2015               118.90\n",
       "         2014               100.00\n",
       "         2013                25.99\n",
       "ps3      2014                47.76\n",
       "         2013               113.25\n",
       "         2016                 3.60\n",
       "         2015                16.82\n",
       "pc       2016                 5.25\n",
       "         2015                 8.52\n",
       "         2014                13.63\n",
       "         2013                12.66\n",
       "ds       2013                 1.54\n",
       "3ds      2015                27.78\n",
       "         2014                43.76\n",
       "         2016                15.14\n",
       "         2013                56.57"
      ]
     },
     "metadata": {},
     "output_type": "display_data"
    }
   ],
   "source": [
    "var1 = games5.pivot_table(index=['platform','year_of_release'], values='prod_sum', aggfunc='sum')\n",
    "var1 = var1.sort_values(by='platform', ascending = False)\n",
    "display(var1)"
   ]
  },
  {
   "cell_type": "code",
   "execution_count": 8,
   "metadata": {},
   "outputs": [
    {
     "data": {
      "text/plain": [
       "Text(0, 0.5, 'Продажи, всего')"
      ]
     },
     "execution_count": 8,
     "metadata": {},
     "output_type": "execute_result"
    },
    {
     "data": {
      "image/png": "[encoded data removed]",
      "text/plain": [
       "<Figure size 1080x648 with 1 Axes>"
      ]
     },
     "metadata": {
      "needs_background": "light"
     },
     "output_type": "display_data"
    }
   ],
   "source": [
    "lt5 = ['xone','wiiu','ps4','pc','3ds']\n",
    "t5sp = games5[games5['platform'].isin(['xone','wiiu','ps4','pc','3ds'])]\n",
    "t5sp = t5sp[t5sp['prod_sum']<1.4]\n",
    "\n",
    "plt.figure(figsize=(15,9))\n",
    "sns.boxplot(data=t5sp, x='platform', y='prod_sum')\n",
    "plt.title('Ящики с усами')\n",
    "plt.xlabel('Платформа')\n",
    "plt.ylabel('Продажи, всего')"
   ]
  },
  {
   "cell_type": "markdown",
   "metadata": {},
   "source": [
    "Отобраны пять лидирующих платформ по продажам. Лидер - xone, второе место у wiiu и третье у ps4. Медианы продаж различаются у платформ."
   ]
  },
  {
   "cell_type": "code",
   "execution_count": 9,
   "metadata": {
    "scrolled": false
   },
   "outputs": [
    {
     "data": {
      "image/png": "[encoded data removed]",
      "text/plain": [
       "<Figure size 432x288 with 1 Axes>"
      ]
     },
     "metadata": {
      "needs_background": "light"
     },
     "output_type": "display_data"
    },
    {
     "name": "stdout",
     "output_type": "stream",
     "text": [
      "Корреляция между оценкой пользователей и общей продажей:\n",
      "-0.06892505328279414\n",
      "\n",
      "Среднее: 6.5\n",
      "Медиана: 6.8\n",
      "Дисперсия: 1.9\n",
      "Стандартное отклонение: 1.4\n",
      "\n"
     ]
    },
    {
     "data": {
      "image/png": "[encoded data removed]",
      "text/plain": [
       "<Figure size 432x288 with 1 Axes>"
      ]
     },
     "metadata": {
      "needs_background": "light"
     },
     "output_type": "display_data"
    },
    {
     "name": "stdout",
     "output_type": "stream",
     "text": [
      "Корреляция между оценкой критиков и общей продажей:\n",
      "0.4169983280084017\n",
      "\n",
      "Среднее: 73.3\n",
      "Медиана: 76.0\n",
      "Дисперсия: 166.8\n",
      "Стандартное отклонение: 12.9\n",
      "\n"
     ]
    }
   ],
   "source": [
    "sv = games5[games5['critic_score'] < 101]\n",
    "gip = games5[games5['user_score'] < 11]\n",
    "xone = sv[sv['platform'] == 'xone']\n",
    "xoneu = gip[gip['platform'] == 'xone']\n",
    "\n",
    "xoneu.plot(y = 'prod_sum', x = 'user_score', style = 'o', legend = False, xlim = (1,10))\n",
    "plt.title('Платформа xone')\n",
    "plt.xlabel('Оценка пользователей')\n",
    "plt.ylabel('Продажи, всего')\n",
    "plt.show()\n",
    "\n",
    "print('Корреляция между оценкой пользователей и общей продажей:')\n",
    "print(xoneu['user_score'].corr(xoneu['prod_sum']))\n",
    "\n",
    "print('')\n",
    "print('Среднее: {:.1f}'.format(xoneu['user_score'].mean()))\n",
    "print('Медиана: {:.1f}'.format(xoneu['user_score'].median()))\n",
    "print('Дисперсия: {:.1f}'.format(np.var(xoneu['user_score'])))\n",
    "print('Стандартное отклонение: {:.1f}'.format(np.std(xoneu['user_score'])))\n",
    "print('')\n",
    "\n",
    "xone.plot(y = 'prod_sum', x = 'critic_score', style = 'o', legend = False, xlim = (1,100))\n",
    "plt.title('Платформа xone')\n",
    "plt.xlabel('Оценка критиков')\n",
    "plt.ylabel('Продажи, всего')\n",
    "plt.show()\n",
    "\n",
    "print('Корреляция между оценкой критиков и общей продажей:')\n",
    "print(xone['critic_score'].corr(xone['prod_sum']))\n",
    "\n",
    "print('')\n",
    "print('Среднее: {:.1f}'.format(xone['critic_score'].mean()))\n",
    "print('Медиана: {:.1f}'.format(xone['critic_score'].median()))\n",
    "print('Дисперсия: {:.1f}'.format(np.var(xone['critic_score'])))\n",
    "print('Стандартное отклонение: {:.1f}'.format(np.std(xone['critic_score'])))\n",
    "print('')"
   ]
  },
  {
   "cell_type": "markdown",
   "metadata": {},
   "source": [
    "Почти отсутствует зависимость между оценкой пользователей и продажами игр на платформе xone. Средняя оценка 6,5 балла.\n",
    "\n",
    "Есть некоторая зависимость между оценкой критиков и продажами игр на платформе xone. Средняя оценка 73,3 балла."
   ]
  },
  {
   "cell_type": "code",
   "execution_count": 10,
   "metadata": {
    "scrolled": false
   },
   "outputs": [
    {
     "data": {
      "image/png": "[encoded data removed]",
      "text/plain": [
       "<Figure size 432x288 with 1 Axes>"
      ]
     },
     "metadata": {
      "needs_background": "light"
     },
     "output_type": "display_data"
    },
    {
     "name": "stdout",
     "output_type": "stream",
     "text": [
      "Корреляция между оценкой пользователей и общей продажей:\n",
      "0.4193304819266187\n",
      "\n",
      "Среднее: 7.0\n",
      "Медиана: 7.3\n",
      "Дисперсия: 2.0\n",
      "Стандартное отклонение: 1.4\n",
      "\n"
     ]
    },
    {
     "data": {
      "image/png": "[encoded data removed]",
      "text/plain": [
       "<Figure size 432x288 with 1 Axes>"
      ]
     },
     "metadata": {
      "needs_background": "light"
     },
     "output_type": "display_data"
    },
    {
     "name": "stdout",
     "output_type": "stream",
     "text": [
      "Корреляция между оценкой критиков и общей продажей:\n",
      "0.3764149065423912\n",
      "\n",
      "Среднее: 71.6\n",
      "Медиана: 73.5\n",
      "Дисперсия: 187.5\n",
      "Стандартное отклонение: 13.7\n",
      "\n"
     ]
    }
   ],
   "source": [
    "wiiu = sv[sv['platform'] == 'wiiu']\n",
    "wiiuu = gip[gip['platform'] == 'wiiu']\n",
    "ps4 = sv[sv['platform'] == 'ps4']\n",
    "ps4u = gip[gip['platform'] == 'ps4']\n",
    "pc = sv[sv['platform'] == 'pc']\n",
    "pcu = gip[gip['platform'] == 'pc']\n",
    "ds3 = sv[sv['platform'] == '3ds']\n",
    "ds3u = gip[gip['platform'] == '3ds']\n",
    "\n",
    "wiiuu.plot(y = 'prod_sum', x = 'user_score', style = 'o', legend = False, xlim = (1,10))\n",
    "plt.title('Платформа wiiu')\n",
    "plt.xlabel('Оценка пользователей')\n",
    "plt.ylabel('Продажи, всего')\n",
    "plt.show()\n",
    "\n",
    "print('Корреляция между оценкой пользователей и общей продажей:')\n",
    "print(wiiuu['user_score'].corr(wiiuu['prod_sum']))\n",
    "\n",
    "print('')\n",
    "print('Среднее: {:.1f}'.format(wiiuu['user_score'].mean()))\n",
    "print('Медиана: {:.1f}'.format(wiiuu['user_score'].median()))\n",
    "print('Дисперсия: {:.1f}'.format(np.var(wiiuu['user_score'])))\n",
    "print('Стандартное отклонение: {:.1f}'.format(np.std(wiiuu['user_score'])))\n",
    "print('')\n",
    "\n",
    "wiiu.plot(y = 'prod_sum', x = 'critic_score', style = 'o', legend = False, xlim = (1,100))\n",
    "plt.title('Платформа wiiu')\n",
    "plt.xlabel('Оценка критиков')\n",
    "plt.ylabel('Продажи, всего')\n",
    "plt.show()\n",
    "\n",
    "print('Корреляция между оценкой критиков и общей продажей:')\n",
    "print(wiiu['critic_score'].corr(wiiu['prod_sum']))\n",
    "\n",
    "print('')\n",
    "print('Среднее: {:.1f}'.format(wiiu['critic_score'].mean()))\n",
    "print('Медиана: {:.1f}'.format(wiiu['critic_score'].median()))\n",
    "print('Дисперсия: {:.1f}'.format(np.var(wiiu['critic_score'])))\n",
    "print('Стандартное отклонение: {:.1f}'.format(np.std(wiiu['critic_score'])))\n",
    "print('')"
   ]
  },
  {
   "cell_type": "markdown",
   "metadata": {},
   "source": [
    "Есть некоторая зависимость между оценкой пользователей и продажами игр на платформе wiiu. Средняя оценка 7,0 балла.\n",
    "\n",
    "Есть некоторая зависимость между оценкой критиков и продажами игр на платформе wiiu. Средняя оценка 71,6 балла."
   ]
  },
  {
   "cell_type": "code",
   "execution_count": 11,
   "metadata": {},
   "outputs": [
    {
     "data": {
      "image/png": "[encoded data removed]",
      "text/plain": [
       "<Figure size 432x288 with 1 Axes>"
      ]
     },
     "metadata": {
      "needs_background": "light"
     },
     "output_type": "display_data"
    },
    {
     "name": "stdout",
     "output_type": "stream",
     "text": [
      "Корреляция между оценкой пользователей и общей продажей:\n",
      "-0.031957110204556424\n",
      "\n",
      "Среднее: 6.7\n",
      "Медиана: 7.0\n",
      "Дисперсия: 2.1\n",
      "Стандартное отклонение: 1.5\n",
      "\n"
     ]
    },
    {
     "data": {
      "image/png": "[encoded data removed]",
      "text/plain": [
       "<Figure size 432x288 with 1 Axes>"
      ]
     },
     "metadata": {
      "needs_background": "light"
     },
     "output_type": "display_data"
    },
    {
     "name": "stdout",
     "output_type": "stream",
     "text": [
      "Корреляция между оценкой критиков и общей продажей:\n",
      "0.40656790206178095\n",
      "\n",
      "Среднее: 72.1\n",
      "Медиана: 73.0\n",
      "Дисперсия: 155.3\n",
      "Стандартное отклонение: 12.5\n",
      "\n"
     ]
    }
   ],
   "source": [
    "ps4u.plot(y = 'prod_sum', x = 'user_score', style = 'o', legend = False, xlim = (1,10))\n",
    "plt.title('Платформа ps4')\n",
    "plt.xlabel('Оценка пользователей')\n",
    "plt.ylabel('Продажи, всего')\n",
    "plt.show()\n",
    "\n",
    "print('Корреляция между оценкой пользователей и общей продажей:')\n",
    "print(ps4u['user_score'].corr(ps4u['prod_sum']))\n",
    "\n",
    "print('')\n",
    "print('Среднее: {:.1f}'.format(ps4u['user_score'].mean()))\n",
    "print('Медиана: {:.1f}'.format(ps4u['user_score'].median()))\n",
    "print('Дисперсия: {:.1f}'.format(np.var(ps4u['user_score'])))\n",
    "print('Стандартное отклонение: {:.1f}'.format(np.std(ps4u['user_score'])))\n",
    "print('')\n",
    "\n",
    "ps4.plot(y = 'prod_sum', x = 'critic_score', style = 'o', legend = False, xlim = (1,100))\n",
    "plt.title('Платформа ps4')\n",
    "plt.xlabel('Оценка критиков')\n",
    "plt.ylabel('Продажи, всего')\n",
    "plt.show()\n",
    "\n",
    "print('Корреляция между оценкой критиков и общей продажей:')\n",
    "print(ps4['critic_score'].corr(ps4['prod_sum']))\n",
    "\n",
    "print('')\n",
    "print('Среднее: {:.1f}'.format(ps4['critic_score'].mean()))\n",
    "print('Медиана: {:.1f}'.format(ps4['critic_score'].median()))\n",
    "print('Дисперсия: {:.1f}'.format(np.var(ps4['critic_score'])))\n",
    "print('Стандартное отклонение: {:.1f}'.format(np.std(ps4['critic_score'])))\n",
    "print('')"
   ]
  },
  {
   "cell_type": "markdown",
   "metadata": {},
   "source": [
    "Отсутствует зависимость между оценкой пользователей и продажами игр на платформе ps4. Средняя оценка 6,7 балла.\n",
    "\n",
    "Есть некоторая зависимость присутствует между оценкой критиков и продажами игр на платформе ps4. Средняя оценка 72,1 балла."
   ]
  },
  {
   "cell_type": "code",
   "execution_count": 12,
   "metadata": {},
   "outputs": [
    {
     "data": {
      "image/png": "[encoded data removed]",
      "text/plain": [
       "<Figure size 432x288 with 1 Axes>"
      ]
     },
     "metadata": {
      "needs_background": "light"
     },
     "output_type": "display_data"
    },
    {
     "name": "stdout",
     "output_type": "stream",
     "text": [
      "Корреляция между оценкой пользователей и общей продажей:\n",
      "-0.0899977567844875\n",
      "\n",
      "Среднее: 6.3\n",
      "Медиана: 6.8\n",
      "Дисперсия: 3.0\n",
      "Стандартное отклонение: 1.7\n",
      "\n"
     ]
    },
    {
     "data": {
      "image/png": "[encoded data removed]",
      "text/plain": [
       "<Figure size 432x288 with 1 Axes>"
      ]
     },
     "metadata": {
      "needs_background": "light"
     },
     "output_type": "display_data"
    },
    {
     "name": "stdout",
     "output_type": "stream",
     "text": [
      "Корреляция между оценкой критиков и общей продажей:\n",
      "0.19965984836380182\n",
      "\n",
      "Среднее: 75.5\n",
      "Медиана: 77.0\n",
      "Дисперсия: 109.7\n",
      "Стандартное отклонение: 10.5\n",
      "\n"
     ]
    }
   ],
   "source": [
    "pcu.plot(y = 'prod_sum', x = 'user_score', style = 'o', legend = False, xlim = (1,10))\n",
    "plt.title('Платформа pc')\n",
    "plt.xlabel('Оценка пользователей')\n",
    "plt.ylabel('Продажи, всего')\n",
    "plt.show()\n",
    "\n",
    "print('Корреляция между оценкой пользователей и общей продажей:')\n",
    "print(pcu['user_score'].corr(pcu['prod_sum']))\n",
    "\n",
    "print('')\n",
    "print('Среднее: {:.1f}'.format(pcu['user_score'].mean()))\n",
    "print('Медиана: {:.1f}'.format(pcu['user_score'].median()))\n",
    "print('Дисперсия: {:.1f}'.format(np.var(pcu['user_score'])))\n",
    "print('Стандартное отклонение: {:.1f}'.format(np.std(pcu['user_score'])))\n",
    "print('')\n",
    "\n",
    "pc.plot(y = 'prod_sum', x = 'critic_score', style = 'o', legend = False, xlim = (1,100))\n",
    "plt.title('Платформа pc')\n",
    "plt.xlabel('Оценка критиков')\n",
    "plt.ylabel('Продажи, всего')\n",
    "plt.show()\n",
    "\n",
    "print('Корреляция между оценкой критиков и общей продажей:')\n",
    "print(pc['critic_score'].corr(pc['prod_sum']))\n",
    "\n",
    "print('')\n",
    "print('Среднее: {:.1f}'.format(pc['critic_score'].mean()))\n",
    "print('Медиана: {:.1f}'.format(pc['critic_score'].median()))\n",
    "print('Дисперсия: {:.1f}'.format(np.var(pc['critic_score'])))\n",
    "print('Стандартное отклонение: {:.1f}'.format(np.std(pc['critic_score'])))\n",
    "print('')"
   ]
  },
  {
   "cell_type": "markdown",
   "metadata": {},
   "source": [
    "Отсутствует зависимость между оценкой пользователей и продажами игр на платформе pc. Средняя оценка 6,3 балла.\n",
    "\n",
    "Слабая зависимость между оценкой критиков и продажами игр на платформе pc. Средняя оценка 75,5 балла."
   ]
  },
  {
   "cell_type": "code",
   "execution_count": 13,
   "metadata": {},
   "outputs": [
    {
     "data": {
      "image/png": "[encoded data removed]",
      "text/plain": [
       "<Figure size 432x288 with 1 Axes>"
      ]
     },
     "metadata": {
      "needs_background": "light"
     },
     "output_type": "display_data"
    },
    {
     "name": "stdout",
     "output_type": "stream",
     "text": [
      "Корреляция между оценкой пользователей и общей продажей:\n",
      "0.24150411773563016\n",
      "\n",
      "Среднее: 7.0\n",
      "Медиана: 7.3\n",
      "Дисперсия: 2.3\n",
      "Стандартное отклонение: 1.5\n",
      "\n"
     ]
    },
    {
     "data": {
      "image/png": "[encoded data removed]",
      "text/plain": [
       "<Figure size 432x288 with 1 Axes>"
      ]
     },
     "metadata": {
      "needs_background": "light"
     },
     "output_type": "display_data"
    },
    {
     "name": "stdout",
     "output_type": "stream",
     "text": [
      "Корреляция между оценкой критиков и общей продажей:\n",
      "0.3570566142288103\n",
      "\n",
      "Среднее: 68.3\n",
      "Медиана: 69.0\n",
      "Дисперсия: 169.0\n",
      "Стандартное отклонение: 13.0\n",
      "\n"
     ]
    }
   ],
   "source": [
    "ds3u.plot(y = 'prod_sum', x = 'user_score', style = 'o', legend = False, xlim = (1,10))\n",
    "plt.title('Платформа ds3')\n",
    "plt.xlabel('Оценка пользователей')\n",
    "plt.ylabel('Продажи, всего')\n",
    "plt.show()\n",
    "\n",
    "print('Корреляция между оценкой пользователей и общей продажей:')\n",
    "print(ds3u['user_score'].corr(ds3u['prod_sum']))\n",
    "\n",
    "print('')\n",
    "print('Среднее: {:.1f}'.format(ds3u['user_score'].mean()))\n",
    "print('Медиана: {:.1f}'.format(ds3u['user_score'].median()))\n",
    "print('Дисперсия: {:.1f}'.format(np.var(ds3u['user_score'])))\n",
    "print('Стандартное отклонение: {:.1f}'.format(np.std(ds3u['user_score'])))\n",
    "print('')\n",
    "\n",
    "ds3.plot(y = 'prod_sum', x = 'critic_score', style = 'o', legend = False, xlim = (1,100))\n",
    "plt.title('Платформа ds3')\n",
    "plt.xlabel('Оценка критиков')\n",
    "plt.ylabel('Продажи, всего')\n",
    "plt.show()\n",
    "\n",
    "print('Корреляция между оценкой критиков и общей продажей:')\n",
    "print(ds3['critic_score'].corr(ds3['prod_sum']))\n",
    "\n",
    "print('')\n",
    "print('Среднее: {:.1f}'.format(ds3['critic_score'].mean()))\n",
    "print('Медиана: {:.1f}'.format(ds3['critic_score'].median()))\n",
    "print('Дисперсия: {:.1f}'.format(np.var(ds3['critic_score'])))\n",
    "print('Стандартное отклонение: {:.1f}'.format(np.std(ds3['critic_score'])))\n",
    "print('')"
   ]
  },
  {
   "cell_type": "markdown",
   "metadata": {},
   "source": [
    "Есть слабая зависимость между оценкой пользователей и продажами игр на платформе ds3. Средняя оценка 7,0 балла.\n",
    "\n",
    "Есть некоторая зависимость между оценкой критиков и продажами игр на платформе ds3. Средняя оценка 68,3 балла.\n",
    "\n",
    "<b>Общий вывод по полученным значениям:</b>\n",
    "\n",
    "- Лучшая средняя оценка пользователей у платформ ds3 и wiiu по 7,0 балла.\n",
    "\n",
    "- Лучшая средняя оценка от критиков у платформы pc.\n",
    "\n",
    "- Существует некоторая зависимость между оценками критиков и продажами, вероятно игроки обращают внимание на данные оценки и принимают решение о покупке, используя эти данные. В то же время оценки игроков зачастую не имеют зависимости с продажами, их мнение бывает очень различным."
   ]
  },
  {
   "cell_type": "code",
   "execution_count": 14,
   "metadata": {},
   "outputs": [
    {
     "data": {
      "text/html": [
       "<div>\n",
       "<style scoped>\n",
       "    .dataframe tbody tr th:only-of-type {\n",
       "        vertical-align: middle;\n",
       "    }\n",
       "\n",
       "    .dataframe tbody tr th {\n",
       "        vertical-align: top;\n",
       "    }\n",
       "\n",
       "    .dataframe thead th {\n",
       "        text-align: right;\n",
       "    }\n",
       "</style>\n",
       "<table border=\"1\" class=\"dataframe\">\n",
       "  <thead>\n",
       "    <tr style=\"text-align: right;\">\n",
       "      <th></th>\n",
       "      <th>prod_sum_sum</th>\n",
       "      <th>prod_sum_count</th>\n",
       "      <th>prod_sum_mean</th>\n",
       "    </tr>\n",
       "    <tr>\n",
       "      <th>genre</th>\n",
       "      <th></th>\n",
       "      <th></th>\n",
       "      <th></th>\n",
       "    </tr>\n",
       "  </thead>\n",
       "  <tbody>\n",
       "    <tr>\n",
       "      <th>Action</th>\n",
       "      <td>322.50</td>\n",
       "      <td>769</td>\n",
       "      <td>0.419376</td>\n",
       "    </tr>\n",
       "    <tr>\n",
       "      <th>Shooter</th>\n",
       "      <td>232.98</td>\n",
       "      <td>187</td>\n",
       "      <td>1.245882</td>\n",
       "    </tr>\n",
       "    <tr>\n",
       "      <th>Sports</th>\n",
       "      <td>150.65</td>\n",
       "      <td>214</td>\n",
       "      <td>0.703972</td>\n",
       "    </tr>\n",
       "    <tr>\n",
       "      <th>Role-Playing</th>\n",
       "      <td>145.89</td>\n",
       "      <td>292</td>\n",
       "      <td>0.499623</td>\n",
       "    </tr>\n",
       "    <tr>\n",
       "      <th>Misc</th>\n",
       "      <td>63.06</td>\n",
       "      <td>156</td>\n",
       "      <td>0.404231</td>\n",
       "    </tr>\n",
       "    <tr>\n",
       "      <th>Platform</th>\n",
       "      <td>42.63</td>\n",
       "      <td>74</td>\n",
       "      <td>0.576081</td>\n",
       "    </tr>\n",
       "    <tr>\n",
       "      <th>Racing</th>\n",
       "      <td>39.89</td>\n",
       "      <td>85</td>\n",
       "      <td>0.469294</td>\n",
       "    </tr>\n",
       "    <tr>\n",
       "      <th>Fighting</th>\n",
       "      <td>35.31</td>\n",
       "      <td>80</td>\n",
       "      <td>0.441375</td>\n",
       "    </tr>\n",
       "    <tr>\n",
       "      <th>Adventure</th>\n",
       "      <td>23.64</td>\n",
       "      <td>245</td>\n",
       "      <td>0.096490</td>\n",
       "    </tr>\n",
       "    <tr>\n",
       "      <th>Simulation</th>\n",
       "      <td>21.76</td>\n",
       "      <td>62</td>\n",
       "      <td>0.350968</td>\n",
       "    </tr>\n",
       "    <tr>\n",
       "      <th>Strategy</th>\n",
       "      <td>10.08</td>\n",
       "      <td>56</td>\n",
       "      <td>0.180000</td>\n",
       "    </tr>\n",
       "    <tr>\n",
       "      <th>Puzzle</th>\n",
       "      <td>3.17</td>\n",
       "      <td>17</td>\n",
       "      <td>0.186471</td>\n",
       "    </tr>\n",
       "  </tbody>\n",
       "</table>\n",
       "</div>"
      ],
      "text/plain": [
       "              prod_sum_sum  prod_sum_count  prod_sum_mean\n",
       "genre                                                    \n",
       "Action              322.50             769       0.419376\n",
       "Shooter             232.98             187       1.245882\n",
       "Sports              150.65             214       0.703972\n",
       "Role-Playing        145.89             292       0.499623\n",
       "Misc                 63.06             156       0.404231\n",
       "Platform             42.63              74       0.576081\n",
       "Racing               39.89              85       0.469294\n",
       "Fighting             35.31              80       0.441375\n",
       "Adventure            23.64             245       0.096490\n",
       "Simulation           21.76              62       0.350968\n",
       "Strategy             10.08              56       0.180000\n",
       "Puzzle                3.17              17       0.186471"
      ]
     },
     "execution_count": 14,
     "metadata": {},
     "output_type": "execute_result"
    }
   ],
   "source": [
    "high_genre = games5.pivot_table(index = 'genre', values = 'prod_sum', aggfunc = ['sum','count','mean'])\n",
    "high_genre.columns = ['prod_sum_sum', 'prod_sum_count', 'prod_sum_mean']\n",
    "high_genre = high_genre.sort_values(by = 'prod_sum_sum', ascending = False)\n",
    "high_genre"
   ]
  },
  {
   "cell_type": "markdown",
   "metadata": {},
   "source": [
    "В топ-5 самых прибыльных жанров входят: Action, Shooter, Sports, Role-Playing и Misc. Action является ярковыраженным лидером по количесту проданных копий. При этом средняя цена игр жанра Shooter в 3 раза больше, чем у Action.\n",
    "\n",
    "Самая низкая средняя цена у игр жанра Adventure.\n",
    "\n",
    "Хуже всего продаются Strategy (видимо люди не любят думать, а также им скучно), Puzzle (интересно лишь детям)."
   ]
  },
  {
   "cell_type": "markdown",
   "metadata": {},
   "source": [
    "## Портрет пользователя каждого региона"
   ]
  },
  {
   "cell_type": "code",
   "execution_count": 15,
   "metadata": {
    "scrolled": false
   },
   "outputs": [
    {
     "name": "stdout",
     "output_type": "stream",
     "text": [
      "Популярные платформы в Северной Америке, топ 5\n"
     ]
    },
    {
     "data": {
      "text/html": [
       "<div>\n",
       "<style scoped>\n",
       "    .dataframe tbody tr th:only-of-type {\n",
       "        vertical-align: middle;\n",
       "    }\n",
       "\n",
       "    .dataframe tbody tr th {\n",
       "        vertical-align: top;\n",
       "    }\n",
       "\n",
       "    .dataframe thead th {\n",
       "        text-align: right;\n",
       "    }\n",
       "</style>\n",
       "<table border=\"1\" class=\"dataframe\">\n",
       "  <thead>\n",
       "    <tr style=\"text-align: right;\">\n",
       "      <th></th>\n",
       "      <th>na_sales</th>\n",
       "    </tr>\n",
       "    <tr>\n",
       "      <th>platform</th>\n",
       "      <th></th>\n",
       "    </tr>\n",
       "  </thead>\n",
       "  <tbody>\n",
       "    <tr>\n",
       "      <th>ps4</th>\n",
       "      <td>108.74</td>\n",
       "    </tr>\n",
       "    <tr>\n",
       "      <th>xone</th>\n",
       "      <td>93.12</td>\n",
       "    </tr>\n",
       "    <tr>\n",
       "      <th>x360</th>\n",
       "      <td>81.66</td>\n",
       "    </tr>\n",
       "    <tr>\n",
       "      <th>ps3</th>\n",
       "      <td>63.50</td>\n",
       "    </tr>\n",
       "    <tr>\n",
       "      <th>3ds</th>\n",
       "      <td>38.20</td>\n",
       "    </tr>\n",
       "  </tbody>\n",
       "</table>\n",
       "</div>"
      ],
      "text/plain": [
       "          na_sales\n",
       "platform          \n",
       "ps4         108.74\n",
       "xone         93.12\n",
       "x360         81.66\n",
       "ps3          63.50\n",
       "3ds          38.20"
      ]
     },
     "metadata": {},
     "output_type": "display_data"
    },
    {
     "data": {
      "image/png": "[encoded data removed]",
      "text/plain": [
       "<Figure size 864x360 with 1 Axes>"
      ]
     },
     "metadata": {
      "needs_background": "light"
     },
     "output_type": "display_data"
    },
    {
     "name": "stdout",
     "output_type": "stream",
     "text": [
      "Популярные платформы в Европе, топ 5\n"
     ]
    },
    {
     "data": {
      "text/html": [
       "<div>\n",
       "<style scoped>\n",
       "    .dataframe tbody tr th:only-of-type {\n",
       "        vertical-align: middle;\n",
       "    }\n",
       "\n",
       "    .dataframe tbody tr th {\n",
       "        vertical-align: top;\n",
       "    }\n",
       "\n",
       "    .dataframe thead th {\n",
       "        text-align: right;\n",
       "    }\n",
       "</style>\n",
       "<table border=\"1\" class=\"dataframe\">\n",
       "  <thead>\n",
       "    <tr style=\"text-align: right;\">\n",
       "      <th></th>\n",
       "      <th>eu_sales</th>\n",
       "    </tr>\n",
       "    <tr>\n",
       "      <th>platform</th>\n",
       "      <th></th>\n",
       "    </tr>\n",
       "  </thead>\n",
       "  <tbody>\n",
       "    <tr>\n",
       "      <th>ps4</th>\n",
       "      <td>141.09</td>\n",
       "    </tr>\n",
       "    <tr>\n",
       "      <th>ps3</th>\n",
       "      <td>67.81</td>\n",
       "    </tr>\n",
       "    <tr>\n",
       "      <th>xone</th>\n",
       "      <td>51.59</td>\n",
       "    </tr>\n",
       "    <tr>\n",
       "      <th>x360</th>\n",
       "      <td>42.52</td>\n",
       "    </tr>\n",
       "    <tr>\n",
       "      <th>3ds</th>\n",
       "      <td>30.96</td>\n",
       "    </tr>\n",
       "  </tbody>\n",
       "</table>\n",
       "</div>"
      ],
      "text/plain": [
       "          eu_sales\n",
       "platform          \n",
       "ps4         141.09\n",
       "ps3          67.81\n",
       "xone         51.59\n",
       "x360         42.52\n",
       "3ds          30.96"
      ]
     },
     "metadata": {},
     "output_type": "display_data"
    },
    {
     "data": {
      "image/png": "[encoded data removed]",
      "text/plain": [
       "<Figure size 864x360 with 1 Axes>"
      ]
     },
     "metadata": {
      "needs_background": "light"
     },
     "output_type": "display_data"
    },
    {
     "name": "stdout",
     "output_type": "stream",
     "text": [
      "Популярные платформы в Японии, топ 5\n"
     ]
    },
    {
     "data": {
      "text/html": [
       "<div>\n",
       "<style scoped>\n",
       "    .dataframe tbody tr th:only-of-type {\n",
       "        vertical-align: middle;\n",
       "    }\n",
       "\n",
       "    .dataframe tbody tr th {\n",
       "        vertical-align: top;\n",
       "    }\n",
       "\n",
       "    .dataframe thead th {\n",
       "        text-align: right;\n",
       "    }\n",
       "</style>\n",
       "<table border=\"1\" class=\"dataframe\">\n",
       "  <thead>\n",
       "    <tr style=\"text-align: right;\">\n",
       "      <th></th>\n",
       "      <th>jp_sales</th>\n",
       "    </tr>\n",
       "    <tr>\n",
       "      <th>platform</th>\n",
       "      <th></th>\n",
       "    </tr>\n",
       "  </thead>\n",
       "  <tbody>\n",
       "    <tr>\n",
       "      <th>3ds</th>\n",
       "      <td>67.81</td>\n",
       "    </tr>\n",
       "    <tr>\n",
       "      <th>ps3</th>\n",
       "      <td>23.35</td>\n",
       "    </tr>\n",
       "    <tr>\n",
       "      <th>psv</th>\n",
       "      <td>18.59</td>\n",
       "    </tr>\n",
       "    <tr>\n",
       "      <th>ps4</th>\n",
       "      <td>15.96</td>\n",
       "    </tr>\n",
       "    <tr>\n",
       "      <th>wiiu</th>\n",
       "      <td>10.88</td>\n",
       "    </tr>\n",
       "  </tbody>\n",
       "</table>\n",
       "</div>"
      ],
      "text/plain": [
       "          jp_sales\n",
       "platform          \n",
       "3ds          67.81\n",
       "ps3          23.35\n",
       "psv          18.59\n",
       "ps4          15.96\n",
       "wiiu         10.88"
      ]
     },
     "metadata": {},
     "output_type": "display_data"
    },
    {
     "data": {
      "image/png": "[encoded data removed]",
      "text/plain": [
       "<Figure size 864x360 with 1 Axes>"
      ]
     },
     "metadata": {
      "needs_background": "light"
     },
     "output_type": "display_data"
    }
   ],
   "source": [
    "pl5na = games5.pivot_table(index='platform', values='na_sales', aggfunc='sum')\n",
    "pl5na = pl5na.sort_values(by = 'na_sales', ascending = False).head(5)\n",
    "print('Популярные платформы в Северной Америке, топ 5')\n",
    "display(pl5na)\n",
    "\n",
    "plt.figure(figsize=(12,5))\n",
    "sns.barplot(x=pl5na.index,y=pl5na['na_sales'])\n",
    "plt.title('Популярные платформы в Северной Америке, топ 5')\n",
    "plt.xlabel('Платформа')\n",
    "plt.ylabel('Продажи, всего')\n",
    "plt.show()\n",
    "\n",
    "pl5eu = games5.pivot_table(index='platform', values='eu_sales', aggfunc='sum')\n",
    "pl5eu = pl5eu.sort_values(by = 'eu_sales', ascending = False).head(5)\n",
    "print('Популярные платформы в Европе, топ 5')\n",
    "display(pl5eu)\n",
    "\n",
    "plt.figure(figsize=(12,5))\n",
    "sns.barplot(x=pl5eu.index,y=pl5eu['eu_sales'])\n",
    "plt.title('Популярные платформы в Европе, топ 5')\n",
    "plt.xlabel('Платформа')\n",
    "plt.ylabel('Продажи, всего')\n",
    "plt.show()\n",
    "\n",
    "pl5jp = games5.pivot_table(index='platform', values='jp_sales', aggfunc='sum')\n",
    "pl5jp = pl5jp.sort_values(by = 'jp_sales', ascending = False).head(5)\n",
    "print('Популярные платформы в Японии, топ 5')\n",
    "display(pl5jp)\n",
    "\n",
    "plt.figure(figsize=(12,5))\n",
    "sns.barplot(x=pl5jp.index,y=pl5jp['jp_sales'])\n",
    "plt.title('Популярные платформы в Японии, топ 5')\n",
    "plt.xlabel('Платформа')\n",
    "plt.ylabel('Продажи, всего')\n",
    "plt.show()"
   ]
  },
  {
   "cell_type": "markdown",
   "metadata": {},
   "source": [
    "В Северной Америке в лидерах ps4 и xone. Прошлое поколение ps3 и x360 уже позади.\n",
    "\n",
    "В Европе больше всего играют на ps4 и ps3, продукция Microsoft: xone и x360 отстаёт, японские приставки отстают.\n",
    "\n",
    "В Японии отдают предпочтение своим японским производителям приставок - xone в топе нет. 3ds лидер."
   ]
  },
  {
   "cell_type": "code",
   "execution_count": 16,
   "metadata": {
    "scrolled": false
   },
   "outputs": [
    {
     "name": "stdout",
     "output_type": "stream",
     "text": [
      "Популярные жанры в Северной Америке, топ 5\n"
     ]
    },
    {
     "data": {
      "text/html": [
       "<div>\n",
       "<style scoped>\n",
       "    .dataframe tbody tr th:only-of-type {\n",
       "        vertical-align: middle;\n",
       "    }\n",
       "\n",
       "    .dataframe tbody tr th {\n",
       "        vertical-align: top;\n",
       "    }\n",
       "\n",
       "    .dataframe thead th {\n",
       "        text-align: right;\n",
       "    }\n",
       "</style>\n",
       "<table border=\"1\" class=\"dataframe\">\n",
       "  <thead>\n",
       "    <tr style=\"text-align: right;\">\n",
       "      <th></th>\n",
       "      <th>na_sales</th>\n",
       "    </tr>\n",
       "    <tr>\n",
       "      <th>genre</th>\n",
       "      <th></th>\n",
       "    </tr>\n",
       "  </thead>\n",
       "  <tbody>\n",
       "    <tr>\n",
       "      <th>Action</th>\n",
       "      <td>126.13</td>\n",
       "    </tr>\n",
       "    <tr>\n",
       "      <th>Shooter</th>\n",
       "      <td>109.74</td>\n",
       "    </tr>\n",
       "    <tr>\n",
       "      <th>Sports</th>\n",
       "      <td>65.27</td>\n",
       "    </tr>\n",
       "    <tr>\n",
       "      <th>Role-Playing</th>\n",
       "      <td>46.40</td>\n",
       "    </tr>\n",
       "    <tr>\n",
       "      <th>Misc</th>\n",
       "      <td>27.49</td>\n",
       "    </tr>\n",
       "  </tbody>\n",
       "</table>\n",
       "</div>"
      ],
      "text/plain": [
       "              na_sales\n",
       "genre                 \n",
       "Action          126.13\n",
       "Shooter         109.74\n",
       "Sports           65.27\n",
       "Role-Playing     46.40\n",
       "Misc             27.49"
      ]
     },
     "metadata": {},
     "output_type": "display_data"
    },
    {
     "data": {
      "image/png": "[encoded data removed]",
      "text/plain": [
       "<Figure size 864x360 with 1 Axes>"
      ]
     },
     "metadata": {
      "needs_background": "light"
     },
     "output_type": "display_data"
    },
    {
     "name": "stdout",
     "output_type": "stream",
     "text": [
      "Популярные жанры в Европе, топ 5\n"
     ]
    },
    {
     "data": {
      "text/html": [
       "<div>\n",
       "<style scoped>\n",
       "    .dataframe tbody tr th:only-of-type {\n",
       "        vertical-align: middle;\n",
       "    }\n",
       "\n",
       "    .dataframe tbody tr th {\n",
       "        vertical-align: top;\n",
       "    }\n",
       "\n",
       "    .dataframe thead th {\n",
       "        text-align: right;\n",
       "    }\n",
       "</style>\n",
       "<table border=\"1\" class=\"dataframe\">\n",
       "  <thead>\n",
       "    <tr style=\"text-align: right;\">\n",
       "      <th></th>\n",
       "      <th>eu_sales</th>\n",
       "    </tr>\n",
       "    <tr>\n",
       "      <th>genre</th>\n",
       "      <th></th>\n",
       "    </tr>\n",
       "  </thead>\n",
       "  <tbody>\n",
       "    <tr>\n",
       "      <th>Action</th>\n",
       "      <td>118.61</td>\n",
       "    </tr>\n",
       "    <tr>\n",
       "      <th>Shooter</th>\n",
       "      <td>87.86</td>\n",
       "    </tr>\n",
       "    <tr>\n",
       "      <th>Sports</th>\n",
       "      <td>60.52</td>\n",
       "    </tr>\n",
       "    <tr>\n",
       "      <th>Role-Playing</th>\n",
       "      <td>36.97</td>\n",
       "    </tr>\n",
       "    <tr>\n",
       "      <th>Racing</th>\n",
       "      <td>20.19</td>\n",
       "    </tr>\n",
       "  </tbody>\n",
       "</table>\n",
       "</div>"
      ],
      "text/plain": [
       "              eu_sales\n",
       "genre                 \n",
       "Action          118.61\n",
       "Shooter          87.86\n",
       "Sports           60.52\n",
       "Role-Playing     36.97\n",
       "Racing           20.19"
      ]
     },
     "metadata": {},
     "output_type": "display_data"
    },
    {
     "data": {
      "image/png": "[encoded data removed]",
      "text/plain": [
       "<Figure size 864x360 with 1 Axes>"
      ]
     },
     "metadata": {
      "needs_background": "light"
     },
     "output_type": "display_data"
    },
    {
     "name": "stdout",
     "output_type": "stream",
     "text": [
      "Популярные жанры в Японии, топ 5\n"
     ]
    },
    {
     "data": {
      "text/html": [
       "<div>\n",
       "<style scoped>\n",
       "    .dataframe tbody tr th:only-of-type {\n",
       "        vertical-align: middle;\n",
       "    }\n",
       "\n",
       "    .dataframe tbody tr th {\n",
       "        vertical-align: top;\n",
       "    }\n",
       "\n",
       "    .dataframe thead th {\n",
       "        text-align: right;\n",
       "    }\n",
       "</style>\n",
       "<table border=\"1\" class=\"dataframe\">\n",
       "  <thead>\n",
       "    <tr style=\"text-align: right;\">\n",
       "      <th></th>\n",
       "      <th>jp_sales</th>\n",
       "    </tr>\n",
       "    <tr>\n",
       "      <th>genre</th>\n",
       "      <th></th>\n",
       "    </tr>\n",
       "  </thead>\n",
       "  <tbody>\n",
       "    <tr>\n",
       "      <th>Role-Playing</th>\n",
       "      <td>51.04</td>\n",
       "    </tr>\n",
       "    <tr>\n",
       "      <th>Action</th>\n",
       "      <td>40.49</td>\n",
       "    </tr>\n",
       "    <tr>\n",
       "      <th>Misc</th>\n",
       "      <td>9.44</td>\n",
       "    </tr>\n",
       "    <tr>\n",
       "      <th>Fighting</th>\n",
       "      <td>7.65</td>\n",
       "    </tr>\n",
       "    <tr>\n",
       "      <th>Shooter</th>\n",
       "      <td>6.61</td>\n",
       "    </tr>\n",
       "  </tbody>\n",
       "</table>\n",
       "</div>"
      ],
      "text/plain": [
       "              jp_sales\n",
       "genre                 \n",
       "Role-Playing     51.04\n",
       "Action           40.49\n",
       "Misc              9.44\n",
       "Fighting          7.65\n",
       "Shooter           6.61"
      ]
     },
     "metadata": {},
     "output_type": "display_data"
    },
    {
     "data": {
      "image/png": "[encoded data removed]",
      "text/plain": [
       "<Figure size 864x360 with 1 Axes>"
      ]
     },
     "metadata": {
      "needs_background": "light"
     },
     "output_type": "display_data"
    }
   ],
   "source": [
    "g5na = games5.pivot_table(index='genre', values='na_sales', aggfunc='sum')\n",
    "g5na = g5na.sort_values(by = 'na_sales', ascending = False).head(5)\n",
    "print('Популярные жанры в Северной Америке, топ 5')\n",
    "display(g5na)\n",
    "\n",
    "plt.figure(figsize=(12,5))\n",
    "sns.barplot(x=g5na.index,y=g5na['na_sales'])\n",
    "plt.title('Популярные жанры в Северной Америке, топ 5')\n",
    "plt.xlabel('Жанр')\n",
    "plt.ylabel('Продажи, всего')\n",
    "plt.show()\n",
    "\n",
    "g5eu = games5.pivot_table(index='genre', values='eu_sales', aggfunc='sum')\n",
    "g5eu = g5eu.sort_values(by = 'eu_sales', ascending = False).head(5)\n",
    "print('Популярные жанры в Европе, топ 5')\n",
    "display(g5eu)\n",
    "\n",
    "plt.figure(figsize=(12,5))\n",
    "sns.barplot(x=g5eu.index,y=g5eu['eu_sales'])\n",
    "plt.title('Популярные жанры в Европе, топ 5')\n",
    "plt.xlabel('Жанр')\n",
    "plt.ylabel('Продажи, всего')\n",
    "plt.show()\n",
    "\n",
    "g5jp = games5.pivot_table(index='genre', values='jp_sales', aggfunc='sum')\n",
    "g5jp = g5jp.sort_values(by = 'jp_sales', ascending = False).head(5)\n",
    "print('Популярные жанры в Японии, топ 5')\n",
    "display(g5jp)\n",
    "\n",
    "plt.figure(figsize=(12,5))\n",
    "sns.barplot(x=g5jp.index,y=g5jp['jp_sales'])\n",
    "plt.title('Популярные жанры в Японии, топ 5')\n",
    "plt.xlabel('Жанр')\n",
    "plt.ylabel('Продажи, всего')\n",
    "plt.show()"
   ]
  },
  {
   "cell_type": "markdown",
   "metadata": {},
   "source": [
    "В Японии Shooter в топе на последнем месте, притом что в Европе и Северной Америке этот жанр на 2 месте.\n",
    "\n",
    "Лидеры из жанров это Action и Shooter, топ-2 в Северной Америке и Европе, в Японии 2 и 5 место."
   ]
  },
  {
   "cell_type": "code",
   "execution_count": 17,
   "metadata": {},
   "outputs": [
    {
     "name": "stdout",
     "output_type": "stream",
     "text": [
      "Продажи игр по рейтингу ESRB в Северной Америке, топ 5\n"
     ]
    },
    {
     "data": {
      "text/html": [
       "<div>\n",
       "<style scoped>\n",
       "    .dataframe tbody tr th:only-of-type {\n",
       "        vertical-align: middle;\n",
       "    }\n",
       "\n",
       "    .dataframe tbody tr th {\n",
       "        vertical-align: top;\n",
       "    }\n",
       "\n",
       "    .dataframe thead th {\n",
       "        text-align: right;\n",
       "    }\n",
       "</style>\n",
       "<table border=\"1\" class=\"dataframe\">\n",
       "  <thead>\n",
       "    <tr style=\"text-align: right;\">\n",
       "      <th></th>\n",
       "      <th>na_sales</th>\n",
       "    </tr>\n",
       "    <tr>\n",
       "      <th>rating</th>\n",
       "      <th></th>\n",
       "    </tr>\n",
       "  </thead>\n",
       "  <tbody>\n",
       "    <tr>\n",
       "      <th>M</th>\n",
       "      <td>165.29</td>\n",
       "    </tr>\n",
       "    <tr>\n",
       "      <th>E</th>\n",
       "      <td>79.05</td>\n",
       "    </tr>\n",
       "    <tr>\n",
       "      <th>E10+</th>\n",
       "      <td>54.24</td>\n",
       "    </tr>\n",
       "    <tr>\n",
       "      <th>T</th>\n",
       "      <td>49.79</td>\n",
       "    </tr>\n",
       "  </tbody>\n",
       "</table>\n",
       "</div>"
      ],
      "text/plain": [
       "        na_sales\n",
       "rating          \n",
       "M         165.29\n",
       "E          79.05\n",
       "E10+       54.24\n",
       "T          49.79"
      ]
     },
     "metadata": {},
     "output_type": "display_data"
    },
    {
     "data": {
      "image/png": "[encoded data removed]",
      "text/plain": [
       "<Figure size 864x360 with 1 Axes>"
      ]
     },
     "metadata": {
      "needs_background": "light"
     },
     "output_type": "display_data"
    },
    {
     "name": "stdout",
     "output_type": "stream",
     "text": [
      "Продажи игр по рейтингу ESRB в Европе, топ 5\n"
     ]
    },
    {
     "data": {
      "text/html": [
       "<div>\n",
       "<style scoped>\n",
       "    .dataframe tbody tr th:only-of-type {\n",
       "        vertical-align: middle;\n",
       "    }\n",
       "\n",
       "    .dataframe tbody tr th {\n",
       "        vertical-align: top;\n",
       "    }\n",
       "\n",
       "    .dataframe thead th {\n",
       "        text-align: right;\n",
       "    }\n",
       "</style>\n",
       "<table border=\"1\" class=\"dataframe\">\n",
       "  <thead>\n",
       "    <tr style=\"text-align: right;\">\n",
       "      <th></th>\n",
       "      <th>eu_sales</th>\n",
       "    </tr>\n",
       "    <tr>\n",
       "      <th>rating</th>\n",
       "      <th></th>\n",
       "    </tr>\n",
       "  </thead>\n",
       "  <tbody>\n",
       "    <tr>\n",
       "      <th>M</th>\n",
       "      <td>145.80</td>\n",
       "    </tr>\n",
       "    <tr>\n",
       "      <th>E</th>\n",
       "      <td>83.36</td>\n",
       "    </tr>\n",
       "    <tr>\n",
       "      <th>E10+</th>\n",
       "      <td>42.69</td>\n",
       "    </tr>\n",
       "    <tr>\n",
       "      <th>T</th>\n",
       "      <td>41.95</td>\n",
       "    </tr>\n",
       "  </tbody>\n",
       "</table>\n",
       "</div>"
      ],
      "text/plain": [
       "        eu_sales\n",
       "rating          \n",
       "M         145.80\n",
       "E          83.36\n",
       "E10+       42.69\n",
       "T          41.95"
      ]
     },
     "metadata": {},
     "output_type": "display_data"
    },
    {
     "data": {
      "image/png": "[encoded data removed]",
      "text/plain": [
       "<Figure size 864x360 with 1 Axes>"
      ]
     },
     "metadata": {
      "needs_background": "light"
     },
     "output_type": "display_data"
    },
    {
     "name": "stdout",
     "output_type": "stream",
     "text": [
      "Продажи игр по рейтингу ESRB в Японии, топ 5\n"
     ]
    },
    {
     "data": {
      "text/html": [
       "<div>\n",
       "<style scoped>\n",
       "    .dataframe tbody tr th:only-of-type {\n",
       "        vertical-align: middle;\n",
       "    }\n",
       "\n",
       "    .dataframe tbody tr th {\n",
       "        vertical-align: top;\n",
       "    }\n",
       "\n",
       "    .dataframe thead th {\n",
       "        text-align: right;\n",
       "    }\n",
       "</style>\n",
       "<table border=\"1\" class=\"dataframe\">\n",
       "  <thead>\n",
       "    <tr style=\"text-align: right;\">\n",
       "      <th></th>\n",
       "      <th>jp_sales</th>\n",
       "    </tr>\n",
       "    <tr>\n",
       "      <th>rating</th>\n",
       "      <th></th>\n",
       "    </tr>\n",
       "  </thead>\n",
       "  <tbody>\n",
       "    <tr>\n",
       "      <th>T</th>\n",
       "      <td>20.59</td>\n",
       "    </tr>\n",
       "    <tr>\n",
       "      <th>E</th>\n",
       "      <td>15.14</td>\n",
       "    </tr>\n",
       "    <tr>\n",
       "      <th>M</th>\n",
       "      <td>14.11</td>\n",
       "    </tr>\n",
       "    <tr>\n",
       "      <th>E10+</th>\n",
       "      <td>5.89</td>\n",
       "    </tr>\n",
       "  </tbody>\n",
       "</table>\n",
       "</div>"
      ],
      "text/plain": [
       "        jp_sales\n",
       "rating          \n",
       "T          20.59\n",
       "E          15.14\n",
       "M          14.11\n",
       "E10+        5.89"
      ]
     },
     "metadata": {},
     "output_type": "display_data"
    },
    {
     "data": {
      "image/png": "[encoded data removed]",
      "text/plain": [
       "<Figure size 864x360 with 1 Axes>"
      ]
     },
     "metadata": {
      "needs_background": "light"
     },
     "output_type": "display_data"
    }
   ],
   "source": [
    "r5na = games5.pivot_table(index='rating', values='na_sales', aggfunc='sum')\n",
    "r5na = r5na.sort_values(by = 'na_sales', ascending = False).head(5)\n",
    "print('Продажи игр по рейтингу ESRB в Северной Америке, топ 5')\n",
    "display(r5na)\n",
    "\n",
    "plt.figure(figsize=(12,5))\n",
    "sns.barplot(x=r5na.index,y=r5na['na_sales'])\n",
    "plt.title('Продажи игр по рейтингу ESRB в Северной Америке, топ 5')\n",
    "plt.xlabel('Рейтинг')\n",
    "plt.ylabel('Продажи, всего')\n",
    "plt.show()\n",
    "\n",
    "r5eu = games5.pivot_table(index='rating', values='eu_sales', aggfunc='sum')\n",
    "r5eu = r5eu.sort_values(by = 'eu_sales', ascending = False).head(5)\n",
    "print('Продажи игр по рейтингу ESRB в Европе, топ 5')\n",
    "display(r5eu)\n",
    "\n",
    "plt.figure(figsize=(12,5))\n",
    "sns.barplot(x=r5eu.index,y=r5eu['eu_sales'])\n",
    "plt.title('Продажи игр по рейтингу ESRB в Европе, топ 5')\n",
    "plt.xlabel('Рейтинг')\n",
    "plt.ylabel('Продажи, всего')\n",
    "plt.show()\n",
    "\n",
    "r5jp = games5.pivot_table(index='rating', values='jp_sales', aggfunc='sum')\n",
    "r5jp = r5jp.sort_values(by = 'jp_sales', ascending = False).head(5)\n",
    "print('Продажи игр по рейтингу ESRB в Японии, топ 5')\n",
    "display(r5jp)\n",
    "\n",
    "plt.figure(figsize=(12,5))\n",
    "sns.barplot(x=r5jp.index,y=r5jp['jp_sales'])\n",
    "plt.title('Продажи игр по рейтингу ESRB в Японии, топ 5')\n",
    "plt.xlabel('Рейтинг')\n",
    "plt.ylabel('Продажи, всего')\n",
    "plt.show()"
   ]
  },
  {
   "cell_type": "markdown",
   "metadata": {},
   "source": [
    "Топ-4 по рейтингам практически одинаков по Европе и Северной Америке. Лучше всего продаются игры с рейтингом: M, E, E10+, T.\n",
    "\n",
    "В Японии ситуация иная: T является лидером, затем идёт E, M лишь на 3 месте и замыкает список E10+. Возможно, в Японии существует цензура, которая не пропускает все проекты с рейтингом M."
   ]
  },
  {
   "cell_type": "markdown",
   "metadata": {},
   "source": [
    "## Проверка гипотез"
   ]
  },
  {
   "cell_type": "markdown",
   "metadata": {},
   "source": [
    "Данные недостаточно нормально распределены, поэтому применим тест Манна-Уитни.\n",
    "\n",
    "<b>H0: Средние пользовательские рейтинги платформ Xbox One и PC одинаковые</b>\n",
    "\n",
    "<b>H1: Средние пользовательские рейтинги платформ Xbox One и PC различаются</b>"
   ]
  },
  {
   "cell_type": "code",
   "execution_count": 18,
   "metadata": {},
   "outputs": [
    {
     "name": "stdout",
     "output_type": "stream",
     "text": [
      "6.2803797468354405\n",
      "6.52142857142857\n"
     ]
    },
    {
     "name": "stderr",
     "output_type": "stream",
     "text": [
      "C:\\Users\\Ant\\anaconda3\\lib\\site-packages\\seaborn\\distributions.py:2557: FutureWarning: `distplot` is a deprecated function and will be removed in a future version. Please adapt your code to use either `displot` (a figure-level function with similar flexibility) or `histplot` (an axes-level function for histograms).\n",
      "  warnings.warn(msg, FutureWarning)\n",
      "C:\\Users\\Ant\\anaconda3\\lib\\site-packages\\seaborn\\distributions.py:2557: FutureWarning: `distplot` is a deprecated function and will be removed in a future version. Please adapt your code to use either `displot` (a figure-level function with similar flexibility) or `histplot` (an axes-level function for histograms).\n",
      "  warnings.warn(msg, FutureWarning)\n"
     ]
    },
    {
     "data": {
      "image/png": "[encoded data removed]",
      "text/plain": [
       "<Figure size 432x288 with 1 Axes>"
      ]
     },
     "metadata": {
      "needs_background": "light"
     },
     "output_type": "display_data"
    },
    {
     "name": "stdout",
     "output_type": "stream",
     "text": [
      "p-значение:  0.5184754169156851\n",
      "Не получилось отвергнуть нулевую гипотезу\n"
     ]
    }
   ],
   "source": [
    "pc = gip[gip['platform']=='pc']['user_score']\n",
    "xo = gip[gip['platform']=='xone']['user_score']\n",
    "\n",
    "print(pc.mean())\n",
    "print(xo.mean())\n",
    "\n",
    "sns.distplot(pc)\n",
    "sns.distplot(xo)\n",
    "plt.show()\n",
    "\n",
    "alpha=0.05\n",
    "\n",
    "results = st.mannwhitneyu(pc, xo, alternative='two-sided')\n",
    "print('p-значение: ', results.pvalue)\n",
    "\n",
    "if (results.pvalue < alpha):\n",
    "    print(\"Отвергаем нулевую гипотезу\")\n",
    "else:\n",
    "    print(\"Не получилось отвергнуть нулевую гипотезу\")"
   ]
  },
  {
   "cell_type": "markdown",
   "metadata": {},
   "source": [
    "Не получилось отвергнуть нулевую гипотезу - средние пользовательские рейтинги платформ Xbox One и PC одинаковые."
   ]
  },
  {
   "cell_type": "markdown",
   "metadata": {},
   "source": [
    "Данные недостаточно нормально распределены, поэтому применим тест Манна-Уитни и для второй гипотезы.\n",
    "\n",
    "<b>H0: Средние пользовательские рейтинги жанров Action и Sports одинаковые</b>\n",
    "\n",
    "<b>H1: Средние пользовательские рейтинги жанров Action и Sports разные</b>"
   ]
  },
  {
   "cell_type": "code",
   "execution_count": 19,
   "metadata": {},
   "outputs": [
    {
     "name": "stdout",
     "output_type": "stream",
     "text": [
      "6.837500000000005\n",
      "5.238124999999999\n"
     ]
    },
    {
     "name": "stderr",
     "output_type": "stream",
     "text": [
      "C:\\Users\\Ant\\anaconda3\\lib\\site-packages\\seaborn\\distributions.py:2557: FutureWarning: `distplot` is a deprecated function and will be removed in a future version. Please adapt your code to use either `displot` (a figure-level function with similar flexibility) or `histplot` (an axes-level function for histograms).\n",
      "  warnings.warn(msg, FutureWarning)\n",
      "C:\\Users\\Ant\\anaconda3\\lib\\site-packages\\seaborn\\distributions.py:2557: FutureWarning: `distplot` is a deprecated function and will be removed in a future version. Please adapt your code to use either `displot` (a figure-level function with similar flexibility) or `histplot` (an axes-level function for histograms).\n",
      "  warnings.warn(msg, FutureWarning)\n"
     ]
    },
    {
     "data": {
      "image/png": "[encoded data removed]",
      "text/plain": [
       "<Figure size 432x288 with 1 Axes>"
      ]
     },
     "metadata": {
      "needs_background": "light"
     },
     "output_type": "display_data"
    },
    {
     "name": "stdout",
     "output_type": "stream",
     "text": [
      "p-значение:  1.4675271698449454e-23\n",
      "Отвергаем нулевую гипотезу\n"
     ]
    }
   ],
   "source": [
    "act = gip[gip['genre']=='Action']['user_score']\n",
    "spo = gip[gip['genre']=='Sports']['user_score']\n",
    "\n",
    "print(act.mean())\n",
    "print(spo.mean())\n",
    "\n",
    "sns.distplot(act)\n",
    "sns.distplot(spo)\n",
    "plt.show()\n",
    "\n",
    "results = st.mannwhitneyu(act, spo, alternative='two-sided')\n",
    "print('p-значение: ', results.pvalue)\n",
    "\n",
    "if (results.pvalue < alpha):\n",
    "    print(\"Отвергаем нулевую гипотезу\")\n",
    "else:\n",
    "    print(\"Не получилось отвергнуть нулевую гипотезу\")"
   ]
  },
  {
   "cell_type": "markdown",
   "metadata": {},
   "source": [
    "Отвергаем нулевую гипотезу о том, что средние пользовательские рейтинги жанров Action и Sports одинаковые."
   ]
  },
  {
   "cell_type": "markdown",
   "metadata": {},
   "source": [
    "## Общий вывод"
   ]
  },
  {
   "cell_type": "markdown",
   "metadata": {},
   "source": [
    "В ходе работы были обработаны данные о продажах игр, оценки пользователей и экспертов, жанры и платформы. Необходимо выявить определяющие успешность игры закономерности.\n",
    "\n",
    "По итогам работы выяснилось много деталей из этих данных.\n",
    "\n",
    "C 2000 года на рынке стало появляться много игр. Произошёл резкий рост. При этом после 2010 года начался спад, если такими темпами он продолжится, то количество выпускаемых игр в год упадёт до уровня 2000 года.\n",
    "\n",
    "Топ-5 продаж по платформам составляют: xone, wiiu, ps4, pc, 3ds. Жизненный цикл платформ из топ-5 в среднем составляет 10 лет.\n",
    "В работе проведена оценка данных от 2013 года.\n",
    "\n",
    "Лучшая средняя оценка пользователей у платформ ds3 и wiiu по 7,0 балла. Лучшая средняя оценка от критиков у платформы pc.\n",
    "\n",
    "Существует некоторая зависимость между оценками критиков и продажами, вероятно игроки обращают внимание на данные оценки и принимают решение о покупке, используя эти данные. В то же время оценки игроков зачастую не имеют зависимости с продажами, их мнение бывает очень различным. Наблюдается тренд, что чем выше оценка критиков, тем лучше продаётся игра.\n",
    "\n",
    "В топ-5 самых прибыльных жанров входят: Action, Shooter, Sports, Role-Playing и Misc. Action является ярковыраженным лидером по количесту проданных копий. При этом средняя цена игр жанра Shooter в 3 раза больше, чем у Action. Самая низкая средняя цена у игр жанра Adventure. Хуже всего продаются Strategy (видимо люди не любят думать, а также им скучно), Puzzle (интересно лишь детям).\n",
    "\n",
    "Топ-4 по рейтингам практически одинаков по Европе и Северной Америке. Лучше всего продаются игры с рейтингом: M, E, E10+, T. В Японии ситуация иная: T является лидером, затем идёт E, M лишь на 3 месте и замыкает список E10+. Возможно в Японии существует цензура, которая не пропускает все проекты с рейтингом M.\n",
    "\n",
    "Были проверены гипотезы:\n",
    "\n",
    "1)\tСредние пользовательские рейтинги платформ Xbox One и PC одинаковые - подтверждена\n",
    "\n",
    "2)\tСредние пользовательские рейтинги жанров Action и Sports одинаковые - отвергнута\n",
    "\n",
    "Предложения:\n",
    "\n",
    "1. Следует акцентировать внимание на платформе PlayStation 4 (ps4), она находится на пике жизненного цикла.\n",
    "2. Самый успешный жанр по количеству копий Action, по средней цене копии - Shooter.\n",
    "3. Рейтинг M в лидерах."
   ]
  }
 ],
 "metadata": {
  "ExecuteTimeLog": [
   {
    "duration": 1071,
    "start_time": "2021-08-09T15:05:17.549Z"
   },
   {
    "duration": 74,
    "start_time": "2021-08-09T15:06:07.710Z"
   },
   {
    "duration": 40,
    "start_time": "2021-08-09T15:16:40.206Z"
   },
   {
    "duration": 396,
    "start_time": "2021-08-09T15:18:29.783Z"
   },
   {
    "duration": 495,
    "start_time": "2021-08-09T15:18:37.680Z"
   },
   {
    "duration": 1924,
    "start_time": "2021-08-09T15:18:38.942Z"
   },
   {
    "duration": 59,
    "start_time": "2021-08-09T15:23:24.952Z"
   },
   {
    "duration": 55,
    "start_time": "2021-08-09T15:23:38.569Z"
   },
   {
    "duration": 53,
    "start_time": "2021-08-09T15:25:41.080Z"
   },
   {
    "duration": 55,
    "start_time": "2021-08-09T15:25:56.001Z"
   },
   {
    "duration": 55,
    "start_time": "2021-08-09T15:26:04.896Z"
   },
   {
    "duration": 54,
    "start_time": "2021-08-09T15:26:16.872Z"
   },
   {
    "duration": 54,
    "start_time": "2021-08-09T15:26:24.928Z"
   },
   {
    "duration": 53,
    "start_time": "2021-08-09T15:26:31.345Z"
   },
   {
    "duration": 52,
    "start_time": "2021-08-09T15:26:43.760Z"
   },
   {
    "duration": 55,
    "start_time": "2021-08-09T15:26:52.752Z"
   },
   {
    "duration": 55,
    "start_time": "2021-08-09T15:29:12.665Z"
   },
   {
    "duration": 65,
    "start_time": "2021-08-09T15:30:01.369Z"
   },
   {
    "duration": 67,
    "start_time": "2021-08-09T15:32:39.440Z"
   },
   {
    "duration": 242,
    "start_time": "2021-08-09T16:21:12.003Z"
   },
   {
    "duration": 229,
    "start_time": "2021-08-09T16:21:23.131Z"
   },
   {
    "duration": 208,
    "start_time": "2021-08-09T16:21:29.476Z"
   },
   {
    "duration": 45,
    "start_time": "2021-08-09T16:21:42.947Z"
   },
   {
    "duration": 174,
    "start_time": "2021-08-09T16:38:50.833Z"
   },
   {
    "duration": 200,
    "start_time": "2021-08-09T16:38:56.507Z"
   },
   {
    "duration": 46,
    "start_time": "2021-08-09T16:39:00.481Z"
   },
   {
    "duration": 235,
    "start_time": "2021-08-09T16:39:00.529Z"
   },
   {
    "duration": 43,
    "start_time": "2021-08-09T16:40:19.138Z"
   },
   {
    "duration": 184,
    "start_time": "2021-08-09T16:40:20.250Z"
   },
   {
    "duration": 5,
    "start_time": "2021-08-09T16:41:57.499Z"
   },
   {
    "duration": 9,
    "start_time": "2021-08-09T16:42:07.499Z"
   },
   {
    "duration": 16,
    "start_time": "2021-08-09T16:42:23.906Z"
   },
   {
    "duration": 41,
    "start_time": "2021-08-09T16:42:40.867Z"
   },
   {
    "duration": 48,
    "start_time": "2021-08-09T16:42:49.699Z"
   },
   {
    "duration": 4536,
    "start_time": "2021-08-09T16:44:12.346Z"
   },
   {
    "duration": 5105,
    "start_time": "2021-08-09T16:44:21.188Z"
   },
   {
    "duration": 46,
    "start_time": "2021-08-09T16:44:42.379Z"
   },
   {
    "duration": 62,
    "start_time": "2021-08-09T16:44:59.130Z"
   },
   {
    "duration": 49,
    "start_time": "2021-08-09T16:45:02.106Z"
   },
   {
    "duration": 45,
    "start_time": "2021-08-09T16:45:07.090Z"
   },
   {
    "duration": 40,
    "start_time": "2021-08-09T16:45:47.178Z"
   },
   {
    "duration": 54,
    "start_time": "2021-08-09T16:46:43.258Z"
   },
   {
    "duration": 51,
    "start_time": "2021-08-09T16:46:53.123Z"
   },
   {
    "duration": 51,
    "start_time": "2021-08-09T16:47:09.251Z"
   },
   {
    "duration": 65,
    "start_time": "2021-08-09T16:48:19.891Z"
   },
   {
    "duration": 55,
    "start_time": "2021-08-09T16:48:26.483Z"
   },
   {
    "duration": 57,
    "start_time": "2021-08-09T16:48:27.690Z"
   },
   {
    "duration": 189,
    "start_time": "2021-08-09T16:48:36.770Z"
   },
   {
    "duration": 189,
    "start_time": "2021-08-09T16:48:48.563Z"
   },
   {
    "duration": 224,
    "start_time": "2021-08-09T16:49:21.250Z"
   },
   {
    "duration": 193,
    "start_time": "2021-08-09T16:49:32.738Z"
   },
   {
    "duration": 50,
    "start_time": "2021-08-09T16:49:35.717Z"
   },
   {
    "duration": 197,
    "start_time": "2021-08-09T16:49:35.769Z"
   },
   {
    "duration": 63,
    "start_time": "2021-08-09T16:51:32.754Z"
   },
   {
    "duration": 56,
    "start_time": "2021-08-09T16:52:01.938Z"
   },
   {
    "duration": 58,
    "start_time": "2021-08-09T16:52:26.082Z"
   },
   {
    "duration": 230,
    "start_time": "2021-08-09T16:52:27.132Z"
   },
   {
    "duration": 60,
    "start_time": "2021-08-09T16:54:37.676Z"
   },
   {
    "duration": 57,
    "start_time": "2021-08-09T17:11:25.060Z"
   },
   {
    "duration": 66,
    "start_time": "2021-08-09T17:11:26.028Z"
   },
   {
    "duration": 61,
    "start_time": "2021-08-09T17:11:59.092Z"
   },
   {
    "duration": 56,
    "start_time": "2021-08-09T17:12:04.692Z"
   },
   {
    "duration": 59,
    "start_time": "2021-08-09T17:12:04.749Z"
   },
   {
    "duration": 225,
    "start_time": "2021-08-09T17:12:43.700Z"
   },
   {
    "duration": 59,
    "start_time": "2021-08-09T17:12:45.939Z"
   },
   {
    "duration": 203,
    "start_time": "2021-08-09T17:12:47.180Z"
   },
   {
    "duration": 193,
    "start_time": "2021-08-09T17:14:42.140Z"
   },
   {
    "duration": 57,
    "start_time": "2021-08-09T17:14:45.330Z"
   },
   {
    "duration": 205,
    "start_time": "2021-08-09T17:14:45.389Z"
   },
   {
    "duration": 190,
    "start_time": "2021-08-09T17:14:51.147Z"
   },
   {
    "duration": 57,
    "start_time": "2021-08-09T17:14:54.068Z"
   },
   {
    "duration": 200,
    "start_time": "2021-08-09T17:14:54.127Z"
   },
   {
    "duration": 208,
    "start_time": "2021-08-09T17:15:33.259Z"
   },
   {
    "duration": 58,
    "start_time": "2021-08-09T17:15:36.240Z"
   },
   {
    "duration": 198,
    "start_time": "2021-08-09T17:15:36.300Z"
   },
   {
    "duration": 205,
    "start_time": "2021-08-09T17:15:45.763Z"
   },
   {
    "duration": 55,
    "start_time": "2021-08-09T17:15:49.012Z"
   },
   {
    "duration": 212,
    "start_time": "2021-08-09T17:15:49.068Z"
   },
   {
    "duration": 204,
    "start_time": "2021-08-09T17:15:58.635Z"
   },
   {
    "duration": 81,
    "start_time": "2021-08-09T17:16:54.964Z"
   },
   {
    "duration": 65,
    "start_time": "2021-08-09T17:17:17.280Z"
   },
   {
    "duration": 81,
    "start_time": "2021-08-09T17:17:17.346Z"
   },
   {
    "duration": 75,
    "start_time": "2021-08-09T17:17:52.460Z"
   },
   {
    "duration": 68,
    "start_time": "2021-08-09T17:17:55.026Z"
   },
   {
    "duration": 72,
    "start_time": "2021-08-09T17:17:55.096Z"
   },
   {
    "duration": 69,
    "start_time": "2021-08-09T17:18:09.844Z"
   },
   {
    "duration": 76,
    "start_time": "2021-08-09T17:18:18.364Z"
   },
   {
    "duration": 59,
    "start_time": "2021-08-09T17:18:21.213Z"
   },
   {
    "duration": 78,
    "start_time": "2021-08-09T17:18:21.274Z"
   },
   {
    "duration": 60,
    "start_time": "2021-08-09T17:19:15.482Z"
   },
   {
    "duration": 77,
    "start_time": "2021-08-09T17:19:15.544Z"
   },
   {
    "duration": 75,
    "start_time": "2021-08-09T17:23:47.748Z"
   },
   {
    "duration": 60,
    "start_time": "2021-08-09T17:24:10.525Z"
   },
   {
    "duration": 108,
    "start_time": "2021-08-09T17:24:10.587Z"
   },
   {
    "duration": 58,
    "start_time": "2021-08-09T17:25:29.306Z"
   },
   {
    "duration": 84,
    "start_time": "2021-08-09T17:25:29.366Z"
   },
   {
    "duration": 5,
    "start_time": "2021-08-09T17:26:29.060Z"
   },
   {
    "duration": 3,
    "start_time": "2021-08-09T17:26:38.852Z"
   },
   {
    "duration": 54,
    "start_time": "2021-08-09T17:26:41.142Z"
   },
   {
    "duration": 91,
    "start_time": "2021-08-09T17:26:41.199Z"
   },
   {
    "duration": 3,
    "start_time": "2021-08-09T17:26:41.291Z"
   },
   {
    "duration": 72,
    "start_time": "2021-08-09T17:27:00.029Z"
   },
   {
    "duration": 4,
    "start_time": "2021-08-09T17:27:02.275Z"
   },
   {
    "duration": 187,
    "start_time": "2021-08-09T17:28:06.347Z"
   },
   {
    "duration": 61,
    "start_time": "2021-08-09T17:28:08.824Z"
   },
   {
    "duration": 69,
    "start_time": "2021-08-09T17:28:08.887Z"
   },
   {
    "duration": 221,
    "start_time": "2021-08-09T17:28:08.958Z"
   },
   {
    "duration": 25,
    "start_time": "2021-08-09T17:28:37.996Z"
   },
   {
    "duration": 15,
    "start_time": "2021-08-09T17:29:14.397Z"
   },
   {
    "duration": 25,
    "start_time": "2021-08-09T17:29:48.916Z"
   },
   {
    "duration": 16,
    "start_time": "2021-08-09T17:29:59.252Z"
   },
   {
    "duration": 60,
    "start_time": "2021-08-09T17:34:42.340Z"
   },
   {
    "duration": 14,
    "start_time": "2021-08-09T17:49:30.157Z"
   },
   {
    "duration": 20,
    "start_time": "2021-08-09T17:50:21.756Z"
   },
   {
    "duration": 21,
    "start_time": "2021-08-09T17:52:42.509Z"
   },
   {
    "duration": 22,
    "start_time": "2021-08-09T17:52:49.735Z"
   },
   {
    "duration": 21,
    "start_time": "2021-08-09T17:53:22.805Z"
   },
   {
    "duration": 21,
    "start_time": "2021-08-09T17:54:24.996Z"
   },
   {
    "duration": 14,
    "start_time": "2021-08-09T17:59:48.653Z"
   },
   {
    "duration": 181,
    "start_time": "2021-08-09T18:00:04.789Z"
   },
   {
    "duration": 13,
    "start_time": "2021-08-09T18:00:07.189Z"
   },
   {
    "duration": 57,
    "start_time": "2021-08-09T18:03:35.885Z"
   },
   {
    "duration": 70,
    "start_time": "2021-08-09T18:03:35.943Z"
   },
   {
    "duration": 12,
    "start_time": "2021-08-09T18:03:36.015Z"
   },
   {
    "duration": 2,
    "start_time": "2021-08-09T18:03:36.029Z"
   },
   {
    "duration": 27,
    "start_time": "2021-08-09T18:03:36.033Z"
   },
   {
    "duration": 2,
    "start_time": "2021-08-09T18:03:36.061Z"
   },
   {
    "duration": 1153,
    "start_time": "2021-08-10T14:37:49.550Z"
   },
   {
    "duration": 70,
    "start_time": "2021-08-10T14:37:50.704Z"
   },
   {
    "duration": 23,
    "start_time": "2021-08-10T14:37:50.777Z"
   },
   {
    "duration": 2,
    "start_time": "2021-08-10T14:37:50.801Z"
   },
   {
    "duration": 21,
    "start_time": "2021-08-10T14:37:50.805Z"
   },
   {
    "duration": 2,
    "start_time": "2021-08-10T14:37:50.828Z"
   },
   {
    "duration": 400,
    "start_time": "2021-08-10T14:51:40.060Z"
   },
   {
    "duration": 77,
    "start_time": "2021-08-10T14:51:45.859Z"
   },
   {
    "duration": 57,
    "start_time": "2021-08-10T14:51:48.335Z"
   },
   {
    "duration": 83,
    "start_time": "2021-08-10T14:51:48.394Z"
   },
   {
    "duration": 29,
    "start_time": "2021-08-10T14:51:48.479Z"
   },
   {
    "duration": 3,
    "start_time": "2021-08-10T14:51:48.510Z"
   },
   {
    "duration": 33,
    "start_time": "2021-08-10T14:51:48.515Z"
   },
   {
    "duration": 2,
    "start_time": "2021-08-10T14:51:48.550Z"
   },
   {
    "duration": 5,
    "start_time": "2021-08-10T14:52:40.476Z"
   },
   {
    "duration": 19,
    "start_time": "2021-08-10T14:53:06.114Z"
   },
   {
    "duration": 8,
    "start_time": "2021-08-10T14:53:17.299Z"
   },
   {
    "duration": 21,
    "start_time": "2021-08-10T14:53:25.275Z"
   },
   {
    "duration": 241,
    "start_time": "2021-08-10T14:53:44.403Z"
   },
   {
    "duration": 20,
    "start_time": "2021-08-10T14:53:51.522Z"
   },
   {
    "duration": 612,
    "start_time": "2021-08-10T14:54:39.435Z"
   },
   {
    "duration": 95,
    "start_time": "2021-08-10T14:54:50.658Z"
   },
   {
    "duration": 21,
    "start_time": "2021-08-10T14:55:09.651Z"
   },
   {
    "duration": 14,
    "start_time": "2021-08-10T14:55:15.643Z"
   },
   {
    "duration": 274,
    "start_time": "2021-08-10T14:56:18.259Z"
   },
   {
    "duration": 15,
    "start_time": "2021-08-10T14:56:56.379Z"
   },
   {
    "duration": 20,
    "start_time": "2021-08-10T14:57:09.491Z"
   },
   {
    "duration": 34,
    "start_time": "2021-08-10T14:57:32.092Z"
   },
   {
    "duration": 24,
    "start_time": "2021-08-10T14:58:12.379Z"
   },
   {
    "duration": 15,
    "start_time": "2021-08-10T14:58:38.851Z"
   },
   {
    "duration": 19,
    "start_time": "2021-08-10T14:58:45.003Z"
   },
   {
    "duration": 25,
    "start_time": "2021-08-10T14:58:47.675Z"
   },
   {
    "duration": 278,
    "start_time": "2021-08-10T15:00:53.977Z"
   },
   {
    "duration": 353,
    "start_time": "2021-08-10T15:01:04.988Z"
   },
   {
    "duration": 62,
    "start_time": "2021-08-10T15:01:07.877Z"
   },
   {
    "duration": 86,
    "start_time": "2021-08-10T15:01:07.941Z"
   },
   {
    "duration": 13,
    "start_time": "2021-08-10T15:01:08.028Z"
   },
   {
    "duration": 320,
    "start_time": "2021-08-10T15:01:08.042Z"
   },
   {
    "duration": 339,
    "start_time": "2021-08-10T15:01:08.025Z"
   },
   {
    "duration": 338,
    "start_time": "2021-08-10T15:01:08.027Z"
   },
   {
    "duration": 452,
    "start_time": "2021-08-10T15:01:16.763Z"
   },
   {
    "duration": 447,
    "start_time": "2021-08-10T15:01:39.355Z"
   },
   {
    "duration": 532,
    "start_time": "2021-08-10T15:01:47.140Z"
   },
   {
    "duration": 497,
    "start_time": "2021-08-10T15:01:55.347Z"
   },
   {
    "duration": 255,
    "start_time": "2021-08-10T15:01:59.667Z"
   },
   {
    "duration": 257,
    "start_time": "2021-08-10T15:02:05.044Z"
   },
   {
    "duration": 354,
    "start_time": "2021-08-10T15:02:21.107Z"
   },
   {
    "duration": 7046,
    "start_time": "2021-08-10T15:02:47.843Z"
   },
   {
    "duration": 6585,
    "start_time": "2021-08-10T15:03:00.670Z"
   },
   {
    "duration": 257,
    "start_time": "2021-08-10T15:03:15.060Z"
   },
   {
    "duration": 282,
    "start_time": "2021-08-10T15:03:43.443Z"
   },
   {
    "duration": 554,
    "start_time": "2021-08-10T15:05:35.548Z"
   },
   {
    "duration": 510,
    "start_time": "2021-08-10T15:05:56.724Z"
   },
   {
    "duration": 55,
    "start_time": "2021-08-10T15:06:07.517Z"
   },
   {
    "duration": 73,
    "start_time": "2021-08-10T15:06:07.574Z"
   },
   {
    "duration": 12,
    "start_time": "2021-08-10T15:06:07.648Z"
   },
   {
    "duration": 522,
    "start_time": "2021-08-10T15:06:07.662Z"
   },
   {
    "duration": 343,
    "start_time": "2021-08-10T15:06:07.842Z"
   },
   {
    "duration": 343,
    "start_time": "2021-08-10T15:06:07.843Z"
   },
   {
    "duration": 6603,
    "start_time": "2021-08-10T15:07:08.388Z"
   },
   {
    "duration": 56,
    "start_time": "2021-08-10T15:07:16.111Z"
   },
   {
    "duration": 73,
    "start_time": "2021-08-10T15:07:16.168Z"
   },
   {
    "duration": 14,
    "start_time": "2021-08-10T15:07:16.243Z"
   },
   {
    "duration": 6529,
    "start_time": "2021-08-10T15:07:16.259Z"
   },
   {
    "duration": 352,
    "start_time": "2021-08-10T15:07:22.438Z"
   },
   {
    "duration": 352,
    "start_time": "2021-08-10T15:07:22.439Z"
   },
   {
    "duration": 412,
    "start_time": "2021-08-10T15:07:43.276Z"
   },
   {
    "duration": 274,
    "start_time": "2021-08-10T15:07:48.044Z"
   },
   {
    "duration": 57,
    "start_time": "2021-08-10T15:08:15.357Z"
   },
   {
    "duration": 65,
    "start_time": "2021-08-10T15:08:15.416Z"
   },
   {
    "duration": 17,
    "start_time": "2021-08-10T15:08:15.491Z"
   },
   {
    "duration": 284,
    "start_time": "2021-08-10T15:08:15.509Z"
   },
   {
    "duration": 24,
    "start_time": "2021-08-10T15:08:15.795Z"
   },
   {
    "duration": 2,
    "start_time": "2021-08-10T15:08:15.821Z"
   },
   {
    "duration": 582,
    "start_time": "2021-08-10T15:09:30.748Z"
   },
   {
    "duration": 535,
    "start_time": "2021-08-10T15:09:46.301Z"
   },
   {
    "duration": 637,
    "start_time": "2021-08-10T15:10:01.500Z"
   },
   {
    "duration": 400,
    "start_time": "2021-08-10T15:10:08.348Z"
   },
   {
    "duration": 480,
    "start_time": "2021-08-10T15:10:32.924Z"
   },
   {
    "duration": 400,
    "start_time": "2021-08-10T15:18:47.948Z"
   },
   {
    "duration": 273,
    "start_time": "2021-08-10T15:24:01.782Z"
   },
   {
    "duration": 60,
    "start_time": "2021-08-10T15:24:09.471Z"
   },
   {
    "duration": 289,
    "start_time": "2021-08-10T15:24:09.533Z"
   },
   {
    "duration": 365,
    "start_time": "2021-08-10T15:24:09.458Z"
   },
   {
    "duration": 357,
    "start_time": "2021-08-10T15:24:09.467Z"
   },
   {
    "duration": 357,
    "start_time": "2021-08-10T15:24:09.468Z"
   },
   {
    "duration": 358,
    "start_time": "2021-08-10T15:24:09.468Z"
   },
   {
    "duration": 5943,
    "start_time": "2021-08-10T15:24:25.020Z"
   },
   {
    "duration": 56,
    "start_time": "2021-08-10T15:24:35.063Z"
   },
   {
    "duration": 260,
    "start_time": "2021-08-10T15:24:35.121Z"
   },
   {
    "duration": 360,
    "start_time": "2021-08-10T15:24:35.023Z"
   },
   {
    "duration": 358,
    "start_time": "2021-08-10T15:24:35.026Z"
   },
   {
    "duration": 358,
    "start_time": "2021-08-10T15:24:35.027Z"
   },
   {
    "duration": 358,
    "start_time": "2021-08-10T15:24:35.028Z"
   },
   {
    "duration": 60,
    "start_time": "2021-08-10T15:24:43.093Z"
   },
   {
    "duration": 72,
    "start_time": "2021-08-10T15:24:43.154Z"
   },
   {
    "duration": 14,
    "start_time": "2021-08-10T15:24:43.228Z"
   },
   {
    "duration": 409,
    "start_time": "2021-08-10T15:24:43.243Z"
   },
   {
    "duration": 20,
    "start_time": "2021-08-10T15:24:43.653Z"
   },
   {
    "duration": 2,
    "start_time": "2021-08-10T15:24:43.675Z"
   },
   {
    "duration": 83,
    "start_time": "2021-08-10T15:28:20.197Z"
   },
   {
    "duration": 82,
    "start_time": "2021-08-10T15:28:32.124Z"
   },
   {
    "duration": 72,
    "start_time": "2021-08-10T15:29:04.052Z"
   },
   {
    "duration": 57,
    "start_time": "2021-08-10T15:29:10.226Z"
   },
   {
    "duration": 71,
    "start_time": "2021-08-10T15:29:10.285Z"
   },
   {
    "duration": 13,
    "start_time": "2021-08-10T15:29:10.358Z"
   },
   {
    "duration": 411,
    "start_time": "2021-08-10T15:29:10.372Z"
   },
   {
    "duration": 22,
    "start_time": "2021-08-10T15:29:10.784Z"
   },
   {
    "duration": 2,
    "start_time": "2021-08-10T15:29:10.808Z"
   },
   {
    "duration": 5969,
    "start_time": "2021-08-10T15:29:26.396Z"
   },
   {
    "duration": 390,
    "start_time": "2021-08-10T15:29:47.964Z"
   },
   {
    "duration": 501,
    "start_time": "2021-08-10T15:30:30.916Z"
   },
   {
    "duration": 633,
    "start_time": "2021-08-10T15:30:52.869Z"
   },
   {
    "duration": 180,
    "start_time": "2021-08-10T15:31:14.748Z"
   },
   {
    "duration": 181,
    "start_time": "2021-08-10T15:31:56.180Z"
   },
   {
    "duration": 174,
    "start_time": "2021-08-10T15:32:08.580Z"
   },
   {
    "duration": 174,
    "start_time": "2021-08-10T15:32:44.236Z"
   },
   {
    "duration": 174,
    "start_time": "2021-08-10T15:32:57.516Z"
   },
   {
    "duration": 189,
    "start_time": "2021-08-10T15:33:03.132Z"
   },
   {
    "duration": 182,
    "start_time": "2021-08-10T15:33:15.716Z"
   },
   {
    "duration": 20,
    "start_time": "2021-08-10T15:33:27.164Z"
   },
   {
    "duration": 242,
    "start_time": "2021-08-10T15:33:37.020Z"
   },
   {
    "duration": 243,
    "start_time": "2021-08-10T15:42:53.564Z"
   },
   {
    "duration": 330,
    "start_time": "2021-08-10T15:42:58.132Z"
   },
   {
    "duration": 257,
    "start_time": "2021-08-10T15:43:24.476Z"
   },
   {
    "duration": 245,
    "start_time": "2021-08-10T15:44:11.540Z"
   },
   {
    "duration": 251,
    "start_time": "2021-08-10T15:44:35.680Z"
   },
   {
    "duration": 265,
    "start_time": "2021-08-10T15:44:46.925Z"
   },
   {
    "duration": 14,
    "start_time": "2021-08-10T15:45:24.221Z"
   },
   {
    "duration": 14,
    "start_time": "2021-08-10T15:45:45.364Z"
   },
   {
    "duration": 15,
    "start_time": "2021-08-10T15:46:16.805Z"
   },
   {
    "duration": 462,
    "start_time": "2021-08-10T16:35:43.254Z"
   },
   {
    "duration": 469,
    "start_time": "2021-08-10T16:35:54.350Z"
   },
   {
    "duration": 229,
    "start_time": "2021-08-10T16:36:41.647Z"
   },
   {
    "duration": 336,
    "start_time": "2021-08-11T07:34:43.610Z"
   },
   {
    "duration": 1486,
    "start_time": "2021-08-11T07:34:49.109Z"
   },
   {
    "duration": 124,
    "start_time": "2021-08-11T07:34:50.598Z"
   },
   {
    "duration": 344,
    "start_time": "2021-08-11T07:34:50.725Z"
   },
   {
    "duration": 40,
    "start_time": "2021-08-11T07:34:51.072Z"
   },
   {
    "duration": 59,
    "start_time": "2021-08-11T07:34:51.114Z"
   },
   {
    "duration": 34,
    "start_time": "2021-08-11T07:34:51.175Z"
   },
   {
    "duration": 205,
    "start_time": "2021-08-11T07:34:51.212Z"
   },
   {
    "duration": 608,
    "start_time": "2021-08-11T07:35:31.659Z"
   },
   {
    "duration": 75,
    "start_time": "2021-08-11T07:35:38.010Z"
   },
   {
    "duration": 129,
    "start_time": "2021-08-11T07:35:38.088Z"
   },
   {
    "duration": 331,
    "start_time": "2021-08-11T07:35:38.221Z"
   },
   {
    "duration": 40,
    "start_time": "2021-08-11T07:35:38.555Z"
   },
   {
    "duration": 35,
    "start_time": "2021-08-11T07:35:38.597Z"
   },
   {
    "duration": 385,
    "start_time": "2021-08-11T07:35:38.655Z"
   },
   {
    "duration": -410,
    "start_time": "2021-08-11T07:35:39.453Z"
   },
   {
    "duration": 32,
    "start_time": "2021-08-11T07:36:00.339Z"
   },
   {
    "duration": 32,
    "start_time": "2021-08-11T07:36:10.618Z"
   },
   {
    "duration": 25,
    "start_time": "2021-08-11T07:36:44.602Z"
   },
   {
    "duration": 33,
    "start_time": "2021-08-11T07:36:50.226Z"
   },
   {
    "duration": -405,
    "start_time": "2021-08-11T07:37:49.291Z"
   },
   {
    "duration": -404,
    "start_time": "2021-08-11T07:37:49.292Z"
   },
   {
    "duration": -403,
    "start_time": "2021-08-11T07:37:49.292Z"
   },
   {
    "duration": -403,
    "start_time": "2021-08-11T07:37:49.293Z"
   },
   {
    "duration": -403,
    "start_time": "2021-08-11T07:37:49.294Z"
   },
   {
    "duration": -405,
    "start_time": "2021-08-11T07:37:49.298Z"
   },
   {
    "duration": -405,
    "start_time": "2021-08-11T07:37:49.299Z"
   },
   {
    "duration": 7040,
    "start_time": "2021-08-11T07:38:06.625Z"
   },
   {
    "duration": 303,
    "start_time": "2021-08-11T07:41:51.747Z"
   },
   {
    "duration": 6785,
    "start_time": "2021-08-11T07:42:09.034Z"
   },
   {
    "duration": 6605,
    "start_time": "2021-08-11T07:42:21.379Z"
   },
   {
    "duration": 595,
    "start_time": "2021-08-11T07:42:35.835Z"
   },
   {
    "duration": 302,
    "start_time": "2021-08-11T07:43:12.635Z"
   },
   {
    "duration": 377,
    "start_time": "2021-08-11T07:43:28.332Z"
   },
   {
    "duration": 312,
    "start_time": "2021-08-11T07:43:36.257Z"
   },
   {
    "duration": 302,
    "start_time": "2021-08-11T07:44:20.611Z"
   },
   {
    "duration": 293,
    "start_time": "2021-08-11T07:44:35.468Z"
   },
   {
    "duration": 78,
    "start_time": "2021-08-11T07:49:25.941Z"
   },
   {
    "duration": 127,
    "start_time": "2021-08-11T07:49:26.021Z"
   },
   {
    "duration": 304,
    "start_time": "2021-08-11T07:49:26.157Z"
   },
   {
    "duration": 39,
    "start_time": "2021-08-11T07:49:26.464Z"
   },
   {
    "duration": 63,
    "start_time": "2021-08-11T07:49:26.505Z"
   },
   {
    "duration": 30,
    "start_time": "2021-08-11T07:49:26.570Z"
   },
   {
    "duration": 209,
    "start_time": "2021-08-11T07:49:26.603Z"
   },
   {
    "duration": 290,
    "start_time": "2021-08-11T07:51:26.051Z"
   },
   {
    "duration": 32,
    "start_time": "2021-08-11T07:51:36.279Z"
   },
   {
    "duration": 31,
    "start_time": "2021-08-11T07:52:34.763Z"
   },
   {
    "duration": 28,
    "start_time": "2021-08-11T07:52:42.923Z"
   },
   {
    "duration": 259,
    "start_time": "2021-08-11T08:00:12.932Z"
   },
   {
    "duration": 253,
    "start_time": "2021-08-11T08:01:01.771Z"
   },
   {
    "duration": 249,
    "start_time": "2021-08-11T08:01:12.275Z"
   },
   {
    "duration": 255,
    "start_time": "2021-08-11T08:01:38.467Z"
   },
   {
    "duration": 307,
    "start_time": "2021-08-11T08:08:26.467Z"
   },
   {
    "duration": 334,
    "start_time": "2021-08-11T08:09:36.287Z"
   },
   {
    "duration": 22,
    "start_time": "2021-08-11T08:12:44.109Z"
   },
   {
    "duration": 445,
    "start_time": "2021-08-11T08:13:06.323Z"
   },
   {
    "duration": 443,
    "start_time": "2021-08-11T08:13:48.155Z"
   },
   {
    "duration": 437,
    "start_time": "2021-08-11T08:13:56.547Z"
   },
   {
    "duration": 447,
    "start_time": "2021-08-11T08:14:01.435Z"
   },
   {
    "duration": 7012,
    "start_time": "2021-08-11T08:14:54.331Z"
   },
   {
    "duration": 6657,
    "start_time": "2021-08-11T08:15:20.828Z"
   },
   {
    "duration": 6598,
    "start_time": "2021-08-11T08:23:54.524Z"
   },
   {
    "duration": 80,
    "start_time": "2021-08-11T08:24:14.458Z"
   },
   {
    "duration": 129,
    "start_time": "2021-08-11T08:24:14.541Z"
   },
   {
    "duration": 421,
    "start_time": "2021-08-11T08:24:14.673Z"
   },
   {
    "duration": 6868,
    "start_time": "2021-08-11T08:24:15.097Z"
   },
   {
    "duration": -406,
    "start_time": "2021-08-11T08:24:22.374Z"
   },
   {
    "duration": -406,
    "start_time": "2021-08-11T08:24:22.375Z"
   },
   {
    "duration": -405,
    "start_time": "2021-08-11T08:24:22.376Z"
   },
   {
    "duration": 456,
    "start_time": "2021-08-11T08:24:30.884Z"
   },
   {
    "duration": 467,
    "start_time": "2021-08-11T08:27:33.748Z"
   },
   {
    "duration": 652,
    "start_time": "2021-08-11T08:28:48.172Z"
   },
   {
    "duration": 302,
    "start_time": "2021-08-11T08:29:22.284Z"
   },
   {
    "duration": 301,
    "start_time": "2021-08-11T08:29:40.685Z"
   },
   {
    "duration": 289,
    "start_time": "2021-08-11T08:31:33.852Z"
   },
   {
    "duration": 6497,
    "start_time": "2021-08-11T08:31:44.060Z"
   },
   {
    "duration": 441,
    "start_time": "2021-08-11T08:32:35.500Z"
   },
   {
    "duration": 541,
    "start_time": "2021-08-11T08:32:51.987Z"
   },
   {
    "duration": 527,
    "start_time": "2021-08-11T08:37:59.244Z"
   },
   {
    "duration": 542,
    "start_time": "2021-08-11T08:38:05.148Z"
   },
   {
    "duration": 518,
    "start_time": "2021-08-11T08:38:23.976Z"
   },
   {
    "duration": 545,
    "start_time": "2021-08-11T08:38:30.268Z"
   },
   {
    "duration": 525,
    "start_time": "2021-08-11T08:39:29.012Z"
   },
   {
    "duration": 967,
    "start_time": "2021-08-11T08:39:45.828Z"
   },
   {
    "duration": 811,
    "start_time": "2021-08-11T08:39:52.731Z"
   },
   {
    "duration": 587,
    "start_time": "2021-08-11T08:40:05.483Z"
   },
   {
    "duration": 614,
    "start_time": "2021-08-11T08:40:11.388Z"
   },
   {
    "duration": 40,
    "start_time": "2021-08-11T08:52:51.332Z"
   },
   {
    "duration": 456,
    "start_time": "2021-08-11T08:55:51.044Z"
   },
   {
    "duration": 20,
    "start_time": "2021-08-11T08:56:59.468Z"
   },
   {
    "duration": 36,
    "start_time": "2021-08-11T10:08:24.990Z"
   },
   {
    "duration": 38,
    "start_time": "2021-08-11T10:08:31.005Z"
   },
   {
    "duration": 83,
    "start_time": "2021-08-11T10:08:34.291Z"
   },
   {
    "duration": 125,
    "start_time": "2021-08-11T10:08:34.376Z"
   },
   {
    "duration": 315,
    "start_time": "2021-08-11T10:08:34.504Z"
   },
   {
    "duration": 771,
    "start_time": "2021-08-11T10:08:34.822Z"
   },
   {
    "duration": 36,
    "start_time": "2021-08-11T10:08:35.595Z"
   },
   {
    "duration": 52,
    "start_time": "2021-08-11T10:08:35.633Z"
   },
   {
    "duration": 219,
    "start_time": "2021-08-11T10:08:35.688Z"
   },
   {
    "duration": 41,
    "start_time": "2021-08-11T10:08:43.734Z"
   },
   {
    "duration": 49,
    "start_time": "2021-08-11T10:08:52.966Z"
   },
   {
    "duration": 46,
    "start_time": "2021-08-11T10:08:58.478Z"
   },
   {
    "duration": 47,
    "start_time": "2021-08-11T10:10:00.302Z"
   },
   {
    "duration": 244,
    "start_time": "2021-08-11T11:00:30.023Z"
   },
   {
    "duration": 7214,
    "start_time": "2021-08-11T11:22:09.822Z"
   },
   {
    "duration": 7316,
    "start_time": "2021-08-11T11:22:32.327Z"
   },
   {
    "duration": 1560,
    "start_time": "2021-08-11T15:29:01.857Z"
   },
   {
    "duration": 135,
    "start_time": "2021-08-11T15:29:03.420Z"
   },
   {
    "duration": 324,
    "start_time": "2021-08-11T15:29:03.558Z"
   },
   {
    "duration": 686,
    "start_time": "2021-08-11T15:29:03.885Z"
   },
   {
    "duration": 36,
    "start_time": "2021-08-11T15:29:04.573Z"
   },
   {
    "duration": 415,
    "start_time": "2021-08-11T15:29:04.612Z"
   },
   {
    "duration": 6,
    "start_time": "2021-08-11T15:29:05.025Z"
   },
   {
    "duration": 7077,
    "start_time": "2021-08-11T15:49:20.719Z"
   },
   {
    "duration": 1031,
    "start_time": "2021-08-11T17:41:31.243Z"
   },
   {
    "duration": 71,
    "start_time": "2021-08-11T17:41:32.276Z"
   },
   {
    "duration": 170,
    "start_time": "2021-08-11T17:41:32.349Z"
   },
   {
    "duration": 345,
    "start_time": "2021-08-11T17:41:32.521Z"
   },
   {
    "duration": 28,
    "start_time": "2021-08-11T17:41:32.868Z"
   },
   {
    "duration": 6565,
    "start_time": "2021-08-11T17:41:32.897Z"
   },
   {
    "duration": 586,
    "start_time": "2021-08-11T17:41:38.878Z"
   },
   {
    "duration": 420,
    "start_time": "2021-08-11T17:51:24.703Z"
   },
   {
    "duration": 53,
    "start_time": "2021-08-11T17:55:32.340Z"
   },
   {
    "duration": 64,
    "start_time": "2021-08-11T17:55:32.395Z"
   },
   {
    "duration": 175,
    "start_time": "2021-08-11T17:55:32.461Z"
   },
   {
    "duration": 405,
    "start_time": "2021-08-11T17:55:32.638Z"
   },
   {
    "duration": 20,
    "start_time": "2021-08-11T17:55:33.045Z"
   },
   {
    "duration": 561,
    "start_time": "2021-08-11T17:55:33.066Z"
   },
   {
    "duration": 604,
    "start_time": "2021-08-11T17:55:33.025Z"
   },
   {
    "duration": 619,
    "start_time": "2021-08-11T17:55:59.727Z"
   },
   {
    "duration": 1096,
    "start_time": "2021-08-11T17:56:12.977Z"
   },
   {
    "duration": 363,
    "start_time": "2021-08-11T17:58:27.729Z"
   },
   {
    "duration": 103,
    "start_time": "2021-08-11T18:00:22.081Z"
   },
   {
    "duration": 21,
    "start_time": "2021-08-11T18:05:49.057Z"
   },
   {
    "duration": 52,
    "start_time": "2021-08-11T18:05:51.809Z"
   },
   {
    "duration": 65,
    "start_time": "2021-08-11T18:05:51.863Z"
   },
   {
    "duration": 172,
    "start_time": "2021-08-11T18:05:51.930Z"
   },
   {
    "duration": 445,
    "start_time": "2021-08-11T18:05:52.104Z"
   },
   {
    "duration": 21,
    "start_time": "2021-08-11T18:05:52.551Z"
   },
   {
    "duration": 381,
    "start_time": "2021-08-11T18:05:52.573Z"
   },
   {
    "duration": 108,
    "start_time": "2021-08-11T18:05:52.956Z"
   },
   {
    "duration": 589,
    "start_time": "2021-08-11T18:12:05.898Z"
   },
   {
    "duration": 5608,
    "start_time": "2021-08-11T18:12:08.634Z"
   },
   {
    "duration": 103,
    "start_time": "2021-08-11T18:12:24.730Z"
   },
   {
    "duration": 52,
    "start_time": "2021-08-11T18:12:27.743Z"
   },
   {
    "duration": 63,
    "start_time": "2021-08-11T18:12:27.796Z"
   },
   {
    "duration": 169,
    "start_time": "2021-08-11T18:12:27.861Z"
   },
   {
    "duration": 345,
    "start_time": "2021-08-11T18:12:28.032Z"
   },
   {
    "duration": 28,
    "start_time": "2021-08-11T18:12:28.378Z"
   },
   {
    "duration": 368,
    "start_time": "2021-08-11T18:12:28.408Z"
   },
   {
    "duration": 191,
    "start_time": "2021-08-11T18:12:28.777Z"
   },
   {
    "duration": 102,
    "start_time": "2021-08-11T18:12:35.561Z"
   },
   {
    "duration": 106,
    "start_time": "2021-08-11T18:13:24.554Z"
   },
   {
    "duration": 104,
    "start_time": "2021-08-11T18:13:31.963Z"
   },
   {
    "duration": 110,
    "start_time": "2021-08-11T18:13:53.081Z"
   },
   {
    "duration": 130,
    "start_time": "2021-08-11T18:14:02.737Z"
   },
   {
    "duration": 54,
    "start_time": "2021-08-11T18:15:57.287Z"
   },
   {
    "duration": 65,
    "start_time": "2021-08-11T18:15:57.343Z"
   },
   {
    "duration": 171,
    "start_time": "2021-08-11T18:15:57.410Z"
   },
   {
    "duration": 342,
    "start_time": "2021-08-11T18:15:57.582Z"
   },
   {
    "duration": 20,
    "start_time": "2021-08-11T18:15:57.925Z"
   },
   {
    "duration": 368,
    "start_time": "2021-08-11T18:15:57.946Z"
   },
   {
    "duration": 184,
    "start_time": "2021-08-11T18:15:58.316Z"
   },
   {
    "duration": 54,
    "start_time": "2021-08-11T18:17:59.347Z"
   },
   {
    "duration": 64,
    "start_time": "2021-08-11T18:17:59.403Z"
   },
   {
    "duration": 177,
    "start_time": "2021-08-11T18:17:59.469Z"
   },
   {
    "duration": 358,
    "start_time": "2021-08-11T18:17:59.648Z"
   },
   {
    "duration": 20,
    "start_time": "2021-08-11T18:18:00.008Z"
   },
   {
    "duration": 383,
    "start_time": "2021-08-11T18:18:00.030Z"
   },
   {
    "duration": 120,
    "start_time": "2021-08-11T18:18:00.415Z"
   },
   {
    "duration": 234,
    "start_time": "2021-08-11T18:20:06.667Z"
   },
   {
    "duration": 231,
    "start_time": "2021-08-11T18:20:54.354Z"
   },
   {
    "duration": 53,
    "start_time": "2021-08-11T18:20:57.386Z"
   },
   {
    "duration": 70,
    "start_time": "2021-08-11T18:20:57.440Z"
   },
   {
    "duration": 173,
    "start_time": "2021-08-11T18:20:57.512Z"
   },
   {
    "duration": 352,
    "start_time": "2021-08-11T18:20:57.687Z"
   },
   {
    "duration": 21,
    "start_time": "2021-08-11T18:20:58.041Z"
   },
   {
    "duration": 453,
    "start_time": "2021-08-11T18:20:58.064Z"
   },
   {
    "duration": 115,
    "start_time": "2021-08-11T18:20:58.519Z"
   },
   {
    "duration": 55,
    "start_time": "2021-08-11T18:23:35.064Z"
   },
   {
    "duration": 77,
    "start_time": "2021-08-11T18:23:35.120Z"
   },
   {
    "duration": 173,
    "start_time": "2021-08-11T18:23:35.199Z"
   },
   {
    "duration": 347,
    "start_time": "2021-08-11T18:23:35.374Z"
   },
   {
    "duration": 20,
    "start_time": "2021-08-11T18:23:35.723Z"
   },
   {
    "duration": 379,
    "start_time": "2021-08-11T18:23:35.745Z"
   },
   {
    "duration": 121,
    "start_time": "2021-08-11T18:23:36.126Z"
   },
   {
    "duration": 113,
    "start_time": "2021-08-11T18:24:01.298Z"
   },
   {
    "duration": 112,
    "start_time": "2021-08-11T18:24:21.562Z"
   },
   {
    "duration": 133,
    "start_time": "2021-08-11T18:24:43.906Z"
   },
   {
    "duration": 293,
    "start_time": "2021-08-11T18:26:45.035Z"
   },
   {
    "duration": 388,
    "start_time": "2021-08-11T18:27:06.451Z"
   },
   {
    "duration": 412,
    "start_time": "2021-08-11T18:27:33.979Z"
   },
   {
    "duration": 326,
    "start_time": "2021-08-11T18:27:36.522Z"
   },
   {
    "duration": 161,
    "start_time": "2021-08-11T18:33:51.155Z"
   },
   {
    "duration": 155,
    "start_time": "2021-08-11T18:34:17.843Z"
   },
   {
    "duration": 862,
    "start_time": "2021-08-11T18:34:34.116Z"
   },
   {
    "duration": 5167,
    "start_time": "2021-08-11T18:34:42.363Z"
   },
   {
    "duration": 5401,
    "start_time": "2021-08-11T18:35:12.219Z"
   },
   {
    "duration": 361,
    "start_time": "2021-08-11T18:36:04.851Z"
   },
   {
    "duration": 136,
    "start_time": "2021-08-11T18:36:22.612Z"
   },
   {
    "duration": 904,
    "start_time": "2021-08-11T18:37:29.531Z"
   },
   {
    "duration": 5199,
    "start_time": "2021-08-11T18:37:39.395Z"
   },
   {
    "duration": 5835,
    "start_time": "2021-08-11T18:38:27.843Z"
   },
   {
    "duration": 5970,
    "start_time": "2021-08-11T18:38:38.091Z"
   },
   {
    "duration": 149,
    "start_time": "2021-08-11T18:38:55.787Z"
   },
   {
    "duration": 144,
    "start_time": "2021-08-11T18:39:05.435Z"
   },
   {
    "duration": 144,
    "start_time": "2021-08-11T18:39:55.691Z"
   },
   {
    "duration": 53,
    "start_time": "2021-08-11T18:40:03.451Z"
   },
   {
    "duration": 71,
    "start_time": "2021-08-11T18:40:03.506Z"
   },
   {
    "duration": 170,
    "start_time": "2021-08-11T18:40:03.579Z"
   },
   {
    "duration": 431,
    "start_time": "2021-08-11T18:40:03.751Z"
   },
   {
    "duration": 19,
    "start_time": "2021-08-11T18:40:04.191Z"
   },
   {
    "duration": 381,
    "start_time": "2021-08-11T18:40:04.212Z"
   },
   {
    "duration": 314,
    "start_time": "2021-08-11T18:40:04.595Z"
   },
   {
    "duration": 151,
    "start_time": "2021-08-11T18:40:04.912Z"
   },
   {
    "duration": 214,
    "start_time": "2021-08-11T18:43:58.813Z"
   },
   {
    "duration": 146,
    "start_time": "2021-08-11T18:44:04.051Z"
   },
   {
    "duration": 232,
    "start_time": "2021-08-11T18:44:14.403Z"
   },
   {
    "duration": 228,
    "start_time": "2021-08-11T18:45:43.722Z"
   },
   {
    "duration": 244,
    "start_time": "2021-08-11T18:46:00.243Z"
   },
   {
    "duration": 223,
    "start_time": "2021-08-11T18:46:25.251Z"
   },
   {
    "duration": 53,
    "start_time": "2021-08-11T18:46:28.356Z"
   },
   {
    "duration": 68,
    "start_time": "2021-08-11T18:46:28.410Z"
   },
   {
    "duration": 173,
    "start_time": "2021-08-11T18:46:28.480Z"
   },
   {
    "duration": 452,
    "start_time": "2021-08-11T18:46:28.655Z"
   },
   {
    "duration": 22,
    "start_time": "2021-08-11T18:46:29.108Z"
   },
   {
    "duration": 466,
    "start_time": "2021-08-11T18:46:29.131Z"
   },
   {
    "duration": 300,
    "start_time": "2021-08-11T18:46:29.598Z"
   },
   {
    "duration": 512,
    "start_time": "2021-08-11T18:46:29.900Z"
   },
   {
    "duration": 271,
    "start_time": "2021-08-11T18:46:57.250Z"
   },
   {
    "duration": 230,
    "start_time": "2021-08-11T18:47:17.219Z"
   },
   {
    "duration": 5459,
    "start_time": "2021-08-11T18:47:30.371Z"
   },
   {
    "duration": 53,
    "start_time": "2021-08-11T18:47:50.328Z"
   },
   {
    "duration": 74,
    "start_time": "2021-08-11T18:47:50.383Z"
   },
   {
    "duration": 180,
    "start_time": "2021-08-11T18:47:50.459Z"
   },
   {
    "duration": 352,
    "start_time": "2021-08-11T18:47:50.641Z"
   },
   {
    "duration": 21,
    "start_time": "2021-08-11T18:47:50.994Z"
   },
   {
    "duration": 484,
    "start_time": "2021-08-11T18:47:51.017Z"
   },
   {
    "duration": 306,
    "start_time": "2021-08-11T18:47:51.502Z"
   },
   {
    "duration": 8,
    "start_time": "2021-08-11T18:47:51.811Z"
   },
   {
    "duration": 8,
    "start_time": "2021-08-11T18:48:07.235Z"
   },
   {
    "duration": 8,
    "start_time": "2021-08-11T18:48:17.059Z"
   },
   {
    "duration": 9,
    "start_time": "2021-08-11T18:49:00.067Z"
   },
   {
    "duration": 8,
    "start_time": "2021-08-11T18:49:15.531Z"
   },
   {
    "duration": 172,
    "start_time": "2021-08-11T18:59:20.579Z"
   },
   {
    "duration": 148,
    "start_time": "2021-08-11T18:59:34.219Z"
   },
   {
    "duration": 144,
    "start_time": "2021-08-11T19:00:00.723Z"
   },
   {
    "duration": 141,
    "start_time": "2021-08-11T19:00:07.227Z"
   },
   {
    "duration": 247,
    "start_time": "2021-08-11T19:02:01.084Z"
   },
   {
    "duration": 142,
    "start_time": "2021-08-11T19:03:27.851Z"
   },
   {
    "duration": 144,
    "start_time": "2021-08-11T19:05:16.004Z"
   },
   {
    "duration": 145,
    "start_time": "2021-08-11T19:05:21.235Z"
   },
   {
    "duration": 70,
    "start_time": "2021-08-11T19:05:41.763Z"
   },
   {
    "duration": 115,
    "start_time": "2021-08-11T19:05:45.362Z"
   },
   {
    "duration": 77,
    "start_time": "2021-08-11T19:05:52.323Z"
   },
   {
    "duration": 82,
    "start_time": "2021-08-11T19:05:55.483Z"
   },
   {
    "duration": 84,
    "start_time": "2021-08-11T19:06:01.259Z"
   },
   {
    "duration": 76,
    "start_time": "2021-08-11T19:06:04.459Z"
   },
   {
    "duration": 78,
    "start_time": "2021-08-11T19:06:08.467Z"
   },
   {
    "duration": 77,
    "start_time": "2021-08-11T19:06:12.539Z"
   },
   {
    "duration": 355,
    "start_time": "2021-08-11T19:06:48.859Z"
   },
   {
    "duration": 373,
    "start_time": "2021-08-11T19:07:00.939Z"
   },
   {
    "duration": 755,
    "start_time": "2021-08-11T19:07:04.731Z"
   },
   {
    "duration": 152,
    "start_time": "2021-08-11T19:07:31.091Z"
   },
   {
    "duration": 555,
    "start_time": "2021-08-11T19:07:41.779Z"
   },
   {
    "duration": 73,
    "start_time": "2021-08-11T19:07:45.739Z"
   },
   {
    "duration": 156,
    "start_time": "2021-08-11T19:07:48.312Z"
   },
   {
    "duration": 147,
    "start_time": "2021-08-11T19:07:53.083Z"
   },
   {
    "duration": 142,
    "start_time": "2021-08-11T19:07:57.210Z"
   },
   {
    "duration": 140,
    "start_time": "2021-08-11T19:08:08.875Z"
   },
   {
    "duration": 154,
    "start_time": "2021-08-11T19:08:12.075Z"
   },
   {
    "duration": 291,
    "start_time": "2021-08-11T19:16:12.475Z"
   },
   {
    "duration": 408,
    "start_time": "2021-08-11T19:16:29.899Z"
   },
   {
    "duration": 282,
    "start_time": "2021-08-11T19:28:08.140Z"
   },
   {
    "duration": 73,
    "start_time": "2021-08-11T19:28:28.661Z"
   },
   {
    "duration": 71,
    "start_time": "2021-08-11T19:28:36.092Z"
   },
   {
    "duration": 73,
    "start_time": "2021-08-11T19:28:40.581Z"
   },
   {
    "duration": 69,
    "start_time": "2021-08-11T19:28:51.908Z"
   },
   {
    "duration": 290,
    "start_time": "2021-08-11T19:29:05.764Z"
   },
   {
    "duration": 288,
    "start_time": "2021-08-11T19:29:14.928Z"
   },
   {
    "duration": 294,
    "start_time": "2021-08-11T19:29:32.396Z"
   },
   {
    "duration": 288,
    "start_time": "2021-08-11T19:29:36.148Z"
   },
   {
    "duration": 406,
    "start_time": "2021-08-11T19:29:56.637Z"
   },
   {
    "duration": 362,
    "start_time": "2021-08-11T19:30:04.444Z"
   },
   {
    "duration": 397,
    "start_time": "2021-08-11T19:30:14.661Z"
   },
   {
    "duration": 415,
    "start_time": "2021-08-11T19:30:22.053Z"
   },
   {
    "duration": 292,
    "start_time": "2021-08-11T19:30:27.933Z"
   },
   {
    "duration": 641,
    "start_time": "2021-08-11T19:32:24.733Z"
   },
   {
    "duration": 603,
    "start_time": "2021-08-11T19:32:37.364Z"
   },
   {
    "duration": 1738,
    "start_time": "2021-08-11T19:35:39.734Z"
   },
   {
    "duration": 54,
    "start_time": "2021-08-11T19:39:09.856Z"
   },
   {
    "duration": 81,
    "start_time": "2021-08-11T19:39:09.912Z"
   },
   {
    "duration": 405,
    "start_time": "2021-08-11T19:39:09.995Z"
   },
   {
    "duration": 604,
    "start_time": "2021-08-11T19:39:09.798Z"
   },
   {
    "duration": 604,
    "start_time": "2021-08-11T19:39:09.799Z"
   },
   {
    "duration": 604,
    "start_time": "2021-08-11T19:39:09.800Z"
   },
   {
    "duration": 604,
    "start_time": "2021-08-11T19:39:09.801Z"
   },
   {
    "duration": 602,
    "start_time": "2021-08-11T19:39:09.803Z"
   },
   {
    "duration": 602,
    "start_time": "2021-08-11T19:39:09.804Z"
   },
   {
    "duration": 53,
    "start_time": "2021-08-11T19:39:43.744Z"
   },
   {
    "duration": 72,
    "start_time": "2021-08-11T19:39:43.798Z"
   },
   {
    "duration": 383,
    "start_time": "2021-08-11T19:39:43.872Z"
   },
   {
    "duration": 613,
    "start_time": "2021-08-11T19:39:43.644Z"
   },
   {
    "duration": 613,
    "start_time": "2021-08-11T19:39:43.645Z"
   },
   {
    "duration": 613,
    "start_time": "2021-08-11T19:39:43.646Z"
   },
   {
    "duration": 613,
    "start_time": "2021-08-11T19:39:43.647Z"
   },
   {
    "duration": 612,
    "start_time": "2021-08-11T19:39:43.648Z"
   },
   {
    "duration": 612,
    "start_time": "2021-08-11T19:39:43.649Z"
   },
   {
    "duration": 163,
    "start_time": "2021-08-11T19:39:58.364Z"
   },
   {
    "duration": 60,
    "start_time": "2021-08-11T19:40:02.074Z"
   },
   {
    "duration": 91,
    "start_time": "2021-08-11T19:40:02.136Z"
   },
   {
    "duration": 173,
    "start_time": "2021-08-11T19:40:02.229Z"
   },
   {
    "duration": 352,
    "start_time": "2021-08-11T19:40:02.403Z"
   },
   {
    "duration": 22,
    "start_time": "2021-08-11T19:40:02.756Z"
   },
   {
    "duration": 516,
    "start_time": "2021-08-11T19:40:02.780Z"
   },
   {
    "duration": 305,
    "start_time": "2021-08-11T19:40:03.298Z"
   },
   {
    "duration": 304,
    "start_time": "2021-08-11T19:40:03.605Z"
   },
   {
    "duration": 1247,
    "start_time": "2021-08-11T19:40:03.911Z"
   },
   {
    "duration": 163,
    "start_time": "2021-08-11T19:40:22.453Z"
   },
   {
    "duration": 54,
    "start_time": "2021-08-11T19:40:27.285Z"
   },
   {
    "duration": 76,
    "start_time": "2021-08-11T19:40:27.341Z"
   },
   {
    "duration": 174,
    "start_time": "2021-08-11T19:40:27.420Z"
   },
   {
    "duration": 457,
    "start_time": "2021-08-11T19:40:27.597Z"
   },
   {
    "duration": 22,
    "start_time": "2021-08-11T19:40:28.056Z"
   },
   {
    "duration": 381,
    "start_time": "2021-08-11T19:40:28.079Z"
   },
   {
    "duration": 304,
    "start_time": "2021-08-11T19:40:28.462Z"
   },
   {
    "duration": 308,
    "start_time": "2021-08-11T19:40:28.768Z"
   },
   {
    "duration": 1346,
    "start_time": "2021-08-11T19:40:29.078Z"
   },
   {
    "duration": 72,
    "start_time": "2021-08-11T19:45:49.901Z"
   },
   {
    "duration": 12,
    "start_time": "2021-08-11T19:45:56.141Z"
   },
   {
    "duration": 223,
    "start_time": "2021-08-11T19:46:23.221Z"
   },
   {
    "duration": 75,
    "start_time": "2021-08-11T19:46:41.724Z"
   },
   {
    "duration": 13,
    "start_time": "2021-08-11T19:47:01.180Z"
   },
   {
    "duration": 1413,
    "start_time": "2021-08-12T10:23:47.065Z"
   },
   {
    "duration": 119,
    "start_time": "2021-08-12T10:23:48.481Z"
   },
   {
    "duration": 290,
    "start_time": "2021-08-12T10:23:48.603Z"
   },
   {
    "duration": 615,
    "start_time": "2021-08-12T10:23:48.896Z"
   },
   {
    "duration": 37,
    "start_time": "2021-08-12T10:23:49.513Z"
   },
   {
    "duration": 642,
    "start_time": "2021-08-12T10:23:49.553Z"
   },
   {
    "duration": 513,
    "start_time": "2021-08-12T10:23:50.198Z"
   },
   {
    "duration": 590,
    "start_time": "2021-08-12T10:23:50.715Z"
   },
   {
    "duration": 2115,
    "start_time": "2021-08-12T10:23:51.307Z"
   },
   {
    "duration": 20,
    "start_time": "2021-08-12T10:23:53.425Z"
   },
   {
    "duration": 129,
    "start_time": "2021-08-12T10:25:12.005Z"
   },
   {
    "duration": 20,
    "start_time": "2021-08-12T10:25:16.245Z"
   },
   {
    "duration": 15,
    "start_time": "2021-08-12T10:27:28.629Z"
   },
   {
    "duration": 22,
    "start_time": "2021-08-12T10:27:33.213Z"
   },
   {
    "duration": 20,
    "start_time": "2021-08-12T10:28:42.582Z"
   },
   {
    "duration": 19,
    "start_time": "2021-08-12T10:28:49.749Z"
   },
   {
    "duration": 27,
    "start_time": "2021-08-12T10:29:56.990Z"
   },
   {
    "duration": 44,
    "start_time": "2021-08-12T10:30:41.398Z"
   },
   {
    "duration": 62,
    "start_time": "2021-08-12T10:31:01.605Z"
   },
   {
    "duration": 46,
    "start_time": "2021-08-12T10:31:28.429Z"
   },
   {
    "duration": 56,
    "start_time": "2021-08-12T10:31:33.870Z"
   },
   {
    "duration": 76,
    "start_time": "2021-08-12T10:36:10.477Z"
   },
   {
    "duration": 138,
    "start_time": "2021-08-12T10:36:10.555Z"
   },
   {
    "duration": 315,
    "start_time": "2021-08-12T10:36:10.696Z"
   },
   {
    "duration": 716,
    "start_time": "2021-08-12T10:36:11.014Z"
   },
   {
    "duration": 52,
    "start_time": "2021-08-12T10:36:11.733Z"
   },
   {
    "duration": 689,
    "start_time": "2021-08-12T10:36:11.787Z"
   },
   {
    "duration": 574,
    "start_time": "2021-08-12T10:36:12.479Z"
   },
   {
    "duration": 574,
    "start_time": "2021-08-12T10:36:13.056Z"
   },
   {
    "duration": 2375,
    "start_time": "2021-08-12T10:36:13.635Z"
   },
   {
    "duration": 23,
    "start_time": "2021-08-12T10:36:16.013Z"
   },
   {
    "duration": 92,
    "start_time": "2021-08-12T10:36:16.038Z"
   },
   {
    "duration": 566,
    "start_time": "2021-08-12T10:36:16.133Z"
   },
   {
    "duration": 57,
    "start_time": "2021-08-12T10:36:30.109Z"
   },
   {
    "duration": 55,
    "start_time": "2021-08-12T10:37:48.829Z"
   },
   {
    "duration": 61,
    "start_time": "2021-08-12T10:37:58.782Z"
   },
   {
    "duration": 397,
    "start_time": "2021-08-12T10:47:22.526Z"
   },
   {
    "duration": 72,
    "start_time": "2021-08-12T10:47:43.654Z"
   },
   {
    "duration": 55,
    "start_time": "2021-08-12T10:48:24.030Z"
   },
   {
    "duration": 399,
    "start_time": "2021-08-12T11:00:24.303Z"
   },
   {
    "duration": 78,
    "start_time": "2021-08-12T11:00:31.030Z"
   },
   {
    "duration": 79,
    "start_time": "2021-08-12T11:01:00.782Z"
   },
   {
    "duration": 72,
    "start_time": "2021-08-12T11:01:34.422Z"
   },
   {
    "duration": 960,
    "start_time": "2021-08-12T11:01:40.798Z"
   },
   {
    "duration": 942,
    "start_time": "2021-08-12T11:01:45.582Z"
   },
   {
    "duration": 1462,
    "start_time": "2021-08-12T11:01:58.534Z"
   },
   {
    "duration": 76,
    "start_time": "2021-08-12T11:02:02.368Z"
   },
   {
    "duration": 53,
    "start_time": "2021-08-12T11:06:23.422Z"
   },
   {
    "duration": 58,
    "start_time": "2021-08-12T11:06:26.774Z"
   },
   {
    "duration": 73,
    "start_time": "2021-08-12T11:09:29.830Z"
   },
   {
    "duration": 72,
    "start_time": "2021-08-12T11:09:37.862Z"
   },
   {
    "duration": 20696,
    "start_time": "2021-08-12T11:09:50.726Z"
   },
   {
    "duration": 73,
    "start_time": "2021-08-12T11:10:16.807Z"
   },
   {
    "duration": 1314,
    "start_time": "2021-08-12T11:10:47.150Z"
   },
   {
    "duration": 1870,
    "start_time": "2021-08-12T11:11:08.030Z"
   },
   {
    "duration": 8529,
    "start_time": "2021-08-12T11:11:12.390Z"
   },
   {
    "duration": 79,
    "start_time": "2021-08-12T11:11:25.454Z"
   },
   {
    "duration": 139,
    "start_time": "2021-08-12T11:11:25.536Z"
   },
   {
    "duration": 314,
    "start_time": "2021-08-12T11:11:25.682Z"
   },
   {
    "duration": 627,
    "start_time": "2021-08-12T11:11:25.998Z"
   },
   {
    "duration": 54,
    "start_time": "2021-08-12T11:11:26.628Z"
   },
   {
    "duration": 636,
    "start_time": "2021-08-12T11:11:26.684Z"
   },
   {
    "duration": 532,
    "start_time": "2021-08-12T11:11:27.323Z"
   },
   {
    "duration": 557,
    "start_time": "2021-08-12T11:11:27.860Z"
   },
   {
    "duration": 2316,
    "start_time": "2021-08-12T11:11:28.420Z"
   },
   {
    "duration": 21,
    "start_time": "2021-08-12T11:11:30.739Z"
   },
   {
    "duration": 77,
    "start_time": "2021-08-12T11:11:30.762Z"
   },
   {
    "duration": 89,
    "start_time": "2021-08-12T11:11:30.842Z"
   },
   {
    "duration": 1450,
    "start_time": "2021-08-12T11:11:30.933Z"
   },
   {
    "duration": 101,
    "start_time": "2021-08-12T11:11:44.382Z"
   },
   {
    "duration": 64,
    "start_time": "2021-08-12T11:11:58.383Z"
   },
   {
    "duration": 62,
    "start_time": "2021-08-12T11:12:14.166Z"
   },
   {
    "duration": 124,
    "start_time": "2021-08-12T11:12:18.439Z"
   },
   {
    "duration": 123,
    "start_time": "2021-08-12T11:12:19.669Z"
   },
   {
    "duration": 59,
    "start_time": "2021-08-12T11:12:21.358Z"
   },
   {
    "duration": 57,
    "start_time": "2021-08-12T11:13:09.295Z"
   },
   {
    "duration": 63,
    "start_time": "2021-08-12T11:13:12.431Z"
   },
   {
    "duration": 58,
    "start_time": "2021-08-12T11:13:16.830Z"
   },
   {
    "duration": 59,
    "start_time": "2021-08-12T11:13:55.830Z"
   },
   {
    "duration": 57,
    "start_time": "2021-08-12T11:14:14.302Z"
   },
   {
    "duration": 61,
    "start_time": "2021-08-12T11:14:19.054Z"
   },
   {
    "duration": 9105,
    "start_time": "2021-08-12T11:16:20.950Z"
   },
   {
    "duration": 72,
    "start_time": "2021-08-12T11:16:45.702Z"
   },
   {
    "duration": 125,
    "start_time": "2021-08-12T11:16:45.777Z"
   },
   {
    "duration": 305,
    "start_time": "2021-08-12T11:16:45.906Z"
   },
   {
    "duration": 693,
    "start_time": "2021-08-12T11:16:46.214Z"
   },
   {
    "duration": 35,
    "start_time": "2021-08-12T11:16:46.909Z"
   },
   {
    "duration": 878,
    "start_time": "2021-08-12T11:16:46.947Z"
   },
   {
    "duration": 508,
    "start_time": "2021-08-12T11:16:47.827Z"
   },
   {
    "duration": 531,
    "start_time": "2021-08-12T11:16:48.339Z"
   },
   {
    "duration": 2083,
    "start_time": "2021-08-12T11:16:48.882Z"
   },
   {
    "duration": 31,
    "start_time": "2021-08-12T11:16:50.967Z"
   },
   {
    "duration": 161,
    "start_time": "2021-08-12T11:16:51.001Z"
   },
   {
    "duration": 9188,
    "start_time": "2021-08-12T11:16:51.164Z"
   },
   {
    "duration": 266,
    "start_time": "2021-08-12T11:17:00.088Z"
   },
   {
    "duration": 64,
    "start_time": "2021-08-12T11:17:24.998Z"
   },
   {
    "duration": 64,
    "start_time": "2021-08-12T11:17:50.006Z"
   },
   {
    "duration": 61,
    "start_time": "2021-08-12T11:18:09.463Z"
   },
   {
    "duration": 58,
    "start_time": "2021-08-12T11:18:56.623Z"
   },
   {
    "duration": 9531,
    "start_time": "2021-08-12T11:26:30.241Z"
   },
   {
    "duration": 269,
    "start_time": "2021-08-12T11:26:50.743Z"
   },
   {
    "duration": 74,
    "start_time": "2021-08-12T11:26:59.193Z"
   },
   {
    "duration": 139,
    "start_time": "2021-08-12T11:26:59.271Z"
   },
   {
    "duration": 307,
    "start_time": "2021-08-12T11:26:59.413Z"
   },
   {
    "duration": 657,
    "start_time": "2021-08-12T11:26:59.723Z"
   },
   {
    "duration": 37,
    "start_time": "2021-08-12T11:27:00.382Z"
   },
   {
    "duration": 1047,
    "start_time": "2021-08-12T11:27:00.421Z"
   },
   {
    "duration": 596,
    "start_time": "2021-08-12T11:27:01.470Z"
   },
   {
    "duration": 543,
    "start_time": "2021-08-12T11:27:02.070Z"
   },
   {
    "duration": 2601,
    "start_time": "2021-08-12T11:27:02.616Z"
   },
   {
    "duration": 27,
    "start_time": "2021-08-12T11:27:05.220Z"
   },
   {
    "duration": 8744,
    "start_time": "2021-08-12T11:27:05.250Z"
   },
   {
    "duration": 264,
    "start_time": "2021-08-12T11:27:13.733Z"
   },
   {
    "duration": 264,
    "start_time": "2021-08-12T11:27:13.734Z"
   },
   {
    "duration": 301,
    "start_time": "2021-08-12T11:27:40.791Z"
   },
   {
    "duration": 347,
    "start_time": "2021-08-12T11:28:01.214Z"
   },
   {
    "duration": 256,
    "start_time": "2021-08-12T11:28:19.999Z"
   },
   {
    "duration": 277,
    "start_time": "2021-08-12T11:28:37.582Z"
   },
   {
    "duration": 628,
    "start_time": "2021-08-12T11:29:45.071Z"
   },
   {
    "duration": 621,
    "start_time": "2021-08-12T11:30:02.367Z"
   },
   {
    "duration": 696,
    "start_time": "2021-08-12T11:30:16.975Z"
   },
   {
    "duration": 351,
    "start_time": "2021-08-12T11:30:41.303Z"
   },
   {
    "duration": 1027,
    "start_time": "2021-08-12T11:31:17.287Z"
   },
   {
    "duration": 9391,
    "start_time": "2021-08-12T11:31:55.455Z"
   },
   {
    "duration": 972,
    "start_time": "2021-08-12T11:32:30.646Z"
   },
   {
    "duration": 341,
    "start_time": "2021-08-12T11:34:24.670Z"
   },
   {
    "duration": 1116,
    "start_time": "2021-08-12T11:35:23.791Z"
   },
   {
    "duration": 75,
    "start_time": "2021-08-12T11:35:39.771Z"
   },
   {
    "duration": 136,
    "start_time": "2021-08-12T11:35:39.848Z"
   },
   {
    "duration": 307,
    "start_time": "2021-08-12T11:35:39.986Z"
   },
   {
    "duration": 651,
    "start_time": "2021-08-12T11:35:40.296Z"
   },
   {
    "duration": 55,
    "start_time": "2021-08-12T11:35:40.950Z"
   },
   {
    "duration": 656,
    "start_time": "2021-08-12T11:35:41.008Z"
   },
   {
    "duration": 532,
    "start_time": "2021-08-12T11:35:41.667Z"
   },
   {
    "duration": 560,
    "start_time": "2021-08-12T11:35:42.204Z"
   },
   {
    "duration": 2301,
    "start_time": "2021-08-12T11:35:42.767Z"
   },
   {
    "duration": 28,
    "start_time": "2021-08-12T11:35:45.071Z"
   },
   {
    "duration": 1001,
    "start_time": "2021-08-12T11:35:45.102Z"
   },
   {
    "duration": 999,
    "start_time": "2021-08-12T11:35:46.106Z"
   },
   {
    "duration": 80,
    "start_time": "2021-08-12T11:35:47.107Z"
   },
   {
    "duration": 377,
    "start_time": "2021-08-12T11:36:32.038Z"
   },
   {
    "duration": 364,
    "start_time": "2021-08-12T11:36:44.935Z"
   },
   {
    "duration": 1105,
    "start_time": "2021-08-12T11:37:30.254Z"
   },
   {
    "duration": 150,
    "start_time": "2021-08-12T11:42:16.214Z"
   },
   {
    "duration": 506,
    "start_time": "2021-08-12T11:52:43.838Z"
   },
   {
    "duration": 317,
    "start_time": "2021-08-12T11:53:05.975Z"
   },
   {
    "duration": 364,
    "start_time": "2021-08-12T11:53:14.262Z"
   },
   {
    "duration": 11079,
    "start_time": "2021-08-12T11:54:25.806Z"
   },
   {
    "duration": 470,
    "start_time": "2021-08-12T11:54:51.286Z"
   },
   {
    "duration": 500,
    "start_time": "2021-08-12T11:55:24.902Z"
   },
   {
    "duration": 362,
    "start_time": "2021-08-12T11:55:42.654Z"
   },
   {
    "duration": 355,
    "start_time": "2021-08-12T11:55:56.782Z"
   },
   {
    "duration": 337,
    "start_time": "2021-08-12T11:56:05.246Z"
   },
   {
    "duration": 351,
    "start_time": "2021-08-12T11:56:12.462Z"
   },
   {
    "duration": 334,
    "start_time": "2021-08-12T11:56:18.790Z"
   },
   {
    "duration": 345,
    "start_time": "2021-08-12T11:56:24.582Z"
   },
   {
    "duration": 359,
    "start_time": "2021-08-12T11:56:52.934Z"
   },
   {
    "duration": 386,
    "start_time": "2021-08-12T12:01:10.054Z"
   },
   {
    "duration": 73,
    "start_time": "2021-08-12T12:01:14.186Z"
   },
   {
    "duration": 140,
    "start_time": "2021-08-12T12:01:14.262Z"
   },
   {
    "duration": 313,
    "start_time": "2021-08-12T12:01:14.405Z"
   },
   {
    "duration": 732,
    "start_time": "2021-08-12T12:01:14.721Z"
   },
   {
    "duration": 45,
    "start_time": "2021-08-12T12:01:15.455Z"
   },
   {
    "duration": 949,
    "start_time": "2021-08-12T12:01:15.502Z"
   },
   {
    "duration": 754,
    "start_time": "2021-08-12T12:01:16.454Z"
   },
   {
    "duration": 782,
    "start_time": "2021-08-12T12:01:17.213Z"
   },
   {
    "duration": 2188,
    "start_time": "2021-08-12T12:01:17.999Z"
   },
   {
    "duration": 20,
    "start_time": "2021-08-12T12:01:20.190Z"
   },
   {
    "duration": 1120,
    "start_time": "2021-08-12T12:01:20.213Z"
   },
   {
    "duration": 976,
    "start_time": "2021-08-12T12:01:21.335Z"
   },
   {
    "duration": 979,
    "start_time": "2021-08-12T12:01:22.314Z"
   },
   {
    "duration": 546,
    "start_time": "2021-08-12T12:01:23.295Z"
   },
   {
    "duration": 507,
    "start_time": "2021-08-12T12:01:23.845Z"
   },
   {
    "duration": 532,
    "start_time": "2021-08-12T12:06:47.079Z"
   },
   {
    "duration": 671,
    "start_time": "2021-08-12T12:07:09.672Z"
   },
   {
    "duration": 2358,
    "start_time": "2021-08-12T12:07:30.944Z"
   },
   {
    "duration": 22,
    "start_time": "2021-08-12T12:07:40.862Z"
   },
   {
    "duration": 1171,
    "start_time": "2021-08-12T12:07:57.824Z"
   },
   {
    "duration": 962,
    "start_time": "2021-08-12T12:08:13.207Z"
   },
   {
    "duration": 1194,
    "start_time": "2021-08-12T12:08:26.663Z"
   },
   {
    "duration": 398,
    "start_time": "2021-08-12T12:08:52.088Z"
   },
   {
    "duration": 353,
    "start_time": "2021-08-12T12:08:54.463Z"
   },
   {
    "duration": 35,
    "start_time": "2021-08-12T12:10:10.415Z"
   },
   {
    "duration": 110,
    "start_time": "2021-08-12T12:10:18.952Z"
   },
   {
    "duration": 37,
    "start_time": "2021-08-12T12:10:21.630Z"
   },
   {
    "duration": 57,
    "start_time": "2021-08-12T12:10:25.583Z"
   },
   {
    "duration": 37,
    "start_time": "2021-08-12T12:10:31.262Z"
   },
   {
    "duration": 73,
    "start_time": "2021-08-12T12:10:37.084Z"
   },
   {
    "duration": 145,
    "start_time": "2021-08-12T12:10:37.159Z"
   },
   {
    "duration": 300,
    "start_time": "2021-08-12T12:10:37.307Z"
   },
   {
    "duration": 636,
    "start_time": "2021-08-12T12:10:37.610Z"
   },
   {
    "duration": 51,
    "start_time": "2021-08-12T12:10:38.248Z"
   },
   {
    "duration": 652,
    "start_time": "2021-08-12T12:10:38.301Z"
   },
   {
    "duration": 528,
    "start_time": "2021-08-12T12:10:38.955Z"
   },
   {
    "duration": 535,
    "start_time": "2021-08-12T12:10:39.486Z"
   },
   {
    "duration": 2343,
    "start_time": "2021-08-12T12:10:40.025Z"
   },
   {
    "duration": 36,
    "start_time": "2021-08-12T12:10:42.370Z"
   },
   {
    "duration": 1002,
    "start_time": "2021-08-12T12:10:42.408Z"
   },
   {
    "duration": 973,
    "start_time": "2021-08-12T12:10:43.412Z"
   },
   {
    "duration": 981,
    "start_time": "2021-08-12T12:10:44.388Z"
   },
   {
    "duration": 366,
    "start_time": "2021-08-12T12:10:45.372Z"
   },
   {
    "duration": 334,
    "start_time": "2021-08-12T12:10:45.741Z"
   },
   {
    "duration": 74,
    "start_time": "2021-08-12T12:13:13.899Z"
   },
   {
    "duration": 127,
    "start_time": "2021-08-12T12:13:13.976Z"
   },
   {
    "duration": 300,
    "start_time": "2021-08-12T12:13:14.106Z"
   },
   {
    "duration": 874,
    "start_time": "2021-08-12T12:13:14.409Z"
   },
   {
    "duration": 47,
    "start_time": "2021-08-12T12:13:15.286Z"
   },
   {
    "duration": 850,
    "start_time": "2021-08-12T12:13:15.335Z"
   },
   {
    "duration": 586,
    "start_time": "2021-08-12T12:13:16.187Z"
   },
   {
    "duration": 651,
    "start_time": "2021-08-12T12:13:16.778Z"
   },
   {
    "duration": 2931,
    "start_time": "2021-08-12T12:13:17.432Z"
   },
   {
    "duration": 37,
    "start_time": "2021-08-12T12:13:20.366Z"
   },
   {
    "duration": 1276,
    "start_time": "2021-08-12T12:13:20.406Z"
   },
   {
    "duration": 1314,
    "start_time": "2021-08-12T12:13:21.685Z"
   },
   {
    "duration": 1002,
    "start_time": "2021-08-12T12:13:23.002Z"
   },
   {
    "duration": 394,
    "start_time": "2021-08-12T12:13:24.007Z"
   },
   {
    "duration": 398,
    "start_time": "2021-08-12T12:13:24.403Z"
   },
   {
    "duration": 75,
    "start_time": "2021-08-12T12:16:49.676Z"
   },
   {
    "duration": 138,
    "start_time": "2021-08-12T12:16:49.754Z"
   },
   {
    "duration": 358,
    "start_time": "2021-08-12T12:16:49.894Z"
   },
   {
    "duration": 882,
    "start_time": "2021-08-12T12:16:50.256Z"
   },
   {
    "duration": 119,
    "start_time": "2021-08-12T12:16:51.155Z"
   },
   {
    "duration": 942,
    "start_time": "2021-08-12T12:16:51.291Z"
   },
   {
    "duration": 550,
    "start_time": "2021-08-12T12:16:52.236Z"
   },
   {
    "duration": 1016,
    "start_time": "2021-08-12T12:16:52.791Z"
   },
   {
    "duration": 2185,
    "start_time": "2021-08-12T12:16:53.811Z"
   },
   {
    "duration": 24,
    "start_time": "2021-08-12T12:16:55.999Z"
   },
   {
    "duration": 1040,
    "start_time": "2021-08-12T12:16:56.025Z"
   },
   {
    "duration": 1059,
    "start_time": "2021-08-12T12:16:57.067Z"
   },
   {
    "duration": 969,
    "start_time": "2021-08-12T12:16:58.129Z"
   },
   {
    "duration": 380,
    "start_time": "2021-08-12T12:16:59.100Z"
   },
   {
    "duration": 369,
    "start_time": "2021-08-12T12:16:59.482Z"
   },
   {
    "duration": 80,
    "start_time": "2021-08-12T12:32:12.485Z"
   },
   {
    "duration": 914,
    "start_time": "2021-08-12T12:32:12.583Z"
   },
   {
    "duration": 411,
    "start_time": "2021-08-12T12:32:13.501Z"
   },
   {
    "duration": 922,
    "start_time": "2021-08-12T12:32:13.915Z"
   },
   {
    "duration": 64,
    "start_time": "2021-08-12T12:32:14.841Z"
   },
   {
    "duration": 819,
    "start_time": "2021-08-12T12:32:14.908Z"
   },
   {
    "duration": 599,
    "start_time": "2021-08-12T12:32:15.730Z"
   },
   {
    "duration": 671,
    "start_time": "2021-08-12T12:32:16.333Z"
   },
   {
    "duration": 2764,
    "start_time": "2021-08-12T12:32:17.008Z"
   },
   {
    "duration": 24,
    "start_time": "2021-08-12T12:32:19.775Z"
   },
   {
    "duration": 1426,
    "start_time": "2021-08-12T12:32:19.802Z"
   },
   {
    "duration": 1432,
    "start_time": "2021-08-12T12:32:21.232Z"
   },
   {
    "duration": 1146,
    "start_time": "2021-08-12T12:32:22.667Z"
   },
   {
    "duration": 428,
    "start_time": "2021-08-12T12:32:23.816Z"
   },
   {
    "duration": 395,
    "start_time": "2021-08-12T12:32:24.247Z"
   },
   {
    "duration": 524,
    "start_time": "2021-08-12T12:33:08.576Z"
   },
   {
    "duration": 104,
    "start_time": "2021-08-12T12:33:12.709Z"
   },
   {
    "duration": 1568,
    "start_time": "2021-08-12T12:33:12.816Z"
   },
   {
    "duration": 270,
    "start_time": "2021-08-12T12:33:14.117Z"
   },
   {
    "duration": 271,
    "start_time": "2021-08-12T12:33:14.118Z"
   },
   {
    "duration": 271,
    "start_time": "2021-08-12T12:33:14.119Z"
   },
   {
    "duration": 272,
    "start_time": "2021-08-12T12:33:14.120Z"
   },
   {
    "duration": 273,
    "start_time": "2021-08-12T12:33:14.121Z"
   },
   {
    "duration": 273,
    "start_time": "2021-08-12T12:33:14.122Z"
   },
   {
    "duration": 274,
    "start_time": "2021-08-12T12:33:14.123Z"
   },
   {
    "duration": 274,
    "start_time": "2021-08-12T12:33:14.124Z"
   },
   {
    "duration": 275,
    "start_time": "2021-08-12T12:33:14.125Z"
   },
   {
    "duration": 273,
    "start_time": "2021-08-12T12:33:14.128Z"
   },
   {
    "duration": 274,
    "start_time": "2021-08-12T12:33:14.129Z"
   },
   {
    "duration": 272,
    "start_time": "2021-08-12T12:33:14.132Z"
   },
   {
    "duration": 273,
    "start_time": "2021-08-12T12:33:14.133Z"
   },
   {
    "duration": 388,
    "start_time": "2021-08-12T12:33:46.648Z"
   },
   {
    "duration": 72,
    "start_time": "2021-08-12T12:33:50.738Z"
   },
   {
    "duration": 707,
    "start_time": "2021-08-12T12:33:50.813Z"
   },
   {
    "duration": 306,
    "start_time": "2021-08-12T12:33:51.522Z"
   },
   {
    "duration": 641,
    "start_time": "2021-08-12T12:33:51.832Z"
   },
   {
    "duration": 41,
    "start_time": "2021-08-12T12:33:52.476Z"
   },
   {
    "duration": 652,
    "start_time": "2021-08-12T12:33:52.520Z"
   },
   {
    "duration": 518,
    "start_time": "2021-08-12T12:33:53.184Z"
   },
   {
    "duration": 529,
    "start_time": "2021-08-12T12:33:53.707Z"
   },
   {
    "duration": 2409,
    "start_time": "2021-08-12T12:33:54.239Z"
   },
   {
    "duration": 37,
    "start_time": "2021-08-12T12:33:56.651Z"
   },
   {
    "duration": 1244,
    "start_time": "2021-08-12T12:33:56.690Z"
   },
   {
    "duration": 1234,
    "start_time": "2021-08-12T12:33:57.937Z"
   },
   {
    "duration": 1256,
    "start_time": "2021-08-12T12:33:59.182Z"
   },
   {
    "duration": 463,
    "start_time": "2021-08-12T12:34:00.441Z"
   },
   {
    "duration": 567,
    "start_time": "2021-08-12T12:34:00.907Z"
   },
   {
    "duration": 98,
    "start_time": "2021-08-12T12:34:52.305Z"
   },
   {
    "duration": 984,
    "start_time": "2021-08-12T12:34:52.406Z"
   },
   {
    "duration": 412,
    "start_time": "2021-08-12T12:34:53.393Z"
   },
   {
    "duration": 658,
    "start_time": "2021-08-12T12:34:53.808Z"
   },
   {
    "duration": 112,
    "start_time": "2021-08-12T12:34:54.477Z"
   },
   {
    "duration": 918,
    "start_time": "2021-08-12T12:34:54.592Z"
   },
   {
    "duration": 541,
    "start_time": "2021-08-12T12:34:55.513Z"
   },
   {
    "duration": 554,
    "start_time": "2021-08-12T12:34:56.058Z"
   },
   {
    "duration": 2515,
    "start_time": "2021-08-12T12:34:56.615Z"
   },
   {
    "duration": 22,
    "start_time": "2021-08-12T12:34:59.133Z"
   },
   {
    "duration": 1008,
    "start_time": "2021-08-12T12:34:59.158Z"
   },
   {
    "duration": 1269,
    "start_time": "2021-08-12T12:35:00.169Z"
   },
   {
    "duration": 1141,
    "start_time": "2021-08-12T12:35:01.441Z"
   },
   {
    "duration": 397,
    "start_time": "2021-08-12T12:35:02.585Z"
   },
   {
    "duration": 389,
    "start_time": "2021-08-12T12:35:02.984Z"
   },
   {
    "duration": 85,
    "start_time": "2021-08-12T12:36:16.548Z"
   },
   {
    "duration": 1194,
    "start_time": "2021-08-12T12:36:16.636Z"
   },
   {
    "duration": 304,
    "start_time": "2021-08-12T12:36:17.833Z"
   },
   {
    "duration": 620,
    "start_time": "2021-08-12T12:36:18.140Z"
   },
   {
    "duration": 43,
    "start_time": "2021-08-12T12:36:18.763Z"
   },
   {
    "duration": 642,
    "start_time": "2021-08-12T12:36:18.808Z"
   },
   {
    "duration": 524,
    "start_time": "2021-08-12T12:36:19.453Z"
   },
   {
    "duration": 659,
    "start_time": "2021-08-12T12:36:19.985Z"
   },
   {
    "duration": 2274,
    "start_time": "2021-08-12T12:36:20.647Z"
   },
   {
    "duration": 27,
    "start_time": "2021-08-12T12:36:22.923Z"
   },
   {
    "duration": 1311,
    "start_time": "2021-08-12T12:36:22.953Z"
   },
   {
    "duration": 1062,
    "start_time": "2021-08-12T12:36:24.266Z"
   },
   {
    "duration": 1198,
    "start_time": "2021-08-12T12:36:25.330Z"
   },
   {
    "duration": 561,
    "start_time": "2021-08-12T12:36:26.530Z"
   },
   {
    "duration": 261,
    "start_time": "2021-08-12T12:36:26.832Z"
   },
   {
    "duration": 379,
    "start_time": "2021-08-12T12:38:51.448Z"
   },
   {
    "duration": 76,
    "start_time": "2021-08-12T12:38:59.471Z"
   },
   {
    "duration": 809,
    "start_time": "2021-08-12T12:39:01.538Z"
   },
   {
    "duration": 107,
    "start_time": "2021-08-12T13:24:48.049Z"
   },
   {
    "duration": 552,
    "start_time": "2021-08-12T13:25:14.744Z"
   },
   {
    "duration": 395,
    "start_time": "2021-08-12T13:25:21.569Z"
   },
   {
    "duration": 102,
    "start_time": "2021-08-12T13:25:39.508Z"
   },
   {
    "duration": 1405,
    "start_time": "2021-08-12T13:25:41.108Z"
   },
   {
    "duration": 76,
    "start_time": "2021-08-12T13:26:24.065Z"
   },
   {
    "duration": 1000,
    "start_time": "2021-08-12T13:26:24.143Z"
   },
   {
    "duration": 265,
    "start_time": "2021-08-12T13:26:24.881Z"
   },
   {
    "duration": 266,
    "start_time": "2021-08-12T13:26:24.882Z"
   },
   {
    "duration": 265,
    "start_time": "2021-08-12T13:26:24.884Z"
   },
   {
    "duration": 266,
    "start_time": "2021-08-12T13:26:24.885Z"
   },
   {
    "duration": 266,
    "start_time": "2021-08-12T13:26:24.886Z"
   },
   {
    "duration": 263,
    "start_time": "2021-08-12T13:26:24.890Z"
   },
   {
    "duration": 264,
    "start_time": "2021-08-12T13:26:24.891Z"
   },
   {
    "duration": 264,
    "start_time": "2021-08-12T13:26:24.892Z"
   },
   {
    "duration": 264,
    "start_time": "2021-08-12T13:26:24.893Z"
   },
   {
    "duration": 263,
    "start_time": "2021-08-12T13:26:24.896Z"
   },
   {
    "duration": 261,
    "start_time": "2021-08-12T13:26:24.899Z"
   },
   {
    "duration": 262,
    "start_time": "2021-08-12T13:26:24.899Z"
   },
   {
    "duration": 258,
    "start_time": "2021-08-12T13:26:24.905Z"
   },
   {
    "duration": 396,
    "start_time": "2021-08-12T13:27:17.462Z"
   },
   {
    "duration": 365,
    "start_time": "2021-08-12T13:27:42.952Z"
   },
   {
    "duration": 442,
    "start_time": "2021-08-12T13:30:16.705Z"
   },
   {
    "duration": 440,
    "start_time": "2021-08-12T13:30:22.009Z"
   },
   {
    "duration": 107,
    "start_time": "2021-08-12T13:30:26.154Z"
   },
   {
    "duration": 1220,
    "start_time": "2021-08-12T13:30:26.264Z"
   },
   {
    "duration": 274,
    "start_time": "2021-08-12T13:30:27.214Z"
   },
   {
    "duration": 274,
    "start_time": "2021-08-12T13:30:27.215Z"
   },
   {
    "duration": 275,
    "start_time": "2021-08-12T13:30:27.216Z"
   },
   {
    "duration": 273,
    "start_time": "2021-08-12T13:30:27.220Z"
   },
   {
    "duration": 277,
    "start_time": "2021-08-12T13:30:27.221Z"
   },
   {
    "duration": 276,
    "start_time": "2021-08-12T13:30:27.223Z"
   },
   {
    "duration": 270,
    "start_time": "2021-08-12T13:30:27.231Z"
   },
   {
    "duration": 270,
    "start_time": "2021-08-12T13:30:27.233Z"
   },
   {
    "duration": 266,
    "start_time": "2021-08-12T13:30:27.238Z"
   },
   {
    "duration": 267,
    "start_time": "2021-08-12T13:30:27.239Z"
   },
   {
    "duration": 267,
    "start_time": "2021-08-12T13:30:27.241Z"
   },
   {
    "duration": 266,
    "start_time": "2021-08-12T13:30:27.244Z"
   },
   {
    "duration": 267,
    "start_time": "2021-08-12T13:30:27.245Z"
   },
   {
    "duration": 445,
    "start_time": "2021-08-12T13:30:47.401Z"
   },
   {
    "duration": 78,
    "start_time": "2021-08-12T13:30:51.384Z"
   },
   {
    "duration": 1055,
    "start_time": "2021-08-12T13:30:53.281Z"
   },
   {
    "duration": 433,
    "start_time": "2021-08-12T13:31:23.059Z"
   },
   {
    "duration": 405,
    "start_time": "2021-08-12T13:31:59.856Z"
   },
   {
    "duration": 110,
    "start_time": "2021-08-12T13:32:12.625Z"
   },
   {
    "duration": 793,
    "start_time": "2021-08-12T13:32:12.738Z"
   },
   {
    "duration": 457,
    "start_time": "2021-08-12T13:32:13.534Z"
   },
   {
    "duration": 942,
    "start_time": "2021-08-12T13:32:13.994Z"
   },
   {
    "duration": 66,
    "start_time": "2021-08-12T13:32:14.940Z"
   },
   {
    "duration": 1015,
    "start_time": "2021-08-12T13:32:15.009Z"
   },
   {
    "duration": 579,
    "start_time": "2021-08-12T13:32:16.027Z"
   },
   {
    "duration": 802,
    "start_time": "2021-08-12T13:32:16.609Z"
   },
   {
    "duration": 2904,
    "start_time": "2021-08-12T13:32:17.415Z"
   },
   {
    "duration": 22,
    "start_time": "2021-08-12T13:32:20.321Z"
   },
   {
    "duration": 1074,
    "start_time": "2021-08-12T13:32:20.346Z"
   },
   {
    "duration": 1255,
    "start_time": "2021-08-12T13:32:21.422Z"
   },
   {
    "duration": 1488,
    "start_time": "2021-08-12T13:32:22.683Z"
   },
   {
    "duration": 608,
    "start_time": "2021-08-12T13:32:24.174Z"
   },
   {
    "duration": 417,
    "start_time": "2021-08-12T13:32:24.786Z"
   },
   {
    "duration": 80,
    "start_time": "2021-08-12T13:34:11.144Z"
   },
   {
    "duration": 801,
    "start_time": "2021-08-12T13:34:11.227Z"
   },
   {
    "duration": 338,
    "start_time": "2021-08-12T13:34:12.030Z"
   },
   {
    "duration": 736,
    "start_time": "2021-08-12T13:34:12.370Z"
   },
   {
    "duration": 36,
    "start_time": "2021-08-12T13:34:13.108Z"
   },
   {
    "duration": 782,
    "start_time": "2021-08-12T13:34:13.147Z"
   },
   {
    "duration": 568,
    "start_time": "2021-08-12T13:34:13.932Z"
   },
   {
    "duration": 595,
    "start_time": "2021-08-12T13:34:14.504Z"
   },
   {
    "duration": 2732,
    "start_time": "2021-08-12T13:34:15.102Z"
   },
   {
    "duration": 22,
    "start_time": "2021-08-12T13:34:17.836Z"
   },
   {
    "duration": 1247,
    "start_time": "2021-08-12T13:34:17.860Z"
   },
   {
    "duration": 1007,
    "start_time": "2021-08-12T13:34:19.109Z"
   },
   {
    "duration": 1005,
    "start_time": "2021-08-12T13:34:20.119Z"
   },
   {
    "duration": 409,
    "start_time": "2021-08-12T13:34:21.126Z"
   },
   {
    "duration": 413,
    "start_time": "2021-08-12T13:34:21.538Z"
   },
   {
    "duration": 74,
    "start_time": "2021-08-12T13:34:42.083Z"
   },
   {
    "duration": 754,
    "start_time": "2021-08-12T13:34:42.160Z"
   },
   {
    "duration": 316,
    "start_time": "2021-08-12T13:34:42.917Z"
   },
   {
    "duration": 648,
    "start_time": "2021-08-12T13:34:43.236Z"
   },
   {
    "duration": 38,
    "start_time": "2021-08-12T13:34:43.887Z"
   },
   {
    "duration": 707,
    "start_time": "2021-08-12T13:34:43.928Z"
   },
   {
    "duration": 567,
    "start_time": "2021-08-12T13:34:44.638Z"
   },
   {
    "duration": 576,
    "start_time": "2021-08-12T13:34:45.209Z"
   },
   {
    "duration": 2525,
    "start_time": "2021-08-12T13:34:45.791Z"
   },
   {
    "duration": 21,
    "start_time": "2021-08-12T13:34:48.318Z"
   },
   {
    "duration": 1242,
    "start_time": "2021-08-12T13:34:48.341Z"
   },
   {
    "duration": 1025,
    "start_time": "2021-08-12T13:34:49.591Z"
   },
   {
    "duration": 1255,
    "start_time": "2021-08-12T13:34:50.619Z"
   },
   {
    "duration": 406,
    "start_time": "2021-08-12T13:34:51.876Z"
   },
   {
    "duration": 403,
    "start_time": "2021-08-12T13:34:52.285Z"
   },
   {
    "duration": 392,
    "start_time": "2021-08-12T13:36:51.898Z"
   },
   {
    "duration": 70,
    "start_time": "2021-08-12T13:36:55.264Z"
   },
   {
    "duration": 684,
    "start_time": "2021-08-12T13:36:56.416Z"
   },
   {
    "duration": 79,
    "start_time": "2021-08-12T13:37:23.750Z"
   },
   {
    "duration": 694,
    "start_time": "2021-08-12T13:37:23.832Z"
   },
   {
    "duration": 315,
    "start_time": "2021-08-12T13:37:24.530Z"
   },
   {
    "duration": 637,
    "start_time": "2021-08-12T13:37:24.847Z"
   },
   {
    "duration": 37,
    "start_time": "2021-08-12T13:37:25.487Z"
   },
   {
    "duration": 709,
    "start_time": "2021-08-12T13:37:25.527Z"
   },
   {
    "duration": 546,
    "start_time": "2021-08-12T13:37:26.239Z"
   },
   {
    "duration": 550,
    "start_time": "2021-08-12T13:37:26.791Z"
   },
   {
    "duration": 2459,
    "start_time": "2021-08-12T13:37:27.344Z"
   },
   {
    "duration": 20,
    "start_time": "2021-08-12T13:37:29.805Z"
   },
   {
    "duration": 1025,
    "start_time": "2021-08-12T13:37:29.828Z"
   },
   {
    "duration": 1021,
    "start_time": "2021-08-12T13:37:30.855Z"
   },
   {
    "duration": 1108,
    "start_time": "2021-08-12T13:37:31.882Z"
   },
   {
    "duration": 468,
    "start_time": "2021-08-12T13:37:32.992Z"
   },
   {
    "duration": 406,
    "start_time": "2021-08-12T13:37:33.463Z"
   },
   {
    "duration": 124,
    "start_time": "2021-08-12T13:39:09.360Z"
   },
   {
    "duration": 425,
    "start_time": "2021-08-12T13:39:15.304Z"
   },
   {
    "duration": 379,
    "start_time": "2021-08-12T13:39:29.576Z"
   },
   {
    "duration": 3109,
    "start_time": "2021-08-12T13:40:12.088Z"
   },
   {
    "duration": 131,
    "start_time": "2021-08-12T13:40:27.216Z"
   },
   {
    "duration": 378,
    "start_time": "2021-08-12T13:41:15.408Z"
   },
   {
    "duration": 455,
    "start_time": "2021-08-12T13:41:22.543Z"
   },
   {
    "duration": 401,
    "start_time": "2021-08-12T13:41:25.520Z"
   },
   {
    "duration": 471,
    "start_time": "2021-08-12T13:41:37.321Z"
   },
   {
    "duration": 356,
    "start_time": "2021-08-12T13:42:45.305Z"
   },
   {
    "duration": 96,
    "start_time": "2021-08-12T13:42:48.649Z"
   },
   {
    "duration": 724,
    "start_time": "2021-08-12T13:42:48.748Z"
   },
   {
    "duration": 323,
    "start_time": "2021-08-12T13:42:49.484Z"
   },
   {
    "duration": 688,
    "start_time": "2021-08-12T13:42:49.811Z"
   },
   {
    "duration": 38,
    "start_time": "2021-08-12T13:42:50.502Z"
   },
   {
    "duration": 731,
    "start_time": "2021-08-12T13:42:50.542Z"
   },
   {
    "duration": 560,
    "start_time": "2021-08-12T13:42:51.282Z"
   },
   {
    "duration": 586,
    "start_time": "2021-08-12T13:42:51.845Z"
   },
   {
    "duration": 2735,
    "start_time": "2021-08-12T13:42:52.434Z"
   },
   {
    "duration": 27,
    "start_time": "2021-08-12T13:42:55.185Z"
   },
   {
    "duration": 1096,
    "start_time": "2021-08-12T13:42:55.214Z"
   },
   {
    "duration": 1125,
    "start_time": "2021-08-12T13:42:56.313Z"
   },
   {
    "duration": 1111,
    "start_time": "2021-08-12T13:42:57.441Z"
   },
   {
    "duration": 399,
    "start_time": "2021-08-12T13:42:58.555Z"
   },
   {
    "duration": 279,
    "start_time": "2021-08-12T13:42:58.678Z"
   },
   {
    "duration": 398,
    "start_time": "2021-08-12T14:00:55.873Z"
   },
   {
    "duration": 4778,
    "start_time": "2021-08-12T14:01:11.270Z"
   },
   {
    "duration": 4580,
    "start_time": "2021-08-12T14:02:30.511Z"
   },
   {
    "duration": 82,
    "start_time": "2021-08-12T14:02:42.122Z"
   },
   {
    "duration": 784,
    "start_time": "2021-08-12T14:02:42.207Z"
   },
   {
    "duration": 339,
    "start_time": "2021-08-12T14:02:42.995Z"
   },
   {
    "duration": 671,
    "start_time": "2021-08-12T14:02:43.337Z"
   },
   {
    "duration": 39,
    "start_time": "2021-08-12T14:02:44.010Z"
   },
   {
    "duration": 956,
    "start_time": "2021-08-12T14:02:44.051Z"
   },
   {
    "duration": 623,
    "start_time": "2021-08-12T14:02:45.010Z"
   },
   {
    "duration": 615,
    "start_time": "2021-08-12T14:02:45.636Z"
   },
   {
    "duration": 2774,
    "start_time": "2021-08-12T14:02:46.255Z"
   },
   {
    "duration": 21,
    "start_time": "2021-08-12T14:02:49.032Z"
   },
   {
    "duration": 1156,
    "start_time": "2021-08-12T14:02:49.056Z"
   },
   {
    "duration": 1091,
    "start_time": "2021-08-12T14:02:50.215Z"
   },
   {
    "duration": 1105,
    "start_time": "2021-08-12T14:02:51.308Z"
   },
   {
    "duration": 7485,
    "start_time": "2021-08-12T14:02:52.416Z"
   },
   {
    "duration": 272,
    "start_time": "2021-08-12T14:02:59.632Z"
   },
   {
    "duration": 5872,
    "start_time": "2021-08-12T14:03:36.129Z"
   },
   {
    "duration": 417,
    "start_time": "2021-08-12T14:04:02.600Z"
   },
   {
    "duration": 105,
    "start_time": "2021-08-12T14:04:08.829Z"
   },
   {
    "duration": 851,
    "start_time": "2021-08-12T14:04:08.937Z"
   },
   {
    "duration": 338,
    "start_time": "2021-08-12T14:04:09.791Z"
   },
   {
    "duration": 711,
    "start_time": "2021-08-12T14:04:10.132Z"
   },
   {
    "duration": 58,
    "start_time": "2021-08-12T14:04:10.846Z"
   },
   {
    "duration": 799,
    "start_time": "2021-08-12T14:04:10.906Z"
   },
   {
    "duration": 557,
    "start_time": "2021-08-12T14:04:11.708Z"
   },
   {
    "duration": 620,
    "start_time": "2021-08-12T14:04:12.270Z"
   },
   {
    "duration": 2753,
    "start_time": "2021-08-12T14:04:12.894Z"
   },
   {
    "duration": 46,
    "start_time": "2021-08-12T14:04:15.650Z"
   },
   {
    "duration": 1551,
    "start_time": "2021-08-12T14:04:15.698Z"
   },
   {
    "duration": 1460,
    "start_time": "2021-08-12T14:04:17.252Z"
   },
   {
    "duration": 1198,
    "start_time": "2021-08-12T14:04:18.714Z"
   },
   {
    "duration": 576,
    "start_time": "2021-08-12T14:04:19.915Z"
   },
   {
    "duration": 661,
    "start_time": "2021-08-12T14:04:20.494Z"
   },
   {
    "duration": 473,
    "start_time": "2021-08-12T14:04:52.386Z"
   },
   {
    "duration": 536,
    "start_time": "2021-08-12T14:04:55.064Z"
   },
   {
    "duration": 665,
    "start_time": "2021-08-12T14:04:59.641Z"
   },
   {
    "duration": 831,
    "start_time": "2021-08-12T14:05:14.065Z"
   },
   {
    "duration": 764,
    "start_time": "2021-08-12T14:05:20.017Z"
   },
   {
    "duration": 1490,
    "start_time": "2021-08-12T14:05:29.584Z"
   },
   {
    "duration": 208,
    "start_time": "2021-08-12T14:06:21.233Z"
   },
   {
    "duration": 368,
    "start_time": "2021-08-12T14:06:30.806Z"
   },
   {
    "duration": 368,
    "start_time": "2021-08-12T14:06:47.000Z"
   },
   {
    "duration": 374,
    "start_time": "2021-08-12T14:07:23.881Z"
   },
   {
    "duration": 365,
    "start_time": "2021-08-12T14:09:11.537Z"
   },
   {
    "duration": 448,
    "start_time": "2021-08-12T14:09:15.216Z"
   },
   {
    "duration": 698,
    "start_time": "2021-08-12T14:11:20.448Z"
   },
   {
    "duration": 462,
    "start_time": "2021-08-12T14:11:41.256Z"
   },
   {
    "duration": 497,
    "start_time": "2021-08-12T14:11:46.648Z"
   },
   {
    "duration": 239,
    "start_time": "2021-08-12T14:11:53.352Z"
   },
   {
    "duration": 405,
    "start_time": "2021-08-12T14:11:56.680Z"
   },
   {
    "duration": 466,
    "start_time": "2021-08-12T14:12:00.721Z"
   },
   {
    "duration": 1003,
    "start_time": "2021-08-12T14:13:06.888Z"
   },
   {
    "duration": 476,
    "start_time": "2021-08-12T14:13:12.616Z"
   },
   {
    "duration": 453,
    "start_time": "2021-08-12T14:13:17.672Z"
   },
   {
    "duration": 72,
    "start_time": "2021-08-12T14:15:37.832Z"
   },
   {
    "duration": 714,
    "start_time": "2021-08-12T14:15:37.907Z"
   },
   {
    "duration": 302,
    "start_time": "2021-08-12T14:15:38.624Z"
   },
   {
    "duration": 626,
    "start_time": "2021-08-12T14:15:38.928Z"
   },
   {
    "duration": 48,
    "start_time": "2021-08-12T14:15:39.556Z"
   },
   {
    "duration": 760,
    "start_time": "2021-08-12T14:15:39.607Z"
   },
   {
    "duration": 635,
    "start_time": "2021-08-12T14:15:40.370Z"
   },
   {
    "duration": 751,
    "start_time": "2021-08-12T14:15:41.008Z"
   },
   {
    "duration": 2472,
    "start_time": "2021-08-12T14:15:41.762Z"
   },
   {
    "duration": 22,
    "start_time": "2021-08-12T14:15:44.237Z"
   },
   {
    "duration": 989,
    "start_time": "2021-08-12T14:15:44.283Z"
   },
   {
    "duration": 1023,
    "start_time": "2021-08-12T14:15:45.275Z"
   },
   {
    "duration": 1034,
    "start_time": "2021-08-12T14:15:46.301Z"
   },
   {
    "duration": 372,
    "start_time": "2021-08-12T14:15:47.338Z"
   },
   {
    "duration": 781,
    "start_time": "2021-08-12T14:15:47.713Z"
   },
   {
    "duration": 363,
    "start_time": "2021-08-12T14:16:46.696Z"
   },
   {
    "duration": 381,
    "start_time": "2021-08-12T14:22:14.304Z"
   },
   {
    "duration": 446,
    "start_time": "2021-08-12T14:22:49.416Z"
   },
   {
    "duration": 482,
    "start_time": "2021-08-12T14:22:56.521Z"
   },
   {
    "duration": 167,
    "start_time": "2021-08-12T14:27:06.432Z"
   },
   {
    "duration": 90,
    "start_time": "2021-08-12T14:28:38.233Z"
   },
   {
    "duration": 103,
    "start_time": "2021-08-12T14:28:44.433Z"
   },
   {
    "duration": 135,
    "start_time": "2021-08-12T14:28:55.224Z"
   },
   {
    "duration": 693,
    "start_time": "2021-08-12T14:44:17.715Z"
   },
   {
    "duration": 780,
    "start_time": "2021-08-12T14:44:43.371Z"
   },
   {
    "duration": 114,
    "start_time": "2021-08-12T14:44:47.895Z"
   },
   {
    "duration": 717,
    "start_time": "2021-08-12T14:44:48.012Z"
   },
   {
    "duration": 318,
    "start_time": "2021-08-12T14:44:48.732Z"
   },
   {
    "duration": 678,
    "start_time": "2021-08-12T14:44:49.053Z"
   },
   {
    "duration": 51,
    "start_time": "2021-08-12T14:44:49.733Z"
   },
   {
    "duration": 680,
    "start_time": "2021-08-12T14:44:49.787Z"
   },
   {
    "duration": 536,
    "start_time": "2021-08-12T14:44:50.470Z"
   },
   {
    "duration": 601,
    "start_time": "2021-08-12T14:44:51.010Z"
   },
   {
    "duration": 2412,
    "start_time": "2021-08-12T14:44:51.615Z"
   },
   {
    "duration": 22,
    "start_time": "2021-08-12T14:44:54.030Z"
   },
   {
    "duration": 1184,
    "start_time": "2021-08-12T14:44:54.054Z"
   },
   {
    "duration": 1017,
    "start_time": "2021-08-12T14:44:55.240Z"
   },
   {
    "duration": 1140,
    "start_time": "2021-08-12T14:44:56.259Z"
   },
   {
    "duration": 740,
    "start_time": "2021-08-12T14:44:57.402Z"
   },
   {
    "duration": 507,
    "start_time": "2021-08-12T14:44:58.144Z"
   },
   {
    "duration": 467,
    "start_time": "2021-08-12T15:28:59.852Z"
   },
   {
    "duration": 10019,
    "start_time": "2021-08-12T16:00:23.179Z"
   },
   {
    "duration": 9465,
    "start_time": "2021-08-12T16:01:11.181Z"
   },
   {
    "duration": 915,
    "start_time": "2021-08-12T16:01:41.012Z"
   },
   {
    "duration": 683,
    "start_time": "2021-08-12T16:01:55.764Z"
   },
   {
    "duration": 530,
    "start_time": "2021-08-12T16:02:20.579Z"
   },
   {
    "duration": 542,
    "start_time": "2021-08-12T16:02:53.491Z"
   },
   {
    "duration": 862,
    "start_time": "2021-08-12T16:03:14.635Z"
   },
   {
    "duration": 787,
    "start_time": "2021-08-12T16:07:25.076Z"
   },
   {
    "duration": 598,
    "start_time": "2021-08-12T16:08:37.292Z"
   },
   {
    "duration": 545,
    "start_time": "2021-08-12T18:14:54.373Z"
   },
   {
    "duration": 534,
    "start_time": "2021-08-12T18:15:08.166Z"
   },
   {
    "duration": 529,
    "start_time": "2021-08-12T18:18:14.325Z"
   },
   {
    "duration": 2175,
    "start_time": "2021-08-12T18:18:17.190Z"
   },
   {
    "duration": 1229,
    "start_time": "2021-08-12T18:23:34.141Z"
   },
   {
    "duration": 30,
    "start_time": "2021-08-12T18:23:39.957Z"
   },
   {
    "duration": 24,
    "start_time": "2021-08-12T18:39:17.429Z"
   },
   {
    "duration": 129,
    "start_time": "2021-08-12T18:45:40.477Z"
   },
   {
    "duration": 1056,
    "start_time": "2021-08-12T18:45:40.609Z"
   },
   {
    "duration": 466,
    "start_time": "2021-08-12T18:45:41.669Z"
   },
   {
    "duration": 2182,
    "start_time": "2021-08-12T18:45:42.139Z"
   },
   {
    "duration": 34,
    "start_time": "2021-08-12T18:45:44.324Z"
   },
   {
    "duration": 41,
    "start_time": "2021-08-12T18:45:44.361Z"
   },
   {
    "duration": 526,
    "start_time": "2021-08-12T18:45:44.404Z"
   },
   {
    "duration": 561,
    "start_time": "2021-08-12T18:45:44.935Z"
   },
   {
    "duration": 2239,
    "start_time": "2021-08-12T18:45:45.499Z"
   },
   {
    "duration": 48,
    "start_time": "2021-08-12T18:45:47.741Z"
   },
   {
    "duration": 951,
    "start_time": "2021-08-12T18:45:47.792Z"
   },
   {
    "duration": 971,
    "start_time": "2021-08-12T18:45:48.746Z"
   },
   {
    "duration": 1082,
    "start_time": "2021-08-12T18:45:49.720Z"
   },
   {
    "duration": 373,
    "start_time": "2021-08-12T18:45:50.804Z"
   },
   {
    "duration": 379,
    "start_time": "2021-08-12T18:45:51.183Z"
   },
   {
    "duration": 38,
    "start_time": "2021-08-12T18:47:43.477Z"
   },
   {
    "duration": 1615,
    "start_time": "2021-08-13T07:15:21.320Z"
   },
   {
    "duration": 687,
    "start_time": "2021-08-13T07:15:22.938Z"
   },
   {
    "duration": 325,
    "start_time": "2021-08-13T07:15:23.627Z"
   },
   {
    "duration": 1372,
    "start_time": "2021-08-13T07:15:23.955Z"
   },
   {
    "duration": 416,
    "start_time": "2021-08-13T07:15:24.914Z"
   },
   {
    "duration": 410,
    "start_time": "2021-08-13T07:15:24.921Z"
   },
   {
    "duration": 408,
    "start_time": "2021-08-13T07:15:24.925Z"
   },
   {
    "duration": 403,
    "start_time": "2021-08-13T07:15:24.931Z"
   },
   {
    "duration": 401,
    "start_time": "2021-08-13T07:15:24.935Z"
   },
   {
    "duration": 416,
    "start_time": "2021-08-13T07:15:24.938Z"
   },
   {
    "duration": 415,
    "start_time": "2021-08-13T07:15:24.940Z"
   },
   {
    "duration": 414,
    "start_time": "2021-08-13T07:15:24.943Z"
   },
   {
    "duration": 414,
    "start_time": "2021-08-13T07:15:24.945Z"
   },
   {
    "duration": 413,
    "start_time": "2021-08-13T07:15:24.947Z"
   },
   {
    "duration": 413,
    "start_time": "2021-08-13T07:15:24.948Z"
   },
   {
    "duration": 131,
    "start_time": "2021-08-13T07:17:01.450Z"
   },
   {
    "duration": 703,
    "start_time": "2021-08-13T07:17:01.584Z"
   },
   {
    "duration": 313,
    "start_time": "2021-08-13T07:17:02.290Z"
   },
   {
    "duration": 1411,
    "start_time": "2021-08-13T07:17:02.607Z"
   },
   {
    "duration": 38,
    "start_time": "2021-08-13T07:17:04.021Z"
   },
   {
    "duration": 25,
    "start_time": "2021-08-13T07:17:04.061Z"
   },
   {
    "duration": 658,
    "start_time": "2021-08-13T07:17:04.088Z"
   },
   {
    "duration": 551,
    "start_time": "2021-08-13T07:17:04.754Z"
   },
   {
    "duration": 2349,
    "start_time": "2021-08-13T07:17:05.307Z"
   },
   {
    "duration": 20,
    "start_time": "2021-08-13T07:17:07.659Z"
   },
   {
    "duration": 1002,
    "start_time": "2021-08-13T07:17:07.682Z"
   },
   {
    "duration": 1079,
    "start_time": "2021-08-13T07:17:08.686Z"
   },
   {
    "duration": 1019,
    "start_time": "2021-08-13T07:17:09.767Z"
   },
   {
    "duration": 466,
    "start_time": "2021-08-13T07:17:10.789Z"
   },
   {
    "duration": 413,
    "start_time": "2021-08-13T07:17:11.258Z"
   },
   {
    "duration": 123,
    "start_time": "2021-08-13T07:22:34.587Z"
   },
   {
    "duration": 717,
    "start_time": "2021-08-13T07:22:34.712Z"
   },
   {
    "duration": 327,
    "start_time": "2021-08-13T07:22:35.432Z"
   },
   {
    "duration": 1279,
    "start_time": "2021-08-13T07:22:35.762Z"
   },
   {
    "duration": 47,
    "start_time": "2021-08-13T07:22:37.044Z"
   },
   {
    "duration": 44,
    "start_time": "2021-08-13T07:22:37.094Z"
   },
   {
    "duration": 850,
    "start_time": "2021-08-13T07:22:37.154Z"
   },
   {
    "duration": 880,
    "start_time": "2021-08-13T07:22:38.008Z"
   },
   {
    "duration": 3100,
    "start_time": "2021-08-13T07:22:38.891Z"
   },
   {
    "duration": 24,
    "start_time": "2021-08-13T07:22:41.994Z"
   },
   {
    "duration": 1112,
    "start_time": "2021-08-13T07:22:42.022Z"
   },
   {
    "duration": 1139,
    "start_time": "2021-08-13T07:22:43.136Z"
   },
   {
    "duration": 1026,
    "start_time": "2021-08-13T07:22:44.278Z"
   },
   {
    "duration": 386,
    "start_time": "2021-08-13T07:22:45.307Z"
   },
   {
    "duration": 573,
    "start_time": "2021-08-13T07:22:45.696Z"
   },
   {
    "duration": 151,
    "start_time": "2021-08-13T07:33:39.107Z"
   },
   {
    "duration": 734,
    "start_time": "2021-08-13T07:33:39.261Z"
   },
   {
    "duration": 326,
    "start_time": "2021-08-13T07:33:39.998Z"
   },
   {
    "duration": 1313,
    "start_time": "2021-08-13T07:33:40.327Z"
   },
   {
    "duration": 46,
    "start_time": "2021-08-13T07:33:41.642Z"
   },
   {
    "duration": 37,
    "start_time": "2021-08-13T07:33:41.691Z"
   },
   {
    "duration": 663,
    "start_time": "2021-08-13T07:33:41.731Z"
   },
   {
    "duration": 583,
    "start_time": "2021-08-13T07:33:42.400Z"
   },
   {
    "duration": 585,
    "start_time": "2021-08-13T07:33:42.986Z"
   },
   {
    "duration": 590,
    "start_time": "2021-08-13T07:33:43.573Z"
   },
   {
    "duration": 707,
    "start_time": "2021-08-13T07:33:44.165Z"
   },
   {
    "duration": 583,
    "start_time": "2021-08-13T07:33:44.874Z"
   },
   {
    "duration": 24,
    "start_time": "2021-08-13T07:33:45.459Z"
   },
   {
    "duration": 1082,
    "start_time": "2021-08-13T07:33:45.485Z"
   },
   {
    "duration": 1008,
    "start_time": "2021-08-13T07:33:46.570Z"
   },
   {
    "duration": 1001,
    "start_time": "2021-08-13T07:33:47.581Z"
   },
   {
    "duration": 377,
    "start_time": "2021-08-13T07:33:48.584Z"
   },
   {
    "duration": 408,
    "start_time": "2021-08-13T07:33:48.963Z"
   },
   {
    "duration": 135,
    "start_time": "2021-08-13T08:33:20.719Z"
   },
   {
    "duration": 710,
    "start_time": "2021-08-13T08:33:20.857Z"
   },
   {
    "duration": 319,
    "start_time": "2021-08-13T08:33:21.570Z"
   },
   {
    "duration": 1378,
    "start_time": "2021-08-13T08:33:21.892Z"
   },
   {
    "duration": 35,
    "start_time": "2021-08-13T08:33:23.274Z"
   },
   {
    "duration": 49,
    "start_time": "2021-08-13T08:33:23.311Z"
   },
   {
    "duration": 555,
    "start_time": "2021-08-13T08:33:23.363Z"
   },
   {
    "duration": 591,
    "start_time": "2021-08-13T08:33:23.922Z"
   },
   {
    "duration": 617,
    "start_time": "2021-08-13T08:33:24.516Z"
   },
   {
    "duration": 600,
    "start_time": "2021-08-13T08:33:25.136Z"
   },
   {
    "duration": 718,
    "start_time": "2021-08-13T08:33:25.739Z"
   },
   {
    "duration": 603,
    "start_time": "2021-08-13T08:33:26.459Z"
   },
   {
    "duration": 20,
    "start_time": "2021-08-13T08:33:27.064Z"
   },
   {
    "duration": 1012,
    "start_time": "2021-08-13T08:33:27.086Z"
   },
   {
    "duration": 1027,
    "start_time": "2021-08-13T08:33:28.100Z"
   },
   {
    "duration": 1116,
    "start_time": "2021-08-13T08:33:29.129Z"
   },
   {
    "duration": 406,
    "start_time": "2021-08-13T08:33:30.248Z"
   },
   {
    "duration": 439,
    "start_time": "2021-08-13T08:33:30.657Z"
   },
   {
    "duration": 127,
    "start_time": "2021-08-13T08:34:05.444Z"
   },
   {
    "duration": 758,
    "start_time": "2021-08-13T08:34:05.574Z"
   },
   {
    "duration": 322,
    "start_time": "2021-08-13T08:34:06.335Z"
   },
   {
    "duration": 1311,
    "start_time": "2021-08-13T08:34:06.661Z"
   },
   {
    "duration": 37,
    "start_time": "2021-08-13T08:34:07.975Z"
   },
   {
    "duration": 49,
    "start_time": "2021-08-13T08:34:08.014Z"
   },
   {
    "duration": 549,
    "start_time": "2021-08-13T08:34:08.065Z"
   },
   {
    "duration": 573,
    "start_time": "2021-08-13T08:34:08.618Z"
   },
   {
    "duration": 710,
    "start_time": "2021-08-13T08:34:09.194Z"
   },
   {
    "duration": 575,
    "start_time": "2021-08-13T08:34:09.906Z"
   },
   {
    "duration": 614,
    "start_time": "2021-08-13T08:34:10.484Z"
   },
   {
    "duration": 580,
    "start_time": "2021-08-13T08:34:11.101Z"
   },
   {
    "duration": 25,
    "start_time": "2021-08-13T08:34:11.684Z"
   },
   {
    "duration": 1096,
    "start_time": "2021-08-13T08:34:11.711Z"
   },
   {
    "duration": 1115,
    "start_time": "2021-08-13T08:34:12.810Z"
   },
   {
    "duration": 1027,
    "start_time": "2021-08-13T08:34:13.927Z"
   },
   {
    "duration": 395,
    "start_time": "2021-08-13T08:34:14.956Z"
   },
   {
    "duration": 417,
    "start_time": "2021-08-13T08:34:15.355Z"
   },
   {
    "duration": 126,
    "start_time": "2021-08-13T08:37:52.651Z"
   },
   {
    "duration": 762,
    "start_time": "2021-08-13T08:37:52.780Z"
   },
   {
    "duration": 315,
    "start_time": "2021-08-13T08:37:53.556Z"
   },
   {
    "duration": 1380,
    "start_time": "2021-08-13T08:37:53.874Z"
   },
   {
    "duration": 35,
    "start_time": "2021-08-13T08:37:55.257Z"
   },
   {
    "duration": 22,
    "start_time": "2021-08-13T08:37:55.295Z"
   },
   {
    "duration": 765,
    "start_time": "2021-08-13T08:37:55.319Z"
   },
   {
    "duration": 567,
    "start_time": "2021-08-13T08:37:56.088Z"
   },
   {
    "duration": 567,
    "start_time": "2021-08-13T08:37:56.657Z"
   },
   {
    "duration": 585,
    "start_time": "2021-08-13T08:37:57.226Z"
   },
   {
    "duration": 623,
    "start_time": "2021-08-13T08:37:57.813Z"
   },
   {
    "duration": 586,
    "start_time": "2021-08-13T08:37:58.438Z"
   },
   {
    "duration": 38,
    "start_time": "2021-08-13T08:37:59.027Z"
   },
   {
    "duration": 1195,
    "start_time": "2021-08-13T08:37:59.067Z"
   },
   {
    "duration": 1012,
    "start_time": "2021-08-13T08:38:00.265Z"
   },
   {
    "duration": 981,
    "start_time": "2021-08-13T08:38:01.279Z"
   },
   {
    "duration": 396,
    "start_time": "2021-08-13T08:38:02.263Z"
   },
   {
    "duration": 407,
    "start_time": "2021-08-13T08:38:02.662Z"
   },
   {
    "duration": 116,
    "start_time": "2021-08-13T08:40:17.103Z"
   },
   {
    "duration": 707,
    "start_time": "2021-08-13T08:40:17.222Z"
   },
   {
    "duration": 324,
    "start_time": "2021-08-13T08:40:17.933Z"
   },
   {
    "duration": 1397,
    "start_time": "2021-08-13T08:40:18.260Z"
   },
   {
    "duration": 37,
    "start_time": "2021-08-13T08:40:19.660Z"
   },
   {
    "duration": 24,
    "start_time": "2021-08-13T08:40:19.699Z"
   },
   {
    "duration": 570,
    "start_time": "2021-08-13T08:40:19.725Z"
   },
   {
    "duration": 578,
    "start_time": "2021-08-13T08:40:20.300Z"
   },
   {
    "duration": 585,
    "start_time": "2021-08-13T08:40:20.881Z"
   },
   {
    "duration": 589,
    "start_time": "2021-08-13T08:40:21.468Z"
   },
   {
    "duration": 602,
    "start_time": "2021-08-13T08:40:22.060Z"
   },
   {
    "duration": 561,
    "start_time": "2021-08-13T08:40:22.664Z"
   },
   {
    "duration": 32,
    "start_time": "2021-08-13T08:40:23.227Z"
   },
   {
    "duration": 1120,
    "start_time": "2021-08-13T08:40:23.262Z"
   },
   {
    "duration": 1031,
    "start_time": "2021-08-13T08:40:24.385Z"
   },
   {
    "duration": 1000,
    "start_time": "2021-08-13T08:40:25.418Z"
   },
   {
    "duration": 390,
    "start_time": "2021-08-13T08:40:26.421Z"
   },
   {
    "duration": 410,
    "start_time": "2021-08-13T08:40:26.814Z"
   },
   {
    "duration": 1549,
    "start_time": "2021-08-13T09:01:09.127Z"
   },
   {
    "duration": 709,
    "start_time": "2021-08-13T09:01:10.679Z"
   },
   {
    "duration": 324,
    "start_time": "2021-08-13T09:01:11.392Z"
   },
   {
    "duration": 1312,
    "start_time": "2021-08-13T09:01:11.720Z"
   },
   {
    "duration": 55,
    "start_time": "2021-08-13T09:01:13.035Z"
   },
   {
    "duration": 25,
    "start_time": "2021-08-13T09:01:13.092Z"
   },
   {
    "duration": 11312,
    "start_time": "2021-08-13T09:01:13.119Z"
   },
   {
    "duration": 126,
    "start_time": "2021-08-13T11:03:59.863Z"
   },
   {
    "duration": 737,
    "start_time": "2021-08-13T11:03:59.992Z"
   },
   {
    "duration": 338,
    "start_time": "2021-08-13T11:04:00.733Z"
   },
   {
    "duration": 1422,
    "start_time": "2021-08-13T11:04:01.073Z"
   },
   {
    "duration": 61,
    "start_time": "2021-08-13T11:04:02.499Z"
   },
   {
    "duration": 24,
    "start_time": "2021-08-13T11:04:02.563Z"
   },
   {
    "duration": 13,
    "start_time": "2021-08-13T11:04:02.590Z"
   },
   {
    "duration": 515,
    "start_time": "2021-08-13T11:04:02.606Z"
   },
   {
    "duration": 608,
    "start_time": "2021-08-13T11:04:03.124Z"
   },
   {
    "duration": 311,
    "start_time": "2021-08-13T11:04:03.734Z"
   },
   {
    "duration": 439,
    "start_time": "2021-08-13T11:04:03.610Z"
   },
   {
    "duration": 437,
    "start_time": "2021-08-13T11:04:03.614Z"
   },
   {
    "duration": 438,
    "start_time": "2021-08-13T11:04:03.616Z"
   },
   {
    "duration": 439,
    "start_time": "2021-08-13T11:04:03.617Z"
   },
   {
    "duration": 439,
    "start_time": "2021-08-13T11:04:03.619Z"
   },
   {
    "duration": 439,
    "start_time": "2021-08-13T11:04:03.621Z"
   },
   {
    "duration": 440,
    "start_time": "2021-08-13T11:04:03.622Z"
   },
   {
    "duration": 441,
    "start_time": "2021-08-13T11:04:03.624Z"
   },
   {
    "duration": 442,
    "start_time": "2021-08-13T11:04:03.625Z"
   },
   {
    "duration": 1762,
    "start_time": "2021-08-13T11:07:25.868Z"
   },
   {
    "duration": 490,
    "start_time": "2021-08-13T11:10:12.874Z"
   },
   {
    "duration": 546,
    "start_time": "2021-08-13T11:10:24.245Z"
   },
   {
    "duration": 563,
    "start_time": "2021-08-13T12:01:57.652Z"
   },
   {
    "duration": 23,
    "start_time": "2021-08-13T12:02:02.293Z"
   },
   {
    "duration": 529,
    "start_time": "2021-08-13T12:03:39.710Z"
   },
   {
    "duration": 611,
    "start_time": "2021-08-13T12:08:11.954Z"
   },
   {
    "duration": 584,
    "start_time": "2021-08-13T12:09:48.345Z"
   },
   {
    "duration": 103,
    "start_time": "2021-08-13T12:25:07.507Z"
   },
   {
    "duration": 588,
    "start_time": "2021-08-13T12:25:18.013Z"
   },
   {
    "duration": 624,
    "start_time": "2021-08-13T12:26:30.837Z"
   },
   {
    "duration": 21,
    "start_time": "2021-08-13T12:29:03.485Z"
   },
   {
    "duration": 125,
    "start_time": "2021-08-13T12:29:14.789Z"
   },
   {
    "duration": 741,
    "start_time": "2021-08-13T12:29:14.917Z"
   },
   {
    "duration": 331,
    "start_time": "2021-08-13T12:29:15.661Z"
   },
   {
    "duration": 1332,
    "start_time": "2021-08-13T12:29:15.996Z"
   },
   {
    "duration": 50,
    "start_time": "2021-08-13T12:29:17.331Z"
   },
   {
    "duration": 23,
    "start_time": "2021-08-13T12:29:17.384Z"
   },
   {
    "duration": 4,
    "start_time": "2021-08-13T12:29:17.411Z"
   },
   {
    "duration": 554,
    "start_time": "2021-08-13T12:29:17.455Z"
   },
   {
    "duration": 607,
    "start_time": "2021-08-13T12:29:18.012Z"
   },
   {
    "duration": 848,
    "start_time": "2021-08-13T12:29:18.622Z"
   },
   {
    "duration": 625,
    "start_time": "2021-08-13T12:29:19.472Z"
   },
   {
    "duration": 603,
    "start_time": "2021-08-13T12:29:20.100Z"
   },
   {
    "duration": 593,
    "start_time": "2021-08-13T12:29:20.706Z"
   },
   {
    "duration": 23,
    "start_time": "2021-08-13T12:29:21.302Z"
   },
   {
    "duration": 1028,
    "start_time": "2021-08-13T12:29:21.354Z"
   },
   {
    "duration": 1018,
    "start_time": "2021-08-13T12:29:22.385Z"
   },
   {
    "duration": 1084,
    "start_time": "2021-08-13T12:29:23.405Z"
   },
   {
    "duration": 381,
    "start_time": "2021-08-13T12:29:24.491Z"
   },
   {
    "duration": 399,
    "start_time": "2021-08-13T12:29:24.875Z"
   },
   {
    "duration": 419,
    "start_time": "2021-08-13T12:34:35.630Z"
   },
   {
    "duration": 42,
    "start_time": "2021-08-13T12:34:41.829Z"
   },
   {
    "duration": 298,
    "start_time": "2021-08-13T12:36:11.014Z"
   },
   {
    "duration": 40,
    "start_time": "2021-08-13T12:36:19.310Z"
   },
   {
    "duration": 41,
    "start_time": "2021-08-13T12:36:47.358Z"
   },
   {
    "duration": 585,
    "start_time": "2021-08-13T12:41:02.732Z"
   },
   {
    "duration": 608,
    "start_time": "2021-08-13T12:42:20.326Z"
   },
   {
    "duration": 122,
    "start_time": "2021-08-13T12:42:26.309Z"
   },
   {
    "duration": 698,
    "start_time": "2021-08-13T12:42:26.433Z"
   },
   {
    "duration": 322,
    "start_time": "2021-08-13T12:42:27.135Z"
   },
   {
    "duration": 1579,
    "start_time": "2021-08-13T12:42:27.460Z"
   },
   {
    "duration": 44,
    "start_time": "2021-08-13T12:42:29.042Z"
   },
   {
    "duration": 22,
    "start_time": "2021-08-13T12:42:29.089Z"
   },
   {
    "duration": 11,
    "start_time": "2021-08-13T12:42:29.114Z"
   },
   {
    "duration": 553,
    "start_time": "2021-08-13T12:42:29.128Z"
   },
   {
    "duration": 596,
    "start_time": "2021-08-13T12:42:29.685Z"
   },
   {
    "duration": 640,
    "start_time": "2021-08-13T12:42:30.284Z"
   },
   {
    "duration": 592,
    "start_time": "2021-08-13T12:42:30.927Z"
   },
   {
    "duration": 592,
    "start_time": "2021-08-13T12:42:31.522Z"
   },
   {
    "duration": 577,
    "start_time": "2021-08-13T12:42:32.117Z"
   },
   {
    "duration": 60,
    "start_time": "2021-08-13T12:42:32.697Z"
   },
   {
    "duration": 1005,
    "start_time": "2021-08-13T12:42:32.760Z"
   },
   {
    "duration": 1038,
    "start_time": "2021-08-13T12:42:33.767Z"
   },
   {
    "duration": 1014,
    "start_time": "2021-08-13T12:42:34.807Z"
   },
   {
    "duration": 603,
    "start_time": "2021-08-13T12:42:35.824Z"
   },
   {
    "duration": 396,
    "start_time": "2021-08-13T12:42:36.429Z"
   },
   {
    "duration": 532,
    "start_time": "2021-08-13T13:12:06.830Z"
   },
   {
    "duration": 131,
    "start_time": "2021-08-13T13:17:41.750Z"
   },
   {
    "duration": 858,
    "start_time": "2021-08-13T13:17:41.883Z"
   },
   {
    "duration": 340,
    "start_time": "2021-08-13T13:17:42.745Z"
   },
   {
    "duration": 1274,
    "start_time": "2021-08-13T13:17:43.088Z"
   },
   {
    "duration": 36,
    "start_time": "2021-08-13T13:17:44.364Z"
   },
   {
    "duration": 51,
    "start_time": "2021-08-13T13:17:44.404Z"
   },
   {
    "duration": 3,
    "start_time": "2021-08-13T13:17:44.458Z"
   },
   {
    "duration": 547,
    "start_time": "2021-08-13T13:17:44.464Z"
   },
   {
    "duration": 699,
    "start_time": "2021-08-13T13:17:45.014Z"
   },
   {
    "duration": 639,
    "start_time": "2021-08-13T13:17:45.716Z"
   },
   {
    "duration": 597,
    "start_time": "2021-08-13T13:17:46.357Z"
   },
   {
    "duration": 600,
    "start_time": "2021-08-13T13:17:46.956Z"
   },
   {
    "duration": 573,
    "start_time": "2021-08-13T13:17:47.559Z"
   },
   {
    "duration": 57,
    "start_time": "2021-08-13T13:17:48.134Z"
   },
   {
    "duration": 1010,
    "start_time": "2021-08-13T13:17:48.194Z"
   },
   {
    "duration": 1216,
    "start_time": "2021-08-13T13:17:49.206Z"
   },
   {
    "duration": 1005,
    "start_time": "2021-08-13T13:17:50.425Z"
   },
   {
    "duration": 385,
    "start_time": "2021-08-13T13:17:51.433Z"
   },
   {
    "duration": 387,
    "start_time": "2021-08-13T13:17:51.821Z"
   },
   {
    "duration": 8204,
    "start_time": "2021-08-13T13:20:47.920Z"
   },
   {
    "duration": 7462,
    "start_time": "2021-08-13T13:21:01.729Z"
   },
   {
    "duration": 1289,
    "start_time": "2021-08-13T13:21:44.057Z"
   },
   {
    "duration": 137,
    "start_time": "2021-08-13T13:27:13.366Z"
   },
   {
    "duration": 834,
    "start_time": "2021-08-13T13:27:13.506Z"
   },
   {
    "duration": 329,
    "start_time": "2021-08-13T13:27:14.356Z"
   },
   {
    "duration": 1500,
    "start_time": "2021-08-13T13:27:14.688Z"
   },
   {
    "duration": 36,
    "start_time": "2021-08-13T13:27:16.190Z"
   },
   {
    "duration": 49,
    "start_time": "2021-08-13T13:27:16.228Z"
   },
   {
    "duration": 4,
    "start_time": "2021-08-13T13:27:16.280Z"
   },
   {
    "duration": 576,
    "start_time": "2021-08-13T13:27:16.290Z"
   },
   {
    "duration": 793,
    "start_time": "2021-08-13T13:27:16.869Z"
   },
   {
    "duration": 697,
    "start_time": "2021-08-13T13:27:17.665Z"
   },
   {
    "duration": 688,
    "start_time": "2021-08-13T13:27:18.366Z"
   },
   {
    "duration": 714,
    "start_time": "2021-08-13T13:27:19.057Z"
   },
   {
    "duration": 674,
    "start_time": "2021-08-13T13:27:19.774Z"
   },
   {
    "duration": 50,
    "start_time": "2021-08-13T13:27:20.456Z"
   },
   {
    "duration": 1169,
    "start_time": "2021-08-13T13:27:20.509Z"
   },
   {
    "duration": 1120,
    "start_time": "2021-08-13T13:27:21.682Z"
   },
   {
    "duration": 1109,
    "start_time": "2021-08-13T13:27:22.805Z"
   },
   {
    "duration": 412,
    "start_time": "2021-08-13T13:27:23.917Z"
   },
   {
    "duration": 472,
    "start_time": "2021-08-13T13:27:24.332Z"
   }
  ],
  "kernelspec": {
   "display_name": "Python 3",
   "language": "python",
   "name": "python3"
  },
  "language_info": {
   "codemirror_mode": {
    "name": "ipython",
    "version": 3
   },
   "file_extension": ".py",
   "mimetype": "text/x-python",
   "name": "python",
   "nbconvert_exporter": "python",
   "pygments_lexer": "ipython3",
   "version": "3.8.8"
  },
  "toc": {
   "base_numbering": 1,
   "nav_menu": {},
   "number_sections": true,
   "sideBar": true,
   "skip_h1_title": true,
   "title_cell": "Table of Contents",
   "title_sidebar": "Contents",
   "toc_cell": false,
   "toc_position": {},
   "toc_section_display": true,
   "toc_window_display": false
  }
 },
 "nbformat": 4,
 "nbformat_minor": 2
}
